{
 "cells": [
  {
   "cell_type": "code",
   "execution_count": null,
   "id": "6dd3701b",
   "metadata": {},
   "outputs": [],
   "source": [
    "# auteur : Lorine\n",
    "# date : 06/07/2024\n",
    "# Calcul de la distance(metres) premiere station intervenant - pour les propoertycategory dwelling suite à une erreur de choix de df\n",
    "# check station orpington avec bing"
   ]
  },
  {
   "cell_type": "code",
   "execution_count": 1,
   "id": "f05d71c3",
   "metadata": {},
   "outputs": [],
   "source": [
    "import pandas as pd\n",
    "import numpy as np\n",
    "import seaborn as sns\n",
    "import matplotlib.pyplot as plt\n"
   ]
  },
  {
   "cell_type": "code",
   "execution_count": 3,
   "id": "abe848df",
   "metadata": {},
   "outputs": [
    {
     "name": "stderr",
     "output_type": "stream",
     "text": [
      "C:\\Users\\loreb\\AppData\\Local\\Temp\\ipykernel_24368\\3283958685.py:1: DtypeWarning: Columns (0) have mixed types. Specify dtype option on import or set low_memory=False.\n",
      "  df = pd.read_csv(\"Data/Data_A_Encoder_V2.csv\")\n"
     ]
    }
   ],
   "source": [
    "df = pd.read_csv(\"Data/Data_A_Encoder_V2.csv\")\n",
    "\n",
    "pd.set_option('max_colwidth',50)\n",
    "pd.set_option('display.max_columns',50)"
   ]
  },
  {
   "cell_type": "code",
   "execution_count": 4,
   "id": "32ac48c0",
   "metadata": {},
   "outputs": [
    {
     "data": {
      "text/html": [
       "<div>\n",
       "<style scoped>\n",
       "    .dataframe tbody tr th:only-of-type {\n",
       "        vertical-align: middle;\n",
       "    }\n",
       "\n",
       "    .dataframe tbody tr th {\n",
       "        vertical-align: top;\n",
       "    }\n",
       "\n",
       "    .dataframe thead th {\n",
       "        text-align: right;\n",
       "    }\n",
       "</style>\n",
       "<table border=\"1\" class=\"dataframe\">\n",
       "  <thead>\n",
       "    <tr style=\"text-align: right;\">\n",
       "      <th></th>\n",
       "      <th>IncidentNumber</th>\n",
       "      <th>DateOfCall</th>\n",
       "      <th>Month</th>\n",
       "      <th>Weekday</th>\n",
       "      <th>CalYear</th>\n",
       "      <th>TimeOfCall</th>\n",
       "      <th>HourOfCall</th>\n",
       "      <th>Periode</th>\n",
       "      <th>Periode_Rush</th>\n",
       "      <th>IncidentGroup</th>\n",
       "      <th>StopCodeDescription</th>\n",
       "      <th>SpecialServiceType</th>\n",
       "      <th>PropertyCategory</th>\n",
       "      <th>PropertyType</th>\n",
       "      <th>AddressQualifier</th>\n",
       "      <th>Postcode_full</th>\n",
       "      <th>Postcode_district</th>\n",
       "      <th>IncGeo_BoroughName</th>\n",
       "      <th>IncGeo_WardNameNew</th>\n",
       "      <th>Easting_m</th>\n",
       "      <th>Northing_m</th>\n",
       "      <th>Easting_rounded</th>\n",
       "      <th>Northing_rounded</th>\n",
       "      <th>Latitude</th>\n",
       "      <th>Longitude</th>\n",
       "      <th>IncidentStationGround</th>\n",
       "      <th>FirstPumpArriving_AttendanceTime</th>\n",
       "      <th>FirstPumpArriving_DeployedFromStation</th>\n",
       "      <th>Latitude_Station</th>\n",
       "      <th>Longitude_Station</th>\n",
       "      <th>NumStationsWithPumpsAttending</th>\n",
       "      <th>NumPumpsAttending</th>\n",
       "      <th>PumpCount</th>\n",
       "      <th>PumpMinutesRounded</th>\n",
       "      <th>Notional Cost (£)</th>\n",
       "      <th>NumCalls</th>\n",
       "      <th>FirstPumpArriving_TurnoutTimeSec</th>\n",
       "      <th>FirstPumpArriving_TravelTimeSec</th>\n",
       "      <th>FirstPump_DelayCode_Description</th>\n",
       "      <th>FirstPump_Division_staion</th>\n",
       "      <th>London_Zone</th>\n",
       "      <th>Covid_Lockdown</th>\n",
       "      <th>FirstPump_Delayed</th>\n",
       "      <th>Week_Weekend</th>\n",
       "      <th>Geodesic_Distance</th>\n",
       "    </tr>\n",
       "  </thead>\n",
       "  <tbody>\n",
       "    <tr>\n",
       "      <th>0</th>\n",
       "      <td>235138081</td>\n",
       "      <td>2009-01-01</td>\n",
       "      <td>1</td>\n",
       "      <td>4</td>\n",
       "      <td>2009</td>\n",
       "      <td>1900-01-01 00:00:37</td>\n",
       "      <td>0</td>\n",
       "      <td>Nuit</td>\n",
       "      <td>No rush</td>\n",
       "      <td>Special Service</td>\n",
       "      <td>Special Service</td>\n",
       "      <td>RTC</td>\n",
       "      <td>Road Vehicle</td>\n",
       "      <td>Car</td>\n",
       "      <td>In street close to gazetteer location</td>\n",
       "      <td>SW11 4LB</td>\n",
       "      <td>SW11</td>\n",
       "      <td>WANDSWORTH</td>\n",
       "      <td>Battersea Park</td>\n",
       "      <td>528652.0</td>\n",
       "      <td>176830.0</td>\n",
       "      <td>528650</td>\n",
       "      <td>176850</td>\n",
       "      <td>51.475812</td>\n",
       "      <td>-0.148894</td>\n",
       "      <td>Battersea</td>\n",
       "      <td>319.0</td>\n",
       "      <td>Battersea</td>\n",
       "      <td>51.467137</td>\n",
       "      <td>-0.169264</td>\n",
       "      <td>2.0</td>\n",
       "      <td>2.0</td>\n",
       "      <td>2</td>\n",
       "      <td>60</td>\n",
       "      <td>255</td>\n",
       "      <td>1.0</td>\n",
       "      <td>NaN</td>\n",
       "      <td>NaN</td>\n",
       "      <td>NaN</td>\n",
       "      <td>H</td>\n",
       "      <td>Inner London</td>\n",
       "      <td>0</td>\n",
       "      <td>0</td>\n",
       "      <td>Week</td>\n",
       "      <td>1713.097276</td>\n",
       "    </tr>\n",
       "    <tr>\n",
       "      <th>1</th>\n",
       "      <td>2091</td>\n",
       "      <td>2009-01-01</td>\n",
       "      <td>1</td>\n",
       "      <td>4</td>\n",
       "      <td>2009</td>\n",
       "      <td>1900-01-01 00:03:00</td>\n",
       "      <td>0</td>\n",
       "      <td>Nuit</td>\n",
       "      <td>No rush</td>\n",
       "      <td>Fire</td>\n",
       "      <td>Secondary Fire</td>\n",
       "      <td>NaN</td>\n",
       "      <td>Outdoor</td>\n",
       "      <td>Road surface/pavement</td>\n",
       "      <td>In street outside gazetteer location</td>\n",
       "      <td>N9 9EL</td>\n",
       "      <td>N9</td>\n",
       "      <td>ENFIELD</td>\n",
       "      <td>Haselbury</td>\n",
       "      <td>533773.0</td>\n",
       "      <td>194492.0</td>\n",
       "      <td>533750</td>\n",
       "      <td>194450</td>\n",
       "      <td>51.633342</td>\n",
       "      <td>-0.068488</td>\n",
       "      <td>Edmonton</td>\n",
       "      <td>308.0</td>\n",
       "      <td>Edmonton</td>\n",
       "      <td>51.627218</td>\n",
       "      <td>-0.069090</td>\n",
       "      <td>1.0</td>\n",
       "      <td>1.0</td>\n",
       "      <td>1</td>\n",
       "      <td>60</td>\n",
       "      <td>255</td>\n",
       "      <td>2.0</td>\n",
       "      <td>151.0</td>\n",
       "      <td>157.0</td>\n",
       "      <td>NaN</td>\n",
       "      <td>A</td>\n",
       "      <td>Outer London</td>\n",
       "      <td>0</td>\n",
       "      <td>0</td>\n",
       "      <td>Week</td>\n",
       "      <td>682.664410</td>\n",
       "    </tr>\n",
       "    <tr>\n",
       "      <th>2</th>\n",
       "      <td>3091</td>\n",
       "      <td>2009-01-01</td>\n",
       "      <td>1</td>\n",
       "      <td>4</td>\n",
       "      <td>2009</td>\n",
       "      <td>1900-01-01 00:04:27</td>\n",
       "      <td>0</td>\n",
       "      <td>Nuit</td>\n",
       "      <td>No rush</td>\n",
       "      <td>Fire</td>\n",
       "      <td>Secondary Fire</td>\n",
       "      <td>NaN</td>\n",
       "      <td>Outdoor</td>\n",
       "      <td>Domestic garden (vegetation not equipment)</td>\n",
       "      <td>On land associated with building</td>\n",
       "      <td>UB10 0DG</td>\n",
       "      <td>UB10</td>\n",
       "      <td>HILLINGDON</td>\n",
       "      <td>Hillingdon East</td>\n",
       "      <td>507738.0</td>\n",
       "      <td>182805.0</td>\n",
       "      <td>507750</td>\n",
       "      <td>182850</td>\n",
       "      <td>51.533882</td>\n",
       "      <td>-0.448089</td>\n",
       "      <td>Hillingdon</td>\n",
       "      <td>210.0</td>\n",
       "      <td>Hillingdon</td>\n",
       "      <td>51.531532</td>\n",
       "      <td>-0.451352</td>\n",
       "      <td>1.0</td>\n",
       "      <td>1.0</td>\n",
       "      <td>1</td>\n",
       "      <td>60</td>\n",
       "      <td>255</td>\n",
       "      <td>2.0</td>\n",
       "      <td>108.0</td>\n",
       "      <td>102.0</td>\n",
       "      <td>NaN</td>\n",
       "      <td>G</td>\n",
       "      <td>Outer London</td>\n",
       "      <td>0</td>\n",
       "      <td>0</td>\n",
       "      <td>Week</td>\n",
       "      <td>345.864686</td>\n",
       "    </tr>\n",
       "    <tr>\n",
       "      <th>3</th>\n",
       "      <td>5091</td>\n",
       "      <td>2009-01-01</td>\n",
       "      <td>1</td>\n",
       "      <td>4</td>\n",
       "      <td>2009</td>\n",
       "      <td>1900-01-01 00:05:39</td>\n",
       "      <td>0</td>\n",
       "      <td>Nuit</td>\n",
       "      <td>No rush</td>\n",
       "      <td>Fire</td>\n",
       "      <td>Secondary Fire</td>\n",
       "      <td>NaN</td>\n",
       "      <td>Outdoor</td>\n",
       "      <td>Cycle path/public footpath/bridleway</td>\n",
       "      <td>In street outside gazetteer location</td>\n",
       "      <td>N7 8HG</td>\n",
       "      <td>N7</td>\n",
       "      <td>ISLINGTON</td>\n",
       "      <td>Laycock</td>\n",
       "      <td>531058.0</td>\n",
       "      <td>185307.0</td>\n",
       "      <td>531050</td>\n",
       "      <td>185350</td>\n",
       "      <td>51.551441</td>\n",
       "      <td>-0.111120</td>\n",
       "      <td>Holloway</td>\n",
       "      <td>233.0</td>\n",
       "      <td>Holloway</td>\n",
       "      <td>51.561769</td>\n",
       "      <td>-0.116434</td>\n",
       "      <td>1.0</td>\n",
       "      <td>2.0</td>\n",
       "      <td>2</td>\n",
       "      <td>60</td>\n",
       "      <td>255</td>\n",
       "      <td>1.0</td>\n",
       "      <td>114.0</td>\n",
       "      <td>119.0</td>\n",
       "      <td>NaN</td>\n",
       "      <td>A</td>\n",
       "      <td>Inner London</td>\n",
       "      <td>0</td>\n",
       "      <td>0</td>\n",
       "      <td>Week</td>\n",
       "      <td>1206.773108</td>\n",
       "    </tr>\n",
       "    <tr>\n",
       "      <th>4</th>\n",
       "      <td>6091</td>\n",
       "      <td>2009-01-01</td>\n",
       "      <td>1</td>\n",
       "      <td>4</td>\n",
       "      <td>2009</td>\n",
       "      <td>1900-01-01 00:06:03</td>\n",
       "      <td>0</td>\n",
       "      <td>Nuit</td>\n",
       "      <td>No rush</td>\n",
       "      <td>False Alarm</td>\n",
       "      <td>AFA</td>\n",
       "      <td>NaN</td>\n",
       "      <td>Dwelling</td>\n",
       "      <td>Purpose Built Flats/Maisonettes - Up to 3 stor...</td>\n",
       "      <td>Correct incident location</td>\n",
       "      <td>NaN</td>\n",
       "      <td>NW5</td>\n",
       "      <td>CAMDEN</td>\n",
       "      <td>Kentish Town North</td>\n",
       "      <td>NaN</td>\n",
       "      <td>NaN</td>\n",
       "      <td>529450</td>\n",
       "      <td>185250</td>\n",
       "      <td>51.551299</td>\n",
       "      <td>-0.134320</td>\n",
       "      <td>Kentish Town</td>\n",
       "      <td>172.0</td>\n",
       "      <td>Kentish Town</td>\n",
       "      <td>51.552703</td>\n",
       "      <td>-0.141720</td>\n",
       "      <td>1.0</td>\n",
       "      <td>2.0</td>\n",
       "      <td>2</td>\n",
       "      <td>60</td>\n",
       "      <td>255</td>\n",
       "      <td>1.0</td>\n",
       "      <td>83.0</td>\n",
       "      <td>89.0</td>\n",
       "      <td>NaN</td>\n",
       "      <td>A</td>\n",
       "      <td>Inner London</td>\n",
       "      <td>0</td>\n",
       "      <td>0</td>\n",
       "      <td>Week</td>\n",
       "      <td>536.518215</td>\n",
       "    </tr>\n",
       "  </tbody>\n",
       "</table>\n",
       "</div>"
      ],
      "text/plain": [
       "  IncidentNumber  DateOfCall  Month  Weekday  CalYear           TimeOfCall  \\\n",
       "0      235138081  2009-01-01      1        4     2009  1900-01-01 00:00:37   \n",
       "1           2091  2009-01-01      1        4     2009  1900-01-01 00:03:00   \n",
       "2           3091  2009-01-01      1        4     2009  1900-01-01 00:04:27   \n",
       "3           5091  2009-01-01      1        4     2009  1900-01-01 00:05:39   \n",
       "4           6091  2009-01-01      1        4     2009  1900-01-01 00:06:03   \n",
       "\n",
       "   HourOfCall Periode Periode_Rush    IncidentGroup StopCodeDescription  \\\n",
       "0           0    Nuit      No rush  Special Service     Special Service   \n",
       "1           0    Nuit      No rush             Fire      Secondary Fire   \n",
       "2           0    Nuit      No rush             Fire      Secondary Fire   \n",
       "3           0    Nuit      No rush             Fire      Secondary Fire   \n",
       "4           0    Nuit      No rush      False Alarm                 AFA   \n",
       "\n",
       "  SpecialServiceType PropertyCategory  \\\n",
       "0                RTC     Road Vehicle   \n",
       "1                NaN          Outdoor   \n",
       "2                NaN          Outdoor   \n",
       "3                NaN          Outdoor   \n",
       "4                NaN         Dwelling   \n",
       "\n",
       "                                        PropertyType  \\\n",
       "0                                               Car    \n",
       "1                             Road surface/pavement    \n",
       "2        Domestic garden (vegetation not equipment)    \n",
       "3              Cycle path/public footpath/bridleway    \n",
       "4  Purpose Built Flats/Maisonettes - Up to 3 stor...   \n",
       "\n",
       "                        AddressQualifier Postcode_full Postcode_district  \\\n",
       "0  In street close to gazetteer location      SW11 4LB              SW11   \n",
       "1   In street outside gazetteer location        N9 9EL                N9   \n",
       "2       On land associated with building      UB10 0DG              UB10   \n",
       "3   In street outside gazetteer location        N7 8HG                N7   \n",
       "4              Correct incident location           NaN               NW5   \n",
       "\n",
       "  IncGeo_BoroughName  IncGeo_WardNameNew  Easting_m  Northing_m  \\\n",
       "0         WANDSWORTH      Battersea Park   528652.0    176830.0   \n",
       "1            ENFIELD           Haselbury   533773.0    194492.0   \n",
       "2         HILLINGDON     Hillingdon East   507738.0    182805.0   \n",
       "3          ISLINGTON             Laycock   531058.0    185307.0   \n",
       "4             CAMDEN  Kentish Town North        NaN         NaN   \n",
       "\n",
       "   Easting_rounded  Northing_rounded   Latitude  Longitude  \\\n",
       "0           528650            176850  51.475812  -0.148894   \n",
       "1           533750            194450  51.633342  -0.068488   \n",
       "2           507750            182850  51.533882  -0.448089   \n",
       "3           531050            185350  51.551441  -0.111120   \n",
       "4           529450            185250  51.551299  -0.134320   \n",
       "\n",
       "  IncidentStationGround  FirstPumpArriving_AttendanceTime  \\\n",
       "0             Battersea                             319.0   \n",
       "1              Edmonton                             308.0   \n",
       "2            Hillingdon                             210.0   \n",
       "3              Holloway                             233.0   \n",
       "4          Kentish Town                             172.0   \n",
       "\n",
       "  FirstPumpArriving_DeployedFromStation  Latitude_Station  Longitude_Station  \\\n",
       "0                             Battersea         51.467137          -0.169264   \n",
       "1                              Edmonton         51.627218          -0.069090   \n",
       "2                            Hillingdon         51.531532          -0.451352   \n",
       "3                              Holloway         51.561769          -0.116434   \n",
       "4                          Kentish Town         51.552703          -0.141720   \n",
       "\n",
       "   NumStationsWithPumpsAttending  NumPumpsAttending  PumpCount  \\\n",
       "0                            2.0                2.0          2   \n",
       "1                            1.0                1.0          1   \n",
       "2                            1.0                1.0          1   \n",
       "3                            1.0                2.0          2   \n",
       "4                            1.0                2.0          2   \n",
       "\n",
       "   PumpMinutesRounded  Notional Cost (£)  NumCalls  \\\n",
       "0                  60                255       1.0   \n",
       "1                  60                255       2.0   \n",
       "2                  60                255       2.0   \n",
       "3                  60                255       1.0   \n",
       "4                  60                255       1.0   \n",
       "\n",
       "   FirstPumpArriving_TurnoutTimeSec  FirstPumpArriving_TravelTimeSec  \\\n",
       "0                               NaN                              NaN   \n",
       "1                             151.0                            157.0   \n",
       "2                             108.0                            102.0   \n",
       "3                             114.0                            119.0   \n",
       "4                              83.0                             89.0   \n",
       "\n",
       "  FirstPump_DelayCode_Description FirstPump_Division_staion   London_Zone  \\\n",
       "0                             NaN                         H  Inner London   \n",
       "1                             NaN                         A  Outer London   \n",
       "2                             NaN                         G  Outer London   \n",
       "3                             NaN                         A  Inner London   \n",
       "4                             NaN                         A  Inner London   \n",
       "\n",
       "   Covid_Lockdown  FirstPump_Delayed Week_Weekend  Geodesic_Distance  \n",
       "0               0                  0         Week        1713.097276  \n",
       "1               0                  0         Week         682.664410  \n",
       "2               0                  0         Week         345.864686  \n",
       "3               0                  0         Week        1206.773108  \n",
       "4               0                  0         Week         536.518215  "
      ]
     },
     "execution_count": 4,
     "metadata": {},
     "output_type": "execute_result"
    }
   ],
   "source": [
    "df.head()"
   ]
  },
  {
   "cell_type": "code",
   "execution_count": 5,
   "id": "cda4c918",
   "metadata": {
    "scrolled": true
   },
   "outputs": [
    {
     "data": {
      "text/plain": [
       "IncidentNumber                                 0\n",
       "DateOfCall                                     0\n",
       "Month                                          0\n",
       "Weekday                                        0\n",
       "CalYear                                        0\n",
       "TimeOfCall                                     0\n",
       "HourOfCall                                     0\n",
       "Periode                                        0\n",
       "Periode_Rush                                   0\n",
       "IncidentGroup                                  0\n",
       "StopCodeDescription                            0\n",
       "SpecialServiceType                       1051772\n",
       "PropertyCategory                               0\n",
       "PropertyType                                   0\n",
       "AddressQualifier                               0\n",
       "Postcode_full                             702739\n",
       "Postcode_district                              0\n",
       "IncGeo_BoroughName                             0\n",
       "IncGeo_WardNameNew                           151\n",
       "Easting_m                                 702739\n",
       "Northing_m                                702739\n",
       "Easting_rounded                                0\n",
       "Northing_rounded                               0\n",
       "Latitude                                    7171\n",
       "Longitude                                   7171\n",
       "IncidentStationGround                          1\n",
       "FirstPumpArriving_AttendanceTime               0\n",
       "FirstPumpArriving_DeployedFromStation          0\n",
       "Latitude_Station                               0\n",
       "Longitude_Station                              0\n",
       "NumStationsWithPumpsAttending                  0\n",
       "NumPumpsAttending                              0\n",
       "PumpCount                                      0\n",
       "PumpMinutesRounded                             0\n",
       "Notional Cost (£)                              0\n",
       "NumCalls                                     942\n",
       "FirstPumpArriving_TurnoutTimeSec           20245\n",
       "FirstPumpArriving_TravelTimeSec            20331\n",
       "FirstPump_DelayCode_Description          1039070\n",
       "FirstPump_Division_staion                      0\n",
       "London_Zone                                    0\n",
       "Covid_Lockdown                                 0\n",
       "FirstPump_Delayed                              0\n",
       "Week_Weekend                                   0\n",
       "Geodesic_Distance                           7171\n",
       "dtype: int64"
      ]
     },
     "execution_count": 5,
     "metadata": {},
     "output_type": "execute_result"
    }
   ],
   "source": [
    "#check si il y a des NA pour les coordonnées\n",
    "df.isna().sum()"
   ]
  },
  {
   "cell_type": "code",
   "execution_count": 6,
   "id": "cb479884-6237-4083-87f7-bb6853385b76",
   "metadata": {},
   "outputs": [
    {
     "data": {
      "text/plain": [
       "PropertyCategory\n",
       "Dwelling    695568\n",
       "Name: count, dtype: int64"
      ]
     },
     "execution_count": 6,
     "metadata": {},
     "output_type": "execute_result"
    }
   ],
   "source": [
    "## conserve uniquement les ligne avec dwelling\n",
    "\n",
    "df_dwelling = df[df.PropertyCategory == \"Dwelling\"]\n",
    "df_dwelling.PropertyCategory.value_counts()"
   ]
  },
  {
   "cell_type": "code",
   "execution_count": 7,
   "id": "5c90d4c1-a828-40b0-8448-05c337c41903",
   "metadata": {},
   "outputs": [],
   "source": [
    "df_dwelling = df_dwelling[(df_dwelling[\"CalYear\"]>= 2020) & (df_dwelling[\"Covid_Lockdown\"]==0)]"
   ]
  },
  {
   "cell_type": "code",
   "execution_count": 8,
   "id": "d5d2db0c-7587-487b-9291-e729287962df",
   "metadata": {},
   "outputs": [
    {
     "data": {
      "text/plain": [
       "(177652, 45)"
      ]
     },
     "execution_count": 8,
     "metadata": {},
     "output_type": "execute_result"
    }
   ],
   "source": [
    "df_dwelling.shape"
   ]
  },
  {
   "cell_type": "code",
   "execution_count": 9,
   "id": "4b4f03cd",
   "metadata": {},
   "outputs": [],
   "source": [
    "# reset de l'index\n",
    "df_dwelling = df_dwelling.reset_index(drop = True)\n"
   ]
  },
  {
   "cell_type": "code",
   "execution_count": null,
   "id": "8c8738ec",
   "metadata": {},
   "outputs": [],
   "source": [
    "## environ 24 heures pour traiter la totalité des données donc 24 -- 177652\n",
    "# objectif pour 5 heures de process donc 5 dataframe de 35531 lignes\n",
    "# objectif pour 3 heures de process donc 8 dataframe de 22207 lignes"
   ]
  },
  {
   "cell_type": "code",
   "execution_count": 10,
   "id": "7bd1499a",
   "metadata": {},
   "outputs": [
    {
     "name": "stderr",
     "output_type": "stream",
     "text": [
      "c:\\Users\\loreb\\anaconda3\\envs\\Pinpon\\Lib\\site-packages\\numpy\\core\\fromnumeric.py:59: FutureWarning: 'DataFrame.swapaxes' is deprecated and will be removed in a future version. Please use 'DataFrame.transpose' instead.\n",
      "  return bound(*args, **kwds)\n"
     ]
    }
   ],
   "source": [
    "# sous groupe de taille égale contenant les coordonnées\n",
    "# conserver les numéro d'inccident\n",
    "ss_groupe = np.array_split(df_dwelling[[\"IncidentNumber\",\"Latitude\",\"Longitude\",\"Latitude_Station\",\"Longitude_Station\"]],8)"
   ]
  },
  {
   "cell_type": "code",
   "execution_count": 11,
   "id": "7d754d5e",
   "metadata": {},
   "outputs": [
    {
     "data": {
      "text/html": [
       "<div>\n",
       "<style scoped>\n",
       "    .dataframe tbody tr th:only-of-type {\n",
       "        vertical-align: middle;\n",
       "    }\n",
       "\n",
       "    .dataframe tbody tr th {\n",
       "        vertical-align: top;\n",
       "    }\n",
       "\n",
       "    .dataframe thead th {\n",
       "        text-align: right;\n",
       "    }\n",
       "</style>\n",
       "<table border=\"1\" class=\"dataframe\">\n",
       "  <thead>\n",
       "    <tr style=\"text-align: right;\">\n",
       "      <th></th>\n",
       "      <th>IncidentNumber</th>\n",
       "      <th>Latitude</th>\n",
       "      <th>Longitude</th>\n",
       "      <th>Latitude_Station</th>\n",
       "      <th>Longitude_Station</th>\n",
       "    </tr>\n",
       "  </thead>\n",
       "  <tbody>\n",
       "    <tr>\n",
       "      <th>0</th>\n",
       "      <td>000016-01012020</td>\n",
       "      <td>51.500349</td>\n",
       "      <td>-0.097501</td>\n",
       "      <td>51.486931</td>\n",
       "      <td>-0.073523</td>\n",
       "    </tr>\n",
       "    <tr>\n",
       "      <th>1</th>\n",
       "      <td>000020-01012020</td>\n",
       "      <td>51.471091</td>\n",
       "      <td>-0.363656</td>\n",
       "      <td>51.474977</td>\n",
       "      <td>-0.343271</td>\n",
       "    </tr>\n",
       "    <tr>\n",
       "      <th>2</th>\n",
       "      <td>000023-01012020</td>\n",
       "      <td>51.530788</td>\n",
       "      <td>-0.202923</td>\n",
       "      <td>51.522730</td>\n",
       "      <td>-0.212848</td>\n",
       "    </tr>\n",
       "    <tr>\n",
       "      <th>3</th>\n",
       "      <td>000029-01012020</td>\n",
       "      <td>51.589033</td>\n",
       "      <td>-0.076475</td>\n",
       "      <td>51.592478</td>\n",
       "      <td>-0.071637</td>\n",
       "    </tr>\n",
       "    <tr>\n",
       "      <th>4</th>\n",
       "      <td>000030-01012020</td>\n",
       "      <td>51.483155</td>\n",
       "      <td>-0.204797</td>\n",
       "      <td>51.477907</td>\n",
       "      <td>-0.200913</td>\n",
       "    </tr>\n",
       "    <tr>\n",
       "      <th>...</th>\n",
       "      <td>...</td>\n",
       "      <td>...</td>\n",
       "      <td>...</td>\n",
       "      <td>...</td>\n",
       "      <td>...</td>\n",
       "    </tr>\n",
       "    <tr>\n",
       "      <th>22202</th>\n",
       "      <td>117100-11092020</td>\n",
       "      <td>51.642429</td>\n",
       "      <td>-0.153707</td>\n",
       "      <td>51.630511</td>\n",
       "      <td>-0.127387</td>\n",
       "    </tr>\n",
       "    <tr>\n",
       "      <th>22203</th>\n",
       "      <td>117102-11092020</td>\n",
       "      <td>51.527545</td>\n",
       "      <td>-0.055999</td>\n",
       "      <td>51.527881</td>\n",
       "      <td>-0.053345</td>\n",
       "    </tr>\n",
       "    <tr>\n",
       "      <th>22204</th>\n",
       "      <td>117104-11092020</td>\n",
       "      <td>51.425383</td>\n",
       "      <td>-0.077600</td>\n",
       "      <td>51.425984</td>\n",
       "      <td>-0.105596</td>\n",
       "    </tr>\n",
       "    <tr>\n",
       "      <th>22205</th>\n",
       "      <td>117105-11092020</td>\n",
       "      <td>51.406346</td>\n",
       "      <td>-0.068334</td>\n",
       "      <td>51.369071</td>\n",
       "      <td>-0.105174</td>\n",
       "    </tr>\n",
       "    <tr>\n",
       "      <th>22206</th>\n",
       "      <td>117116-11092020</td>\n",
       "      <td>51.482985</td>\n",
       "      <td>0.176872</td>\n",
       "      <td>51.470699</td>\n",
       "      <td>0.045140</td>\n",
       "    </tr>\n",
       "  </tbody>\n",
       "</table>\n",
       "<p>22207 rows × 5 columns</p>\n",
       "</div>"
      ],
      "text/plain": [
       "        IncidentNumber   Latitude  Longitude  Latitude_Station  \\\n",
       "0      000016-01012020  51.500349  -0.097501         51.486931   \n",
       "1      000020-01012020  51.471091  -0.363656         51.474977   \n",
       "2      000023-01012020  51.530788  -0.202923         51.522730   \n",
       "3      000029-01012020  51.589033  -0.076475         51.592478   \n",
       "4      000030-01012020  51.483155  -0.204797         51.477907   \n",
       "...                ...        ...        ...               ...   \n",
       "22202  117100-11092020  51.642429  -0.153707         51.630511   \n",
       "22203  117102-11092020  51.527545  -0.055999         51.527881   \n",
       "22204  117104-11092020  51.425383  -0.077600         51.425984   \n",
       "22205  117105-11092020  51.406346  -0.068334         51.369071   \n",
       "22206  117116-11092020  51.482985   0.176872         51.470699   \n",
       "\n",
       "       Longitude_Station  \n",
       "0              -0.073523  \n",
       "1              -0.343271  \n",
       "2              -0.212848  \n",
       "3              -0.071637  \n",
       "4              -0.200913  \n",
       "...                  ...  \n",
       "22202          -0.127387  \n",
       "22203          -0.053345  \n",
       "22204          -0.105596  \n",
       "22205          -0.105174  \n",
       "22206           0.045140  \n",
       "\n",
       "[22207 rows x 5 columns]"
      ]
     },
     "execution_count": 11,
     "metadata": {},
     "output_type": "execute_result"
    }
   ],
   "source": [
    "ss_groupe[0]"
   ]
  },
  {
   "cell_type": "code",
   "execution_count": 12,
   "id": "25df0503",
   "metadata": {},
   "outputs": [],
   "source": [
    "# convertie la liste en dataframe\n",
    "list_df = []\n",
    "\n",
    "for i in range(len(ss_groupe)) : \n",
    "    ss_groupe[i] = pd.DataFrame(ss_groupe[i], index = ss_groupe[i].index)\n",
    "    list_df.append(ss_groupe[i])"
   ]
  },
  {
   "cell_type": "code",
   "execution_count": 13,
   "id": "fca0508b",
   "metadata": {},
   "outputs": [
    {
     "name": "stdout",
     "output_type": "stream",
     "text": [
      "<class 'list'>\n",
      "<class 'pandas.core.frame.DataFrame'>\n"
     ]
    }
   ],
   "source": [
    "print(type(ss_groupe))\n",
    "print(type(ss_groupe[0]))"
   ]
  },
  {
   "cell_type": "code",
   "execution_count": 14,
   "id": "c5cee06a",
   "metadata": {},
   "outputs": [
    {
     "data": {
      "text/plain": [
       "8"
      ]
     },
     "execution_count": 14,
     "metadata": {},
     "output_type": "execute_result"
    }
   ],
   "source": [
    "len(ss_groupe)"
   ]
  },
  {
   "cell_type": "code",
   "execution_count": 15,
   "id": "b4fcf1c5",
   "metadata": {},
   "outputs": [
    {
     "data": {
      "text/plain": [
       "range(0, 8)"
      ]
     },
     "execution_count": 15,
     "metadata": {},
     "output_type": "execute_result"
    }
   ],
   "source": [
    "range(len(ss_groupe))"
   ]
  },
  {
   "cell_type": "code",
   "execution_count": 16,
   "id": "50f916cd",
   "metadata": {},
   "outputs": [],
   "source": [
    "# save de la liste de df\n",
    "import pickle\n",
    "\n",
    "with open(\"Data/df_dist/liste_df_API_dwell\", \"wb\") as fp:\n",
    "    pickle.dump(list_df,fp)"
   ]
  },
  {
   "cell_type": "code",
   "execution_count": 181,
   "id": "ee65a19c",
   "metadata": {},
   "outputs": [],
   "source": [
    "# Charger les données\n",
    "import pickle\n",
    "list_df = pickle.load(open(\"Data/df_dist/liste_df_API_dwell\", 'rb'))\n",
    "\n",
    "# OU\n",
    "#with open(\"liste_df_API\",\"rb\") as fp :\n",
    "#    list_df = pickle.load(fp)"
   ]
  },
  {
   "cell_type": "code",
   "execution_count": 17,
   "id": "d38f40c9",
   "metadata": {
    "scrolled": true
   },
   "outputs": [
    {
     "data": {
      "text/plain": [
       "[        IncidentNumber   Latitude  Longitude  Latitude_Station  \\\n",
       " 0      000016-01012020  51.500349  -0.097501         51.486931   \n",
       " 1      000020-01012020  51.471091  -0.363656         51.474977   \n",
       " 2      000023-01012020  51.530788  -0.202923         51.522730   \n",
       " 3      000029-01012020  51.589033  -0.076475         51.592478   \n",
       " 4      000030-01012020  51.483155  -0.204797         51.477907   \n",
       " ...                ...        ...        ...               ...   \n",
       " 22202  117100-11092020  51.642429  -0.153707         51.630511   \n",
       " 22203  117102-11092020  51.527545  -0.055999         51.527881   \n",
       " 22204  117104-11092020  51.425383  -0.077600         51.425984   \n",
       " 22205  117105-11092020  51.406346  -0.068334         51.369071   \n",
       " 22206  117116-11092020  51.482985   0.176872         51.470699   \n",
       " \n",
       "        Longitude_Station  \n",
       " 0              -0.073523  \n",
       " 1              -0.343271  \n",
       " 2              -0.212848  \n",
       " 3              -0.071637  \n",
       " 4              -0.200913  \n",
       " ...                  ...  \n",
       " 22202          -0.127387  \n",
       " 22203          -0.053345  \n",
       " 22204          -0.105596  \n",
       " 22205          -0.105174  \n",
       " 22206           0.045140  \n",
       " \n",
       " [22207 rows x 5 columns],\n",
       "         IncidentNumber   Latitude  Longitude  Latitude_Station  \\\n",
       " 22207  117123-11092020  51.480806  -0.484281         51.480152   \n",
       " 22208  117125-11092020  51.498260  -0.025549         51.500806   \n",
       " 22209  117128-11092020  51.596600  -0.273962         51.615246   \n",
       " 22210  117137-11092020  51.589688  -0.116869         51.586510   \n",
       " 22211  117141-11092020  51.564958  -0.089033         51.562023   \n",
       " ...                ...        ...        ...               ...   \n",
       " 44409  138809-15102021  51.519302  -0.216348         51.522730   \n",
       " 44410  138813-15102021  51.345285  -0.073774         51.351839   \n",
       " 44411  138823-15102021  51.522254  -0.174429         51.520220   \n",
       " 44412  138825-15102021  51.577635  -0.150561         51.586510   \n",
       " 44413  138828-15102021  51.487627  -0.203181         51.477907   \n",
       " \n",
       "        Longitude_Station  \n",
       " 22207          -0.458775  \n",
       " 22208          -0.025702  \n",
       " 22209          -0.243469  \n",
       " 22210          -0.127263  \n",
       " 22211          -0.076535  \n",
       " ...                  ...  \n",
       " 44409          -0.212848  \n",
       " 44410          -0.023980  \n",
       " 44411          -0.183015  \n",
       " 44412          -0.127263  \n",
       " 44413          -0.200913  \n",
       " \n",
       " [22207 rows x 5 columns],\n",
       "         IncidentNumber   Latitude  Longitude  Latitude_Station  \\\n",
       " 44414  138835-15102021  51.487605  -0.201741         51.496332   \n",
       " 44415  138837-15102021  51.476449  -0.012091         51.474079   \n",
       " 44416  138843-15102021  51.487627  -0.203181         51.477907   \n",
       " 44417  138857-15102021  51.544655  -0.169205         51.551785   \n",
       " 44418  138860-15102021  51.533764  -0.051408         51.527881   \n",
       " ...                ...        ...        ...               ...   \n",
       " 66616  026996-22022022  51.476502  -0.124414         51.493095   \n",
       " 66617  026997-22022022  51.484377   0.100601         51.470699   \n",
       " 66618  026998-22022022  51.528020  -0.084813         51.526472   \n",
       " 66619  026999-22022022  51.552635  -0.050602         51.548578   \n",
       " 66620  027002-22022022  51.401073  -0.075745         51.385860   \n",
       " \n",
       "        Longitude_Station  \n",
       " 44414          -0.223872  \n",
       " 44415          -0.013630  \n",
       " 44416          -0.200913  \n",
       " 44417          -0.192907  \n",
       " 44418          -0.053345  \n",
       " ...                  ...  \n",
       " 66616          -0.122249  \n",
       " 66617           0.045140  \n",
       " 66618          -0.085432  \n",
       " 66619          -0.043865  \n",
       " 66620          -0.062312  \n",
       " \n",
       " [22207 rows x 5 columns],\n",
       "         IncidentNumber   Latitude  Longitude  Latitude_Station  \\\n",
       " 66621  027004-22022022  51.530479  -0.070292         51.527881   \n",
       " 66622  027008-22022022  51.591347  -0.346345         51.590838   \n",
       " 66623  027009-22022022  51.500775  -0.181051         51.502216   \n",
       " 66624  027010-22022022  51.499380  -0.093218         51.510415   \n",
       " 66625  027012-22022022  51.541735   0.160928         51.559509   \n",
       " ...                ...        ...        ...               ...   \n",
       " 88823  101820-09072022  51.367229  -0.095840         51.369071   \n",
       " 88824  101848-09072022  51.490127   0.080697         51.470699   \n",
       " 88825  101852-09072022  51.419660  -0.057704         51.442525   \n",
       " 88826  101853-09072022  51.516618   0.057402         51.520203   \n",
       " 88827  101856-09072022  51.475732  -0.076924         51.486931   \n",
       " \n",
       "        Longitude_Station  \n",
       " 66621          -0.053345  \n",
       " 66622          -0.366309  \n",
       " 66623          -0.189648  \n",
       " 66624          -0.089807  \n",
       " 66625           0.156807  \n",
       " ...                  ...  \n",
       " 88823          -0.105174  \n",
       " 88824           0.045140  \n",
       " 88825          -0.045050  \n",
       " 88826           0.031673  \n",
       " 88827          -0.073523  \n",
       " \n",
       " [22207 rows x 5 columns],\n",
       "          IncidentNumber   Latitude  Longitude  Latitude_Station  \\\n",
       " 88828   101859-09072022  51.474556  -0.172014         51.467137   \n",
       " 88829   101861-09072022  51.378191  -0.162922         51.397121   \n",
       " 88830   101871-09072022  51.459150   0.152705         51.464485   \n",
       " 88831   101872-09072022  51.382530   0.113179         51.371933   \n",
       " 88832   101874-09072022  51.499076  -0.307906         51.511679   \n",
       " ...                 ...        ...        ...               ...   \n",
       " 111029  183583-08112022  51.481475  -0.272552         51.490467   \n",
       " 111030  183584-08112022  51.509502   0.000877         51.510833   \n",
       " 111031  183586-08112022  51.551638   0.008496         51.543719   \n",
       " 111032  183590-08112022  51.519626  -0.178858         51.520220   \n",
       " 111033  183591-08112022  51.427346  -0.201230         51.415558   \n",
       " \n",
       "         Longitude_Station  \n",
       " 88828           -0.169264  \n",
       " 88829           -0.172802  \n",
       " 88830            0.155119  \n",
       " 88831            0.110864  \n",
       " 88832           -0.314720  \n",
       " ...                   ...  \n",
       " 111029          -0.268940  \n",
       " 111030          -0.015791  \n",
       " 111031           0.011435  \n",
       " 111032          -0.183015  \n",
       " 111033          -0.197346  \n",
       " \n",
       " [22206 rows x 5 columns],\n",
       "          IncidentNumber   Latitude  Longitude  Latitude_Station  \\\n",
       " 111034  183592-08112022  51.602549  -0.250631         51.615246   \n",
       " 111035  183595-08112022  51.499965  -0.186847         51.502216   \n",
       " 111036  183597-08112022  51.477193  -0.111425         51.463652   \n",
       " 111037  183599-08112022  51.327593  -0.091740         51.331781   \n",
       " 111038  183600-08112022  51.555641  -0.069227         51.562023   \n",
       " ...                 ...        ...        ...               ...   \n",
       " 133235  031944-05032023  51.469812  -0.274433         51.467464   \n",
       " 133236  031945-05032023  51.420417   0.004175         51.407021   \n",
       " 133237  031947-05032023  51.484599  -0.240748         51.477907   \n",
       " 133238  031950-05032023  51.479121  -0.010535         51.484856   \n",
       " 133239  031958-05032023  51.529868   0.170459         51.564580   \n",
       " \n",
       "         Longitude_Station  \n",
       " 111034          -0.243469  \n",
       " 111035          -0.189648  \n",
       " 111036          -0.109363  \n",
       " 111037          -0.124999  \n",
       " 111038          -0.076535  \n",
       " ...                   ...  \n",
       " 133235          -0.284855  \n",
       " 133236           0.017033  \n",
       " 133237          -0.200913  \n",
       " 133238          -0.033834  \n",
       " 133239           0.220550  \n",
       " \n",
       " [22206 rows x 5 columns],\n",
       "          IncidentNumber   Latitude  Longitude  Latitude_Station  \\\n",
       " 133240  031959-05032023  51.418991  -0.184299         51.415558   \n",
       " 133241  031960-05032023  51.473903  -0.187880         51.456522   \n",
       " 133242  031964-05032023  51.477269  -0.061019         51.474156   \n",
       " 133243  031967-05032023  51.463942  -0.016954         51.457119   \n",
       " 133244  031972-05032023  51.526689  -0.113702         51.512491   \n",
       " ...                 ...        ...        ...               ...   \n",
       " 155441  102119-09072023  51.536459  -0.106088         51.526472   \n",
       " 155442  102120-09072023  51.473207   0.071287         51.470699   \n",
       " 155443  102121-09072023  51.548992   0.005495         51.543719   \n",
       " 155444  102127-09072023  51.455265   0.017216         51.457119   \n",
       " 155445  102130-09072023  51.550674  -0.151655         51.552703   \n",
       " \n",
       "         Longitude_Station  \n",
       " 133240          -0.197346  \n",
       " 133241          -0.201437  \n",
       " 133242          -0.077889  \n",
       " 133243          -0.013364  \n",
       " 133244          -0.130055  \n",
       " ...                   ...  \n",
       " 155441          -0.085432  \n",
       " 155442           0.045140  \n",
       " 155443           0.011435  \n",
       " 155444          -0.013364  \n",
       " 155445          -0.141720  \n",
       " \n",
       " [22206 rows x 5 columns],\n",
       "          IncidentNumber   Latitude  Longitude  Latitude_Station  \\\n",
       " 155446  102132-09072023  51.491179  -0.142539         51.493095   \n",
       " 155447  102133-09072023  51.558901   0.004488         51.543719   \n",
       " 155448  102135-09072023  51.589282  -0.265577         51.603653   \n",
       " 155449  102136-09072023  51.354261  -0.018820         51.351839   \n",
       " 155450  102138-09072023  51.620279  -0.174831         51.598092   \n",
       " ...                 ...        ...        ...               ...   \n",
       " 177647  170385-31102023  51.424740  -0.038789         51.408005   \n",
       " 177648  170388-31102023  51.462300  -0.080368         51.474156   \n",
       " 177649  170390-31102023  51.451279  -0.066438         51.473603   \n",
       " 177650  170391-31102023  51.602131  -0.410933         51.590838   \n",
       " 177651  170394-31102023  51.506256  -0.245678         51.507042   \n",
       " \n",
       "         Longitude_Station  \n",
       " 155446          -0.122249  \n",
       " 155447           0.011435  \n",
       " 155448          -0.297622  \n",
       " 155449          -0.023980  \n",
       " 155450          -0.179071  \n",
       " ...                   ...  \n",
       " 177647          -0.033984  \n",
       " 177648          -0.077889  \n",
       " 177649          -0.049266  \n",
       " 177650          -0.366309  \n",
       " 177651          -0.276903  \n",
       " \n",
       " [22206 rows x 5 columns]]"
      ]
     },
     "execution_count": 17,
     "metadata": {},
     "output_type": "execute_result"
    }
   ],
   "source": [
    "list_df"
   ]
  },
  {
   "cell_type": "code",
   "execution_count": 18,
   "id": "47495e97",
   "metadata": {},
   "outputs": [
    {
     "data": {
      "text/html": [
       "<div>\n",
       "<style scoped>\n",
       "    .dataframe tbody tr th:only-of-type {\n",
       "        vertical-align: middle;\n",
       "    }\n",
       "\n",
       "    .dataframe tbody tr th {\n",
       "        vertical-align: top;\n",
       "    }\n",
       "\n",
       "    .dataframe thead th {\n",
       "        text-align: right;\n",
       "    }\n",
       "</style>\n",
       "<table border=\"1\" class=\"dataframe\">\n",
       "  <thead>\n",
       "    <tr style=\"text-align: right;\">\n",
       "      <th></th>\n",
       "      <th>IncidentNumber</th>\n",
       "      <th>Latitude</th>\n",
       "      <th>Longitude</th>\n",
       "      <th>Latitude_Station</th>\n",
       "      <th>Longitude_Station</th>\n",
       "    </tr>\n",
       "  </thead>\n",
       "  <tbody>\n",
       "    <tr>\n",
       "      <th>0</th>\n",
       "      <td>000016-01012020</td>\n",
       "      <td>51.500349</td>\n",
       "      <td>-0.097501</td>\n",
       "      <td>51.486931</td>\n",
       "      <td>-0.073523</td>\n",
       "    </tr>\n",
       "    <tr>\n",
       "      <th>1</th>\n",
       "      <td>000020-01012020</td>\n",
       "      <td>51.471091</td>\n",
       "      <td>-0.363656</td>\n",
       "      <td>51.474977</td>\n",
       "      <td>-0.343271</td>\n",
       "    </tr>\n",
       "    <tr>\n",
       "      <th>2</th>\n",
       "      <td>000023-01012020</td>\n",
       "      <td>51.530788</td>\n",
       "      <td>-0.202923</td>\n",
       "      <td>51.522730</td>\n",
       "      <td>-0.212848</td>\n",
       "    </tr>\n",
       "    <tr>\n",
       "      <th>3</th>\n",
       "      <td>000029-01012020</td>\n",
       "      <td>51.589033</td>\n",
       "      <td>-0.076475</td>\n",
       "      <td>51.592478</td>\n",
       "      <td>-0.071637</td>\n",
       "    </tr>\n",
       "    <tr>\n",
       "      <th>4</th>\n",
       "      <td>000030-01012020</td>\n",
       "      <td>51.483155</td>\n",
       "      <td>-0.204797</td>\n",
       "      <td>51.477907</td>\n",
       "      <td>-0.200913</td>\n",
       "    </tr>\n",
       "    <tr>\n",
       "      <th>...</th>\n",
       "      <td>...</td>\n",
       "      <td>...</td>\n",
       "      <td>...</td>\n",
       "      <td>...</td>\n",
       "      <td>...</td>\n",
       "    </tr>\n",
       "    <tr>\n",
       "      <th>22202</th>\n",
       "      <td>117100-11092020</td>\n",
       "      <td>51.642429</td>\n",
       "      <td>-0.153707</td>\n",
       "      <td>51.630511</td>\n",
       "      <td>-0.127387</td>\n",
       "    </tr>\n",
       "    <tr>\n",
       "      <th>22203</th>\n",
       "      <td>117102-11092020</td>\n",
       "      <td>51.527545</td>\n",
       "      <td>-0.055999</td>\n",
       "      <td>51.527881</td>\n",
       "      <td>-0.053345</td>\n",
       "    </tr>\n",
       "    <tr>\n",
       "      <th>22204</th>\n",
       "      <td>117104-11092020</td>\n",
       "      <td>51.425383</td>\n",
       "      <td>-0.077600</td>\n",
       "      <td>51.425984</td>\n",
       "      <td>-0.105596</td>\n",
       "    </tr>\n",
       "    <tr>\n",
       "      <th>22205</th>\n",
       "      <td>117105-11092020</td>\n",
       "      <td>51.406346</td>\n",
       "      <td>-0.068334</td>\n",
       "      <td>51.369071</td>\n",
       "      <td>-0.105174</td>\n",
       "    </tr>\n",
       "    <tr>\n",
       "      <th>22206</th>\n",
       "      <td>117116-11092020</td>\n",
       "      <td>51.482985</td>\n",
       "      <td>0.176872</td>\n",
       "      <td>51.470699</td>\n",
       "      <td>0.045140</td>\n",
       "    </tr>\n",
       "  </tbody>\n",
       "</table>\n",
       "<p>22207 rows × 5 columns</p>\n",
       "</div>"
      ],
      "text/plain": [
       "        IncidentNumber   Latitude  Longitude  Latitude_Station  \\\n",
       "0      000016-01012020  51.500349  -0.097501         51.486931   \n",
       "1      000020-01012020  51.471091  -0.363656         51.474977   \n",
       "2      000023-01012020  51.530788  -0.202923         51.522730   \n",
       "3      000029-01012020  51.589033  -0.076475         51.592478   \n",
       "4      000030-01012020  51.483155  -0.204797         51.477907   \n",
       "...                ...        ...        ...               ...   \n",
       "22202  117100-11092020  51.642429  -0.153707         51.630511   \n",
       "22203  117102-11092020  51.527545  -0.055999         51.527881   \n",
       "22204  117104-11092020  51.425383  -0.077600         51.425984   \n",
       "22205  117105-11092020  51.406346  -0.068334         51.369071   \n",
       "22206  117116-11092020  51.482985   0.176872         51.470699   \n",
       "\n",
       "       Longitude_Station  \n",
       "0              -0.073523  \n",
       "1              -0.343271  \n",
       "2              -0.212848  \n",
       "3              -0.071637  \n",
       "4              -0.200913  \n",
       "...                  ...  \n",
       "22202          -0.127387  \n",
       "22203          -0.053345  \n",
       "22204          -0.105596  \n",
       "22205          -0.105174  \n",
       "22206           0.045140  \n",
       "\n",
       "[22207 rows x 5 columns]"
      ]
     },
     "execution_count": 18,
     "metadata": {},
     "output_type": "execute_result"
    }
   ],
   "source": [
    "list_df[0]"
   ]
  },
  {
   "cell_type": "code",
   "execution_count": 19,
   "id": "b510c757",
   "metadata": {},
   "outputs": [
    {
     "data": {
      "text/plain": [
       "8"
      ]
     },
     "execution_count": 19,
     "metadata": {},
     "output_type": "execute_result"
    }
   ],
   "source": [
    "len(list_df)"
   ]
  },
  {
   "cell_type": "markdown",
   "id": "763d74c4",
   "metadata": {},
   "source": [
    "## OSMR"
   ]
  },
  {
   "cell_type": "code",
   "execution_count": 20,
   "id": "e0d7cd24",
   "metadata": {},
   "outputs": [
    {
     "data": {
      "text/plain": [
       "{'code': 'Ok',\n",
       " 'routes': [{'legs': [{'steps': [],\n",
       "     'summary': '',\n",
       "     'weight': 423.1,\n",
       "     'duration': 423.1,\n",
       "     'distance': 3944.7}],\n",
       "   'weight_name': 'routability',\n",
       "   'weight': 423.1,\n",
       "   'duration': 423.1,\n",
       "   'distance': 3944.7},\n",
       "  {'legs': [{'steps': [],\n",
       "     'summary': '',\n",
       "     'weight': 438.9,\n",
       "     'duration': 438.9,\n",
       "     'distance': 5149.2}],\n",
       "   'weight_name': 'routability',\n",
       "   'weight': 438.9,\n",
       "   'duration': 438.9,\n",
       "   'distance': 5149.2}]}"
      ]
     },
     "execution_count": 20,
     "metadata": {},
     "output_type": "execute_result"
    }
   ],
   "source": [
    "import requests\n",
    "\n",
    "# format de la requte https\n",
    " # {lien}/{service}/{version}/{profile}/{coordinates}[.{format}]?option=value&option=value\n",
    "# service :  route , nearest , table , match , trip ou tile\n",
    "#    route : renvoie la route la plutot rapide en deux places\n",
    "#        alternative : true, false(defaut), nb : cherche des routes alternatives\n",
    "#        steps : nb d'étapes, défault(false)\n",
    "#        overview : display la route : false\n",
    "# version : version du protocol\n",
    "# profile : moyen de transport\n",
    "# coordinates : {longitude},{latitude};{longitude},{latitude}\n",
    "# format : json ou flatbuffer (json par defaut)\n",
    "\n",
    "#Réponse\n",
    "# retourne un array de routes ordonnée par ordre décroissant de rang de recommandation\n",
    "# distance en metres\n",
    "# durée en secondes\n",
    "\n",
    "url = f\"http://router.project-osrm.org/route/v1/driving/{list_df[0].Longitude[2879]},{list_df[0].Latitude[2879]};{list_df[0].Longitude_Station[2879]},{list_df[0].Latitude_Station[2879]}?alternatives=3&overview=false&skip_waypoints=true\"\n",
    "\n",
    "reponse = requests.get(url)\n",
    "data = reponse.json()\n",
    "data"
   ]
  },
  {
   "cell_type": "markdown",
   "id": "4e25b5e2",
   "metadata": {},
   "source": [
    "#### calcul de la distance en metres entre la station intervenant et le lieu de l'incident\n",
    "#### Distance de la route la plus rapide qui est donnée\n"
   ]
  },
  {
   "cell_type": "markdown",
   "id": "9be52fc1",
   "metadata": {},
   "source": [
    "## 1 dataframe"
   ]
  },
  {
   "cell_type": "code",
   "execution_count": 21,
   "id": "6521582d",
   "metadata": {
    "scrolled": true,
    "tags": [
     "raises-exception"
    ]
   },
   "outputs": [
    {
     "name": "stderr",
     "output_type": "stream",
     "text": [
      " 15%|█▌        | 3407/22207 [28:23<2:36:18,  2.00it/s]"
     ]
    },
    {
     "name": "stdout",
     "output_type": "stream",
     "text": [
      "bad request index 3406\n"
     ]
    },
    {
     "name": "stderr",
     "output_type": "stream",
     "text": [
      " 26%|██▋       | 5862/22207 [48:50<2:24:21,  1.89it/s]"
     ]
    },
    {
     "name": "stdout",
     "output_type": "stream",
     "text": [
      "bad request index 5861\n"
     ]
    },
    {
     "name": "stderr",
     "output_type": "stream",
     "text": [
      " 29%|██▊       | 6379/22207 [53:09<2:11:35,  2.00it/s]"
     ]
    },
    {
     "name": "stdout",
     "output_type": "stream",
     "text": [
      "bad request index 6378\n"
     ]
    },
    {
     "name": "stderr",
     "output_type": "stream",
     "text": [
      " 36%|███▌      | 8005/22207 [1:06:42<1:58:08,  2.00it/s]"
     ]
    },
    {
     "name": "stdout",
     "output_type": "stream",
     "text": [
      "bad request index 8004\n"
     ]
    },
    {
     "name": "stderr",
     "output_type": "stream",
     "text": [
      " 45%|████▌     | 10094/22207 [1:24:06<1:40:47,  2.00it/s]"
     ]
    },
    {
     "name": "stdout",
     "output_type": "stream",
     "text": [
      "bad request index 10093\n"
     ]
    },
    {
     "name": "stderr",
     "output_type": "stream",
     "text": [
      " 55%|█████▍    | 12145/22207 [1:41:12<1:23:49,  2.00it/s]"
     ]
    },
    {
     "name": "stdout",
     "output_type": "stream",
     "text": [
      "bad request index 12144\n"
     ]
    },
    {
     "name": "stderr",
     "output_type": "stream",
     "text": [
      " 58%|█████▊    | 12844/22207 [1:47:01<1:18:02,  2.00it/s]"
     ]
    },
    {
     "name": "stdout",
     "output_type": "stream",
     "text": [
      "bad request index 12843\n"
     ]
    },
    {
     "name": "stderr",
     "output_type": "stream",
     "text": [
      " 64%|██████▎   | 14115/22207 [1:57:37<1:07:22,  2.00it/s]"
     ]
    },
    {
     "name": "stdout",
     "output_type": "stream",
     "text": [
      "bad request index 14114\n"
     ]
    },
    {
     "name": "stderr",
     "output_type": "stream",
     "text": [
      " 64%|██████▍   | 14163/22207 [1:58:01<1:07:00,  2.00it/s]"
     ]
    },
    {
     "name": "stdout",
     "output_type": "stream",
     "text": [
      "bad request index 14162\n"
     ]
    },
    {
     "name": "stderr",
     "output_type": "stream",
     "text": [
      " 64%|██████▍   | 14192/22207 [1:58:15<1:06:44,  2.00it/s]"
     ]
    },
    {
     "name": "stdout",
     "output_type": "stream",
     "text": [
      "bad request index 14191\n"
     ]
    },
    {
     "name": "stderr",
     "output_type": "stream",
     "text": [
      " 66%|██████▌   | 14639/22207 [2:01:59<1:02:58,  2.00it/s]"
     ]
    },
    {
     "name": "stdout",
     "output_type": "stream",
     "text": [
      "bad request index 14638\n"
     ]
    },
    {
     "name": "stderr",
     "output_type": "stream",
     "text": [
      " 67%|██████▋   | 14908/22207 [2:04:13<1:00:46,  2.00it/s]"
     ]
    },
    {
     "name": "stdout",
     "output_type": "stream",
     "text": [
      "bad request index 14907\n"
     ]
    },
    {
     "name": "stderr",
     "output_type": "stream",
     "text": [
      " 69%|██████▉   | 15375/22207 [2:08:07<56:56,  2.00it/s]  "
     ]
    },
    {
     "name": "stdout",
     "output_type": "stream",
     "text": [
      "bad request index 15374\n"
     ]
    },
    {
     "name": "stderr",
     "output_type": "stream",
     "text": [
      " 72%|███████▏  | 15907/22207 [2:12:33<52:28,  2.00it/s]"
     ]
    },
    {
     "name": "stdout",
     "output_type": "stream",
     "text": [
      "bad request index 15906\n"
     ]
    },
    {
     "name": "stderr",
     "output_type": "stream",
     "text": [
      " 79%|███████▉  | 17556/22207 [2:26:17<38:47,  2.00it/s]"
     ]
    },
    {
     "name": "stdout",
     "output_type": "stream",
     "text": [
      "bad request index 17555\n"
     ]
    },
    {
     "name": "stderr",
     "output_type": "stream",
     "text": [
      " 82%|████████▏ | 18264/22207 [2:32:13<32:49,  2.00it/s]"
     ]
    },
    {
     "name": "stdout",
     "output_type": "stream",
     "text": [
      "bad request index 18263\n"
     ]
    },
    {
     "name": "stderr",
     "output_type": "stream",
     "text": [
      " 95%|█████████▌| 21188/22207 [2:56:43<08:28,  2.00it/s]  "
     ]
    },
    {
     "name": "stdout",
     "output_type": "stream",
     "text": [
      "bad request index 21187\n"
     ]
    },
    {
     "name": "stderr",
     "output_type": "stream",
     "text": [
      "100%|██████████| 22207/22207 [3:05:13<00:00,  2.00it/s]\n"
     ]
    }
   ],
   "source": [
    "# calcul de la distance en metres entre la station intervenant et le lieu de l'incident\n",
    "# Distance de la route la plus rapide qui est donnée\n",
    "#\n",
    "\n",
    "import requests\n",
    "from tqdm import tqdm\n",
    "\n",
    "distance_df1 = []\n",
    "temps_api_df1 = []\n",
    "\n",
    "for i in tqdm(list_df[0].index.values) :\n",
    "    \n",
    "    url = f\"http://router.project-osrm.org/route/v1/driving/{list_df[0].Longitude_Station[i]},{list_df[0].Latitude_Station[i]};{list_df[0].Longitude[i]},{list_df[0].Latitude[i]}?alternatives=false&overview=false&skip_waypoints=true\"\n",
    "    reponse = requests.get(url)\n",
    "    data = reponse.json()\n",
    "   \n",
    "    # si la requete n'a pas aboutie on met des NA\n",
    "    if reponse.status_code != 200:\n",
    "        print(\"bad request index\",i)\n",
    "        distance_df1.append(np.nan)\n",
    "        temps_api_df1.append(np.nan)\n",
    "\n",
    "\n",
    "    else :\n",
    "    # select le dico avec distance\n",
    "        dst = data['routes'][0]['distance']\n",
    "        temps = data['routes'][0]['duration']\n",
    "        distance_df1.append(dst)\n",
    "        temps_api_df1.append(temps)\n",
    "\n",
    "# mise en un dataframe des distances     \n",
    "dst_1 = pd.DataFrame(index = list_df[0].index, data = {'dst_StationIncident': distance_df1, \"tempsAPI\" : temps_api_df1})    \n",
    "\n",
    "# ajout de la distance station-incident au dataframe ssgroupe\n",
    "list_df[0] = pd.concat([list_df[0], dst_1], axis = 1)\n",
    "\n",
    "\n",
    "# save de la liste de df\n",
    "\n",
    "with open(\"Data/df_dist/liste_df_API_dwell\", \"wb\") as fp:\n",
    "    pickle.dump(list_df,fp)\n"
   ]
  },
  {
   "cell_type": "code",
   "execution_count": 89,
   "id": "d4bc3048",
   "metadata": {},
   "outputs": [
    {
     "data": {
      "text/html": [
       "<div>\n",
       "<style scoped>\n",
       "    .dataframe tbody tr th:only-of-type {\n",
       "        vertical-align: middle;\n",
       "    }\n",
       "\n",
       "    .dataframe tbody tr th {\n",
       "        vertical-align: top;\n",
       "    }\n",
       "\n",
       "    .dataframe thead th {\n",
       "        text-align: right;\n",
       "    }\n",
       "</style>\n",
       "<table border=\"1\" class=\"dataframe\">\n",
       "  <thead>\n",
       "    <tr style=\"text-align: right;\">\n",
       "      <th></th>\n",
       "      <th>IncidentNumber</th>\n",
       "      <th>Latitude</th>\n",
       "      <th>Longitude</th>\n",
       "      <th>Latitude_Station</th>\n",
       "      <th>Longitude_Station</th>\n",
       "      <th>dst_StationIncident</th>\n",
       "      <th>tempsAPI</th>\n",
       "    </tr>\n",
       "  </thead>\n",
       "  <tbody>\n",
       "    <tr>\n",
       "      <th>0</th>\n",
       "      <td>235138081</td>\n",
       "      <td>51.475812</td>\n",
       "      <td>-0.148894</td>\n",
       "      <td>51.467137</td>\n",
       "      <td>-0.169264</td>\n",
       "      <td>2250.5</td>\n",
       "      <td>280.8</td>\n",
       "    </tr>\n",
       "    <tr>\n",
       "      <th>1</th>\n",
       "      <td>2091</td>\n",
       "      <td>51.633342</td>\n",
       "      <td>-0.068488</td>\n",
       "      <td>51.627218</td>\n",
       "      <td>-0.069090</td>\n",
       "      <td>1071.1</td>\n",
       "      <td>179.3</td>\n",
       "    </tr>\n",
       "    <tr>\n",
       "      <th>2</th>\n",
       "      <td>3091</td>\n",
       "      <td>51.533882</td>\n",
       "      <td>-0.448089</td>\n",
       "      <td>51.531532</td>\n",
       "      <td>-0.451352</td>\n",
       "      <td>917.9</td>\n",
       "      <td>121.6</td>\n",
       "    </tr>\n",
       "    <tr>\n",
       "      <th>3</th>\n",
       "      <td>5091</td>\n",
       "      <td>51.551441</td>\n",
       "      <td>-0.111120</td>\n",
       "      <td>51.561769</td>\n",
       "      <td>-0.116434</td>\n",
       "      <td>1362.0</td>\n",
       "      <td>229.6</td>\n",
       "    </tr>\n",
       "    <tr>\n",
       "      <th>4</th>\n",
       "      <td>8091</td>\n",
       "      <td>51.462211</td>\n",
       "      <td>0.029557</td>\n",
       "      <td>51.487034</td>\n",
       "      <td>0.022075</td>\n",
       "      <td>5361.4</td>\n",
       "      <td>341.8</td>\n",
       "    </tr>\n",
       "    <tr>\n",
       "      <th>...</th>\n",
       "      <td>...</td>\n",
       "      <td>...</td>\n",
       "      <td>...</td>\n",
       "      <td>...</td>\n",
       "      <td>...</td>\n",
       "      <td>...</td>\n",
       "      <td>...</td>\n",
       "    </tr>\n",
       "    <tr>\n",
       "      <th>38093</th>\n",
       "      <td>139047091</td>\n",
       "      <td>51.562286</td>\n",
       "      <td>-0.083475</td>\n",
       "      <td>51.562023</td>\n",
       "      <td>-0.076535</td>\n",
       "      <td>3905.5</td>\n",
       "      <td>603.8</td>\n",
       "    </tr>\n",
       "    <tr>\n",
       "      <th>38094</th>\n",
       "      <td>139050091</td>\n",
       "      <td>51.448246</td>\n",
       "      <td>-0.113742</td>\n",
       "      <td>51.425984</td>\n",
       "      <td>-0.105596</td>\n",
       "      <td>2861.0</td>\n",
       "      <td>466.1</td>\n",
       "    </tr>\n",
       "    <tr>\n",
       "      <th>38095</th>\n",
       "      <td>139051091</td>\n",
       "      <td>51.489762</td>\n",
       "      <td>0.089122</td>\n",
       "      <td>51.470699</td>\n",
       "      <td>0.045140</td>\n",
       "      <td>5537.9</td>\n",
       "      <td>591.7</td>\n",
       "    </tr>\n",
       "    <tr>\n",
       "      <th>38096</th>\n",
       "      <td>139055091</td>\n",
       "      <td>51.562049</td>\n",
       "      <td>0.067617</td>\n",
       "      <td>51.562121</td>\n",
       "      <td>0.089984</td>\n",
       "      <td>2545.0</td>\n",
       "      <td>264.9</td>\n",
       "    </tr>\n",
       "    <tr>\n",
       "      <th>38097</th>\n",
       "      <td>139058091</td>\n",
       "      <td>51.389227</td>\n",
       "      <td>-0.304443</td>\n",
       "      <td>51.392058</td>\n",
       "      <td>-0.298276</td>\n",
       "      <td>790.1</td>\n",
       "      <td>126.5</td>\n",
       "    </tr>\n",
       "  </tbody>\n",
       "</table>\n",
       "<p>38098 rows × 7 columns</p>\n",
       "</div>"
      ],
      "text/plain": [
       "      IncidentNumber   Latitude  Longitude  Latitude_Station  \\\n",
       "0          235138081  51.475812  -0.148894         51.467137   \n",
       "1               2091  51.633342  -0.068488         51.627218   \n",
       "2               3091  51.533882  -0.448089         51.531532   \n",
       "3               5091  51.551441  -0.111120         51.561769   \n",
       "4               8091  51.462211   0.029557         51.487034   \n",
       "...              ...        ...        ...               ...   \n",
       "38093      139047091  51.562286  -0.083475         51.562023   \n",
       "38094      139050091  51.448246  -0.113742         51.425984   \n",
       "38095      139051091  51.489762   0.089122         51.470699   \n",
       "38096      139055091  51.562049   0.067617         51.562121   \n",
       "38097      139058091  51.389227  -0.304443         51.392058   \n",
       "\n",
       "       Longitude_Station  dst_StationIncident  tempsAPI  \n",
       "0              -0.169264               2250.5     280.8  \n",
       "1              -0.069090               1071.1     179.3  \n",
       "2              -0.451352                917.9     121.6  \n",
       "3              -0.116434               1362.0     229.6  \n",
       "4               0.022075               5361.4     341.8  \n",
       "...                  ...                  ...       ...  \n",
       "38093          -0.076535               3905.5     603.8  \n",
       "38094          -0.105596               2861.0     466.1  \n",
       "38095           0.045140               5537.9     591.7  \n",
       "38096           0.089984               2545.0     264.9  \n",
       "38097          -0.298276                790.1     126.5  \n",
       "\n",
       "[38098 rows x 7 columns]"
      ]
     },
     "execution_count": 89,
     "metadata": {},
     "output_type": "execute_result"
    }
   ],
   "source": [
    "list_df[0]"
   ]
  },
  {
   "cell_type": "code",
   "execution_count": 90,
   "id": "0e736b58",
   "metadata": {
    "scrolled": true
   },
   "outputs": [
    {
     "data": {
      "text/plain": [
       "[      IncidentNumber   Latitude  Longitude  Latitude_Station  \\\n",
       " 0          235138081  51.475812  -0.148894         51.467137   \n",
       " 1               2091  51.633342  -0.068488         51.627218   \n",
       " 2               3091  51.533882  -0.448089         51.531532   \n",
       " 3               5091  51.551441  -0.111120         51.561769   \n",
       " 4               8091  51.462211   0.029557         51.487034   \n",
       " ...              ...        ...        ...               ...   \n",
       " 38093      139047091  51.562286  -0.083475         51.562023   \n",
       " 38094      139050091  51.448246  -0.113742         51.425984   \n",
       " 38095      139051091  51.489762   0.089122         51.470699   \n",
       " 38096      139055091  51.562049   0.067617         51.562121   \n",
       " 38097      139058091  51.389227  -0.304443         51.392058   \n",
       " \n",
       "        Longitude_Station  dst_StationIncident  tempsAPI  \n",
       " 0              -0.169264               2250.5     280.8  \n",
       " 1              -0.069090               1071.1     179.3  \n",
       " 2              -0.451352                917.9     121.6  \n",
       " 3              -0.116434               1362.0     229.6  \n",
       " 4               0.022075               5361.4     341.8  \n",
       " ...                  ...                  ...       ...  \n",
       " 38093          -0.076535               3905.5     603.8  \n",
       " 38094          -0.105596               2861.0     466.1  \n",
       " 38095           0.045140               5537.9     591.7  \n",
       " 38096           0.089984               2545.0     264.9  \n",
       " 38097          -0.298276                790.1     126.5  \n",
       " \n",
       " [38098 rows x 7 columns],\n",
       "       IncidentNumber   Latitude  Longitude  Latitude_Station  \\\n",
       " 38098      139059091  51.520994  -0.133743         51.512491   \n",
       " 38099      139064091  51.492816  -0.142573         51.493095   \n",
       " 38100      139068091  51.631135  -0.298270         51.615246   \n",
       " 38101      139074091  51.399747  -0.146402         51.406902   \n",
       " 38102      139077091  51.663214  -0.103699         51.660218   \n",
       " ...              ...        ...        ...               ...   \n",
       " 76190       47424101  51.484948  -0.083378         51.486931   \n",
       " 76191       47430101  51.488732  -0.076104         51.486931   \n",
       " 76192       47435101  51.435332  -0.045127         51.442525   \n",
       " 76193       47437101  51.514159  -0.134311         51.512491   \n",
       " 76194       47440101  51.373215  -0.100664         51.369071   \n",
       " \n",
       "        Longitude_Station  \n",
       " 38098          -0.130055  \n",
       " 38099          -0.122249  \n",
       " 38100          -0.243469  \n",
       " 38101          -0.121108  \n",
       " 38102          -0.051989  \n",
       " ...                  ...  \n",
       " 76190          -0.073523  \n",
       " 76191          -0.073523  \n",
       " 76192          -0.045050  \n",
       " 76193          -0.130055  \n",
       " 76194          -0.105174  \n",
       " \n",
       " [38097 rows x 5 columns],\n",
       "        IncidentNumber   Latitude  Longitude  Latitude_Station  \\\n",
       " 76195        47442101  51.372881  -0.100591         51.369071   \n",
       " 76196        47444101  51.453112  -0.429829         51.536129   \n",
       " 76197        47445101  51.511175  -0.135543         51.512491   \n",
       " 76198        47449101  51.421931  -0.200004         51.415558   \n",
       " 76199        47454101  51.453028  -0.429645         51.536129   \n",
       " ...               ...        ...        ...               ...   \n",
       " 114287      186928101  51.411698  -0.191864         51.397121   \n",
       " 114288      186934101  51.583513  -0.093625         51.592478   \n",
       " 114289      186938101  51.539959   0.161637         51.559509   \n",
       " 114290      186939101  51.675570  -0.043969         51.660218   \n",
       " 114291      186946101  51.523634  -0.181625         51.502216   \n",
       " \n",
       "         Longitude_Station  \n",
       " 76195           -0.105174  \n",
       " 76196           -0.135446  \n",
       " 76197           -0.130055  \n",
       " 76198           -0.197346  \n",
       " 76199           -0.135446  \n",
       " ...                   ...  \n",
       " 114287          -0.172802  \n",
       " 114288          -0.071637  \n",
       " 114289           0.156807  \n",
       " 114290          -0.051989  \n",
       " 114291          -0.189648  \n",
       " \n",
       " [38097 rows x 5 columns],\n",
       "        IncidentNumber   Latitude  Longitude  Latitude_Station  \\\n",
       " 114292      186947101  51.411698  -0.191864         51.415558   \n",
       " 114293      186951101  51.518933  -0.196298         51.520220   \n",
       " 114294      186950101  51.459008   0.079871         51.450649   \n",
       " 114295      186954101  51.568965   0.143790         51.559509   \n",
       " 114296      186956101  51.397942  -0.289027         51.429444   \n",
       " ...               ...        ...        ...               ...   \n",
       " 152384      112680111  51.373118  -0.120840         51.369071   \n",
       " 152385      112682111  51.561298   0.147008         51.559509   \n",
       " 152386      112683111  51.379930   0.102769         51.371933   \n",
       " 152387      112686111  51.375166  -0.095080         51.385860   \n",
       " 152388      112688111  51.462247  -0.188989         51.456522   \n",
       " \n",
       "         Longitude_Station  \n",
       " 114292          -0.197346  \n",
       " 114293          -0.183015  \n",
       " 114294           0.059202  \n",
       " 114295           0.156807  \n",
       " 114296          -0.306595  \n",
       " ...                   ...  \n",
       " 152384          -0.105174  \n",
       " 152385           0.156807  \n",
       " 152386           0.110864  \n",
       " 152387          -0.062312  \n",
       " 152388          -0.201437  \n",
       " \n",
       " [38097 rows x 5 columns],\n",
       "        IncidentNumber   Latitude  Longitude  Latitude_Station  \\\n",
       " 152389      112692111  51.565183  -0.216976         51.551785   \n",
       " 152390      112694111  51.475145  -0.384247         51.474977   \n",
       " 152391      112695111  51.523060  -0.125745         51.527725   \n",
       " 152392      112698111  51.482643  -0.451413         51.480152   \n",
       " 152393      112703111  51.541562   0.082480         51.529808   \n",
       " ...               ...        ...        ...               ...   \n",
       " 190481       46511121  51.412692  -0.145548         51.406902   \n",
       " 190482       46512121  51.520245  -0.170113         51.520220   \n",
       " 190483       46515121  51.543096  -0.260643         51.535322   \n",
       " 190484       46521121  51.513992  -0.159597         51.512491   \n",
       " 190485       46526121  51.592623  -0.039175         51.589723   \n",
       " \n",
       "         Longitude_Station  \n",
       " 152389          -0.192907  \n",
       " 152390          -0.343271  \n",
       " 152391          -0.130642  \n",
       " 152392          -0.458775  \n",
       " 152393           0.088927  \n",
       " ...                   ...  \n",
       " 190481          -0.121108  \n",
       " 190482          -0.183015  \n",
       " 190483          -0.262073  \n",
       " 190484          -0.130055  \n",
       " 190485          -0.028703  \n",
       " \n",
       " [38097 rows x 5 columns],\n",
       "        IncidentNumber   Latitude  Longitude  Latitude_Station  \\\n",
       " 190486       46527121  51.470353  -0.458452         51.480152   \n",
       " 190487       46531121  51.478636  -0.051269         51.473603   \n",
       " 190488       46538121  51.502486  -0.110653         51.493095   \n",
       " 190489       46539121  51.452239  -0.213666         51.456522   \n",
       " 190490       46546121  51.583621  -0.020335         51.589723   \n",
       " ...               ...        ...        ...               ...   \n",
       " 228578        6774131  51.616771  -0.242516         51.588906   \n",
       " 228579        6781131  51.560332   0.071709         51.562121   \n",
       " 228580        6786131  51.452239  -0.213666         51.456522   \n",
       " 228581        6788131  51.542246  -0.057507         51.548578   \n",
       " 228582        6798131  51.478577   0.048718         51.487034   \n",
       " \n",
       "         Longitude_Station  \n",
       " 190486          -0.458775  \n",
       " 190487          -0.049266  \n",
       " 190488          -0.122249  \n",
       " 190489          -0.201437  \n",
       " 190490          -0.028703  \n",
       " ...                   ...  \n",
       " 228578          -0.228753  \n",
       " 228579           0.089984  \n",
       " 228580          -0.201437  \n",
       " 228581          -0.043865  \n",
       " 228582           0.022075  \n",
       " \n",
       " [38097 rows x 5 columns],\n",
       "        IncidentNumber   Latitude  Longitude  Latitude_Station  \\\n",
       " 228583        6797131  51.490269  -0.173936         51.487231   \n",
       " 228584        6800131  51.551036   0.161772         51.559509   \n",
       " 228585        6801131  51.538261  -0.077029         51.562023   \n",
       " 228586        6803131  51.589714  -0.146144         51.586510   \n",
       " 228587        6806131  51.520088  -0.164656         51.520220   \n",
       " ...               ...        ...        ...               ...   \n",
       " 266675      150588131  51.610706  -0.078751         51.627218   \n",
       " 266676      150600131  51.603922  -0.173104         51.598092   \n",
       " 266677      150609131  51.526958  -0.094690         51.526472   \n",
       " 266678      150610131  51.526135  -0.131861         51.527725   \n",
       " 266679      150615131  51.520975  -0.191691         51.520220   \n",
       " \n",
       "         Longitude_Station  \n",
       " 228583          -0.170159  \n",
       " 228584           0.156807  \n",
       " 228585          -0.076535  \n",
       " 228586          -0.127263  \n",
       " 228587          -0.183015  \n",
       " ...                   ...  \n",
       " 266675          -0.069090  \n",
       " 266676          -0.179071  \n",
       " 266677          -0.085432  \n",
       " 266678          -0.130642  \n",
       " 266679          -0.183015  \n",
       " \n",
       " [38097 rows x 5 columns],\n",
       "        IncidentNumber   Latitude  Longitude  Latitude_Station  \\\n",
       " 266680      150621131  51.512900  -0.039458         51.510833   \n",
       " 266681      150623131  51.534171  -0.345563         51.511247   \n",
       " 266682      150629131  51.534171  -0.345563         51.511247   \n",
       " 266683      150630131  51.560591   0.078920         51.562121   \n",
       " 266684      150632131  51.511547  -0.234565         51.496332   \n",
       " ...               ...        ...        ...               ...   \n",
       " 304772      111580141  51.398747  -0.178962         51.397121   \n",
       " 304773      111581141  51.507804  -0.137294         51.512491   \n",
       " 304774      111587141  51.426444  -0.140532         51.406902   \n",
       " 304775      111591141  51.412863  -0.051334         51.408005   \n",
       " 304776      111594141  51.530060  -0.141792         51.512491   \n",
       " \n",
       "         Longitude_Station  \n",
       " 266680          -0.015791  \n",
       " 266681          -0.374388  \n",
       " 266682          -0.374388  \n",
       " 266683           0.089984  \n",
       " 266684          -0.223872  \n",
       " ...                   ...  \n",
       " 304772          -0.172802  \n",
       " 304773          -0.130055  \n",
       " 304774          -0.121108  \n",
       " 304775          -0.033984  \n",
       " 304776          -0.130055  \n",
       " \n",
       " [38097 rows x 5 columns],\n",
       "        IncidentNumber   Latitude  Longitude  Latitude_Station  \\\n",
       " 304777      111597141  51.474369  -0.022550         51.474079   \n",
       " 304778      111602141  51.564469  -0.069085         51.562023   \n",
       " 304779      111608141  51.478777  -0.138521         51.464994   \n",
       " 304780      111617141  51.519102  -0.047912         51.510870   \n",
       " 304781      111618141  51.516375  -0.069505         51.515230   \n",
       " ...               ...        ...        ...               ...   \n",
       " 342869       73345151  51.625348  -0.061431         51.627218   \n",
       " 342870       73348151  51.502690  -0.231607         51.496332   \n",
       " 342871       73349151  51.485833  -0.113027         51.463652   \n",
       " 342872       73350151  51.534147  -0.250877         51.535322   \n",
       " 342873       73353151  51.424842  -0.047027         51.442525   \n",
       " \n",
       "         Longitude_Station  \n",
       " 304777          -0.013630  \n",
       " 304778          -0.076535  \n",
       " 304779          -0.140953  \n",
       " 304780          -0.055801  \n",
       " 304781          -0.069366  \n",
       " ...                   ...  \n",
       " 342869          -0.069090  \n",
       " 342870          -0.223872  \n",
       " 342871          -0.109363  \n",
       " 342872          -0.262073  \n",
       " 342873          -0.045050  \n",
       " \n",
       " [38097 rows x 5 columns],\n",
       "          IncidentNumber   Latitude  Longitude  Latitude_Station  \\\n",
       " 342874         73358151  51.504185  -0.103407         51.510415   \n",
       " 342875         73359151  51.461442  -0.196867         51.456522   \n",
       " 342876         73364151  51.630862  -0.309276         51.615246   \n",
       " 342877         73367151  51.514400   0.029831         51.520203   \n",
       " 342878         73372151  51.518907  -0.146210         51.527725   \n",
       " ...                 ...        ...        ...               ...   \n",
       " 380966  030576-15032016  51.592945  -0.035812         51.589723   \n",
       " 380967  030580-15032016  51.451491   0.050225         51.456546   \n",
       " 380968  030583-15032016  51.345664  -0.071704         51.351839   \n",
       " 380969  030585-15032016  51.522543  -0.135006         51.527725   \n",
       " 380970  030586-15032016  51.511644  -0.135639         51.512491   \n",
       " \n",
       "         Longitude_Station  \n",
       " 342874          -0.089807  \n",
       " 342875          -0.201437  \n",
       " 342876          -0.243469  \n",
       " 342877           0.031673  \n",
       " 342878          -0.130642  \n",
       " ...                   ...  \n",
       " 380966          -0.028703  \n",
       " 380967           0.012620  \n",
       " 380968          -0.023980  \n",
       " 380969          -0.130642  \n",
       " 380970          -0.130055  \n",
       " \n",
       " [38097 rows x 5 columns],\n",
       "          IncidentNumber   Latitude  Longitude  Latitude_Station  \\\n",
       " 380971  030587-15032016  51.509365  -0.233568         51.507042   \n",
       " 380972  030592-15032016  51.516798  -0.127242         51.512491   \n",
       " 380973  030593-15032016  51.586041   0.081915         51.562121   \n",
       " 380974  030595-15032016  51.522397  -0.110723         51.527725   \n",
       " 380975  030597-15032016  51.626278   0.012064         51.629560   \n",
       " ...                 ...        ...        ...               ...   \n",
       " 419063  157762-20112016  51.461668  -0.116269         51.463652   \n",
       " 419064  157774-20112016  51.427092  -0.029943         51.442525   \n",
       " 419065  157779-20112016  51.470274  -0.128615         51.463652   \n",
       " 419066  157781-20112016  51.501721   0.102739         51.470699   \n",
       " 419067  157783-20112016  51.513459  -0.133807         51.512491   \n",
       " \n",
       "         Longitude_Station  \n",
       " 380971          -0.276903  \n",
       " 380972          -0.130055  \n",
       " 380973           0.089984  \n",
       " 380974          -0.130642  \n",
       " 380975          -0.004797  \n",
       " ...                   ...  \n",
       " 419063          -0.109363  \n",
       " 419064          -0.045050  \n",
       " 419065          -0.109363  \n",
       " 419066           0.045140  \n",
       " 419067          -0.130055  \n",
       " \n",
       " [38097 rows x 5 columns],\n",
       "          IncidentNumber   Latitude  Longitude  Latitude_Station  \\\n",
       " 419068  157787-20112016  51.529186  -0.015949         51.527881   \n",
       " 419069  157795-20112016  51.521231  -0.151579         51.527725   \n",
       " 419070  157796-20112016  51.461634  -0.116371         51.464994   \n",
       " 419071  157798-20112016  51.571029  -0.339074         51.554663   \n",
       " 419072  157799-20112016  51.572045  -0.197616         51.551785   \n",
       " ...                 ...        ...        ...               ...   \n",
       " 457160  111147-17082017  51.512249  -0.136926         51.512491   \n",
       " 457161  111150-17082017  51.504476  -0.474706         51.480152   \n",
       " 457162  111155-17082017  51.354891  -0.125450         51.362348   \n",
       " 457163  111159-17082017  51.479697   0.103799         51.470699   \n",
       " 457164  111163-17082017  51.501130  -0.162277         51.487231   \n",
       " \n",
       "         Longitude_Station  \n",
       " 419068          -0.053345  \n",
       " 419069          -0.130642  \n",
       " 419070          -0.140953  \n",
       " 419071          -0.359548  \n",
       " 419072          -0.192907  \n",
       " ...                   ...  \n",
       " 457160          -0.130055  \n",
       " 457161          -0.458775  \n",
       " 457162          -0.148206  \n",
       " 457163           0.045140  \n",
       " 457164          -0.170159  \n",
       " \n",
       " [38097 rows x 5 columns],\n",
       "          IncidentNumber   Latitude  Longitude  Latitude_Station  \\\n",
       " 457165  111167-17082017  51.608296  -0.002827         51.629560   \n",
       " 457166  111168-17082017  51.460947  -0.304119         51.467464   \n",
       " 457167  111173-17082017  51.517515  -0.065046         51.515230   \n",
       " 457168  111176-17082017  51.494254  -0.013592         51.500806   \n",
       " 457169  111183-17082017  51.470281  -0.458469         51.480152   \n",
       " ...                 ...        ...        ...               ...   \n",
       " 495257  067719-29052018  51.510358  -0.121314         51.493095   \n",
       " 495258  067721-29052018  51.400581  -0.264712         51.399072   \n",
       " 495259  067722-29052018  51.454724  -0.007954         51.457119   \n",
       " 495260  067723-29052018  51.565644   0.218388         51.598368   \n",
       " 495261  067727-29052018  51.520840  -0.151321         51.512491   \n",
       " \n",
       "         Longitude_Station  \n",
       " 457165          -0.004797  \n",
       " 457166          -0.284855  \n",
       " 457167          -0.069366  \n",
       " 457168          -0.025702  \n",
       " 457169          -0.458775  \n",
       " ...                   ...  \n",
       " 495257          -0.122249  \n",
       " 495258          -0.245344  \n",
       " 495259          -0.013364  \n",
       " 495260           0.223557  \n",
       " 495261          -0.130055  \n",
       " \n",
       " [38097 rows x 5 columns],\n",
       "          IncidentNumber   Latitude  Longitude  Latitude_Station  \\\n",
       " 495262  067730-29052018  51.610700  -0.109919         51.630511   \n",
       " 495263  067736-29052018  51.436562   0.007015         51.457119   \n",
       " 495264  067740-29052018  51.513324  -0.298183         51.511679   \n",
       " 495265  067743-29052018  51.652371  -0.080941         51.660218   \n",
       " 495266  067748-29052018  51.591896  -0.070522         51.589723   \n",
       " ...                 ...        ...        ...               ...   \n",
       " 533354  019116-15022019  51.344851  -0.009970         51.351839   \n",
       " 533355  019121-15022019  51.557835  -0.074773         51.562023   \n",
       " 533356  019128-15022019  51.508387  -0.277566         51.507042   \n",
       " 533357  019134-15022019  51.501696  -0.285407         51.490467   \n",
       " 533358  019136-15022019  51.594915  -0.108974         51.586510   \n",
       " \n",
       "         Longitude_Station  \n",
       " 495262          -0.127387  \n",
       " 495263          -0.013364  \n",
       " 495264          -0.314720  \n",
       " 495265          -0.051989  \n",
       " 495266          -0.028703  \n",
       " ...                   ...  \n",
       " 533354          -0.023980  \n",
       " 533355          -0.076535  \n",
       " 533356          -0.276903  \n",
       " 533357          -0.268940  \n",
       " 533358          -0.127263  \n",
       " \n",
       " [38097 rows x 5 columns],\n",
       "          IncidentNumber   Latitude  Longitude  Latitude_Station  \\\n",
       " 533359  019137-15022019  51.561853  -0.256345         51.544289   \n",
       " 533360  019138-15022019  51.506236  -0.102928         51.493095   \n",
       " 533361  019148-15022019  51.498166  -0.061414         51.486931   \n",
       " 533362  019152-15022019  51.617545  -0.063888         51.627218   \n",
       " 533363  019154-15022019  51.521229  -0.011317         51.510833   \n",
       " ...                 ...        ...        ...               ...   \n",
       " 571451  151062-06112019  51.387720   0.042057         51.407021   \n",
       " 571452  151067-06112019  51.552829  -0.241562         51.544289   \n",
       " 571453  151071-06112019  51.473213  -0.192188         51.477907   \n",
       " 571454  151072-06112019  51.527932  -0.019442         51.543719   \n",
       " 571455  151075-06112019  51.502010  -0.104882         51.510415   \n",
       " \n",
       "         Longitude_Station  \n",
       " 533359          -0.236311  \n",
       " 533360          -0.122249  \n",
       " 533361          -0.073523  \n",
       " 533362          -0.069090  \n",
       " 533363          -0.015791  \n",
       " ...                   ...  \n",
       " 571451           0.017033  \n",
       " 571452          -0.236311  \n",
       " 571453          -0.200913  \n",
       " 571454           0.011435  \n",
       " 571455          -0.089807  \n",
       " \n",
       " [38097 rows x 5 columns],\n",
       "          IncidentNumber   Latitude  Longitude  Latitude_Station  \\\n",
       " 571456  151077-06112019  51.457400  -0.454684         51.536129   \n",
       " 571457  151082-06112019  51.514045  -0.157232         51.512491   \n",
       " 571458  151085-06112019  51.598167  -0.119785         51.586510   \n",
       " 571459  151092-06112019  51.538128  -0.078822         51.526472   \n",
       " 571460  151094-06112019  51.498954  -0.015974         51.500806   \n",
       " ...                 ...        ...        ...               ...   \n",
       " 609548  116722-10092020  51.514698  -0.129368         51.512491   \n",
       " 609549  116723-10092020  51.681354  -0.052130         51.660218   \n",
       " 609550  116725-10092020  51.453401   0.075799         51.450649   \n",
       " 609551  116726-10092020  51.530088  -0.199001         51.551785   \n",
       " 609552  116735-10092020  51.643827  -0.108962         51.630511   \n",
       " \n",
       "         Longitude_Station  \n",
       " 571456          -0.135446  \n",
       " 571457          -0.130055  \n",
       " 571458          -0.127263  \n",
       " 571459          -0.085432  \n",
       " 571460          -0.025702  \n",
       " ...                   ...  \n",
       " 609548          -0.130055  \n",
       " 609549          -0.051989  \n",
       " 609550           0.059202  \n",
       " 609551          -0.192907  \n",
       " 609552          -0.127387  \n",
       " \n",
       " [38097 rows x 5 columns],\n",
       "          IncidentNumber   Latitude  Longitude  Latitude_Station  \\\n",
       " 609553  116737-10092020  51.453945  -0.249281         51.456522   \n",
       " 609554  116742-10092020  51.459876  -0.024113         51.457119   \n",
       " 609555  116743-10092020  51.516068  -0.123427         51.512491   \n",
       " 609556  116746-10092020  51.545991   0.053635         51.523553   \n",
       " 609557  116747-10092020  51.502952  -0.190089         51.502216   \n",
       " ...                 ...        ...        ...               ...   \n",
       " 647645  106853-12082021  51.478172  -0.038691         51.484856   \n",
       " 647646  106859-12082021  51.512981  -0.127970         51.527725   \n",
       " 647647  106864-12082021  51.508488   0.035216         51.520203   \n",
       " 647648  106867-12082021  51.510384  -0.123236         51.527725   \n",
       " 647649  106883-12082021  51.582694  -0.200001         51.588906   \n",
       " \n",
       "         Longitude_Station  \n",
       " 609553          -0.201437  \n",
       " 609554          -0.013364  \n",
       " 609555          -0.130055  \n",
       " 609556           0.057009  \n",
       " 609557          -0.189648  \n",
       " ...                   ...  \n",
       " 647645          -0.033834  \n",
       " 647646          -0.130642  \n",
       " 647647           0.031673  \n",
       " 647648          -0.130642  \n",
       " 647649          -0.228753  \n",
       " \n",
       " [38097 rows x 5 columns],\n",
       "          IncidentNumber   Latitude  Longitude  Latitude_Station  \\\n",
       " 647650  106884-12082021  51.526640  -0.067371         51.527881   \n",
       " 647651  106886-12082021  51.462574  -0.068030         51.474156   \n",
       " 647652  106895-12082021  51.537551  -0.451216         51.511247   \n",
       " 647653  106903-12082021  51.547218  -0.111739         51.540230   \n",
       " 647654  106907-12082021  51.407857  -0.287016         51.399072   \n",
       " ...                 ...        ...        ...               ...   \n",
       " 685742  077278-29052022  51.465524   0.030190         51.456546   \n",
       " 685743  077282-29052022  51.441864   0.117742         51.427120   \n",
       " 685744  077292-29052022  51.512036  -0.076800         51.515230   \n",
       " 685745  077298-29052022  51.524762  -0.207574         51.520220   \n",
       " 685746  077300-29052022  51.406130  -0.166361         51.415558   \n",
       " \n",
       "         Longitude_Station  \n",
       " 647650          -0.053345  \n",
       " 647651          -0.077889  \n",
       " 647652          -0.374388  \n",
       " 647653          -0.102384  \n",
       " 647654          -0.245344  \n",
       " ...                   ...  \n",
       " 685742           0.012620  \n",
       " 685743           0.094638  \n",
       " 685744          -0.069366  \n",
       " 685745          -0.183015  \n",
       " 685746          -0.197346  \n",
       " \n",
       " [38097 rows x 5 columns],\n",
       "          IncidentNumber   Latitude  Longitude  Latitude_Station  \\\n",
       " 685747  077312-29052022  51.488940  -0.169598         51.487231   \n",
       " 685748  077321-29052022  51.508935   0.025005         51.510833   \n",
       " 685749  077325-29052022  51.538321   0.155444         51.559509   \n",
       " 685750  077327-29052022  51.524509  -0.458278         51.531532   \n",
       " 685751  077328-29052022  51.490359   0.068583         51.470699   \n",
       " ...                 ...        ...        ...               ...   \n",
       " 723839  017946-05022023  51.552942  -0.025515         51.563036   \n",
       " 723840  017947-05022023  51.477327  -0.169870         51.487231   \n",
       " 723841  017948-05022023  51.607440  -0.154040         51.598092   \n",
       " 723842  017952-05022023  51.495514  -0.145563         51.493095   \n",
       " 723843  017953-05022023  51.606809  -0.124634         51.586510   \n",
       " \n",
       "         Longitude_Station  \n",
       " 685747          -0.170159  \n",
       " 685748          -0.015791  \n",
       " 685749           0.156807  \n",
       " 685750          -0.451352  \n",
       " 685751           0.045140  \n",
       " ...                   ...  \n",
       " 723839          -0.016020  \n",
       " 723840          -0.170159  \n",
       " 723841          -0.179071  \n",
       " 723842          -0.122249  \n",
       " 723843          -0.127263  \n",
       " \n",
       " [38097 rows x 5 columns],\n",
       "          IncidentNumber   Latitude  Longitude  Latitude_Station  \\\n",
       " 723844  017954-05022023  51.465463  -0.346999         51.474977   \n",
       " 723845  017960-05022023  51.522788  -0.086904         51.515230   \n",
       " 723846  017966-05022023  51.316377  -0.097773         51.331781   \n",
       " 723847  017967-05022023  51.598389  -0.023636         51.629560   \n",
       " 723848  017971-05022023  51.474388  -0.014663         51.474079   \n",
       " ...                 ...        ...        ...               ...   \n",
       " 761936  170366-31102023  51.344312  -0.189242         51.369017   \n",
       " 761937  170378-31102023  51.436663  -0.379106         51.435202   \n",
       " 761938  170381-31102023  51.510553  -0.084164         51.515230   \n",
       " 761939  170386-31102023  51.516491  -0.177415         51.520220   \n",
       " 761940  170393-31102023  51.532685  -0.125583         51.540230   \n",
       " \n",
       "         Longitude_Station  \n",
       " 723844          -0.343271  \n",
       " 723845          -0.069366  \n",
       " 723846          -0.124999  \n",
       " 723847          -0.004797  \n",
       " 723848          -0.013630  \n",
       " ...                   ...  \n",
       " 761936          -0.211087  \n",
       " 761937          -0.347573  \n",
       " 761938          -0.069366  \n",
       " 761939          -0.183015  \n",
       " 761940          -0.102384  \n",
       " \n",
       " [38097 rows x 5 columns]]"
      ]
     },
     "execution_count": 90,
     "metadata": {},
     "output_type": "execute_result"
    }
   ],
   "source": [
    "list_df"
   ]
  },
  {
   "cell_type": "markdown",
   "id": "bdc2d24f",
   "metadata": {},
   "source": [
    "## 2 eme "
   ]
  },
  {
   "cell_type": "code",
   "execution_count": 22,
   "id": "7f01ae69",
   "metadata": {
    "tags": [
     "raises-exception"
    ]
   },
   "outputs": [
    {
     "name": "stderr",
     "output_type": "stream",
     "text": [
      " 10%|▉         | 2134/22207 [17:46<2:47:12,  2.00it/s]"
     ]
    },
    {
     "name": "stdout",
     "output_type": "stream",
     "text": [
      "bad request index 24340\n"
     ]
    },
    {
     "name": "stderr",
     "output_type": "stream",
     "text": [
      " 14%|█▍        | 3134/22207 [26:06<2:38:24,  2.01it/s]"
     ]
    },
    {
     "name": "stdout",
     "output_type": "stream",
     "text": [
      "bad request index 25340\n"
     ]
    },
    {
     "name": "stderr",
     "output_type": "stream",
     "text": [
      " 17%|█▋        | 3869/22207 [32:14<2:31:56,  2.01it/s]"
     ]
    },
    {
     "name": "stdout",
     "output_type": "stream",
     "text": [
      "bad request index 26075\n"
     ]
    },
    {
     "name": "stderr",
     "output_type": "stream",
     "text": [
      " 20%|█▉        | 4383/22207 [36:31<2:33:34,  1.93it/s]"
     ]
    },
    {
     "name": "stdout",
     "output_type": "stream",
     "text": [
      "bad request index 26589\n"
     ]
    },
    {
     "name": "stderr",
     "output_type": "stream",
     "text": [
      " 30%|███       | 6695/22207 [55:47<2:09:42,  1.99it/s]"
     ]
    },
    {
     "name": "stdout",
     "output_type": "stream",
     "text": [
      "bad request index 28901\n"
     ]
    },
    {
     "name": "stderr",
     "output_type": "stream",
     "text": [
      " 42%|████▏     | 9359/22207 [1:17:59<1:46:51,  2.00it/s]"
     ]
    },
    {
     "name": "stdout",
     "output_type": "stream",
     "text": [
      "bad request index 31565\n"
     ]
    },
    {
     "name": "stderr",
     "output_type": "stream",
     "text": [
      " 57%|█████▋    | 12595/22207 [1:44:57<1:20:05,  2.00it/s]"
     ]
    },
    {
     "name": "stdout",
     "output_type": "stream",
     "text": [
      "bad request index 34801\n"
     ]
    },
    {
     "name": "stderr",
     "output_type": "stream",
     "text": [
      " 67%|██████▋   | 14822/22207 [2:03:31<1:01:32,  2.00it/s]"
     ]
    },
    {
     "name": "stdout",
     "output_type": "stream",
     "text": [
      "bad request index 37028\n"
     ]
    },
    {
     "name": "stderr",
     "output_type": "stream",
     "text": [
      " 73%|███████▎  | 16235/22207 [2:15:17<49:47,  2.00it/s]  "
     ]
    },
    {
     "name": "stdout",
     "output_type": "stream",
     "text": [
      "bad request index 38441\n"
     ]
    },
    {
     "name": "stderr",
     "output_type": "stream",
     "text": [
      " 75%|███████▍  | 16597/22207 [2:18:18<46:47,  2.00it/s]"
     ]
    },
    {
     "name": "stdout",
     "output_type": "stream",
     "text": [
      "bad request index 38803\n"
     ]
    },
    {
     "name": "stderr",
     "output_type": "stream",
     "text": [
      " 77%|███████▋  | 17107/22207 [2:22:33<43:03,  1.97it/s]"
     ]
    },
    {
     "name": "stdout",
     "output_type": "stream",
     "text": [
      "bad request index 39313\n"
     ]
    },
    {
     "name": "stderr",
     "output_type": "stream",
     "text": [
      " 87%|████████▋ | 19223/22207 [2:40:11<24:52,  2.00it/s]"
     ]
    },
    {
     "name": "stdout",
     "output_type": "stream",
     "text": [
      "bad request index 41429\n"
     ]
    },
    {
     "name": "stderr",
     "output_type": "stream",
     "text": [
      " 93%|█████████▎| 20573/22207 [2:51:26<13:35,  2.00it/s]"
     ]
    },
    {
     "name": "stdout",
     "output_type": "stream",
     "text": [
      "bad request index 42779\n"
     ]
    },
    {
     "name": "stderr",
     "output_type": "stream",
     "text": [
      " 97%|█████████▋| 21459/22207 [2:58:49<06:14,  2.00it/s]"
     ]
    },
    {
     "name": "stdout",
     "output_type": "stream",
     "text": [
      "bad request index 43665\n"
     ]
    },
    {
     "name": "stderr",
     "output_type": "stream",
     "text": [
      " 98%|█████████▊| 21749/22207 [3:01:14<03:49,  2.00it/s]"
     ]
    },
    {
     "name": "stdout",
     "output_type": "stream",
     "text": [
      "bad request index 43955\n"
     ]
    },
    {
     "name": "stderr",
     "output_type": "stream",
     "text": [
      " 99%|█████████▉| 21965/22207 [3:03:02<02:00,  2.00it/s]"
     ]
    },
    {
     "name": "stdout",
     "output_type": "stream",
     "text": [
      "bad request index 44171\n"
     ]
    },
    {
     "name": "stderr",
     "output_type": "stream",
     "text": [
      "100%|██████████| 22207/22207 [3:05:03<00:00,  2.00it/s]\n"
     ]
    }
   ],
   "source": [
    "# calcul de la distance en metres entre la station intervenant et le lieu de l'incident\n",
    "# Distance de la route la plus rapide qui est donnée\n",
    "#\n",
    "\n",
    "import requests\n",
    "from tqdm import tqdm\n",
    "\n",
    "distance_df2 = []\n",
    "temps_api_df2 = []\n",
    "\n",
    "for i in tqdm(list_df[1].index.values) :\n",
    "    \n",
    "    url = f\"http://router.project-osrm.org/route/v1/driving/{list_df[1].Longitude_Station[i]},{list_df[1].Latitude_Station[i]};{list_df[1].Longitude[i]},{list_df[1].Latitude[i]}?alternatives=false&overview=false&skip_waypoints=true\"\n",
    "    reponse = requests.get(url)\n",
    "    data = reponse.json()\n",
    "   \n",
    "    # si la requete n'a pas aboutie on met des NA\n",
    "    if reponse.status_code != 200:\n",
    "        print(\"bad request index\",i)\n",
    "        distance_df2.append(np.nan)\n",
    "        temps_api_df2.append(np.nan)\n",
    "\n",
    "\n",
    "    else :\n",
    "    # select le dico avec distance\n",
    "        dst = data['routes'][0]['distance']\n",
    "        temps = data['routes'][0]['duration']\n",
    "        distance_df2.append(dst)\n",
    "        temps_api_df2.append(temps)\n",
    "\n",
    "# mise en un dataframe des distance     \n",
    "dst_2 = pd.DataFrame(index = list_df[1].index, data = {'dst_StationIncident': distance_df2, 'tempsAPI' : temps_api_df2})    \n",
    "\n",
    "# ajout de la distance station-incident au dataframe ssgroupe\n",
    "list_df[1] = pd.concat([list_df[1], dst_2], axis = 1)\n",
    "\n",
    "\n",
    "# save de la liste de df\n",
    "\n",
    "with open(\"Data/df_dist/liste_df_API_dwell\", \"wb\") as fp:\n",
    "    pickle.dump(list_df,fp)\n",
    "\n"
   ]
  },
  {
   "cell_type": "markdown",
   "id": "e6ce001c",
   "metadata": {},
   "source": [
    "### 3 \n"
   ]
  },
  {
   "cell_type": "code",
   "execution_count": 24,
   "id": "55ea8f46",
   "metadata": {},
   "outputs": [
    {
     "data": {
      "text/html": [
       "<div>\n",
       "<style scoped>\n",
       "    .dataframe tbody tr th:only-of-type {\n",
       "        vertical-align: middle;\n",
       "    }\n",
       "\n",
       "    .dataframe tbody tr th {\n",
       "        vertical-align: top;\n",
       "    }\n",
       "\n",
       "    .dataframe thead th {\n",
       "        text-align: right;\n",
       "    }\n",
       "</style>\n",
       "<table border=\"1\" class=\"dataframe\">\n",
       "  <thead>\n",
       "    <tr style=\"text-align: right;\">\n",
       "      <th></th>\n",
       "      <th>IncidentNumber</th>\n",
       "      <th>Latitude</th>\n",
       "      <th>Longitude</th>\n",
       "      <th>Latitude_Station</th>\n",
       "      <th>Longitude_Station</th>\n",
       "      <th>dst_StationIncident</th>\n",
       "      <th>tempsAPI</th>\n",
       "    </tr>\n",
       "  </thead>\n",
       "  <tbody>\n",
       "    <tr>\n",
       "      <th>22207</th>\n",
       "      <td>117123-11092020</td>\n",
       "      <td>51.480806</td>\n",
       "      <td>-0.484281</td>\n",
       "      <td>51.480152</td>\n",
       "      <td>-0.458775</td>\n",
       "      <td>1976.5</td>\n",
       "      <td>187.4</td>\n",
       "    </tr>\n",
       "    <tr>\n",
       "      <th>22208</th>\n",
       "      <td>117125-11092020</td>\n",
       "      <td>51.498260</td>\n",
       "      <td>-0.025549</td>\n",
       "      <td>51.500806</td>\n",
       "      <td>-0.025702</td>\n",
       "      <td>333.0</td>\n",
       "      <td>74.6</td>\n",
       "    </tr>\n",
       "    <tr>\n",
       "      <th>22209</th>\n",
       "      <td>117128-11092020</td>\n",
       "      <td>51.596600</td>\n",
       "      <td>-0.273962</td>\n",
       "      <td>51.615246</td>\n",
       "      <td>-0.243469</td>\n",
       "      <td>3495.2</td>\n",
       "      <td>379.2</td>\n",
       "    </tr>\n",
       "    <tr>\n",
       "      <th>22210</th>\n",
       "      <td>117137-11092020</td>\n",
       "      <td>51.589688</td>\n",
       "      <td>-0.116869</td>\n",
       "      <td>51.586510</td>\n",
       "      <td>-0.127263</td>\n",
       "      <td>968.7</td>\n",
       "      <td>130.5</td>\n",
       "    </tr>\n",
       "    <tr>\n",
       "      <th>22211</th>\n",
       "      <td>117141-11092020</td>\n",
       "      <td>51.564958</td>\n",
       "      <td>-0.089033</td>\n",
       "      <td>51.562023</td>\n",
       "      <td>-0.076535</td>\n",
       "      <td>1811.5</td>\n",
       "      <td>285.4</td>\n",
       "    </tr>\n",
       "    <tr>\n",
       "      <th>...</th>\n",
       "      <td>...</td>\n",
       "      <td>...</td>\n",
       "      <td>...</td>\n",
       "      <td>...</td>\n",
       "      <td>...</td>\n",
       "      <td>...</td>\n",
       "      <td>...</td>\n",
       "    </tr>\n",
       "    <tr>\n",
       "      <th>44409</th>\n",
       "      <td>138809-15102021</td>\n",
       "      <td>51.519302</td>\n",
       "      <td>-0.216348</td>\n",
       "      <td>51.522730</td>\n",
       "      <td>-0.212848</td>\n",
       "      <td>645.9</td>\n",
       "      <td>92.4</td>\n",
       "    </tr>\n",
       "    <tr>\n",
       "      <th>44410</th>\n",
       "      <td>138813-15102021</td>\n",
       "      <td>51.345285</td>\n",
       "      <td>-0.073774</td>\n",
       "      <td>51.351839</td>\n",
       "      <td>-0.023980</td>\n",
       "      <td>4727.2</td>\n",
       "      <td>487.3</td>\n",
       "    </tr>\n",
       "    <tr>\n",
       "      <th>44411</th>\n",
       "      <td>138823-15102021</td>\n",
       "      <td>51.522254</td>\n",
       "      <td>-0.174429</td>\n",
       "      <td>51.520220</td>\n",
       "      <td>-0.183015</td>\n",
       "      <td>1113.6</td>\n",
       "      <td>175.3</td>\n",
       "    </tr>\n",
       "    <tr>\n",
       "      <th>44412</th>\n",
       "      <td>138825-15102021</td>\n",
       "      <td>51.577635</td>\n",
       "      <td>-0.150561</td>\n",
       "      <td>51.586510</td>\n",
       "      <td>-0.127263</td>\n",
       "      <td>2647.5</td>\n",
       "      <td>366.3</td>\n",
       "    </tr>\n",
       "    <tr>\n",
       "      <th>44413</th>\n",
       "      <td>138828-15102021</td>\n",
       "      <td>51.487627</td>\n",
       "      <td>-0.203181</td>\n",
       "      <td>51.477907</td>\n",
       "      <td>-0.200913</td>\n",
       "      <td>1687.6</td>\n",
       "      <td>258.6</td>\n",
       "    </tr>\n",
       "  </tbody>\n",
       "</table>\n",
       "<p>22207 rows × 7 columns</p>\n",
       "</div>"
      ],
      "text/plain": [
       "        IncidentNumber   Latitude  Longitude  Latitude_Station  \\\n",
       "22207  117123-11092020  51.480806  -0.484281         51.480152   \n",
       "22208  117125-11092020  51.498260  -0.025549         51.500806   \n",
       "22209  117128-11092020  51.596600  -0.273962         51.615246   \n",
       "22210  117137-11092020  51.589688  -0.116869         51.586510   \n",
       "22211  117141-11092020  51.564958  -0.089033         51.562023   \n",
       "...                ...        ...        ...               ...   \n",
       "44409  138809-15102021  51.519302  -0.216348         51.522730   \n",
       "44410  138813-15102021  51.345285  -0.073774         51.351839   \n",
       "44411  138823-15102021  51.522254  -0.174429         51.520220   \n",
       "44412  138825-15102021  51.577635  -0.150561         51.586510   \n",
       "44413  138828-15102021  51.487627  -0.203181         51.477907   \n",
       "\n",
       "       Longitude_Station  dst_StationIncident  tempsAPI  \n",
       "22207          -0.458775               1976.5     187.4  \n",
       "22208          -0.025702                333.0      74.6  \n",
       "22209          -0.243469               3495.2     379.2  \n",
       "22210          -0.127263                968.7     130.5  \n",
       "22211          -0.076535               1811.5     285.4  \n",
       "...                  ...                  ...       ...  \n",
       "44409          -0.212848                645.9      92.4  \n",
       "44410          -0.023980               4727.2     487.3  \n",
       "44411          -0.183015               1113.6     175.3  \n",
       "44412          -0.127263               2647.5     366.3  \n",
       "44413          -0.200913               1687.6     258.6  \n",
       "\n",
       "[22207 rows x 7 columns]"
      ]
     },
     "execution_count": 24,
     "metadata": {},
     "output_type": "execute_result"
    }
   ],
   "source": [
    "list_df[1]"
   ]
  },
  {
   "cell_type": "code",
   "execution_count": 23,
   "id": "e793c9cc",
   "metadata": {
    "tags": [
     "raises-exception"
    ]
   },
   "outputs": [
    {
     "name": "stderr",
     "output_type": "stream",
     "text": [
      "  4%|▍         | 930/22207 [07:44<2:57:12,  2.00it/s]"
     ]
    },
    {
     "name": "stdout",
     "output_type": "stream",
     "text": [
      "bad request index 45343\n"
     ]
    },
    {
     "name": "stderr",
     "output_type": "stream",
     "text": [
      " 13%|█▎        | 2810/22207 [23:25<2:41:20,  2.00it/s]"
     ]
    },
    {
     "name": "stdout",
     "output_type": "stream",
     "text": [
      "bad request index 47223\n"
     ]
    },
    {
     "name": "stderr",
     "output_type": "stream",
     "text": [
      " 14%|█▍        | 3151/22207 [26:16<2:38:16,  2.01it/s]"
     ]
    },
    {
     "name": "stdout",
     "output_type": "stream",
     "text": [
      "bad request index 47564\n"
     ]
    },
    {
     "name": "stderr",
     "output_type": "stream",
     "text": [
      " 23%|██▎       | 5181/22207 [43:11<2:21:38,  2.00it/s]"
     ]
    },
    {
     "name": "stdout",
     "output_type": "stream",
     "text": [
      "bad request index 49594\n"
     ]
    },
    {
     "name": "stderr",
     "output_type": "stream",
     "text": [
      " 28%|██▊       | 6185/22207 [51:33<2:13:25,  2.00it/s]"
     ]
    },
    {
     "name": "stdout",
     "output_type": "stream",
     "text": [
      "bad request index 50598\n"
     ]
    },
    {
     "name": "stderr",
     "output_type": "stream",
     "text": [
      " 39%|███▊      | 8581/22207 [1:11:31<1:53:24,  2.00it/s]"
     ]
    },
    {
     "name": "stdout",
     "output_type": "stream",
     "text": [
      "bad request index 52994\n"
     ]
    },
    {
     "name": "stderr",
     "output_type": "stream",
     "text": [
      " 42%|████▏     | 9216/22207 [1:16:48<1:48:05,  2.00it/s]"
     ]
    },
    {
     "name": "stdout",
     "output_type": "stream",
     "text": [
      "bad request index 53629\n"
     ]
    },
    {
     "name": "stderr",
     "output_type": "stream",
     "text": [
      " 49%|████▊     | 10815/22207 [1:30:08<1:34:57,  2.00it/s]"
     ]
    },
    {
     "name": "stdout",
     "output_type": "stream",
     "text": [
      "bad request index 55228\n"
     ]
    },
    {
     "name": "stderr",
     "output_type": "stream",
     "text": [
      " 57%|█████▋    | 12669/22207 [1:45:35<1:19:34,  2.00it/s]"
     ]
    },
    {
     "name": "stdout",
     "output_type": "stream",
     "text": [
      "bad request index 57082\n"
     ]
    },
    {
     "name": "stderr",
     "output_type": "stream",
     "text": [
      " 60%|█████▉    | 13250/22207 [1:50:25<1:14:37,  2.00it/s]"
     ]
    },
    {
     "name": "stdout",
     "output_type": "stream",
     "text": [
      "bad request index 57663\n"
     ]
    },
    {
     "name": "stderr",
     "output_type": "stream",
     "text": [
      " 63%|██████▎   | 14095/22207 [1:57:28<1:07:43,  2.00it/s]"
     ]
    },
    {
     "name": "stdout",
     "output_type": "stream",
     "text": [
      "bad request index 58508\n"
     ]
    },
    {
     "name": "stderr",
     "output_type": "stream",
     "text": [
      " 73%|███████▎  | 16139/22207 [2:14:30<50:10,  2.02it/s]  "
     ]
    },
    {
     "name": "stdout",
     "output_type": "stream",
     "text": [
      "bad request index 60552\n"
     ]
    },
    {
     "name": "stderr",
     "output_type": "stream",
     "text": [
      " 73%|███████▎  | 16303/22207 [2:15:52<49:09,  2.00it/s]"
     ]
    },
    {
     "name": "stdout",
     "output_type": "stream",
     "text": [
      "bad request index 60716\n"
     ]
    },
    {
     "name": "stderr",
     "output_type": "stream",
     "text": [
      " 76%|███████▌  | 16882/22207 [2:20:41<44:27,  2.00it/s]"
     ]
    },
    {
     "name": "stdout",
     "output_type": "stream",
     "text": [
      "bad request index 61295\n"
     ]
    },
    {
     "name": "stderr",
     "output_type": "stream",
     "text": [
      " 83%|████████▎ | 18462/22207 [2:33:51<31:08,  2.00it/s]"
     ]
    },
    {
     "name": "stdout",
     "output_type": "stream",
     "text": [
      "bad request index 62875\n"
     ]
    },
    {
     "name": "stderr",
     "output_type": "stream",
     "text": [
      " 84%|████████▍ | 18709/22207 [2:35:55<29:05,  2.00it/s]"
     ]
    },
    {
     "name": "stdout",
     "output_type": "stream",
     "text": [
      "bad request index 63122\n"
     ]
    },
    {
     "name": "stderr",
     "output_type": "stream",
     "text": [
      " 87%|████████▋ | 19315/22207 [2:40:58<24:02,  2.01it/s]"
     ]
    },
    {
     "name": "stdout",
     "output_type": "stream",
     "text": [
      "bad request index 63728\n"
     ]
    },
    {
     "name": "stderr",
     "output_type": "stream",
     "text": [
      " 92%|█████████▏| 20336/22207 [2:49:28<15:33,  2.00it/s]"
     ]
    },
    {
     "name": "stdout",
     "output_type": "stream",
     "text": [
      "bad request index 64749\n"
     ]
    },
    {
     "name": "stderr",
     "output_type": "stream",
     "text": [
      "100%|██████████| 22207/22207 [3:05:04<00:00,  2.00it/s]\n"
     ]
    }
   ],
   "source": [
    "# calcul de la distance en metres entre la station intervenant et le lieu de l'incident\n",
    "# Distance de la route la plus rapide qui est donnée\n",
    "#\n",
    "\n",
    "import requests\n",
    "from tqdm import tqdm\n",
    "\n",
    "distance_df3 = []\n",
    "temps_api_df3 = []\n",
    "\n",
    "for i in tqdm(list_df[2].index.values) :\n",
    "    \n",
    "    url = f\"http://router.project-osrm.org/route/v1/driving/{list_df[2].Longitude_Station[i]},{list_df[2].Latitude_Station[i]};{list_df[2].Longitude[i]},{list_df[2].Latitude[i]}?alternatives=false&overview=false&skip_waypoints=true\"\n",
    "    reponse = requests.get(url)\n",
    "    data = reponse.json()\n",
    "   \n",
    "    # si la requete n'a pas aboutie on met des NA\n",
    "    if reponse.status_code != 200:\n",
    "        print(\"bad request index\",i)\n",
    "        distance_df3.append(np.nan)\n",
    "        temps_api_df3.append(np.nan)\n",
    "\n",
    "\n",
    "    else :\n",
    "    # select le dico avec distance\n",
    "        dst = data['routes'][0]['distance']\n",
    "        temps = data['routes'][0]['duration']\n",
    "        distance_df3.append(dst)\n",
    "        temps_api_df3.append(temps)\n",
    "\n",
    "# mise en un dataframe des distance     \n",
    "dst_3 = pd.DataFrame(index = list_df[2].index, data = {'dst_StationIncident': distance_df3, 'tempsAPI' : temps_api_df3})    \n",
    "\n",
    "# ajout de la distance station-incident au dataframe ssgroupe\n",
    "list_df[2] = pd.concat([list_df[2], dst_3], axis = 1)\n",
    "\n",
    "\n",
    "# save de la liste de df\n",
    "\n",
    "with open(\"Data/df_dist/liste_df_API_dwell\", \"wb\") as fp:\n",
    "    pickle.dump(list_df,fp)\n",
    "\n"
   ]
  },
  {
   "cell_type": "code",
   "execution_count": 27,
   "id": "a7969bb2",
   "metadata": {},
   "outputs": [
    {
     "data": {
      "text/html": [
       "<div>\n",
       "<style scoped>\n",
       "    .dataframe tbody tr th:only-of-type {\n",
       "        vertical-align: middle;\n",
       "    }\n",
       "\n",
       "    .dataframe tbody tr th {\n",
       "        vertical-align: top;\n",
       "    }\n",
       "\n",
       "    .dataframe thead th {\n",
       "        text-align: right;\n",
       "    }\n",
       "</style>\n",
       "<table border=\"1\" class=\"dataframe\">\n",
       "  <thead>\n",
       "    <tr style=\"text-align: right;\">\n",
       "      <th></th>\n",
       "      <th>IncidentNumber</th>\n",
       "      <th>Latitude</th>\n",
       "      <th>Longitude</th>\n",
       "      <th>Latitude_Station</th>\n",
       "      <th>Longitude_Station</th>\n",
       "      <th>dst_StationIncident</th>\n",
       "      <th>tempsAPI</th>\n",
       "    </tr>\n",
       "  </thead>\n",
       "  <tbody>\n",
       "    <tr>\n",
       "      <th>44414</th>\n",
       "      <td>138835-15102021</td>\n",
       "      <td>51.487605</td>\n",
       "      <td>-0.201741</td>\n",
       "      <td>51.496332</td>\n",
       "      <td>-0.223872</td>\n",
       "      <td>2517.4</td>\n",
       "      <td>393.6</td>\n",
       "    </tr>\n",
       "    <tr>\n",
       "      <th>44415</th>\n",
       "      <td>138837-15102021</td>\n",
       "      <td>51.476449</td>\n",
       "      <td>-0.012091</td>\n",
       "      <td>51.474079</td>\n",
       "      <td>-0.013630</td>\n",
       "      <td>507.5</td>\n",
       "      <td>63.7</td>\n",
       "    </tr>\n",
       "    <tr>\n",
       "      <th>44416</th>\n",
       "      <td>138843-15102021</td>\n",
       "      <td>51.487627</td>\n",
       "      <td>-0.203181</td>\n",
       "      <td>51.477907</td>\n",
       "      <td>-0.200913</td>\n",
       "      <td>1687.6</td>\n",
       "      <td>258.6</td>\n",
       "    </tr>\n",
       "    <tr>\n",
       "      <th>44417</th>\n",
       "      <td>138857-15102021</td>\n",
       "      <td>51.544655</td>\n",
       "      <td>-0.169205</td>\n",
       "      <td>51.551785</td>\n",
       "      <td>-0.192907</td>\n",
       "      <td>2441.6</td>\n",
       "      <td>400.8</td>\n",
       "    </tr>\n",
       "    <tr>\n",
       "      <th>44418</th>\n",
       "      <td>138860-15102021</td>\n",
       "      <td>51.533764</td>\n",
       "      <td>-0.051408</td>\n",
       "      <td>51.527881</td>\n",
       "      <td>-0.053345</td>\n",
       "      <td>1275.5</td>\n",
       "      <td>210.9</td>\n",
       "    </tr>\n",
       "    <tr>\n",
       "      <th>...</th>\n",
       "      <td>...</td>\n",
       "      <td>...</td>\n",
       "      <td>...</td>\n",
       "      <td>...</td>\n",
       "      <td>...</td>\n",
       "      <td>...</td>\n",
       "      <td>...</td>\n",
       "    </tr>\n",
       "    <tr>\n",
       "      <th>66616</th>\n",
       "      <td>026996-22022022</td>\n",
       "      <td>51.476502</td>\n",
       "      <td>-0.124414</td>\n",
       "      <td>51.493095</td>\n",
       "      <td>-0.122249</td>\n",
       "      <td>2591.8</td>\n",
       "      <td>440.1</td>\n",
       "    </tr>\n",
       "    <tr>\n",
       "      <th>66617</th>\n",
       "      <td>026997-22022022</td>\n",
       "      <td>51.484377</td>\n",
       "      <td>0.100601</td>\n",
       "      <td>51.470699</td>\n",
       "      <td>0.045140</td>\n",
       "      <td>6209.1</td>\n",
       "      <td>653.1</td>\n",
       "    </tr>\n",
       "    <tr>\n",
       "      <th>66618</th>\n",
       "      <td>026998-22022022</td>\n",
       "      <td>51.528020</td>\n",
       "      <td>-0.084813</td>\n",
       "      <td>51.526472</td>\n",
       "      <td>-0.085432</td>\n",
       "      <td>578.9</td>\n",
       "      <td>110.2</td>\n",
       "    </tr>\n",
       "    <tr>\n",
       "      <th>66619</th>\n",
       "      <td>026999-22022022</td>\n",
       "      <td>51.552635</td>\n",
       "      <td>-0.050602</td>\n",
       "      <td>51.548578</td>\n",
       "      <td>-0.043865</td>\n",
       "      <td>1086.1</td>\n",
       "      <td>167.6</td>\n",
       "    </tr>\n",
       "    <tr>\n",
       "      <th>66620</th>\n",
       "      <td>027002-22022022</td>\n",
       "      <td>51.401073</td>\n",
       "      <td>-0.075745</td>\n",
       "      <td>51.385860</td>\n",
       "      <td>-0.062312</td>\n",
       "      <td>2288.1</td>\n",
       "      <td>247.9</td>\n",
       "    </tr>\n",
       "  </tbody>\n",
       "</table>\n",
       "<p>22207 rows × 7 columns</p>\n",
       "</div>"
      ],
      "text/plain": [
       "        IncidentNumber   Latitude  Longitude  Latitude_Station  \\\n",
       "44414  138835-15102021  51.487605  -0.201741         51.496332   \n",
       "44415  138837-15102021  51.476449  -0.012091         51.474079   \n",
       "44416  138843-15102021  51.487627  -0.203181         51.477907   \n",
       "44417  138857-15102021  51.544655  -0.169205         51.551785   \n",
       "44418  138860-15102021  51.533764  -0.051408         51.527881   \n",
       "...                ...        ...        ...               ...   \n",
       "66616  026996-22022022  51.476502  -0.124414         51.493095   \n",
       "66617  026997-22022022  51.484377   0.100601         51.470699   \n",
       "66618  026998-22022022  51.528020  -0.084813         51.526472   \n",
       "66619  026999-22022022  51.552635  -0.050602         51.548578   \n",
       "66620  027002-22022022  51.401073  -0.075745         51.385860   \n",
       "\n",
       "       Longitude_Station  dst_StationIncident  tempsAPI  \n",
       "44414          -0.223872               2517.4     393.6  \n",
       "44415          -0.013630                507.5      63.7  \n",
       "44416          -0.200913               1687.6     258.6  \n",
       "44417          -0.192907               2441.6     400.8  \n",
       "44418          -0.053345               1275.5     210.9  \n",
       "...                  ...                  ...       ...  \n",
       "66616          -0.122249               2591.8     440.1  \n",
       "66617           0.045140               6209.1     653.1  \n",
       "66618          -0.085432                578.9     110.2  \n",
       "66619          -0.043865               1086.1     167.6  \n",
       "66620          -0.062312               2288.1     247.9  \n",
       "\n",
       "[22207 rows x 7 columns]"
      ]
     },
     "execution_count": 27,
     "metadata": {},
     "output_type": "execute_result"
    }
   ],
   "source": [
    "list_df[2]"
   ]
  },
  {
   "cell_type": "markdown",
   "id": "377e477b",
   "metadata": {},
   "source": [
    "### 4 "
   ]
  },
  {
   "cell_type": "code",
   "execution_count": 28,
   "id": "2afec955",
   "metadata": {
    "tags": [
     "raises-exception"
    ]
   },
   "outputs": [
    {
     "name": "stderr",
     "output_type": "stream",
     "text": [
      "  6%|▌         | 1319/22207 [10:59<2:53:38,  2.00it/s]"
     ]
    },
    {
     "name": "stdout",
     "output_type": "stream",
     "text": [
      "bad request index 67939\n"
     ]
    },
    {
     "name": "stderr",
     "output_type": "stream",
     "text": [
      " 14%|█▍        | 3201/22207 [26:40<2:38:00,  2.00it/s]"
     ]
    },
    {
     "name": "stdout",
     "output_type": "stream",
     "text": [
      "bad request index 69821\n"
     ]
    },
    {
     "name": "stderr",
     "output_type": "stream",
     "text": [
      " 24%|██▎       | 5270/22207 [43:55<2:21:11,  2.00it/s]"
     ]
    },
    {
     "name": "stdout",
     "output_type": "stream",
     "text": [
      "bad request index 71890\n"
     ]
    },
    {
     "name": "stderr",
     "output_type": "stream",
     "text": [
      " 25%|██▍       | 5521/22207 [46:00<2:18:48,  2.00it/s]"
     ]
    },
    {
     "name": "stdout",
     "output_type": "stream",
     "text": [
      "bad request index 72141\n"
     ]
    },
    {
     "name": "stderr",
     "output_type": "stream",
     "text": [
      " 39%|███▉      | 8708/22207 [1:12:43<1:52:19,  2.00it/s]"
     ]
    },
    {
     "name": "stdout",
     "output_type": "stream",
     "text": [
      "bad request index 75328\n"
     ]
    },
    {
     "name": "stderr",
     "output_type": "stream",
     "text": [
      " 49%|████▉     | 10826/22207 [1:30:31<1:34:37,  2.00it/s] "
     ]
    },
    {
     "name": "stdout",
     "output_type": "stream",
     "text": [
      "bad request index 77446\n"
     ]
    },
    {
     "name": "stderr",
     "output_type": "stream",
     "text": [
      " 66%|██████▌   | 14576/22207 [2:01:49<1:03:27,  2.00it/s]"
     ]
    },
    {
     "name": "stdout",
     "output_type": "stream",
     "text": [
      "bad request index 81196\n"
     ]
    },
    {
     "name": "stderr",
     "output_type": "stream",
     "text": [
      " 77%|███████▋  | 17161/22207 [2:23:22<41:40,  2.02it/s]  "
     ]
    },
    {
     "name": "stdout",
     "output_type": "stream",
     "text": [
      "bad request index 83781\n"
     ]
    },
    {
     "name": "stderr",
     "output_type": "stream",
     "text": [
      " 79%|███████▉  | 17509/22207 [2:26:16<39:07,  2.00it/s]"
     ]
    },
    {
     "name": "stdout",
     "output_type": "stream",
     "text": [
      "bad request index 84129\n"
     ]
    },
    {
     "name": "stderr",
     "output_type": "stream",
     "text": [
      " 86%|████████▌ | 19151/22207 [2:39:57<25:23,  2.01it/s]"
     ]
    },
    {
     "name": "stdout",
     "output_type": "stream",
     "text": [
      "bad request index 85771\n"
     ]
    },
    {
     "name": "stderr",
     "output_type": "stream",
     "text": [
      " 96%|█████████▌| 21212/22207 [2:57:17<08:16,  2.00it/s]  "
     ]
    },
    {
     "name": "stdout",
     "output_type": "stream",
     "text": [
      "bad request index 87832\n"
     ]
    },
    {
     "name": "stderr",
     "output_type": "stream",
     "text": [
      "100%|██████████| 22207/22207 [3:05:34<00:00,  1.99it/s]\n"
     ]
    }
   ],
   "source": [
    "# calcul de la distance en metres entre la station intervenant et le lieu de l'incident\n",
    "# Distance de la route la plus rapide qui est donnée\n",
    "#\n",
    "\n",
    "import requests\n",
    "from tqdm import tqdm\n",
    "\n",
    "distance = []\n",
    "temps_api = []\n",
    "\n",
    "for i in tqdm(list_df[3].index.values) :\n",
    "    \n",
    "    url = f\"http://router.project-osrm.org/route/v1/driving/{list_df[3].Longitude_Station[i]},{list_df[3].Latitude_Station[i]};{list_df[3].Longitude[i]},{list_df[3].Latitude[i]}?alternatives=false&overview=false&skip_waypoints=true\"\n",
    "    reponse = requests.get(url)\n",
    "    data = reponse.json()\n",
    "   \n",
    "    # si la requete n'a pas aboutie on met des NA\n",
    "    if reponse.status_code != 200:\n",
    "        print(\"bad request index\",i)\n",
    "        distance.append(np.nan)\n",
    "        temps_api.append(np.nan)\n",
    "\n",
    "\n",
    "    else :\n",
    "    # select le dico avec distance\n",
    "        dst = data['routes'][0]['distance']\n",
    "        temps = data['routes'][0]['duration']\n",
    "        distance.append(dst)\n",
    "        temps_api.append(temps)\n",
    "\n",
    "# mise en un dataframe des distance     \n",
    "dst_4 = pd.DataFrame(index = list_df[3].index, data = {'dst_StationIncident': distance, 'tempsAPI' : temps_api})    \n",
    "\n",
    "# ajout de la distance station-incident au dataframe ssgroupe\n",
    "list_df[3] = pd.concat([list_df[3], dst_4], axis = 1)\n",
    "\n",
    "\n",
    "# save de la liste de df\n",
    "\n",
    "with open(\"Data/df_dist/liste_df_API_dwell\", \"wb\") as fp:\n",
    "    pickle.dump(list_df,fp)\n",
    "\n"
   ]
  },
  {
   "cell_type": "code",
   "execution_count": 32,
   "id": "7e372c3b",
   "metadata": {},
   "outputs": [
    {
     "data": {
      "text/html": [
       "<div>\n",
       "<style scoped>\n",
       "    .dataframe tbody tr th:only-of-type {\n",
       "        vertical-align: middle;\n",
       "    }\n",
       "\n",
       "    .dataframe tbody tr th {\n",
       "        vertical-align: top;\n",
       "    }\n",
       "\n",
       "    .dataframe thead th {\n",
       "        text-align: right;\n",
       "    }\n",
       "</style>\n",
       "<table border=\"1\" class=\"dataframe\">\n",
       "  <thead>\n",
       "    <tr style=\"text-align: right;\">\n",
       "      <th></th>\n",
       "      <th>IncidentNumber</th>\n",
       "      <th>Latitude</th>\n",
       "      <th>Longitude</th>\n",
       "      <th>Latitude_Station</th>\n",
       "      <th>Longitude_Station</th>\n",
       "    </tr>\n",
       "  </thead>\n",
       "  <tbody>\n",
       "    <tr>\n",
       "      <th>88828</th>\n",
       "      <td>101859-09072022</td>\n",
       "      <td>51.474556</td>\n",
       "      <td>-0.172014</td>\n",
       "      <td>51.467137</td>\n",
       "      <td>-0.169264</td>\n",
       "    </tr>\n",
       "    <tr>\n",
       "      <th>88829</th>\n",
       "      <td>101861-09072022</td>\n",
       "      <td>51.378191</td>\n",
       "      <td>-0.162922</td>\n",
       "      <td>51.397121</td>\n",
       "      <td>-0.172802</td>\n",
       "    </tr>\n",
       "    <tr>\n",
       "      <th>88830</th>\n",
       "      <td>101871-09072022</td>\n",
       "      <td>51.459150</td>\n",
       "      <td>0.152705</td>\n",
       "      <td>51.464485</td>\n",
       "      <td>0.155119</td>\n",
       "    </tr>\n",
       "    <tr>\n",
       "      <th>88831</th>\n",
       "      <td>101872-09072022</td>\n",
       "      <td>51.382530</td>\n",
       "      <td>0.113179</td>\n",
       "      <td>51.371933</td>\n",
       "      <td>0.110864</td>\n",
       "    </tr>\n",
       "    <tr>\n",
       "      <th>88832</th>\n",
       "      <td>101874-09072022</td>\n",
       "      <td>51.499076</td>\n",
       "      <td>-0.307906</td>\n",
       "      <td>51.511679</td>\n",
       "      <td>-0.314720</td>\n",
       "    </tr>\n",
       "    <tr>\n",
       "      <th>...</th>\n",
       "      <td>...</td>\n",
       "      <td>...</td>\n",
       "      <td>...</td>\n",
       "      <td>...</td>\n",
       "      <td>...</td>\n",
       "    </tr>\n",
       "    <tr>\n",
       "      <th>111029</th>\n",
       "      <td>183583-08112022</td>\n",
       "      <td>51.481475</td>\n",
       "      <td>-0.272552</td>\n",
       "      <td>51.490467</td>\n",
       "      <td>-0.268940</td>\n",
       "    </tr>\n",
       "    <tr>\n",
       "      <th>111030</th>\n",
       "      <td>183584-08112022</td>\n",
       "      <td>51.509502</td>\n",
       "      <td>0.000877</td>\n",
       "      <td>51.510833</td>\n",
       "      <td>-0.015791</td>\n",
       "    </tr>\n",
       "    <tr>\n",
       "      <th>111031</th>\n",
       "      <td>183586-08112022</td>\n",
       "      <td>51.551638</td>\n",
       "      <td>0.008496</td>\n",
       "      <td>51.543719</td>\n",
       "      <td>0.011435</td>\n",
       "    </tr>\n",
       "    <tr>\n",
       "      <th>111032</th>\n",
       "      <td>183590-08112022</td>\n",
       "      <td>51.519626</td>\n",
       "      <td>-0.178858</td>\n",
       "      <td>51.520220</td>\n",
       "      <td>-0.183015</td>\n",
       "    </tr>\n",
       "    <tr>\n",
       "      <th>111033</th>\n",
       "      <td>183591-08112022</td>\n",
       "      <td>51.427346</td>\n",
       "      <td>-0.201230</td>\n",
       "      <td>51.415558</td>\n",
       "      <td>-0.197346</td>\n",
       "    </tr>\n",
       "  </tbody>\n",
       "</table>\n",
       "<p>22206 rows × 5 columns</p>\n",
       "</div>"
      ],
      "text/plain": [
       "         IncidentNumber   Latitude  Longitude  Latitude_Station  \\\n",
       "88828   101859-09072022  51.474556  -0.172014         51.467137   \n",
       "88829   101861-09072022  51.378191  -0.162922         51.397121   \n",
       "88830   101871-09072022  51.459150   0.152705         51.464485   \n",
       "88831   101872-09072022  51.382530   0.113179         51.371933   \n",
       "88832   101874-09072022  51.499076  -0.307906         51.511679   \n",
       "...                 ...        ...        ...               ...   \n",
       "111029  183583-08112022  51.481475  -0.272552         51.490467   \n",
       "111030  183584-08112022  51.509502   0.000877         51.510833   \n",
       "111031  183586-08112022  51.551638   0.008496         51.543719   \n",
       "111032  183590-08112022  51.519626  -0.178858         51.520220   \n",
       "111033  183591-08112022  51.427346  -0.201230         51.415558   \n",
       "\n",
       "        Longitude_Station  \n",
       "88828           -0.169264  \n",
       "88829           -0.172802  \n",
       "88830            0.155119  \n",
       "88831            0.110864  \n",
       "88832           -0.314720  \n",
       "...                   ...  \n",
       "111029          -0.268940  \n",
       "111030          -0.015791  \n",
       "111031           0.011435  \n",
       "111032          -0.183015  \n",
       "111033          -0.197346  \n",
       "\n",
       "[22206 rows x 5 columns]"
      ]
     },
     "execution_count": 32,
     "metadata": {},
     "output_type": "execute_result"
    }
   ],
   "source": [
    "list_df[4]"
   ]
  },
  {
   "cell_type": "markdown",
   "id": "34233e5c",
   "metadata": {},
   "source": [
    "### 5 EME "
   ]
  },
  {
   "cell_type": "code",
   "execution_count": 84,
   "id": "89d43bcc",
   "metadata": {
    "tags": [
     "raises-exception"
    ]
   },
   "outputs": [
    {
     "name": "stderr",
     "output_type": "stream",
     "text": [
      "  9%|▊         | 1905/22206 [15:52<2:50:30,  1.98it/s]"
     ]
    },
    {
     "name": "stdout",
     "output_type": "stream",
     "text": [
      "bad request index 90732\n"
     ]
    },
    {
     "name": "stderr",
     "output_type": "stream",
     "text": [
      " 14%|█▍        | 3062/22206 [25:30<2:39:24,  2.00it/s]"
     ]
    },
    {
     "name": "stdout",
     "output_type": "stream",
     "text": [
      "bad request index 91889\n"
     ]
    },
    {
     "name": "stderr",
     "output_type": "stream",
     "text": [
      " 14%|█▍        | 3078/22206 [25:38<2:39:09,  2.00it/s]"
     ]
    },
    {
     "name": "stdout",
     "output_type": "stream",
     "text": [
      "bad request index 91905\n"
     ]
    },
    {
     "name": "stderr",
     "output_type": "stream",
     "text": [
      " 14%|█▍        | 3084/22206 [25:41<2:39:08,  2.00it/s]"
     ]
    },
    {
     "name": "stdout",
     "output_type": "stream",
     "text": [
      "bad request index 91911\n"
     ]
    },
    {
     "name": "stderr",
     "output_type": "stream",
     "text": [
      " 14%|█▍        | 3157/22206 [26:18<2:38:45,  2.00it/s]"
     ]
    },
    {
     "name": "stdout",
     "output_type": "stream",
     "text": [
      "bad request index 91984\n"
     ]
    },
    {
     "name": "stderr",
     "output_type": "stream",
     "text": [
      " 20%|██        | 4521/22206 [37:40<2:27:01,  2.00it/s]"
     ]
    },
    {
     "name": "stdout",
     "output_type": "stream",
     "text": [
      "bad request index 93348\n"
     ]
    },
    {
     "name": "stderr",
     "output_type": "stream",
     "text": [
      " 39%|███▊      | 8581/22206 [1:11:28<1:53:32,  2.00it/s]"
     ]
    },
    {
     "name": "stdout",
     "output_type": "stream",
     "text": [
      "bad request index 97408\n"
     ]
    },
    {
     "name": "stderr",
     "output_type": "stream",
     "text": [
      " 39%|███▉      | 8636/22206 [1:11:55<1:53:49,  1.99it/s]"
     ]
    },
    {
     "name": "stdout",
     "output_type": "stream",
     "text": [
      "bad request index 97463\n"
     ]
    },
    {
     "name": "stderr",
     "output_type": "stream",
     "text": [
      " 39%|███▉      | 8699/22206 [1:12:27<1:52:22,  2.00it/s]"
     ]
    },
    {
     "name": "stdout",
     "output_type": "stream",
     "text": [
      "bad request index 97526\n"
     ]
    },
    {
     "name": "stderr",
     "output_type": "stream",
     "text": [
      " 42%|████▏     | 9219/22206 [1:16:47<1:48:34,  1.99it/s]"
     ]
    },
    {
     "name": "stdout",
     "output_type": "stream",
     "text": [
      "bad request index 98046\n"
     ]
    },
    {
     "name": "stderr",
     "output_type": "stream",
     "text": [
      " 44%|████▍     | 9846/22206 [1:22:00<1:41:57,  2.02it/s]"
     ]
    },
    {
     "name": "stdout",
     "output_type": "stream",
     "text": [
      "bad request index 98673\n"
     ]
    },
    {
     "name": "stderr",
     "output_type": "stream",
     "text": [
      " 90%|████████▉ | 19875/22206 [2:46:16<19:28,  1.99it/s]   "
     ]
    },
    {
     "name": "stdout",
     "output_type": "stream",
     "text": [
      "bad request index 108702\n"
     ]
    },
    {
     "name": "stderr",
     "output_type": "stream",
     "text": [
      " 90%|█████████ | 20018/22206 [2:47:32<18:15,  2.00it/s]  "
     ]
    },
    {
     "name": "stdout",
     "output_type": "stream",
     "text": [
      "bad request index 108845\n"
     ]
    },
    {
     "name": "stderr",
     "output_type": "stream",
     "text": [
      "100%|██████████| 22206/22206 [3:05:57<00:00,  1.99it/s]\n"
     ]
    }
   ],
   "source": [
    "# calcul de la distance en metres entre la station intervenant et le lieu de l'incident\n",
    "# Distance de la route la plus rapide qui est donnée\n",
    "#\n",
    "\n",
    "import requests\n",
    "from tqdm import tqdm\n",
    "\n",
    "distance = []\n",
    "temps_api = []\n",
    "\n",
    "for i in tqdm(list_df[4].index.values) :\n",
    "    \n",
    "    url = f\"http://router.project-osrm.org/route/v1/driving/{list_df[4].Longitude_Station[i]},{list_df[4].Latitude_Station[i]};{list_df[4].Longitude[i]},{list_df[4].Latitude[i]}?alternatives=false&overview=false&skip_waypoints=true\"\n",
    "    reponse = requests.get(url)\n",
    "    data = reponse.json()\n",
    "   \n",
    "    # si la requete n'a pas aboutie on met des NA\n",
    "    if reponse.status_code != 200:\n",
    "        print(\"bad request index\",i)\n",
    "        distance.append(np.nan)\n",
    "        temps_api.append(np.nan)\n",
    "\n",
    "\n",
    "    else :\n",
    "    # select le dico avec distance\n",
    "        dst = data['routes'][0]['distance']\n",
    "        temps = data['routes'][0]['duration']\n",
    "        distance.append(dst)\n",
    "        temps_api.append(temps)\n",
    "\n",
    "# mise en un dataframe des distance     \n",
    "dst_5 = pd.DataFrame(index = list_df[4].index, data = {'dst_StationIncident': distance, 'tempsAPI' : temps_api})    \n",
    "\n",
    "# ajout de la distance station-incident au dataframe ssgroupe\n",
    "list_df[4] = pd.concat([list_df[4], dst_5], axis = 1)\n",
    "\n",
    "\n",
    "# save de la liste de df\n",
    "\n",
    "with open(\"Data/df_dist/liste_df_API_dwell\", \"wb\") as fp:\n",
    "    pickle.dump(list_df,fp)\n",
    "\n"
   ]
  },
  {
   "cell_type": "code",
   "execution_count": null,
   "id": "ba5788b1",
   "metadata": {},
   "outputs": [],
   "source": [
    "# calcul pour le 5eme avec la fonction\n",
    "calcul_route(Latitude_station, Longitude_station, Latitutde_incident , Longitude_incident)"
   ]
  },
  {
   "cell_type": "code",
   "execution_count": 85,
   "id": "b028e0da",
   "metadata": {},
   "outputs": [
    {
     "data": {
      "text/html": [
       "<div>\n",
       "<style scoped>\n",
       "    .dataframe tbody tr th:only-of-type {\n",
       "        vertical-align: middle;\n",
       "    }\n",
       "\n",
       "    .dataframe tbody tr th {\n",
       "        vertical-align: top;\n",
       "    }\n",
       "\n",
       "    .dataframe thead th {\n",
       "        text-align: right;\n",
       "    }\n",
       "</style>\n",
       "<table border=\"1\" class=\"dataframe\">\n",
       "  <thead>\n",
       "    <tr style=\"text-align: right;\">\n",
       "      <th></th>\n",
       "      <th>IncidentNumber</th>\n",
       "      <th>Latitude</th>\n",
       "      <th>Longitude</th>\n",
       "      <th>Latitude_Station</th>\n",
       "      <th>Longitude_Station</th>\n",
       "      <th>dst_StationIncident</th>\n",
       "      <th>tempsAPI</th>\n",
       "    </tr>\n",
       "  </thead>\n",
       "  <tbody>\n",
       "    <tr>\n",
       "      <th>88828</th>\n",
       "      <td>101859-09072022</td>\n",
       "      <td>51.474556</td>\n",
       "      <td>-0.172014</td>\n",
       "      <td>51.467137</td>\n",
       "      <td>-0.169264</td>\n",
       "      <td>1256.5</td>\n",
       "      <td>189.9</td>\n",
       "    </tr>\n",
       "    <tr>\n",
       "      <th>88829</th>\n",
       "      <td>101861-09072022</td>\n",
       "      <td>51.378191</td>\n",
       "      <td>-0.162922</td>\n",
       "      <td>51.397121</td>\n",
       "      <td>-0.172802</td>\n",
       "      <td>3267.3</td>\n",
       "      <td>335.9</td>\n",
       "    </tr>\n",
       "    <tr>\n",
       "      <th>88830</th>\n",
       "      <td>101871-09072022</td>\n",
       "      <td>51.459150</td>\n",
       "      <td>0.152705</td>\n",
       "      <td>51.464485</td>\n",
       "      <td>0.155119</td>\n",
       "      <td>621.7</td>\n",
       "      <td>35.3</td>\n",
       "    </tr>\n",
       "    <tr>\n",
       "      <th>88831</th>\n",
       "      <td>101872-09072022</td>\n",
       "      <td>51.382530</td>\n",
       "      <td>0.113179</td>\n",
       "      <td>51.371933</td>\n",
       "      <td>0.110864</td>\n",
       "      <td>1888.7</td>\n",
       "      <td>239.1</td>\n",
       "    </tr>\n",
       "    <tr>\n",
       "      <th>88832</th>\n",
       "      <td>101874-09072022</td>\n",
       "      <td>51.499076</td>\n",
       "      <td>-0.307906</td>\n",
       "      <td>51.511679</td>\n",
       "      <td>-0.314720</td>\n",
       "      <td>1800.6</td>\n",
       "      <td>265.9</td>\n",
       "    </tr>\n",
       "    <tr>\n",
       "      <th>...</th>\n",
       "      <td>...</td>\n",
       "      <td>...</td>\n",
       "      <td>...</td>\n",
       "      <td>...</td>\n",
       "      <td>...</td>\n",
       "      <td>...</td>\n",
       "      <td>...</td>\n",
       "    </tr>\n",
       "    <tr>\n",
       "      <th>111029</th>\n",
       "      <td>183583-08112022</td>\n",
       "      <td>51.481475</td>\n",
       "      <td>-0.272552</td>\n",
       "      <td>51.490467</td>\n",
       "      <td>-0.268940</td>\n",
       "      <td>1437.2</td>\n",
       "      <td>220.1</td>\n",
       "    </tr>\n",
       "    <tr>\n",
       "      <th>111030</th>\n",
       "      <td>183584-08112022</td>\n",
       "      <td>51.509502</td>\n",
       "      <td>0.000877</td>\n",
       "      <td>51.510833</td>\n",
       "      <td>-0.015791</td>\n",
       "      <td>1782.5</td>\n",
       "      <td>208.7</td>\n",
       "    </tr>\n",
       "    <tr>\n",
       "      <th>111031</th>\n",
       "      <td>183586-08112022</td>\n",
       "      <td>51.551638</td>\n",
       "      <td>0.008496</td>\n",
       "      <td>51.543719</td>\n",
       "      <td>0.011435</td>\n",
       "      <td>1525.5</td>\n",
       "      <td>195.9</td>\n",
       "    </tr>\n",
       "    <tr>\n",
       "      <th>111032</th>\n",
       "      <td>183590-08112022</td>\n",
       "      <td>51.519626</td>\n",
       "      <td>-0.178858</td>\n",
       "      <td>51.520220</td>\n",
       "      <td>-0.183015</td>\n",
       "      <td>586.1</td>\n",
       "      <td>98.4</td>\n",
       "    </tr>\n",
       "    <tr>\n",
       "      <th>111033</th>\n",
       "      <td>183591-08112022</td>\n",
       "      <td>51.427346</td>\n",
       "      <td>-0.201230</td>\n",
       "      <td>51.415558</td>\n",
       "      <td>-0.197346</td>\n",
       "      <td>1714.7</td>\n",
       "      <td>271.8</td>\n",
       "    </tr>\n",
       "  </tbody>\n",
       "</table>\n",
       "<p>22206 rows × 7 columns</p>\n",
       "</div>"
      ],
      "text/plain": [
       "         IncidentNumber   Latitude  Longitude  Latitude_Station  \\\n",
       "88828   101859-09072022  51.474556  -0.172014         51.467137   \n",
       "88829   101861-09072022  51.378191  -0.162922         51.397121   \n",
       "88830   101871-09072022  51.459150   0.152705         51.464485   \n",
       "88831   101872-09072022  51.382530   0.113179         51.371933   \n",
       "88832   101874-09072022  51.499076  -0.307906         51.511679   \n",
       "...                 ...        ...        ...               ...   \n",
       "111029  183583-08112022  51.481475  -0.272552         51.490467   \n",
       "111030  183584-08112022  51.509502   0.000877         51.510833   \n",
       "111031  183586-08112022  51.551638   0.008496         51.543719   \n",
       "111032  183590-08112022  51.519626  -0.178858         51.520220   \n",
       "111033  183591-08112022  51.427346  -0.201230         51.415558   \n",
       "\n",
       "        Longitude_Station  dst_StationIncident  tempsAPI  \n",
       "88828           -0.169264               1256.5     189.9  \n",
       "88829           -0.172802               3267.3     335.9  \n",
       "88830            0.155119                621.7      35.3  \n",
       "88831            0.110864               1888.7     239.1  \n",
       "88832           -0.314720               1800.6     265.9  \n",
       "...                   ...                  ...       ...  \n",
       "111029          -0.268940               1437.2     220.1  \n",
       "111030          -0.015791               1782.5     208.7  \n",
       "111031           0.011435               1525.5     195.9  \n",
       "111032          -0.183015                586.1      98.4  \n",
       "111033          -0.197346               1714.7     271.8  \n",
       "\n",
       "[22206 rows x 7 columns]"
      ]
     },
     "execution_count": 85,
     "metadata": {},
     "output_type": "execute_result"
    }
   ],
   "source": [
    "list_df[4]"
   ]
  },
  {
   "cell_type": "markdown",
   "id": "30089c16",
   "metadata": {},
   "source": [
    "### 6 EME"
   ]
  },
  {
   "cell_type": "code",
   "execution_count": 95,
   "id": "7329ba04",
   "metadata": {
    "tags": [
     "raises-exception"
    ]
   },
   "outputs": [
    {
     "name": "stderr",
     "output_type": "stream",
     "text": [
      " 19%|█▉        | 4258/22206 [35:31<2:29:24,  2.00it/s]"
     ]
    },
    {
     "name": "stdout",
     "output_type": "stream",
     "text": [
      "bad request index 115291\n"
     ]
    },
    {
     "name": "stderr",
     "output_type": "stream",
     "text": [
      " 40%|████      | 8908/22206 [1:14:26<1:50:59,  2.00it/s]"
     ]
    },
    {
     "name": "stdout",
     "output_type": "stream",
     "text": [
      "bad request index 119941\n"
     ]
    },
    {
     "name": "stderr",
     "output_type": "stream",
     "text": [
      " 40%|████      | 8934/22206 [1:14:39<1:50:35,  2.00it/s]"
     ]
    },
    {
     "name": "stdout",
     "output_type": "stream",
     "text": [
      "bad request index 119967\n"
     ]
    },
    {
     "name": "stderr",
     "output_type": "stream",
     "text": [
      " 48%|████▊     | 10558/22206 [1:28:11<1:37:02,  2.00it/s]"
     ]
    },
    {
     "name": "stdout",
     "output_type": "stream",
     "text": [
      "bad request index 121591\n"
     ]
    },
    {
     "name": "stderr",
     "output_type": "stream",
     "text": [
      " 53%|█████▎    | 11869/22206 [1:39:06<1:26:10,  2.00it/s]"
     ]
    },
    {
     "name": "stdout",
     "output_type": "stream",
     "text": [
      "bad request index 122902\n"
     ]
    },
    {
     "name": "stderr",
     "output_type": "stream",
     "text": [
      " 79%|███████▉  | 17526/22206 [2:26:15<38:56,  2.00it/s]  "
     ]
    },
    {
     "name": "stdout",
     "output_type": "stream",
     "text": [
      "bad request index 128559\n"
     ]
    },
    {
     "name": "stderr",
     "output_type": "stream",
     "text": [
      " 81%|████████▏ | 18094/22206 [2:30:59<34:16,  2.00it/s]"
     ]
    },
    {
     "name": "stdout",
     "output_type": "stream",
     "text": [
      "bad request index 129127\n"
     ]
    },
    {
     "name": "stderr",
     "output_type": "stream",
     "text": [
      " 91%|█████████ | 20107/22206 [2:48:28<17:29,  2.00it/s]  "
     ]
    },
    {
     "name": "stdout",
     "output_type": "stream",
     "text": [
      "bad request index 131140\n"
     ]
    },
    {
     "name": "stderr",
     "output_type": "stream",
     "text": [
      " 93%|█████████▎| 20680/22206 [2:53:14<12:44,  2.00it/s]"
     ]
    },
    {
     "name": "stdout",
     "output_type": "stream",
     "text": [
      "bad request index 131713\n"
     ]
    },
    {
     "name": "stderr",
     "output_type": "stream",
     "text": [
      " 99%|█████████▊| 21909/22206 [3:03:29<02:28,  2.00it/s]"
     ]
    },
    {
     "name": "stdout",
     "output_type": "stream",
     "text": [
      "bad request index 132942\n"
     ]
    },
    {
     "name": "stderr",
     "output_type": "stream",
     "text": [
      "100%|██████████| 22206/22206 [3:05:57<00:00,  1.99it/s]\n"
     ]
    }
   ],
   "source": [
    "import requests\n",
    "from tqdm import tqdm\n",
    "\n",
    "distance_6 = []\n",
    "temps_api_6 = []\n",
    "\n",
    "for i in tqdm(list_df[5].index.values) :\n",
    "    \n",
    "    url = f\"http://router.project-osrm.org/route/v1/driving/{list_df[5].Longitude_Station[i]},{list_df[5].Latitude_Station[i]};{list_df[5].Longitude[i]},{list_df[5].Latitude[i]}?alternatives=false&overview=false&skip_waypoints=true\"\n",
    "    reponse = requests.get(url)\n",
    "    data = reponse.json()\n",
    "   \n",
    "    # si la requete n'a pas aboutie on met des NA\n",
    "    if reponse.status_code != 200:\n",
    "        print(\"bad request index\",i)\n",
    "        distance_6.append(np.nan)\n",
    "        temps_api_6.append(np.nan)\n",
    "\n",
    "\n",
    "    else :\n",
    "    # select le dico avec distance\n",
    "        dst = data['routes'][0]['distance']\n",
    "        temps = data['routes'][0]['duration']\n",
    "        distance_6.append(dst)\n",
    "        temps_api_6.append(temps)\n",
    "\n",
    "# mise en un dataframe des distance     \n",
    "dst_6 = pd.DataFrame(index = list_df[5].index, data = {'dst_StationIncident': distance_6, 'tempsAPI' : temps_api_6})    \n",
    "\n",
    "# ajout de la distance station-incident au dataframe ssgroupe\n",
    "list_df[5] = pd.concat([list_df[5], dst_6], axis = 1)\n",
    "\n",
    "\n",
    "# save de la liste de df\n",
    "import pickle\n",
    "\n",
    "with open(\"Data/df_dist/liste_df_API_dwell\", \"wb\") as fp:\n",
    "    pickle.dump(list_df,fp)\n"
   ]
  },
  {
   "cell_type": "code",
   "execution_count": 91,
   "id": "b22bd5b7",
   "metadata": {},
   "outputs": [
    {
     "data": {
      "text/plain": [
       "22206"
      ]
     },
     "execution_count": 91,
     "metadata": {},
     "output_type": "execute_result"
    }
   ],
   "source": [
    "len(list_df[5])"
   ]
  },
  {
   "cell_type": "markdown",
   "id": "b12f73d0",
   "metadata": {},
   "source": [
    "### 7EME"
   ]
  },
  {
   "cell_type": "code",
   "execution_count": 79,
   "id": "11a6d487",
   "metadata": {},
   "outputs": [],
   "source": [
    "\n",
    "def calcul_route(Latitude_Station, Longitude_Station, Latitude_Incident, Longitude_Incident):\n",
    "\n",
    "    distance_route = []\n",
    "    temps_API_s =[]\n",
    "\n",
    "    for i in tqdm(Latitude_Station.index.values) :\n",
    "        url = f\"http://router.project-osrm.org/route/v1/driving/{Longitude_Station[i]},{Latitude_Station[i]};{Longitude_Incident[i]},{Latitude_Incident[i]}?alternatives=false&overview=false&skip_waypoints=true\"\n",
    "        reponse = requests.get(url)\n",
    "        data = reponse.json()\n",
    "\n",
    "        # si la requete n'a pas aboutie on met des NA\n",
    "        if reponse.status_code != 200:\n",
    "            print(\"bad request index\",i)\n",
    "            distance.append(np.nan)\n",
    "            temps_api.append(np.nan)\n",
    "\n",
    "\n",
    "        else :\n",
    "        # select le dico avec distance\n",
    "            dst = data['routes'][0]['distance']\n",
    "            temps = data['routes'][0]['duration']\n",
    "            distance_route.append(dst)\n",
    "            temps_API_s.append(temps)\n",
    "\n",
    "    return(distance_route, temps_API_s)\n",
    "\n"
   ]
  },
  {
   "cell_type": "code",
   "execution_count": 80,
   "id": "4a8ff908",
   "metadata": {},
   "outputs": [],
   "source": [
    "Latitude_station = list_df[4][\"Latitude_Station\"]\n",
    "Longitude_station  = list_df[4][\"Longitude_Station\"]\n",
    "Latitutde_incident = list_df[4][\"Latitude\"]\n",
    "Longitude_incident = list_df[4][\"Longitude\"]"
   ]
  },
  {
   "cell_type": "code",
   "execution_count": 96,
   "id": "f82db598",
   "metadata": {
    "tags": [
     "raises-exception"
    ]
   },
   "outputs": [
    {
     "name": "stderr",
     "output_type": "stream",
     "text": [
      " 13%|█▎        | 2963/22206 [24:41<2:40:22,  2.00it/s]"
     ]
    },
    {
     "name": "stdout",
     "output_type": "stream",
     "text": [
      "bad request index 136202\n"
     ]
    },
    {
     "name": "stderr",
     "output_type": "stream",
     "text": [
      " 14%|█▍        | 3182/22206 [26:30<2:38:29,  2.00it/s]"
     ]
    },
    {
     "name": "stdout",
     "output_type": "stream",
     "text": [
      "bad request index 136421\n"
     ]
    },
    {
     "name": "stderr",
     "output_type": "stream",
     "text": [
      " 17%|█▋        | 3767/22206 [31:23<2:33:34,  2.00it/s]"
     ]
    },
    {
     "name": "stdout",
     "output_type": "stream",
     "text": [
      "bad request index 137006\n"
     ]
    },
    {
     "name": "stderr",
     "output_type": "stream",
     "text": [
      " 34%|███▍      | 7537/22206 [1:02:48<2:02:05,  2.00it/s]"
     ]
    },
    {
     "name": "stdout",
     "output_type": "stream",
     "text": [
      "bad request index 140776\n"
     ]
    },
    {
     "name": "stderr",
     "output_type": "stream",
     "text": [
      " 36%|███▌      | 7922/22206 [1:06:01<1:58:59,  2.00it/s]"
     ]
    },
    {
     "name": "stdout",
     "output_type": "stream",
     "text": [
      "bad request index 141161\n"
     ]
    },
    {
     "name": "stderr",
     "output_type": "stream",
     "text": [
      " 43%|████▎     | 9651/22206 [1:20:25<1:44:27,  2.00it/s]"
     ]
    },
    {
     "name": "stdout",
     "output_type": "stream",
     "text": [
      "bad request index 142890\n"
     ]
    },
    {
     "name": "stderr",
     "output_type": "stream",
     "text": [
      " 44%|████▍     | 9726/22206 [1:21:03<1:44:05,  2.00it/s]"
     ]
    },
    {
     "name": "stdout",
     "output_type": "stream",
     "text": [
      "bad request index 142965\n"
     ]
    },
    {
     "name": "stderr",
     "output_type": "stream",
     "text": [
      " 58%|█████▊    | 12778/22206 [1:46:29<1:18:30,  2.00it/s]"
     ]
    },
    {
     "name": "stdout",
     "output_type": "stream",
     "text": [
      "bad request index 146017\n"
     ]
    },
    {
     "name": "stderr",
     "output_type": "stream",
     "text": [
      " 58%|█████▊    | 12880/22206 [1:47:20<1:17:37,  2.00it/s]"
     ]
    },
    {
     "name": "stdout",
     "output_type": "stream",
     "text": [
      "bad request index 146119\n"
     ]
    },
    {
     "name": "stderr",
     "output_type": "stream",
     "text": [
      " 61%|██████▏   | 13646/22206 [1:53:43<1:11:15,  2.00it/s]"
     ]
    },
    {
     "name": "stdout",
     "output_type": "stream",
     "text": [
      "bad request index 146885\n"
     ]
    },
    {
     "name": "stderr",
     "output_type": "stream",
     "text": [
      " 62%|██████▏   | 13728/22206 [1:54:24<1:10:52,  1.99it/s]"
     ]
    },
    {
     "name": "stdout",
     "output_type": "stream",
     "text": [
      "bad request index 146967\n"
     ]
    },
    {
     "name": "stderr",
     "output_type": "stream",
     "text": [
      " 62%|██████▏   | 13823/22206 [1:55:11<1:09:30,  2.01it/s]"
     ]
    },
    {
     "name": "stdout",
     "output_type": "stream",
     "text": [
      "bad request index 147062\n"
     ]
    },
    {
     "name": "stderr",
     "output_type": "stream",
     "text": [
      " 69%|██████▉   | 15405/22206 [2:08:22<56:40,  2.00it/s]  "
     ]
    },
    {
     "name": "stdout",
     "output_type": "stream",
     "text": [
      "bad request index 148644\n"
     ]
    },
    {
     "name": "stderr",
     "output_type": "stream",
     "text": [
      " 73%|███████▎  | 16296/22206 [2:15:48<49:11,  2.00it/s]"
     ]
    },
    {
     "name": "stdout",
     "output_type": "stream",
     "text": [
      "bad request index 149535\n"
     ]
    },
    {
     "name": "stderr",
     "output_type": "stream",
     "text": [
      " 89%|████████▉ | 19813/22206 [2:45:06<19:54,  2.00it/s]"
     ]
    },
    {
     "name": "stdout",
     "output_type": "stream",
     "text": [
      "bad request index 153052\n"
     ]
    },
    {
     "name": "stderr",
     "output_type": "stream",
     "text": [
      " 89%|████████▉ | 19858/22206 [2:45:29<19:31,  2.00it/s]"
     ]
    },
    {
     "name": "stdout",
     "output_type": "stream",
     "text": [
      "bad request index 153097\n"
     ]
    },
    {
     "name": "stderr",
     "output_type": "stream",
     "text": [
      "100%|██████████| 22206/22206 [3:05:06<00:00,  2.00it/s]\n"
     ]
    }
   ],
   "source": [
    "import requests\n",
    "from tqdm import tqdm\n",
    "\n",
    "distance_7 = []\n",
    "temps_api_7 = []\n",
    "\n",
    "for i in tqdm(list_df[6].index.values) :\n",
    "    \n",
    "    url = f\"http://router.project-osrm.org/route/v1/driving/{list_df[6].Longitude_Station[i]},{list_df[6].Latitude_Station[i]};{list_df[6].Longitude[i]},{list_df[6].Latitude[i]}?alternatives=false&overview=false&skip_waypoints=true\"\n",
    "    reponse = requests.get(url)\n",
    "    data = reponse.json()\n",
    "   \n",
    "    # si la requete n'a pas aboutie on met des NA\n",
    "    if reponse.status_code != 200:\n",
    "        print(\"bad request index\",i)\n",
    "        distance_7.append(np.nan)\n",
    "        temps_api_7.append(np.nan)\n",
    "\n",
    "\n",
    "    else :\n",
    "    # select le dico avec distance\n",
    "        dst = data['routes'][0]['distance']\n",
    "        temps = data['routes'][0]['duration']\n",
    "        distance_7.append(dst)\n",
    "        temps_api_7.append(temps)\n",
    "\n",
    "# mise en un dataframe des distance     \n",
    "dst_7 = pd.DataFrame(index = list_df[6].index, data = {'dst_StationIncident': distance_7, 'tempsAPI' : temps_api_7})    \n",
    "\n",
    "# ajout de la distance station-incident au dataframe ssgroupe\n",
    "list_df[6] = pd.concat([list_df[6], dst_7], axis = 1)\n",
    "\n",
    "\n",
    "# save de la liste de df\n",
    "import pickle\n",
    "\n",
    "with open(\"Data/df_dist/liste_df_API_dwell\", \"wb\") as fp:\n",
    "    pickle.dump(list_df,fp)\n"
   ]
  },
  {
   "cell_type": "markdown",
   "id": "160a209c",
   "metadata": {},
   "source": [
    "### 8 "
   ]
  },
  {
   "cell_type": "code",
   "execution_count": 106,
   "id": "2d9e9ca1",
   "metadata": {},
   "outputs": [
    {
     "data": {
      "text/html": [
       "<div>\n",
       "<style scoped>\n",
       "    .dataframe tbody tr th:only-of-type {\n",
       "        vertical-align: middle;\n",
       "    }\n",
       "\n",
       "    .dataframe tbody tr th {\n",
       "        vertical-align: top;\n",
       "    }\n",
       "\n",
       "    .dataframe thead th {\n",
       "        text-align: right;\n",
       "    }\n",
       "</style>\n",
       "<table border=\"1\" class=\"dataframe\">\n",
       "  <thead>\n",
       "    <tr style=\"text-align: right;\">\n",
       "      <th></th>\n",
       "      <th>IncidentNumber</th>\n",
       "      <th>Latitude</th>\n",
       "      <th>Longitude</th>\n",
       "      <th>Latitude_Station</th>\n",
       "      <th>Longitude_Station</th>\n",
       "      <th>dst_StationIncident</th>\n",
       "      <th>tempsAPI</th>\n",
       "    </tr>\n",
       "  </thead>\n",
       "  <tbody>\n",
       "    <tr>\n",
       "      <th>228583</th>\n",
       "      <td>6797131</td>\n",
       "      <td>51.490269</td>\n",
       "      <td>-0.173936</td>\n",
       "      <td>51.487231</td>\n",
       "      <td>-0.170159</td>\n",
       "      <td>502.7</td>\n",
       "      <td>76.9</td>\n",
       "    </tr>\n",
       "    <tr>\n",
       "      <th>228584</th>\n",
       "      <td>6800131</td>\n",
       "      <td>51.551036</td>\n",
       "      <td>0.161772</td>\n",
       "      <td>51.559509</td>\n",
       "      <td>0.156807</td>\n",
       "      <td>1049.5</td>\n",
       "      <td>79.6</td>\n",
       "    </tr>\n",
       "    <tr>\n",
       "      <th>228585</th>\n",
       "      <td>6801131</td>\n",
       "      <td>51.538261</td>\n",
       "      <td>-0.077029</td>\n",
       "      <td>51.562023</td>\n",
       "      <td>-0.076535</td>\n",
       "      <td>3532.8</td>\n",
       "      <td>558.0</td>\n",
       "    </tr>\n",
       "    <tr>\n",
       "      <th>228586</th>\n",
       "      <td>6803131</td>\n",
       "      <td>51.589714</td>\n",
       "      <td>-0.146144</td>\n",
       "      <td>51.586510</td>\n",
       "      <td>-0.127263</td>\n",
       "      <td>1543.1</td>\n",
       "      <td>165.4</td>\n",
       "    </tr>\n",
       "    <tr>\n",
       "      <th>228587</th>\n",
       "      <td>6806131</td>\n",
       "      <td>51.520088</td>\n",
       "      <td>-0.164656</td>\n",
       "      <td>51.520220</td>\n",
       "      <td>-0.183015</td>\n",
       "      <td>1677.5</td>\n",
       "      <td>239.9</td>\n",
       "    </tr>\n",
       "    <tr>\n",
       "      <th>...</th>\n",
       "      <td>...</td>\n",
       "      <td>...</td>\n",
       "      <td>...</td>\n",
       "      <td>...</td>\n",
       "      <td>...</td>\n",
       "      <td>...</td>\n",
       "      <td>...</td>\n",
       "    </tr>\n",
       "    <tr>\n",
       "      <th>266675</th>\n",
       "      <td>150588131</td>\n",
       "      <td>51.610706</td>\n",
       "      <td>-0.078751</td>\n",
       "      <td>51.627218</td>\n",
       "      <td>-0.069090</td>\n",
       "      <td>3488.1</td>\n",
       "      <td>326.6</td>\n",
       "    </tr>\n",
       "    <tr>\n",
       "      <th>266676</th>\n",
       "      <td>150600131</td>\n",
       "      <td>51.603922</td>\n",
       "      <td>-0.173104</td>\n",
       "      <td>51.598092</td>\n",
       "      <td>-0.179071</td>\n",
       "      <td>1441.6</td>\n",
       "      <td>223.1</td>\n",
       "    </tr>\n",
       "    <tr>\n",
       "      <th>266677</th>\n",
       "      <td>150609131</td>\n",
       "      <td>51.526958</td>\n",
       "      <td>-0.094690</td>\n",
       "      <td>51.526472</td>\n",
       "      <td>-0.085432</td>\n",
       "      <td>1046.0</td>\n",
       "      <td>180.6</td>\n",
       "    </tr>\n",
       "    <tr>\n",
       "      <th>266678</th>\n",
       "      <td>150610131</td>\n",
       "      <td>51.526135</td>\n",
       "      <td>-0.131861</td>\n",
       "      <td>51.527725</td>\n",
       "      <td>-0.130642</td>\n",
       "      <td>206.8</td>\n",
       "      <td>61.1</td>\n",
       "    </tr>\n",
       "    <tr>\n",
       "      <th>266679</th>\n",
       "      <td>150615131</td>\n",
       "      <td>51.520975</td>\n",
       "      <td>-0.191691</td>\n",
       "      <td>51.520220</td>\n",
       "      <td>-0.183015</td>\n",
       "      <td>980.5</td>\n",
       "      <td>160.4</td>\n",
       "    </tr>\n",
       "  </tbody>\n",
       "</table>\n",
       "<p>38097 rows × 7 columns</p>\n",
       "</div>"
      ],
      "text/plain": [
       "       IncidentNumber   Latitude  Longitude  Latitude_Station  \\\n",
       "228583        6797131  51.490269  -0.173936         51.487231   \n",
       "228584        6800131  51.551036   0.161772         51.559509   \n",
       "228585        6801131  51.538261  -0.077029         51.562023   \n",
       "228586        6803131  51.589714  -0.146144         51.586510   \n",
       "228587        6806131  51.520088  -0.164656         51.520220   \n",
       "...               ...        ...        ...               ...   \n",
       "266675      150588131  51.610706  -0.078751         51.627218   \n",
       "266676      150600131  51.603922  -0.173104         51.598092   \n",
       "266677      150609131  51.526958  -0.094690         51.526472   \n",
       "266678      150610131  51.526135  -0.131861         51.527725   \n",
       "266679      150615131  51.520975  -0.191691         51.520220   \n",
       "\n",
       "        Longitude_Station  dst_StationIncident  tempsAPI  \n",
       "228583          -0.170159                502.7      76.9  \n",
       "228584           0.156807               1049.5      79.6  \n",
       "228585          -0.076535               3532.8     558.0  \n",
       "228586          -0.127263               1543.1     165.4  \n",
       "228587          -0.183015               1677.5     239.9  \n",
       "...                   ...                  ...       ...  \n",
       "266675          -0.069090               3488.1     326.6  \n",
       "266676          -0.179071               1441.6     223.1  \n",
       "266677          -0.085432               1046.0     180.6  \n",
       "266678          -0.130642                206.8      61.1  \n",
       "266679          -0.183015                980.5     160.4  \n",
       "\n",
       "[38097 rows x 7 columns]"
      ]
     },
     "execution_count": 106,
     "metadata": {},
     "output_type": "execute_result"
    }
   ],
   "source": [
    "list_df[6]\n",
    "# check ligne 156868"
   ]
  },
  {
   "cell_type": "code",
   "execution_count": 97,
   "id": "a19cf528",
   "metadata": {
    "scrolled": true,
    "tags": [
     "raises-exception"
    ]
   },
   "outputs": [
    {
     "name": "stderr",
     "output_type": "stream",
     "text": [
      "  1%|          | 219/22206 [01:50<3:01:57,  2.01it/s]"
     ]
    },
    {
     "name": "stdout",
     "output_type": "stream",
     "text": [
      "bad request index 155664\n"
     ]
    },
    {
     "name": "stderr",
     "output_type": "stream",
     "text": [
      "  6%|▌         | 1240/22206 [10:26<2:54:34,  2.00it/s]"
     ]
    },
    {
     "name": "stdout",
     "output_type": "stream",
     "text": [
      "bad request index 156685\n"
     ]
    },
    {
     "name": "stderr",
     "output_type": "stream",
     "text": [
      " 14%|█▍        | 3187/22206 [26:41<2:38:46,  2.00it/s]"
     ]
    },
    {
     "name": "stdout",
     "output_type": "stream",
     "text": [
      "bad request index 158632\n"
     ]
    },
    {
     "name": "stderr",
     "output_type": "stream",
     "text": [
      " 22%|██▏       | 4891/22206 [40:54<2:24:17,  2.00it/s]"
     ]
    },
    {
     "name": "stdout",
     "output_type": "stream",
     "text": [
      "bad request index 160336\n"
     ]
    },
    {
     "name": "stderr",
     "output_type": "stream",
     "text": [
      " 34%|███▍      | 7560/22206 [1:03:10<2:01:52,  2.00it/s]"
     ]
    },
    {
     "name": "stdout",
     "output_type": "stream",
     "text": [
      "bad request index 163005\n"
     ]
    },
    {
     "name": "stderr",
     "output_type": "stream",
     "text": [
      " 34%|███▍      | 7565/22206 [1:03:13<2:02:27,  1.99it/s]"
     ]
    },
    {
     "name": "stdout",
     "output_type": "stream",
     "text": [
      "bad request index 163010\n"
     ]
    },
    {
     "name": "stderr",
     "output_type": "stream",
     "text": [
      " 35%|███▍      | 7681/22206 [1:04:11<2:00:43,  2.01it/s]"
     ]
    },
    {
     "name": "stdout",
     "output_type": "stream",
     "text": [
      "bad request index 163126\n"
     ]
    },
    {
     "name": "stderr",
     "output_type": "stream",
     "text": [
      " 37%|███▋      | 8186/22206 [1:08:23<1:54:52,  2.03it/s]"
     ]
    },
    {
     "name": "stdout",
     "output_type": "stream",
     "text": [
      "bad request index 163631\n"
     ]
    },
    {
     "name": "stderr",
     "output_type": "stream",
     "text": [
      " 49%|████▉     | 10950/22206 [1:31:27<1:34:10,  1.99it/s]"
     ]
    },
    {
     "name": "stdout",
     "output_type": "stream",
     "text": [
      "bad request index 166395\n"
     ]
    },
    {
     "name": "stderr",
     "output_type": "stream",
     "text": [
      " 50%|████▉     | 11061/22206 [1:32:22<1:33:30,  1.99it/s]"
     ]
    },
    {
     "name": "stdout",
     "output_type": "stream",
     "text": [
      "bad request index 166506\n"
     ]
    },
    {
     "name": "stderr",
     "output_type": "stream",
     "text": [
      " 54%|█████▍    | 11992/22206 [1:40:12<1:25:13,  2.00it/s]"
     ]
    },
    {
     "name": "stdout",
     "output_type": "stream",
     "text": [
      "bad request index 167437\n"
     ]
    },
    {
     "name": "stderr",
     "output_type": "stream",
     "text": [
      " 54%|█████▍    | 12078/22206 [1:40:55<1:24:19,  2.00it/s]"
     ]
    },
    {
     "name": "stdout",
     "output_type": "stream",
     "text": [
      "bad request index 167523\n"
     ]
    },
    {
     "name": "stderr",
     "output_type": "stream",
     "text": [
      " 77%|███████▋  | 17081/22206 [2:22:38<42:47,  2.00it/s]  \n"
     ]
    },
    {
     "ename": "KeyboardInterrupt",
     "evalue": "",
     "output_type": "error",
     "traceback": [
      "\u001b[1;31m---------------------------------------------------------------------------\u001b[0m",
      "\u001b[1;31mKeyboardInterrupt\u001b[0m                         Traceback (most recent call last)",
      "Cell \u001b[1;32mIn[97], line 10\u001b[0m\n\u001b[0;32m      7\u001b[0m \u001b[38;5;28;01mfor\u001b[39;00m i \u001b[38;5;129;01min\u001b[39;00m tqdm(list_df[\u001b[38;5;241m7\u001b[39m]\u001b[38;5;241m.\u001b[39mindex\u001b[38;5;241m.\u001b[39mvalues) :\n\u001b[0;32m      9\u001b[0m     url \u001b[38;5;241m=\u001b[39m \u001b[38;5;124mf\u001b[39m\u001b[38;5;124m\"\u001b[39m\u001b[38;5;124mhttp://router.project-osrm.org/route/v1/driving/\u001b[39m\u001b[38;5;132;01m{\u001b[39;00mlist_df[\u001b[38;5;241m7\u001b[39m]\u001b[38;5;241m.\u001b[39mLongitude_Station[i]\u001b[38;5;132;01m}\u001b[39;00m\u001b[38;5;124m,\u001b[39m\u001b[38;5;132;01m{\u001b[39;00mlist_df[\u001b[38;5;241m7\u001b[39m]\u001b[38;5;241m.\u001b[39mLatitude_Station[i]\u001b[38;5;132;01m}\u001b[39;00m\u001b[38;5;124m;\u001b[39m\u001b[38;5;132;01m{\u001b[39;00mlist_df[\u001b[38;5;241m7\u001b[39m]\u001b[38;5;241m.\u001b[39mLongitude[i]\u001b[38;5;132;01m}\u001b[39;00m\u001b[38;5;124m,\u001b[39m\u001b[38;5;132;01m{\u001b[39;00mlist_df[\u001b[38;5;241m7\u001b[39m]\u001b[38;5;241m.\u001b[39mLatitude[i]\u001b[38;5;132;01m}\u001b[39;00m\u001b[38;5;124m?alternatives=false&overview=false&skip_waypoints=true\u001b[39m\u001b[38;5;124m\"\u001b[39m\n\u001b[1;32m---> 10\u001b[0m     reponse \u001b[38;5;241m=\u001b[39m \u001b[43mrequests\u001b[49m\u001b[38;5;241;43m.\u001b[39;49m\u001b[43mget\u001b[49m\u001b[43m(\u001b[49m\u001b[43murl\u001b[49m\u001b[43m)\u001b[49m\n\u001b[0;32m     11\u001b[0m     data \u001b[38;5;241m=\u001b[39m reponse\u001b[38;5;241m.\u001b[39mjson()\n\u001b[0;32m     13\u001b[0m     \u001b[38;5;66;03m# si la requete n'a pas aboutie on met des NA\u001b[39;00m\n",
      "File \u001b[1;32mc:\\Users\\loreb\\anaconda3\\envs\\Pinpon\\Lib\\site-packages\\requests\\api.py:73\u001b[0m, in \u001b[0;36mget\u001b[1;34m(url, params, **kwargs)\u001b[0m\n\u001b[0;32m     62\u001b[0m \u001b[38;5;28;01mdef\u001b[39;00m \u001b[38;5;21mget\u001b[39m(url, params\u001b[38;5;241m=\u001b[39m\u001b[38;5;28;01mNone\u001b[39;00m, \u001b[38;5;241m*\u001b[39m\u001b[38;5;241m*\u001b[39mkwargs):\n\u001b[0;32m     63\u001b[0m \u001b[38;5;250m    \u001b[39m\u001b[38;5;124mr\u001b[39m\u001b[38;5;124;03m\"\"\"Sends a GET request.\u001b[39;00m\n\u001b[0;32m     64\u001b[0m \n\u001b[0;32m     65\u001b[0m \u001b[38;5;124;03m    :param url: URL for the new :class:`Request` object.\u001b[39;00m\n\u001b[1;32m   (...)\u001b[0m\n\u001b[0;32m     70\u001b[0m \u001b[38;5;124;03m    :rtype: requests.Response\u001b[39;00m\n\u001b[0;32m     71\u001b[0m \u001b[38;5;124;03m    \"\"\"\u001b[39;00m\n\u001b[1;32m---> 73\u001b[0m     \u001b[38;5;28;01mreturn\u001b[39;00m \u001b[43mrequest\u001b[49m\u001b[43m(\u001b[49m\u001b[38;5;124;43m\"\u001b[39;49m\u001b[38;5;124;43mget\u001b[39;49m\u001b[38;5;124;43m\"\u001b[39;49m\u001b[43m,\u001b[49m\u001b[43m \u001b[49m\u001b[43murl\u001b[49m\u001b[43m,\u001b[49m\u001b[43m \u001b[49m\u001b[43mparams\u001b[49m\u001b[38;5;241;43m=\u001b[39;49m\u001b[43mparams\u001b[49m\u001b[43m,\u001b[49m\u001b[43m \u001b[49m\u001b[38;5;241;43m*\u001b[39;49m\u001b[38;5;241;43m*\u001b[39;49m\u001b[43mkwargs\u001b[49m\u001b[43m)\u001b[49m\n",
      "File \u001b[1;32mc:\\Users\\loreb\\anaconda3\\envs\\Pinpon\\Lib\\site-packages\\requests\\api.py:59\u001b[0m, in \u001b[0;36mrequest\u001b[1;34m(method, url, **kwargs)\u001b[0m\n\u001b[0;32m     55\u001b[0m \u001b[38;5;66;03m# By using the 'with' statement we are sure the session is closed, thus we\u001b[39;00m\n\u001b[0;32m     56\u001b[0m \u001b[38;5;66;03m# avoid leaving sockets open which can trigger a ResourceWarning in some\u001b[39;00m\n\u001b[0;32m     57\u001b[0m \u001b[38;5;66;03m# cases, and look like a memory leak in others.\u001b[39;00m\n\u001b[0;32m     58\u001b[0m \u001b[38;5;28;01mwith\u001b[39;00m sessions\u001b[38;5;241m.\u001b[39mSession() \u001b[38;5;28;01mas\u001b[39;00m session:\n\u001b[1;32m---> 59\u001b[0m     \u001b[38;5;28;01mreturn\u001b[39;00m \u001b[43msession\u001b[49m\u001b[38;5;241;43m.\u001b[39;49m\u001b[43mrequest\u001b[49m\u001b[43m(\u001b[49m\u001b[43mmethod\u001b[49m\u001b[38;5;241;43m=\u001b[39;49m\u001b[43mmethod\u001b[49m\u001b[43m,\u001b[49m\u001b[43m \u001b[49m\u001b[43murl\u001b[49m\u001b[38;5;241;43m=\u001b[39;49m\u001b[43murl\u001b[49m\u001b[43m,\u001b[49m\u001b[43m \u001b[49m\u001b[38;5;241;43m*\u001b[39;49m\u001b[38;5;241;43m*\u001b[39;49m\u001b[43mkwargs\u001b[49m\u001b[43m)\u001b[49m\n",
      "File \u001b[1;32mc:\\Users\\loreb\\anaconda3\\envs\\Pinpon\\Lib\\site-packages\\requests\\sessions.py:589\u001b[0m, in \u001b[0;36mSession.request\u001b[1;34m(self, method, url, params, data, headers, cookies, files, auth, timeout, allow_redirects, proxies, hooks, stream, verify, cert, json)\u001b[0m\n\u001b[0;32m    584\u001b[0m send_kwargs \u001b[38;5;241m=\u001b[39m {\n\u001b[0;32m    585\u001b[0m     \u001b[38;5;124m\"\u001b[39m\u001b[38;5;124mtimeout\u001b[39m\u001b[38;5;124m\"\u001b[39m: timeout,\n\u001b[0;32m    586\u001b[0m     \u001b[38;5;124m\"\u001b[39m\u001b[38;5;124mallow_redirects\u001b[39m\u001b[38;5;124m\"\u001b[39m: allow_redirects,\n\u001b[0;32m    587\u001b[0m }\n\u001b[0;32m    588\u001b[0m send_kwargs\u001b[38;5;241m.\u001b[39mupdate(settings)\n\u001b[1;32m--> 589\u001b[0m resp \u001b[38;5;241m=\u001b[39m \u001b[38;5;28;43mself\u001b[39;49m\u001b[38;5;241;43m.\u001b[39;49m\u001b[43msend\u001b[49m\u001b[43m(\u001b[49m\u001b[43mprep\u001b[49m\u001b[43m,\u001b[49m\u001b[43m \u001b[49m\u001b[38;5;241;43m*\u001b[39;49m\u001b[38;5;241;43m*\u001b[39;49m\u001b[43msend_kwargs\u001b[49m\u001b[43m)\u001b[49m\n\u001b[0;32m    591\u001b[0m \u001b[38;5;28;01mreturn\u001b[39;00m resp\n",
      "File \u001b[1;32mc:\\Users\\loreb\\anaconda3\\envs\\Pinpon\\Lib\\site-packages\\requests\\sessions.py:703\u001b[0m, in \u001b[0;36mSession.send\u001b[1;34m(self, request, **kwargs)\u001b[0m\n\u001b[0;32m    700\u001b[0m start \u001b[38;5;241m=\u001b[39m preferred_clock()\n\u001b[0;32m    702\u001b[0m \u001b[38;5;66;03m# Send the request\u001b[39;00m\n\u001b[1;32m--> 703\u001b[0m r \u001b[38;5;241m=\u001b[39m \u001b[43madapter\u001b[49m\u001b[38;5;241;43m.\u001b[39;49m\u001b[43msend\u001b[49m\u001b[43m(\u001b[49m\u001b[43mrequest\u001b[49m\u001b[43m,\u001b[49m\u001b[43m \u001b[49m\u001b[38;5;241;43m*\u001b[39;49m\u001b[38;5;241;43m*\u001b[39;49m\u001b[43mkwargs\u001b[49m\u001b[43m)\u001b[49m\n\u001b[0;32m    705\u001b[0m \u001b[38;5;66;03m# Total elapsed time of the request (approximately)\u001b[39;00m\n\u001b[0;32m    706\u001b[0m elapsed \u001b[38;5;241m=\u001b[39m preferred_clock() \u001b[38;5;241m-\u001b[39m start\n",
      "File \u001b[1;32mc:\\Users\\loreb\\anaconda3\\envs\\Pinpon\\Lib\\site-packages\\requests\\adapters.py:667\u001b[0m, in \u001b[0;36mHTTPAdapter.send\u001b[1;34m(self, request, stream, timeout, verify, cert, proxies)\u001b[0m\n\u001b[0;32m    664\u001b[0m     timeout \u001b[38;5;241m=\u001b[39m TimeoutSauce(connect\u001b[38;5;241m=\u001b[39mtimeout, read\u001b[38;5;241m=\u001b[39mtimeout)\n\u001b[0;32m    666\u001b[0m \u001b[38;5;28;01mtry\u001b[39;00m:\n\u001b[1;32m--> 667\u001b[0m     resp \u001b[38;5;241m=\u001b[39m \u001b[43mconn\u001b[49m\u001b[38;5;241;43m.\u001b[39;49m\u001b[43murlopen\u001b[49m\u001b[43m(\u001b[49m\n\u001b[0;32m    668\u001b[0m \u001b[43m        \u001b[49m\u001b[43mmethod\u001b[49m\u001b[38;5;241;43m=\u001b[39;49m\u001b[43mrequest\u001b[49m\u001b[38;5;241;43m.\u001b[39;49m\u001b[43mmethod\u001b[49m\u001b[43m,\u001b[49m\n\u001b[0;32m    669\u001b[0m \u001b[43m        \u001b[49m\u001b[43murl\u001b[49m\u001b[38;5;241;43m=\u001b[39;49m\u001b[43murl\u001b[49m\u001b[43m,\u001b[49m\n\u001b[0;32m    670\u001b[0m \u001b[43m        \u001b[49m\u001b[43mbody\u001b[49m\u001b[38;5;241;43m=\u001b[39;49m\u001b[43mrequest\u001b[49m\u001b[38;5;241;43m.\u001b[39;49m\u001b[43mbody\u001b[49m\u001b[43m,\u001b[49m\n\u001b[0;32m    671\u001b[0m \u001b[43m        \u001b[49m\u001b[43mheaders\u001b[49m\u001b[38;5;241;43m=\u001b[39;49m\u001b[43mrequest\u001b[49m\u001b[38;5;241;43m.\u001b[39;49m\u001b[43mheaders\u001b[49m\u001b[43m,\u001b[49m\n\u001b[0;32m    672\u001b[0m \u001b[43m        \u001b[49m\u001b[43mredirect\u001b[49m\u001b[38;5;241;43m=\u001b[39;49m\u001b[38;5;28;43;01mFalse\u001b[39;49;00m\u001b[43m,\u001b[49m\n\u001b[0;32m    673\u001b[0m \u001b[43m        \u001b[49m\u001b[43massert_same_host\u001b[49m\u001b[38;5;241;43m=\u001b[39;49m\u001b[38;5;28;43;01mFalse\u001b[39;49;00m\u001b[43m,\u001b[49m\n\u001b[0;32m    674\u001b[0m \u001b[43m        \u001b[49m\u001b[43mpreload_content\u001b[49m\u001b[38;5;241;43m=\u001b[39;49m\u001b[38;5;28;43;01mFalse\u001b[39;49;00m\u001b[43m,\u001b[49m\n\u001b[0;32m    675\u001b[0m \u001b[43m        \u001b[49m\u001b[43mdecode_content\u001b[49m\u001b[38;5;241;43m=\u001b[39;49m\u001b[38;5;28;43;01mFalse\u001b[39;49;00m\u001b[43m,\u001b[49m\n\u001b[0;32m    676\u001b[0m \u001b[43m        \u001b[49m\u001b[43mretries\u001b[49m\u001b[38;5;241;43m=\u001b[39;49m\u001b[38;5;28;43mself\u001b[39;49m\u001b[38;5;241;43m.\u001b[39;49m\u001b[43mmax_retries\u001b[49m\u001b[43m,\u001b[49m\n\u001b[0;32m    677\u001b[0m \u001b[43m        \u001b[49m\u001b[43mtimeout\u001b[49m\u001b[38;5;241;43m=\u001b[39;49m\u001b[43mtimeout\u001b[49m\u001b[43m,\u001b[49m\n\u001b[0;32m    678\u001b[0m \u001b[43m        \u001b[49m\u001b[43mchunked\u001b[49m\u001b[38;5;241;43m=\u001b[39;49m\u001b[43mchunked\u001b[49m\u001b[43m,\u001b[49m\n\u001b[0;32m    679\u001b[0m \u001b[43m    \u001b[49m\u001b[43m)\u001b[49m\n\u001b[0;32m    681\u001b[0m \u001b[38;5;28;01mexcept\u001b[39;00m (ProtocolError, \u001b[38;5;167;01mOSError\u001b[39;00m) \u001b[38;5;28;01mas\u001b[39;00m err:\n\u001b[0;32m    682\u001b[0m     \u001b[38;5;28;01mraise\u001b[39;00m \u001b[38;5;167;01mConnectionError\u001b[39;00m(err, request\u001b[38;5;241m=\u001b[39mrequest)\n",
      "File \u001b[1;32mc:\\Users\\loreb\\anaconda3\\envs\\Pinpon\\Lib\\site-packages\\urllib3\\connectionpool.py:789\u001b[0m, in \u001b[0;36mHTTPConnectionPool.urlopen\u001b[1;34m(self, method, url, body, headers, retries, redirect, assert_same_host, timeout, pool_timeout, release_conn, chunked, body_pos, preload_content, decode_content, **response_kw)\u001b[0m\n\u001b[0;32m    786\u001b[0m response_conn \u001b[38;5;241m=\u001b[39m conn \u001b[38;5;28;01mif\u001b[39;00m \u001b[38;5;129;01mnot\u001b[39;00m release_conn \u001b[38;5;28;01melse\u001b[39;00m \u001b[38;5;28;01mNone\u001b[39;00m\n\u001b[0;32m    788\u001b[0m \u001b[38;5;66;03m# Make the request on the HTTPConnection object\u001b[39;00m\n\u001b[1;32m--> 789\u001b[0m response \u001b[38;5;241m=\u001b[39m \u001b[38;5;28;43mself\u001b[39;49m\u001b[38;5;241;43m.\u001b[39;49m\u001b[43m_make_request\u001b[49m\u001b[43m(\u001b[49m\n\u001b[0;32m    790\u001b[0m \u001b[43m    \u001b[49m\u001b[43mconn\u001b[49m\u001b[43m,\u001b[49m\n\u001b[0;32m    791\u001b[0m \u001b[43m    \u001b[49m\u001b[43mmethod\u001b[49m\u001b[43m,\u001b[49m\n\u001b[0;32m    792\u001b[0m \u001b[43m    \u001b[49m\u001b[43murl\u001b[49m\u001b[43m,\u001b[49m\n\u001b[0;32m    793\u001b[0m \u001b[43m    \u001b[49m\u001b[43mtimeout\u001b[49m\u001b[38;5;241;43m=\u001b[39;49m\u001b[43mtimeout_obj\u001b[49m\u001b[43m,\u001b[49m\n\u001b[0;32m    794\u001b[0m \u001b[43m    \u001b[49m\u001b[43mbody\u001b[49m\u001b[38;5;241;43m=\u001b[39;49m\u001b[43mbody\u001b[49m\u001b[43m,\u001b[49m\n\u001b[0;32m    795\u001b[0m \u001b[43m    \u001b[49m\u001b[43mheaders\u001b[49m\u001b[38;5;241;43m=\u001b[39;49m\u001b[43mheaders\u001b[49m\u001b[43m,\u001b[49m\n\u001b[0;32m    796\u001b[0m \u001b[43m    \u001b[49m\u001b[43mchunked\u001b[49m\u001b[38;5;241;43m=\u001b[39;49m\u001b[43mchunked\u001b[49m\u001b[43m,\u001b[49m\n\u001b[0;32m    797\u001b[0m \u001b[43m    \u001b[49m\u001b[43mretries\u001b[49m\u001b[38;5;241;43m=\u001b[39;49m\u001b[43mretries\u001b[49m\u001b[43m,\u001b[49m\n\u001b[0;32m    798\u001b[0m \u001b[43m    \u001b[49m\u001b[43mresponse_conn\u001b[49m\u001b[38;5;241;43m=\u001b[39;49m\u001b[43mresponse_conn\u001b[49m\u001b[43m,\u001b[49m\n\u001b[0;32m    799\u001b[0m \u001b[43m    \u001b[49m\u001b[43mpreload_content\u001b[49m\u001b[38;5;241;43m=\u001b[39;49m\u001b[43mpreload_content\u001b[49m\u001b[43m,\u001b[49m\n\u001b[0;32m    800\u001b[0m \u001b[43m    \u001b[49m\u001b[43mdecode_content\u001b[49m\u001b[38;5;241;43m=\u001b[39;49m\u001b[43mdecode_content\u001b[49m\u001b[43m,\u001b[49m\n\u001b[0;32m    801\u001b[0m \u001b[43m    \u001b[49m\u001b[38;5;241;43m*\u001b[39;49m\u001b[38;5;241;43m*\u001b[39;49m\u001b[43mresponse_kw\u001b[49m\u001b[43m,\u001b[49m\n\u001b[0;32m    802\u001b[0m \u001b[43m\u001b[49m\u001b[43m)\u001b[49m\n\u001b[0;32m    804\u001b[0m \u001b[38;5;66;03m# Everything went great!\u001b[39;00m\n\u001b[0;32m    805\u001b[0m clean_exit \u001b[38;5;241m=\u001b[39m \u001b[38;5;28;01mTrue\u001b[39;00m\n",
      "File \u001b[1;32mc:\\Users\\loreb\\anaconda3\\envs\\Pinpon\\Lib\\site-packages\\urllib3\\connectionpool.py:536\u001b[0m, in \u001b[0;36mHTTPConnectionPool._make_request\u001b[1;34m(self, conn, method, url, body, headers, retries, timeout, chunked, response_conn, preload_content, decode_content, enforce_content_length)\u001b[0m\n\u001b[0;32m    534\u001b[0m \u001b[38;5;66;03m# Receive the response from the server\u001b[39;00m\n\u001b[0;32m    535\u001b[0m \u001b[38;5;28;01mtry\u001b[39;00m:\n\u001b[1;32m--> 536\u001b[0m     response \u001b[38;5;241m=\u001b[39m \u001b[43mconn\u001b[49m\u001b[38;5;241;43m.\u001b[39;49m\u001b[43mgetresponse\u001b[49m\u001b[43m(\u001b[49m\u001b[43m)\u001b[49m\n\u001b[0;32m    537\u001b[0m \u001b[38;5;28;01mexcept\u001b[39;00m (BaseSSLError, \u001b[38;5;167;01mOSError\u001b[39;00m) \u001b[38;5;28;01mas\u001b[39;00m e:\n\u001b[0;32m    538\u001b[0m     \u001b[38;5;28mself\u001b[39m\u001b[38;5;241m.\u001b[39m_raise_timeout(err\u001b[38;5;241m=\u001b[39me, url\u001b[38;5;241m=\u001b[39murl, timeout_value\u001b[38;5;241m=\u001b[39mread_timeout)\n",
      "File \u001b[1;32mc:\\Users\\loreb\\anaconda3\\envs\\Pinpon\\Lib\\site-packages\\urllib3\\connection.py:464\u001b[0m, in \u001b[0;36mHTTPConnection.getresponse\u001b[1;34m(self)\u001b[0m\n\u001b[0;32m    461\u001b[0m \u001b[38;5;28;01mfrom\u001b[39;00m \u001b[38;5;21;01m.\u001b[39;00m\u001b[38;5;21;01mresponse\u001b[39;00m \u001b[38;5;28;01mimport\u001b[39;00m HTTPResponse\n\u001b[0;32m    463\u001b[0m \u001b[38;5;66;03m# Get the response from http.client.HTTPConnection\u001b[39;00m\n\u001b[1;32m--> 464\u001b[0m httplib_response \u001b[38;5;241m=\u001b[39m \u001b[38;5;28;43msuper\u001b[39;49m\u001b[43m(\u001b[49m\u001b[43m)\u001b[49m\u001b[38;5;241;43m.\u001b[39;49m\u001b[43mgetresponse\u001b[49m\u001b[43m(\u001b[49m\u001b[43m)\u001b[49m\n\u001b[0;32m    466\u001b[0m \u001b[38;5;28;01mtry\u001b[39;00m:\n\u001b[0;32m    467\u001b[0m     assert_header_parsing(httplib_response\u001b[38;5;241m.\u001b[39mmsg)\n",
      "File \u001b[1;32mc:\\Users\\loreb\\anaconda3\\envs\\Pinpon\\Lib\\http\\client.py:1428\u001b[0m, in \u001b[0;36mHTTPConnection.getresponse\u001b[1;34m(self)\u001b[0m\n\u001b[0;32m   1426\u001b[0m \u001b[38;5;28;01mtry\u001b[39;00m:\n\u001b[0;32m   1427\u001b[0m     \u001b[38;5;28;01mtry\u001b[39;00m:\n\u001b[1;32m-> 1428\u001b[0m         \u001b[43mresponse\u001b[49m\u001b[38;5;241;43m.\u001b[39;49m\u001b[43mbegin\u001b[49m\u001b[43m(\u001b[49m\u001b[43m)\u001b[49m\n\u001b[0;32m   1429\u001b[0m     \u001b[38;5;28;01mexcept\u001b[39;00m \u001b[38;5;167;01mConnectionError\u001b[39;00m:\n\u001b[0;32m   1430\u001b[0m         \u001b[38;5;28mself\u001b[39m\u001b[38;5;241m.\u001b[39mclose()\n",
      "File \u001b[1;32mc:\\Users\\loreb\\anaconda3\\envs\\Pinpon\\Lib\\http\\client.py:331\u001b[0m, in \u001b[0;36mHTTPResponse.begin\u001b[1;34m(self)\u001b[0m\n\u001b[0;32m    329\u001b[0m \u001b[38;5;66;03m# read until we get a non-100 response\u001b[39;00m\n\u001b[0;32m    330\u001b[0m \u001b[38;5;28;01mwhile\u001b[39;00m \u001b[38;5;28;01mTrue\u001b[39;00m:\n\u001b[1;32m--> 331\u001b[0m     version, status, reason \u001b[38;5;241m=\u001b[39m \u001b[38;5;28;43mself\u001b[39;49m\u001b[38;5;241;43m.\u001b[39;49m\u001b[43m_read_status\u001b[49m\u001b[43m(\u001b[49m\u001b[43m)\u001b[49m\n\u001b[0;32m    332\u001b[0m     \u001b[38;5;28;01mif\u001b[39;00m status \u001b[38;5;241m!=\u001b[39m CONTINUE:\n\u001b[0;32m    333\u001b[0m         \u001b[38;5;28;01mbreak\u001b[39;00m\n",
      "File \u001b[1;32mc:\\Users\\loreb\\anaconda3\\envs\\Pinpon\\Lib\\http\\client.py:292\u001b[0m, in \u001b[0;36mHTTPResponse._read_status\u001b[1;34m(self)\u001b[0m\n\u001b[0;32m    291\u001b[0m \u001b[38;5;28;01mdef\u001b[39;00m \u001b[38;5;21m_read_status\u001b[39m(\u001b[38;5;28mself\u001b[39m):\n\u001b[1;32m--> 292\u001b[0m     line \u001b[38;5;241m=\u001b[39m \u001b[38;5;28mstr\u001b[39m(\u001b[38;5;28;43mself\u001b[39;49m\u001b[38;5;241;43m.\u001b[39;49m\u001b[43mfp\u001b[49m\u001b[38;5;241;43m.\u001b[39;49m\u001b[43mreadline\u001b[49m\u001b[43m(\u001b[49m\u001b[43m_MAXLINE\u001b[49m\u001b[43m \u001b[49m\u001b[38;5;241;43m+\u001b[39;49m\u001b[43m \u001b[49m\u001b[38;5;241;43m1\u001b[39;49m\u001b[43m)\u001b[49m, \u001b[38;5;124m\"\u001b[39m\u001b[38;5;124miso-8859-1\u001b[39m\u001b[38;5;124m\"\u001b[39m)\n\u001b[0;32m    293\u001b[0m     \u001b[38;5;28;01mif\u001b[39;00m \u001b[38;5;28mlen\u001b[39m(line) \u001b[38;5;241m>\u001b[39m _MAXLINE:\n\u001b[0;32m    294\u001b[0m         \u001b[38;5;28;01mraise\u001b[39;00m LineTooLong(\u001b[38;5;124m\"\u001b[39m\u001b[38;5;124mstatus line\u001b[39m\u001b[38;5;124m\"\u001b[39m)\n",
      "File \u001b[1;32mc:\\Users\\loreb\\anaconda3\\envs\\Pinpon\\Lib\\socket.py:708\u001b[0m, in \u001b[0;36mSocketIO.readinto\u001b[1;34m(self, b)\u001b[0m\n\u001b[0;32m    706\u001b[0m \u001b[38;5;28;01mwhile\u001b[39;00m \u001b[38;5;28;01mTrue\u001b[39;00m:\n\u001b[0;32m    707\u001b[0m     \u001b[38;5;28;01mtry\u001b[39;00m:\n\u001b[1;32m--> 708\u001b[0m         \u001b[38;5;28;01mreturn\u001b[39;00m \u001b[38;5;28;43mself\u001b[39;49m\u001b[38;5;241;43m.\u001b[39;49m\u001b[43m_sock\u001b[49m\u001b[38;5;241;43m.\u001b[39;49m\u001b[43mrecv_into\u001b[49m\u001b[43m(\u001b[49m\u001b[43mb\u001b[49m\u001b[43m)\u001b[49m\n\u001b[0;32m    709\u001b[0m     \u001b[38;5;28;01mexcept\u001b[39;00m timeout:\n\u001b[0;32m    710\u001b[0m         \u001b[38;5;28mself\u001b[39m\u001b[38;5;241m.\u001b[39m_timeout_occurred \u001b[38;5;241m=\u001b[39m \u001b[38;5;28;01mTrue\u001b[39;00m\n",
      "\u001b[1;31mKeyboardInterrupt\u001b[0m: "
     ]
    }
   ],
   "source": [
    "import requests\n",
    "from tqdm import tqdm\n",
    "\n",
    "distance_8 = []\n",
    "temps_api_8 = []\n",
    "\n",
    "for i in tqdm(list_df[7].index.values) :\n",
    "    \n",
    "    url = f\"http://router.project-osrm.org/route/v1/driving/{list_df[7].Longitude_Station[i]},{list_df[7].Latitude_Station[i]};{list_df[7].Longitude[i]},{list_df[7].Latitude[i]}?alternatives=false&overview=false&skip_waypoints=true\"\n",
    "    reponse = requests.get(url)\n",
    "    data = reponse.json()\n",
    "   \n",
    "    # si la requete n'a pas aboutie on met des NA\n",
    "    if reponse.status_code != 200:\n",
    "        print(\"bad request index\",i)\n",
    "        distance_8.append(np.nan)\n",
    "        temps_api_8.append(np.nan)\n",
    "\n",
    "\n",
    "    else :\n",
    "    # select le dico avec distance\n",
    "        dst = data['routes'][0]['distance']\n",
    "        temps = data['routes'][0]['duration']\n",
    "        distance_8.append(dst)\n",
    "        temps_api_8.append(temps)\n",
    "\n",
    "# mise en un dataframe des distance     \n",
    "dst_8 = pd.DataFrame(index = list_df[7].index, data = {'dst_StationIncident': distance_8, 'tempsAPI' : temps_api_8})    \n",
    "\n",
    "# ajout de la distance station-incident au dataframe ssgroupe\n",
    "list_df[7] = pd.concat([list_df[7], dst_8], axis = 1)\n",
    "\n",
    "\n",
    "# save de la liste de df\n",
    "import pickle\n",
    "\n",
    "with open(\"Data/df_dist/liste_df_API_dwell\", \"wb\") as fp:\n",
    "    pickle.dump(list_df,fp)\n"
   ]
  },
  {
   "cell_type": "code",
   "execution_count": 111,
   "id": "4676cdce",
   "metadata": {},
   "outputs": [
    {
     "data": {
      "text/plain": [
       "172527"
      ]
     },
     "execution_count": 111,
     "metadata": {},
     "output_type": "execute_result"
    }
   ],
   "source": [
    "i"
   ]
  },
  {
   "cell_type": "code",
   "execution_count": 99,
   "id": "0290f13e",
   "metadata": {},
   "outputs": [
    {
     "data": {
      "text/plain": [
       "17081"
      ]
     },
     "execution_count": 99,
     "metadata": {},
     "output_type": "execute_result"
    }
   ],
   "source": [
    "len(distance_8)"
   ]
  },
  {
   "cell_type": "code",
   "execution_count": null,
   "id": "7dafc6cc",
   "metadata": {},
   "outputs": [],
   "source": [
    "## stop du l'api à la ieme ligne 17081\n",
    "# reprise pour finir le dernier df"
   ]
  },
  {
   "cell_type": "code",
   "execution_count": 115,
   "id": "7e2e61f6",
   "metadata": {},
   "outputs": [
    {
     "data": {
      "text/plain": [
       "172527"
      ]
     },
     "execution_count": 115,
     "metadata": {},
     "output_type": "execute_result"
    }
   ],
   "source": [
    "list_df[7].index.values[17081]"
   ]
  },
  {
   "cell_type": "code",
   "execution_count": 119,
   "id": "d325302a",
   "metadata": {},
   "outputs": [
    {
     "data": {
      "text/plain": [
       "2394.5"
      ]
     },
     "execution_count": 119,
     "metadata": {},
     "output_type": "execute_result"
    }
   ],
   "source": [
    "distance_8[17080]"
   ]
  },
  {
   "cell_type": "code",
   "execution_count": 102,
   "id": "ddac317f",
   "metadata": {},
   "outputs": [],
   "source": [
    "dt_8 = pd.DataFrame(distance_8)\n",
    "dt_8.to_csv(\"Data/df_dist/Distance8_dwell.csv\",index=True)"
   ]
  },
  {
   "cell_type": "code",
   "execution_count": 109,
   "id": "c6169582",
   "metadata": {},
   "outputs": [],
   "source": [
    "dt_8 = pd.DataFrame({\"dst\" : distance_8,\n",
    "              \"index\" : list(range(155446,172527))})\n",
    "dt_8.to_csv(\"Data/df_dist/Distance8_dwell.csv\",index=True)"
   ]
  },
  {
   "cell_type": "code",
   "execution_count": null,
   "id": "ed6a4c09",
   "metadata": {},
   "outputs": [],
   "source": []
  },
  {
   "cell_type": "code",
   "execution_count": null,
   "id": "5e2b9ce1",
   "metadata": {},
   "outputs": [],
   "source": [
    "for p in range(i,list_df[7].index.values.max()) :\n",
    "    print(p)"
   ]
  },
  {
   "cell_type": "code",
   "execution_count": 125,
   "id": "738235b5",
   "metadata": {},
   "outputs": [
    {
     "data": {
      "text/plain": [
       "177651"
      ]
     },
     "execution_count": 125,
     "metadata": {},
     "output_type": "execute_result"
    }
   ],
   "source": [
    "list_df[7].index.values.max()"
   ]
  },
  {
   "cell_type": "code",
   "execution_count": 129,
   "id": "0492c69d",
   "metadata": {},
   "outputs": [
    {
     "name": "stderr",
     "output_type": "stream",
     "text": [
      "100%|██████████| 5124/5124 [43:05<00:00,  1.98it/s]\n"
     ]
    },
    {
     "ename": "ValueError",
     "evalue": "Length of values (24597) does not match length of index (22206)",
     "output_type": "error",
     "traceback": [
      "\u001b[1;31m---------------------------------------------------------------------------\u001b[0m",
      "\u001b[1;31mValueError\u001b[0m                                Traceback (most recent call last)",
      "Cell \u001b[1;32mIn[129], line 28\u001b[0m\n\u001b[0;32m     25\u001b[0m         temps_api_8\u001b[38;5;241m.\u001b[39mappend(temps)\n\u001b[0;32m     27\u001b[0m \u001b[38;5;66;03m# mise en un dataframe des distance     \u001b[39;00m\n\u001b[1;32m---> 28\u001b[0m dst_8 \u001b[38;5;241m=\u001b[39m \u001b[43mpd\u001b[49m\u001b[38;5;241;43m.\u001b[39;49m\u001b[43mDataFrame\u001b[49m\u001b[43m(\u001b[49m\u001b[43mindex\u001b[49m\u001b[43m \u001b[49m\u001b[38;5;241;43m=\u001b[39;49m\u001b[43m \u001b[49m\u001b[43mlist_df\u001b[49m\u001b[43m[\u001b[49m\u001b[38;5;241;43m7\u001b[39;49m\u001b[43m]\u001b[49m\u001b[38;5;241;43m.\u001b[39;49m\u001b[43mindex\u001b[49m\u001b[43m,\u001b[49m\u001b[43m \u001b[49m\u001b[43mdata\u001b[49m\u001b[43m \u001b[49m\u001b[38;5;241;43m=\u001b[39;49m\u001b[43m \u001b[49m\u001b[43m{\u001b[49m\u001b[38;5;124;43m'\u001b[39;49m\u001b[38;5;124;43mdst_StationIncident\u001b[39;49m\u001b[38;5;124;43m'\u001b[39;49m\u001b[43m:\u001b[49m\u001b[43m \u001b[49m\u001b[43mdistance_8\u001b[49m\u001b[43m,\u001b[49m\u001b[43m \u001b[49m\u001b[38;5;124;43m'\u001b[39;49m\u001b[38;5;124;43mtempsAPI\u001b[39;49m\u001b[38;5;124;43m'\u001b[39;49m\u001b[43m \u001b[49m\u001b[43m:\u001b[49m\u001b[43m \u001b[49m\u001b[43mtemps_api_8\u001b[49m\u001b[43m}\u001b[49m\u001b[43m)\u001b[49m    \n\u001b[0;32m     30\u001b[0m \u001b[38;5;66;03m# ajout de la distance station-incident au dataframe ssgroupe\u001b[39;00m\n\u001b[0;32m     31\u001b[0m list_df[\u001b[38;5;241m7\u001b[39m] \u001b[38;5;241m=\u001b[39m pd\u001b[38;5;241m.\u001b[39mconcat([list_df[\u001b[38;5;241m7\u001b[39m], dst_8], axis \u001b[38;5;241m=\u001b[39m \u001b[38;5;241m1\u001b[39m)\n",
      "File \u001b[1;32mc:\\Users\\loreb\\anaconda3\\envs\\Pinpon\\Lib\\site-packages\\pandas\\core\\frame.py:778\u001b[0m, in \u001b[0;36mDataFrame.__init__\u001b[1;34m(self, data, index, columns, dtype, copy)\u001b[0m\n\u001b[0;32m    772\u001b[0m     mgr \u001b[38;5;241m=\u001b[39m \u001b[38;5;28mself\u001b[39m\u001b[38;5;241m.\u001b[39m_init_mgr(\n\u001b[0;32m    773\u001b[0m         data, axes\u001b[38;5;241m=\u001b[39m{\u001b[38;5;124m\"\u001b[39m\u001b[38;5;124mindex\u001b[39m\u001b[38;5;124m\"\u001b[39m: index, \u001b[38;5;124m\"\u001b[39m\u001b[38;5;124mcolumns\u001b[39m\u001b[38;5;124m\"\u001b[39m: columns}, dtype\u001b[38;5;241m=\u001b[39mdtype, copy\u001b[38;5;241m=\u001b[39mcopy\n\u001b[0;32m    774\u001b[0m     )\n\u001b[0;32m    776\u001b[0m \u001b[38;5;28;01melif\u001b[39;00m \u001b[38;5;28misinstance\u001b[39m(data, \u001b[38;5;28mdict\u001b[39m):\n\u001b[0;32m    777\u001b[0m     \u001b[38;5;66;03m# GH#38939 de facto copy defaults to False only in non-dict cases\u001b[39;00m\n\u001b[1;32m--> 778\u001b[0m     mgr \u001b[38;5;241m=\u001b[39m \u001b[43mdict_to_mgr\u001b[49m\u001b[43m(\u001b[49m\u001b[43mdata\u001b[49m\u001b[43m,\u001b[49m\u001b[43m \u001b[49m\u001b[43mindex\u001b[49m\u001b[43m,\u001b[49m\u001b[43m \u001b[49m\u001b[43mcolumns\u001b[49m\u001b[43m,\u001b[49m\u001b[43m \u001b[49m\u001b[43mdtype\u001b[49m\u001b[38;5;241;43m=\u001b[39;49m\u001b[43mdtype\u001b[49m\u001b[43m,\u001b[49m\u001b[43m \u001b[49m\u001b[43mcopy\u001b[49m\u001b[38;5;241;43m=\u001b[39;49m\u001b[43mcopy\u001b[49m\u001b[43m,\u001b[49m\u001b[43m \u001b[49m\u001b[43mtyp\u001b[49m\u001b[38;5;241;43m=\u001b[39;49m\u001b[43mmanager\u001b[49m\u001b[43m)\u001b[49m\n\u001b[0;32m    779\u001b[0m \u001b[38;5;28;01melif\u001b[39;00m \u001b[38;5;28misinstance\u001b[39m(data, ma\u001b[38;5;241m.\u001b[39mMaskedArray):\n\u001b[0;32m    780\u001b[0m     \u001b[38;5;28;01mfrom\u001b[39;00m \u001b[38;5;21;01mnumpy\u001b[39;00m\u001b[38;5;21;01m.\u001b[39;00m\u001b[38;5;21;01mma\u001b[39;00m \u001b[38;5;28;01mimport\u001b[39;00m mrecords\n",
      "File \u001b[1;32mc:\\Users\\loreb\\anaconda3\\envs\\Pinpon\\Lib\\site-packages\\pandas\\core\\internals\\construction.py:503\u001b[0m, in \u001b[0;36mdict_to_mgr\u001b[1;34m(data, index, columns, dtype, typ, copy)\u001b[0m\n\u001b[0;32m    499\u001b[0m     \u001b[38;5;28;01melse\u001b[39;00m:\n\u001b[0;32m    500\u001b[0m         \u001b[38;5;66;03m# dtype check to exclude e.g. range objects, scalars\u001b[39;00m\n\u001b[0;32m    501\u001b[0m         arrays \u001b[38;5;241m=\u001b[39m [x\u001b[38;5;241m.\u001b[39mcopy() \u001b[38;5;28;01mif\u001b[39;00m \u001b[38;5;28mhasattr\u001b[39m(x, \u001b[38;5;124m\"\u001b[39m\u001b[38;5;124mdtype\u001b[39m\u001b[38;5;124m\"\u001b[39m) \u001b[38;5;28;01melse\u001b[39;00m x \u001b[38;5;28;01mfor\u001b[39;00m x \u001b[38;5;129;01min\u001b[39;00m arrays]\n\u001b[1;32m--> 503\u001b[0m \u001b[38;5;28;01mreturn\u001b[39;00m \u001b[43marrays_to_mgr\u001b[49m\u001b[43m(\u001b[49m\u001b[43marrays\u001b[49m\u001b[43m,\u001b[49m\u001b[43m \u001b[49m\u001b[43mcolumns\u001b[49m\u001b[43m,\u001b[49m\u001b[43m \u001b[49m\u001b[43mindex\u001b[49m\u001b[43m,\u001b[49m\u001b[43m \u001b[49m\u001b[43mdtype\u001b[49m\u001b[38;5;241;43m=\u001b[39;49m\u001b[43mdtype\u001b[49m\u001b[43m,\u001b[49m\u001b[43m \u001b[49m\u001b[43mtyp\u001b[49m\u001b[38;5;241;43m=\u001b[39;49m\u001b[43mtyp\u001b[49m\u001b[43m,\u001b[49m\u001b[43m \u001b[49m\u001b[43mconsolidate\u001b[49m\u001b[38;5;241;43m=\u001b[39;49m\u001b[43mcopy\u001b[49m\u001b[43m)\u001b[49m\n",
      "File \u001b[1;32mc:\\Users\\loreb\\anaconda3\\envs\\Pinpon\\Lib\\site-packages\\pandas\\core\\internals\\construction.py:119\u001b[0m, in \u001b[0;36marrays_to_mgr\u001b[1;34m(arrays, columns, index, dtype, verify_integrity, typ, consolidate)\u001b[0m\n\u001b[0;32m    116\u001b[0m         index \u001b[38;5;241m=\u001b[39m ensure_index(index)\n\u001b[0;32m    118\u001b[0m     \u001b[38;5;66;03m# don't force copy because getting jammed in an ndarray anyway\u001b[39;00m\n\u001b[1;32m--> 119\u001b[0m     arrays, refs \u001b[38;5;241m=\u001b[39m \u001b[43m_homogenize\u001b[49m\u001b[43m(\u001b[49m\u001b[43marrays\u001b[49m\u001b[43m,\u001b[49m\u001b[43m \u001b[49m\u001b[43mindex\u001b[49m\u001b[43m,\u001b[49m\u001b[43m \u001b[49m\u001b[43mdtype\u001b[49m\u001b[43m)\u001b[49m\n\u001b[0;32m    120\u001b[0m     \u001b[38;5;66;03m# _homogenize ensures\u001b[39;00m\n\u001b[0;32m    121\u001b[0m     \u001b[38;5;66;03m#  - all(len(x) == len(index) for x in arrays)\u001b[39;00m\n\u001b[0;32m    122\u001b[0m     \u001b[38;5;66;03m#  - all(x.ndim == 1 for x in arrays)\u001b[39;00m\n\u001b[1;32m   (...)\u001b[0m\n\u001b[0;32m    125\u001b[0m \n\u001b[0;32m    126\u001b[0m \u001b[38;5;28;01melse\u001b[39;00m:\n\u001b[0;32m    127\u001b[0m     index \u001b[38;5;241m=\u001b[39m ensure_index(index)\n",
      "File \u001b[1;32mc:\\Users\\loreb\\anaconda3\\envs\\Pinpon\\Lib\\site-packages\\pandas\\core\\internals\\construction.py:630\u001b[0m, in \u001b[0;36m_homogenize\u001b[1;34m(data, index, dtype)\u001b[0m\n\u001b[0;32m    627\u001b[0m         val \u001b[38;5;241m=\u001b[39m lib\u001b[38;5;241m.\u001b[39mfast_multiget(val, oindex\u001b[38;5;241m.\u001b[39m_values, default\u001b[38;5;241m=\u001b[39mnp\u001b[38;5;241m.\u001b[39mnan)\n\u001b[0;32m    629\u001b[0m     val \u001b[38;5;241m=\u001b[39m sanitize_array(val, index, dtype\u001b[38;5;241m=\u001b[39mdtype, copy\u001b[38;5;241m=\u001b[39m\u001b[38;5;28;01mFalse\u001b[39;00m)\n\u001b[1;32m--> 630\u001b[0m     \u001b[43mcom\u001b[49m\u001b[38;5;241;43m.\u001b[39;49m\u001b[43mrequire_length_match\u001b[49m\u001b[43m(\u001b[49m\u001b[43mval\u001b[49m\u001b[43m,\u001b[49m\u001b[43m \u001b[49m\u001b[43mindex\u001b[49m\u001b[43m)\u001b[49m\n\u001b[0;32m    631\u001b[0m     refs\u001b[38;5;241m.\u001b[39mappend(\u001b[38;5;28;01mNone\u001b[39;00m)\n\u001b[0;32m    633\u001b[0m homogenized\u001b[38;5;241m.\u001b[39mappend(val)\n",
      "File \u001b[1;32mc:\\Users\\loreb\\anaconda3\\envs\\Pinpon\\Lib\\site-packages\\pandas\\core\\common.py:573\u001b[0m, in \u001b[0;36mrequire_length_match\u001b[1;34m(data, index)\u001b[0m\n\u001b[0;32m    569\u001b[0m \u001b[38;5;250m\u001b[39m\u001b[38;5;124;03m\"\"\"\u001b[39;00m\n\u001b[0;32m    570\u001b[0m \u001b[38;5;124;03mCheck the length of data matches the length of the index.\u001b[39;00m\n\u001b[0;32m    571\u001b[0m \u001b[38;5;124;03m\"\"\"\u001b[39;00m\n\u001b[0;32m    572\u001b[0m \u001b[38;5;28;01mif\u001b[39;00m \u001b[38;5;28mlen\u001b[39m(data) \u001b[38;5;241m!=\u001b[39m \u001b[38;5;28mlen\u001b[39m(index):\n\u001b[1;32m--> 573\u001b[0m     \u001b[38;5;28;01mraise\u001b[39;00m \u001b[38;5;167;01mValueError\u001b[39;00m(\n\u001b[0;32m    574\u001b[0m         \u001b[38;5;124m\"\u001b[39m\u001b[38;5;124mLength of values \u001b[39m\u001b[38;5;124m\"\u001b[39m\n\u001b[0;32m    575\u001b[0m         \u001b[38;5;124mf\u001b[39m\u001b[38;5;124m\"\u001b[39m\u001b[38;5;124m(\u001b[39m\u001b[38;5;132;01m{\u001b[39;00m\u001b[38;5;28mlen\u001b[39m(data)\u001b[38;5;132;01m}\u001b[39;00m\u001b[38;5;124m) \u001b[39m\u001b[38;5;124m\"\u001b[39m\n\u001b[0;32m    576\u001b[0m         \u001b[38;5;124m\"\u001b[39m\u001b[38;5;124mdoes not match length of index \u001b[39m\u001b[38;5;124m\"\u001b[39m\n\u001b[0;32m    577\u001b[0m         \u001b[38;5;124mf\u001b[39m\u001b[38;5;124m\"\u001b[39m\u001b[38;5;124m(\u001b[39m\u001b[38;5;132;01m{\u001b[39;00m\u001b[38;5;28mlen\u001b[39m(index)\u001b[38;5;132;01m}\u001b[39;00m\u001b[38;5;124m)\u001b[39m\u001b[38;5;124m\"\u001b[39m\n\u001b[0;32m    578\u001b[0m     )\n",
      "\u001b[1;31mValueError\u001b[0m: Length of values (24597) does not match length of index (22206)"
     ]
    }
   ],
   "source": [
    "# second df de 8eme\n",
    "\n",
    "import requests\n",
    "from tqdm import tqdm\n",
    "\n",
    "\n",
    "for j in tqdm(range(i,list_df[7].index.values.max())) :\n",
    "    \n",
    "    url = f\"http://router.project-osrm.org/route/v1/driving/{list_df[7].Longitude_Station[j]},{list_df[7].Latitude_Station[j]};{list_df[7].Longitude[j]},{list_df[7].Latitude[j]}?alternatives=false&overview=false&skip_waypoints=true\"\n",
    "    reponse = requests.get(url)\n",
    "    data = reponse.json()\n",
    "   \n",
    "    # si la requete n'a pas aboutie on met des NA\n",
    "    if reponse.status_code != 200:\n",
    "        print(\"bad request index\",j)\n",
    "        distance_8.append(np.nan)\n",
    "        temps_api_8.append(np.nan)\n",
    "\n",
    "\n",
    "    else :\n",
    "    # select le dico avec distance\n",
    "        dst = data['routes'][0]['distance']\n",
    "        temps = data['routes'][0]['duration']\n",
    "        distance_8.append(dst)\n",
    "        temps_api_8.append(temps)\n",
    "\n",
    "# mise en un dataframe des distance     \n",
    "dst_8 = pd.DataFrame(index = list_df[7].index, data = {'dst_StationIncident': distance_8, 'tempsAPI' : temps_api_8})    \n",
    "\n",
    "# ajout de la distance station-incident au dataframe ssgroupe\n",
    "list_df[7] = pd.concat([list_df[7], dst_8], axis = 1)\n",
    "\n",
    "\n",
    "# save de la liste de df\n",
    "import pickle\n",
    "\n",
    "with open(\"Data/df_dist/liste_df_API_dwell\", \"wb\") as fp:\n",
    "    pickle.dump(list_df,fp)\n"
   ]
  },
  {
   "cell_type": "code",
   "execution_count": 133,
   "id": "aa69a8f4",
   "metadata": {},
   "outputs": [
    {
     "data": {
      "text/plain": [
       "24597"
      ]
     },
     "execution_count": 133,
     "metadata": {},
     "output_type": "execute_result"
    }
   ],
   "source": [
    "len(distance_8)"
   ]
  },
  {
   "cell_type": "code",
   "execution_count": 134,
   "id": "f5d21ecc",
   "metadata": {},
   "outputs": [
    {
     "data": {
      "text/plain": [
       "22206"
      ]
     },
     "execution_count": 134,
     "metadata": {},
     "output_type": "execute_result"
    }
   ],
   "source": [
    "len(list_df[7])\n"
   ]
  },
  {
   "cell_type": "code",
   "execution_count": 135,
   "id": "32065ad9",
   "metadata": {
    "scrolled": true
   },
   "outputs": [
    {
     "data": {
      "text/plain": [
       "[        IncidentNumber   Latitude  Longitude  Latitude_Station  \\\n",
       " 0      000016-01012020  51.500349  -0.097501         51.486931   \n",
       " 1      000020-01012020  51.471091  -0.363656         51.474977   \n",
       " 2      000023-01012020  51.530788  -0.202923         51.522730   \n",
       " 3      000029-01012020  51.589033  -0.076475         51.592478   \n",
       " 4      000030-01012020  51.483155  -0.204797         51.477907   \n",
       " ...                ...        ...        ...               ...   \n",
       " 22202  117100-11092020  51.642429  -0.153707         51.630511   \n",
       " 22203  117102-11092020  51.527545  -0.055999         51.527881   \n",
       " 22204  117104-11092020  51.425383  -0.077600         51.425984   \n",
       " 22205  117105-11092020  51.406346  -0.068334         51.369071   \n",
       " 22206  117116-11092020  51.482985   0.176872         51.470699   \n",
       " \n",
       "        Longitude_Station  dst_StationIncident  tempsAPI  \n",
       " 0              -0.073523               2960.7     418.0  \n",
       " 1              -0.343271               1784.8     250.2  \n",
       " 2              -0.212848               1953.9     303.4  \n",
       " 3              -0.071637               1284.4     200.5  \n",
       " 4              -0.200913               1366.8     218.3  \n",
       " ...                  ...                  ...       ...  \n",
       " 22202          -0.127387               3063.8     335.2  \n",
       " 22203          -0.053345                295.8      57.7  \n",
       " 22204          -0.105596               2406.6     354.6  \n",
       " 22205          -0.105174               6055.8     599.0  \n",
       " 22206           0.045140              13185.6    1095.6  \n",
       " \n",
       " [22207 rows x 7 columns],\n",
       "         IncidentNumber   Latitude  Longitude  Latitude_Station  \\\n",
       " 22207  117123-11092020  51.480806  -0.484281         51.480152   \n",
       " 22208  117125-11092020  51.498260  -0.025549         51.500806   \n",
       " 22209  117128-11092020  51.596600  -0.273962         51.615246   \n",
       " 22210  117137-11092020  51.589688  -0.116869         51.586510   \n",
       " 22211  117141-11092020  51.564958  -0.089033         51.562023   \n",
       " ...                ...        ...        ...               ...   \n",
       " 44409  138809-15102021  51.519302  -0.216348         51.522730   \n",
       " 44410  138813-15102021  51.345285  -0.073774         51.351839   \n",
       " 44411  138823-15102021  51.522254  -0.174429         51.520220   \n",
       " 44412  138825-15102021  51.577635  -0.150561         51.586510   \n",
       " 44413  138828-15102021  51.487627  -0.203181         51.477907   \n",
       " \n",
       "        Longitude_Station  dst_StationIncident  tempsAPI  \n",
       " 22207          -0.458775               1976.5     187.4  \n",
       " 22208          -0.025702                333.0      74.6  \n",
       " 22209          -0.243469               3495.2     379.2  \n",
       " 22210          -0.127263                968.7     130.5  \n",
       " 22211          -0.076535               1811.5     285.4  \n",
       " ...                  ...                  ...       ...  \n",
       " 44409          -0.212848                645.9      92.4  \n",
       " 44410          -0.023980               4727.2     487.3  \n",
       " 44411          -0.183015               1113.6     175.3  \n",
       " 44412          -0.127263               2647.5     366.3  \n",
       " 44413          -0.200913               1687.6     258.6  \n",
       " \n",
       " [22207 rows x 7 columns],\n",
       "         IncidentNumber   Latitude  Longitude  Latitude_Station  \\\n",
       " 44414  138835-15102021  51.487605  -0.201741         51.496332   \n",
       " 44415  138837-15102021  51.476449  -0.012091         51.474079   \n",
       " 44416  138843-15102021  51.487627  -0.203181         51.477907   \n",
       " 44417  138857-15102021  51.544655  -0.169205         51.551785   \n",
       " 44418  138860-15102021  51.533764  -0.051408         51.527881   \n",
       " ...                ...        ...        ...               ...   \n",
       " 66616  026996-22022022  51.476502  -0.124414         51.493095   \n",
       " 66617  026997-22022022  51.484377   0.100601         51.470699   \n",
       " 66618  026998-22022022  51.528020  -0.084813         51.526472   \n",
       " 66619  026999-22022022  51.552635  -0.050602         51.548578   \n",
       " 66620  027002-22022022  51.401073  -0.075745         51.385860   \n",
       " \n",
       "        Longitude_Station  dst_StationIncident  tempsAPI  \n",
       " 44414          -0.223872               2517.4     393.6  \n",
       " 44415          -0.013630                507.5      63.7  \n",
       " 44416          -0.200913               1687.6     258.6  \n",
       " 44417          -0.192907               2441.6     400.8  \n",
       " 44418          -0.053345               1275.5     210.9  \n",
       " ...                  ...                  ...       ...  \n",
       " 66616          -0.122249               2591.8     440.1  \n",
       " 66617           0.045140               6209.1     653.1  \n",
       " 66618          -0.085432                578.9     110.2  \n",
       " 66619          -0.043865               1086.1     167.6  \n",
       " 66620          -0.062312               2288.1     247.9  \n",
       " \n",
       " [22207 rows x 7 columns],\n",
       "         IncidentNumber   Latitude  Longitude  Latitude_Station  \\\n",
       " 66621  027004-22022022  51.530479  -0.070292         51.527881   \n",
       " 66622  027008-22022022  51.591347  -0.346345         51.590838   \n",
       " 66623  027009-22022022  51.500775  -0.181051         51.502216   \n",
       " 66624  027010-22022022  51.499380  -0.093218         51.510415   \n",
       " 66625  027012-22022022  51.541735   0.160928         51.559509   \n",
       " ...                ...        ...        ...               ...   \n",
       " 88823  101820-09072022  51.367229  -0.095840         51.369071   \n",
       " 88824  101848-09072022  51.490127   0.080697         51.470699   \n",
       " 88825  101852-09072022  51.419660  -0.057704         51.442525   \n",
       " 88826  101853-09072022  51.516618   0.057402         51.520203   \n",
       " 88827  101856-09072022  51.475732  -0.076924         51.486931   \n",
       " \n",
       "        Longitude_Station  dst_StationIncident  tempsAPI  \n",
       " 66621          -0.053345               1824.6     312.6  \n",
       " 66622          -0.366309               1838.3     228.6  \n",
       " 66623          -0.189648               1084.2     169.2  \n",
       " 66624          -0.089807               2015.2     312.5  \n",
       " 66625           0.156807               2898.9     266.4  \n",
       " ...                  ...                  ...       ...  \n",
       " 88823          -0.105174               1629.5     143.5  \n",
       " 88824           0.045140               4882.7     626.9  \n",
       " 88825          -0.045050               3947.5     526.1  \n",
       " 88826           0.031673               2385.3     273.0  \n",
       " 88827          -0.073523               2077.4     337.0  \n",
       " \n",
       " [22207 rows x 7 columns],\n",
       "          IncidentNumber   Latitude  Longitude  Latitude_Station  \\\n",
       " 88828   101859-09072022  51.474556  -0.172014         51.467137   \n",
       " 88829   101861-09072022  51.378191  -0.162922         51.397121   \n",
       " 88830   101871-09072022  51.459150   0.152705         51.464485   \n",
       " 88831   101872-09072022  51.382530   0.113179         51.371933   \n",
       " 88832   101874-09072022  51.499076  -0.307906         51.511679   \n",
       " ...                 ...        ...        ...               ...   \n",
       " 111029  183583-08112022  51.481475  -0.272552         51.490467   \n",
       " 111030  183584-08112022  51.509502   0.000877         51.510833   \n",
       " 111031  183586-08112022  51.551638   0.008496         51.543719   \n",
       " 111032  183590-08112022  51.519626  -0.178858         51.520220   \n",
       " 111033  183591-08112022  51.427346  -0.201230         51.415558   \n",
       " \n",
       "         Longitude_Station  dst_StationIncident  tempsAPI  \n",
       " 88828           -0.169264               1256.5     189.9  \n",
       " 88829           -0.172802               3267.3     335.9  \n",
       " 88830            0.155119                621.7      35.3  \n",
       " 88831            0.110864               1888.7     239.1  \n",
       " 88832           -0.314720               1800.6     265.9  \n",
       " ...                   ...                  ...       ...  \n",
       " 111029          -0.268940               1437.2     220.1  \n",
       " 111030          -0.015791               1782.5     208.7  \n",
       " 111031           0.011435               1525.5     195.9  \n",
       " 111032          -0.183015                586.1      98.4  \n",
       " 111033          -0.197346               1714.7     271.8  \n",
       " \n",
       " [22206 rows x 7 columns],\n",
       "          IncidentNumber   Latitude  Longitude  Latitude_Station  \\\n",
       " 111034  183592-08112022  51.602549  -0.250631         51.615246   \n",
       " 111035  183595-08112022  51.499965  -0.186847         51.502216   \n",
       " 111036  183597-08112022  51.477193  -0.111425         51.463652   \n",
       " 111037  183599-08112022  51.327593  -0.091740         51.331781   \n",
       " 111038  183600-08112022  51.555641  -0.069227         51.562023   \n",
       " ...                 ...        ...        ...               ...   \n",
       " 133235  031944-05032023  51.469812  -0.274433         51.467464   \n",
       " 133236  031945-05032023  51.420417   0.004175         51.407021   \n",
       " 133237  031947-05032023  51.484599  -0.240748         51.477907   \n",
       " 133238  031950-05032023  51.479121  -0.010535         51.484856   \n",
       " 133239  031958-05032023  51.529868   0.170459         51.564580   \n",
       " \n",
       "         Longitude_Station  dst_StationIncident  tempsAPI  \n",
       " 111034          -0.243469               2460.1     266.1  \n",
       " 111035          -0.189648                594.7      89.9  \n",
       " 111036          -0.109363               2430.5     419.5  \n",
       " 111037          -0.124999               3338.9     378.3  \n",
       " 111038          -0.076535               1594.3     269.6  \n",
       " ...                   ...                  ...       ...  \n",
       " 133235          -0.284855               1622.2     200.8  \n",
       " 133236           0.017033               2328.1     283.1  \n",
       " 133237          -0.200913               5595.2     850.6  \n",
       " 133238          -0.033834               2375.5     338.4  \n",
       " 133239           0.220550               7673.4     723.3  \n",
       " \n",
       " [22206 rows x 7 columns],\n",
       "          IncidentNumber   Latitude  Longitude  Latitude_Station  \\\n",
       " 133240  031959-05032023  51.418991  -0.184299         51.415558   \n",
       " 133241  031960-05032023  51.473903  -0.187880         51.456522   \n",
       " 133242  031964-05032023  51.477269  -0.061019         51.474156   \n",
       " 133243  031967-05032023  51.463942  -0.016954         51.457119   \n",
       " 133244  031972-05032023  51.526689  -0.113702         51.512491   \n",
       " ...                 ...        ...        ...               ...   \n",
       " 155441  102119-09072023  51.536459  -0.106088         51.526472   \n",
       " 155442  102120-09072023  51.473207   0.071287         51.470699   \n",
       " 155443  102121-09072023  51.548992   0.005495         51.543719   \n",
       " 155444  102127-09072023  51.455265   0.017216         51.457119   \n",
       " 155445  102130-09072023  51.550674  -0.151655         51.552703   \n",
       " \n",
       "         Longitude_Station  dst_StationIncident  tempsAPI  \n",
       " 133240          -0.197346               1395.9     238.0  \n",
       " 133241          -0.201437               3121.4     394.5  \n",
       " 133242          -0.077889               1456.7     227.2  \n",
       " 133243          -0.013364               1189.9     153.3  \n",
       " 133244          -0.130055               2680.6     460.1  \n",
       " ...                   ...                  ...       ...  \n",
       " 155441          -0.085432               2578.7     422.5  \n",
       " 155442           0.045140               2413.2     300.5  \n",
       " 155443           0.011435               1052.9     146.9  \n",
       " 155444          -0.013364               2680.8     343.1  \n",
       " 155445          -0.141720               2345.2     353.9  \n",
       " \n",
       " [22206 rows x 7 columns],\n",
       "          IncidentNumber   Latitude  Longitude  Latitude_Station  \\\n",
       " 155446  102132-09072023  51.491179  -0.142539         51.493095   \n",
       " 155447  102133-09072023  51.558901   0.004488         51.543719   \n",
       " 155448  102135-09072023  51.589282  -0.265577         51.603653   \n",
       " 155449  102136-09072023  51.354261  -0.018820         51.351839   \n",
       " 155450  102138-09072023  51.620279  -0.174831         51.598092   \n",
       " ...                 ...        ...        ...               ...   \n",
       " 177647  170385-31102023  51.424740  -0.038789         51.408005   \n",
       " 177648  170388-31102023  51.462300  -0.080368         51.474156   \n",
       " 177649  170390-31102023  51.451279  -0.066438         51.473603   \n",
       " 177650  170391-31102023  51.602131  -0.410933         51.590838   \n",
       " 177651  170394-31102023  51.506256  -0.245678         51.507042   \n",
       " \n",
       "         Longitude_Station  \n",
       " 155446          -0.122249  \n",
       " 155447           0.011435  \n",
       " 155448          -0.297622  \n",
       " 155449          -0.023980  \n",
       " 155450          -0.179071  \n",
       " ...                   ...  \n",
       " 177647          -0.033984  \n",
       " 177648          -0.077889  \n",
       " 177649          -0.049266  \n",
       " 177650          -0.366309  \n",
       " 177651          -0.276903  \n",
       " \n",
       " [22206 rows x 5 columns]]"
      ]
     },
     "execution_count": 135,
     "metadata": {},
     "output_type": "execute_result"
    }
   ],
   "source": [
    "list_df"
   ]
  },
  {
   "cell_type": "code",
   "execution_count": null,
   "id": "0000e75e",
   "metadata": {},
   "outputs": [],
   "source": [
    "### supprime la 8 df"
   ]
  }
 ],
 "metadata": {
  "kernelspec": {
   "display_name": "Python 3 (ipykernel)",
   "language": "python",
   "name": "python3"
  },
  "language_info": {
   "codemirror_mode": {
    "name": "ipython",
    "version": 3
   },
   "file_extension": ".py",
   "mimetype": "text/x-python",
   "name": "python",
   "nbconvert_exporter": "python",
   "pygments_lexer": "ipython3",
   "version": "3.12.4"
  }
 },
 "nbformat": 4,
 "nbformat_minor": 5
}
