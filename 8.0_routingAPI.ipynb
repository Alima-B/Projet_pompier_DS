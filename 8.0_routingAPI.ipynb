{
 "cells": [
  {
   "cell_type": "code",
   "execution_count": null,
   "id": "6dd3701b",
   "metadata": {},
   "outputs": [],
   "source": [
    "# auteur : Lorine\n",
    "# date : 09/05/2024\n",
    "# Calcul de la distance(metres) premiere station intervenant - lieu de l'incident sur le df \n",
    "# check station orpington avec bing"
   ]
  },
  {
   "cell_type": "code",
   "execution_count": 2,
   "id": "f05d71c3",
   "metadata": {},
   "outputs": [],
   "source": [
    "import pandas as pd\n",
    "import numpy as np\n",
    "import seaborn as sns\n",
    "import matplotlib.pyplot as plt\n"
   ]
  },
  {
   "cell_type": "code",
   "execution_count": 4,
   "id": "abe848df",
   "metadata": {},
   "outputs": [
    {
     "name": "stderr",
     "output_type": "stream",
     "text": [
      "C:\\Users\\loreb\\AppData\\Local\\Temp\\ipykernel_18924\\1420067182.py:1: DtypeWarning: Columns (0) have mixed types. Specify dtype option on import or set low_memory=False.\n",
      "  df = pd.read_csv(\"Data/Data_A_Encoder_V1.csv\")\n"
     ]
    }
   ],
   "source": [
    "df = pd.read_csv(\"Data/Data_A_Encoder_V1.csv\")\n",
    "\n",
    "pd.set_option('max_colwidth',50)\n",
    "pd.set_option('display.max_columns',50)"
   ]
  },
  {
   "cell_type": "code",
   "execution_count": 4,
   "id": "32ac48c0",
   "metadata": {},
   "outputs": [
    {
     "data": {
      "text/html": [
       "<div>\n",
       "<style scoped>\n",
       "    .dataframe tbody tr th:only-of-type {\n",
       "        vertical-align: middle;\n",
       "    }\n",
       "\n",
       "    .dataframe tbody tr th {\n",
       "        vertical-align: top;\n",
       "    }\n",
       "\n",
       "    .dataframe thead th {\n",
       "        text-align: right;\n",
       "    }\n",
       "</style>\n",
       "<table border=\"1\" class=\"dataframe\">\n",
       "  <thead>\n",
       "    <tr style=\"text-align: right;\">\n",
       "      <th></th>\n",
       "      <th>IncidentNumber</th>\n",
       "      <th>DateOfCall</th>\n",
       "      <th>Month</th>\n",
       "      <th>Weekday</th>\n",
       "      <th>CalYear</th>\n",
       "      <th>TimeOfCall</th>\n",
       "      <th>HourOfCall</th>\n",
       "      <th>Periode</th>\n",
       "      <th>Periode_Rush</th>\n",
       "      <th>IncidentGroup</th>\n",
       "      <th>StopCodeDescription</th>\n",
       "      <th>SpecialServiceType</th>\n",
       "      <th>PropertyCategory</th>\n",
       "      <th>PropertyType</th>\n",
       "      <th>AddressQualifier</th>\n",
       "      <th>Postcode_full</th>\n",
       "      <th>Postcode_district</th>\n",
       "      <th>IncGeo_BoroughName</th>\n",
       "      <th>IncGeo_WardNameNew</th>\n",
       "      <th>Easting_m</th>\n",
       "      <th>Northing_m</th>\n",
       "      <th>Easting_rounded</th>\n",
       "      <th>Northing_rounded</th>\n",
       "      <th>Latitude</th>\n",
       "      <th>Longitude</th>\n",
       "      <th>IncidentStationGround</th>\n",
       "      <th>FirstPumpArriving_AttendanceTime</th>\n",
       "      <th>FirstPumpArriving_DeployedFromStation</th>\n",
       "      <th>Latitude_Station</th>\n",
       "      <th>Longitude_Station</th>\n",
       "      <th>NumStationsWithPumpsAttending</th>\n",
       "      <th>NumPumpsAttending</th>\n",
       "      <th>PumpCount</th>\n",
       "      <th>PumpMinutesRounded</th>\n",
       "      <th>Notional Cost (£)</th>\n",
       "      <th>NumCalls</th>\n",
       "      <th>FirstPumpArriving_TurnoutTimeSec</th>\n",
       "      <th>FirstPumpArriving_TravelTimeSec</th>\n",
       "      <th>FirstPump_DelayCode_Description</th>\n",
       "      <th>FirstPump_Division_staion</th>\n",
       "      <th>London_Zone</th>\n",
       "      <th>FirstPump_Delayed</th>\n",
       "      <th>Covid_Lockdown</th>\n",
       "      <th>Geodesic_Distance</th>\n",
       "    </tr>\n",
       "  </thead>\n",
       "  <tbody>\n",
       "    <tr>\n",
       "      <th>0</th>\n",
       "      <td>235138081</td>\n",
       "      <td>2009-01-01</td>\n",
       "      <td>1</td>\n",
       "      <td>4</td>\n",
       "      <td>2009</td>\n",
       "      <td>1900-01-01 00:00:37</td>\n",
       "      <td>0</td>\n",
       "      <td>Nuit</td>\n",
       "      <td>No rush</td>\n",
       "      <td>Special Service</td>\n",
       "      <td>Special Service</td>\n",
       "      <td>RTC</td>\n",
       "      <td>Road Vehicle</td>\n",
       "      <td>Car</td>\n",
       "      <td>In street close to gazetteer location</td>\n",
       "      <td>SW11 4LB</td>\n",
       "      <td>SW11</td>\n",
       "      <td>WANDSWORTH</td>\n",
       "      <td>Battersea Park</td>\n",
       "      <td>528652.0</td>\n",
       "      <td>176830.0</td>\n",
       "      <td>528650</td>\n",
       "      <td>176850</td>\n",
       "      <td>51.475812</td>\n",
       "      <td>-0.148894</td>\n",
       "      <td>Battersea</td>\n",
       "      <td>319.0</td>\n",
       "      <td>Battersea</td>\n",
       "      <td>51.467137</td>\n",
       "      <td>-0.169264</td>\n",
       "      <td>2.0</td>\n",
       "      <td>2.0</td>\n",
       "      <td>2</td>\n",
       "      <td>60</td>\n",
       "      <td>255</td>\n",
       "      <td>1.0</td>\n",
       "      <td>NaN</td>\n",
       "      <td>NaN</td>\n",
       "      <td>NaN</td>\n",
       "      <td>H</td>\n",
       "      <td>Inner London</td>\n",
       "      <td>0</td>\n",
       "      <td>0</td>\n",
       "      <td>1713.097276</td>\n",
       "    </tr>\n",
       "    <tr>\n",
       "      <th>1</th>\n",
       "      <td>2091</td>\n",
       "      <td>2009-01-01</td>\n",
       "      <td>1</td>\n",
       "      <td>4</td>\n",
       "      <td>2009</td>\n",
       "      <td>1900-01-01 00:03:00</td>\n",
       "      <td>0</td>\n",
       "      <td>Nuit</td>\n",
       "      <td>No rush</td>\n",
       "      <td>Fire</td>\n",
       "      <td>Secondary Fire</td>\n",
       "      <td>NaN</td>\n",
       "      <td>Outdoor</td>\n",
       "      <td>Road surface/pavement</td>\n",
       "      <td>In street outside gazetteer location</td>\n",
       "      <td>N9 9EL</td>\n",
       "      <td>N9</td>\n",
       "      <td>ENFIELD</td>\n",
       "      <td>Haselbury</td>\n",
       "      <td>533773.0</td>\n",
       "      <td>194492.0</td>\n",
       "      <td>533750</td>\n",
       "      <td>194450</td>\n",
       "      <td>51.633342</td>\n",
       "      <td>-0.068488</td>\n",
       "      <td>Edmonton</td>\n",
       "      <td>308.0</td>\n",
       "      <td>Edmonton</td>\n",
       "      <td>51.627218</td>\n",
       "      <td>-0.069090</td>\n",
       "      <td>1.0</td>\n",
       "      <td>1.0</td>\n",
       "      <td>1</td>\n",
       "      <td>60</td>\n",
       "      <td>255</td>\n",
       "      <td>2.0</td>\n",
       "      <td>151.0</td>\n",
       "      <td>157.0</td>\n",
       "      <td>NaN</td>\n",
       "      <td>A</td>\n",
       "      <td>Outer London</td>\n",
       "      <td>0</td>\n",
       "      <td>0</td>\n",
       "      <td>682.664410</td>\n",
       "    </tr>\n",
       "    <tr>\n",
       "      <th>2</th>\n",
       "      <td>3091</td>\n",
       "      <td>2009-01-01</td>\n",
       "      <td>1</td>\n",
       "      <td>4</td>\n",
       "      <td>2009</td>\n",
       "      <td>1900-01-01 00:04:27</td>\n",
       "      <td>0</td>\n",
       "      <td>Nuit</td>\n",
       "      <td>No rush</td>\n",
       "      <td>Fire</td>\n",
       "      <td>Secondary Fire</td>\n",
       "      <td>NaN</td>\n",
       "      <td>Outdoor</td>\n",
       "      <td>Domestic garden (vegetation not equipment)</td>\n",
       "      <td>On land associated with building</td>\n",
       "      <td>UB10 0DG</td>\n",
       "      <td>UB10</td>\n",
       "      <td>HILLINGDON</td>\n",
       "      <td>Hillingdon East</td>\n",
       "      <td>507738.0</td>\n",
       "      <td>182805.0</td>\n",
       "      <td>507750</td>\n",
       "      <td>182850</td>\n",
       "      <td>51.533882</td>\n",
       "      <td>-0.448089</td>\n",
       "      <td>Hillingdon</td>\n",
       "      <td>210.0</td>\n",
       "      <td>Hillingdon</td>\n",
       "      <td>51.531532</td>\n",
       "      <td>-0.451352</td>\n",
       "      <td>1.0</td>\n",
       "      <td>1.0</td>\n",
       "      <td>1</td>\n",
       "      <td>60</td>\n",
       "      <td>255</td>\n",
       "      <td>2.0</td>\n",
       "      <td>108.0</td>\n",
       "      <td>102.0</td>\n",
       "      <td>NaN</td>\n",
       "      <td>G</td>\n",
       "      <td>Outer London</td>\n",
       "      <td>0</td>\n",
       "      <td>0</td>\n",
       "      <td>345.864686</td>\n",
       "    </tr>\n",
       "    <tr>\n",
       "      <th>3</th>\n",
       "      <td>5091</td>\n",
       "      <td>2009-01-01</td>\n",
       "      <td>1</td>\n",
       "      <td>4</td>\n",
       "      <td>2009</td>\n",
       "      <td>1900-01-01 00:05:39</td>\n",
       "      <td>0</td>\n",
       "      <td>Nuit</td>\n",
       "      <td>No rush</td>\n",
       "      <td>Fire</td>\n",
       "      <td>Secondary Fire</td>\n",
       "      <td>NaN</td>\n",
       "      <td>Outdoor</td>\n",
       "      <td>Cycle path/public footpath/bridleway</td>\n",
       "      <td>In street outside gazetteer location</td>\n",
       "      <td>N7 8HG</td>\n",
       "      <td>N7</td>\n",
       "      <td>ISLINGTON</td>\n",
       "      <td>Laycock</td>\n",
       "      <td>531058.0</td>\n",
       "      <td>185307.0</td>\n",
       "      <td>531050</td>\n",
       "      <td>185350</td>\n",
       "      <td>51.551441</td>\n",
       "      <td>-0.111120</td>\n",
       "      <td>Holloway</td>\n",
       "      <td>233.0</td>\n",
       "      <td>Holloway</td>\n",
       "      <td>51.561769</td>\n",
       "      <td>-0.116434</td>\n",
       "      <td>1.0</td>\n",
       "      <td>2.0</td>\n",
       "      <td>2</td>\n",
       "      <td>60</td>\n",
       "      <td>255</td>\n",
       "      <td>1.0</td>\n",
       "      <td>114.0</td>\n",
       "      <td>119.0</td>\n",
       "      <td>NaN</td>\n",
       "      <td>A</td>\n",
       "      <td>Inner London</td>\n",
       "      <td>0</td>\n",
       "      <td>0</td>\n",
       "      <td>1206.773108</td>\n",
       "    </tr>\n",
       "    <tr>\n",
       "      <th>4</th>\n",
       "      <td>8091</td>\n",
       "      <td>2009-01-01</td>\n",
       "      <td>1</td>\n",
       "      <td>4</td>\n",
       "      <td>2009</td>\n",
       "      <td>1900-01-01 00:12:31</td>\n",
       "      <td>0</td>\n",
       "      <td>Nuit</td>\n",
       "      <td>No rush</td>\n",
       "      <td>Special Service</td>\n",
       "      <td>Special Service</td>\n",
       "      <td>RTC</td>\n",
       "      <td>Road Vehicle</td>\n",
       "      <td>Car</td>\n",
       "      <td>On motorway / elevated road</td>\n",
       "      <td>SE3 9PP</td>\n",
       "      <td>SE3</td>\n",
       "      <td>GREENWICH</td>\n",
       "      <td>Kidbrooke Village &amp; Sutcliffe</td>\n",
       "      <td>541086.0</td>\n",
       "      <td>175646.0</td>\n",
       "      <td>541050</td>\n",
       "      <td>175650</td>\n",
       "      <td>51.462211</td>\n",
       "      <td>0.029557</td>\n",
       "      <td>Lee Green</td>\n",
       "      <td>522.0</td>\n",
       "      <td>East Greenwich</td>\n",
       "      <td>51.487034</td>\n",
       "      <td>0.022075</td>\n",
       "      <td>1.0</td>\n",
       "      <td>1.0</td>\n",
       "      <td>1</td>\n",
       "      <td>60</td>\n",
       "      <td>255</td>\n",
       "      <td>1.0</td>\n",
       "      <td>119.0</td>\n",
       "      <td>403.0</td>\n",
       "      <td>Not held up</td>\n",
       "      <td>E</td>\n",
       "      <td>Outer London</td>\n",
       "      <td>1</td>\n",
       "      <td>0</td>\n",
       "      <td>2810.278355</td>\n",
       "    </tr>\n",
       "  </tbody>\n",
       "</table>\n",
       "</div>"
      ],
      "text/plain": [
       "  IncidentNumber  DateOfCall  Month  Weekday  CalYear           TimeOfCall  \\\n",
       "0      235138081  2009-01-01      1        4     2009  1900-01-01 00:00:37   \n",
       "1           2091  2009-01-01      1        4     2009  1900-01-01 00:03:00   \n",
       "2           3091  2009-01-01      1        4     2009  1900-01-01 00:04:27   \n",
       "3           5091  2009-01-01      1        4     2009  1900-01-01 00:05:39   \n",
       "4           8091  2009-01-01      1        4     2009  1900-01-01 00:12:31   \n",
       "\n",
       "   HourOfCall Periode Periode_Rush    IncidentGroup StopCodeDescription  \\\n",
       "0           0    Nuit      No rush  Special Service     Special Service   \n",
       "1           0    Nuit      No rush             Fire      Secondary Fire   \n",
       "2           0    Nuit      No rush             Fire      Secondary Fire   \n",
       "3           0    Nuit      No rush             Fire      Secondary Fire   \n",
       "4           0    Nuit      No rush  Special Service     Special Service   \n",
       "\n",
       "  SpecialServiceType PropertyCategory  \\\n",
       "0                RTC     Road Vehicle   \n",
       "1                NaN          Outdoor   \n",
       "2                NaN          Outdoor   \n",
       "3                NaN          Outdoor   \n",
       "4                RTC     Road Vehicle   \n",
       "\n",
       "                                  PropertyType  \\\n",
       "0                                         Car    \n",
       "1                       Road surface/pavement    \n",
       "2  Domestic garden (vegetation not equipment)    \n",
       "3        Cycle path/public footpath/bridleway    \n",
       "4                                         Car    \n",
       "\n",
       "                        AddressQualifier Postcode_full Postcode_district  \\\n",
       "0  In street close to gazetteer location      SW11 4LB              SW11   \n",
       "1   In street outside gazetteer location        N9 9EL                N9   \n",
       "2       On land associated with building      UB10 0DG              UB10   \n",
       "3   In street outside gazetteer location        N7 8HG                N7   \n",
       "4            On motorway / elevated road       SE3 9PP               SE3   \n",
       "\n",
       "  IncGeo_BoroughName             IncGeo_WardNameNew  Easting_m  Northing_m  \\\n",
       "0         WANDSWORTH                 Battersea Park   528652.0    176830.0   \n",
       "1            ENFIELD                      Haselbury   533773.0    194492.0   \n",
       "2         HILLINGDON                Hillingdon East   507738.0    182805.0   \n",
       "3          ISLINGTON                        Laycock   531058.0    185307.0   \n",
       "4          GREENWICH  Kidbrooke Village & Sutcliffe   541086.0    175646.0   \n",
       "\n",
       "   Easting_rounded  Northing_rounded   Latitude  Longitude  \\\n",
       "0           528650            176850  51.475812  -0.148894   \n",
       "1           533750            194450  51.633342  -0.068488   \n",
       "2           507750            182850  51.533882  -0.448089   \n",
       "3           531050            185350  51.551441  -0.111120   \n",
       "4           541050            175650  51.462211   0.029557   \n",
       "\n",
       "  IncidentStationGround  FirstPumpArriving_AttendanceTime  \\\n",
       "0             Battersea                             319.0   \n",
       "1              Edmonton                             308.0   \n",
       "2            Hillingdon                             210.0   \n",
       "3              Holloway                             233.0   \n",
       "4             Lee Green                             522.0   \n",
       "\n",
       "  FirstPumpArriving_DeployedFromStation  Latitude_Station  Longitude_Station  \\\n",
       "0                             Battersea         51.467137          -0.169264   \n",
       "1                              Edmonton         51.627218          -0.069090   \n",
       "2                            Hillingdon         51.531532          -0.451352   \n",
       "3                              Holloway         51.561769          -0.116434   \n",
       "4                        East Greenwich         51.487034           0.022075   \n",
       "\n",
       "   NumStationsWithPumpsAttending  NumPumpsAttending  PumpCount  \\\n",
       "0                            2.0                2.0          2   \n",
       "1                            1.0                1.0          1   \n",
       "2                            1.0                1.0          1   \n",
       "3                            1.0                2.0          2   \n",
       "4                            1.0                1.0          1   \n",
       "\n",
       "   PumpMinutesRounded  Notional Cost (£)  NumCalls  \\\n",
       "0                  60                255       1.0   \n",
       "1                  60                255       2.0   \n",
       "2                  60                255       2.0   \n",
       "3                  60                255       1.0   \n",
       "4                  60                255       1.0   \n",
       "\n",
       "   FirstPumpArriving_TurnoutTimeSec  FirstPumpArriving_TravelTimeSec  \\\n",
       "0                               NaN                              NaN   \n",
       "1                             151.0                            157.0   \n",
       "2                             108.0                            102.0   \n",
       "3                             114.0                            119.0   \n",
       "4                             119.0                            403.0   \n",
       "\n",
       "  FirstPump_DelayCode_Description FirstPump_Division_staion   London_Zone  \\\n",
       "0                             NaN                         H  Inner London   \n",
       "1                             NaN                         A  Outer London   \n",
       "2                             NaN                         G  Outer London   \n",
       "3                             NaN                         A  Inner London   \n",
       "4                     Not held up                         E  Outer London   \n",
       "\n",
       "   FirstPump_Delayed  Covid_Lockdown  Geodesic_Distance  \n",
       "0                  0               0        1713.097276  \n",
       "1                  0               0         682.664410  \n",
       "2                  0               0         345.864686  \n",
       "3                  0               0        1206.773108  \n",
       "4                  1               0        2810.278355  "
      ]
     },
     "execution_count": 4,
     "metadata": {},
     "output_type": "execute_result"
    }
   ],
   "source": [
    "df.head()"
   ]
  },
  {
   "cell_type": "code",
   "execution_count": 5,
   "id": "cda4c918",
   "metadata": {
    "scrolled": true
   },
   "outputs": [
    {
     "data": {
      "text/plain": [
       "IncidentNumber                                0\n",
       "DateOfCall                                    0\n",
       "Month                                         0\n",
       "Weekday                                       0\n",
       "CalYear                                       0\n",
       "TimeOfCall                                    0\n",
       "HourOfCall                                    0\n",
       "Periode                                       0\n",
       "Periode_Rush                                  0\n",
       "IncidentGroup                                 0\n",
       "StopCodeDescription                           0\n",
       "SpecialServiceType                       620518\n",
       "PropertyCategory                              0\n",
       "PropertyType                                  0\n",
       "AddressQualifier                              0\n",
       "Postcode_full                              7171\n",
       "Postcode_district                             0\n",
       "IncGeo_BoroughName                            0\n",
       "IncGeo_WardNameNew                           74\n",
       "Easting_m                                  7171\n",
       "Northing_m                                 7171\n",
       "Easting_rounded                               0\n",
       "Northing_rounded                              0\n",
       "Latitude                                   7171\n",
       "Longitude                                  7171\n",
       "IncidentStationGround                         1\n",
       "FirstPumpArriving_AttendanceTime              0\n",
       "FirstPumpArriving_DeployedFromStation         0\n",
       "Latitude_Station                              0\n",
       "Longitude_Station                             0\n",
       "NumStationsWithPumpsAttending                 0\n",
       "NumPumpsAttending                             0\n",
       "PumpCount                                     0\n",
       "PumpMinutesRounded                            0\n",
       "Notional Cost (£)                             0\n",
       "NumCalls                                    717\n",
       "FirstPumpArriving_TurnoutTimeSec          13553\n",
       "FirstPumpArriving_TravelTimeSec           13584\n",
       "FirstPump_DelayCode_Description          536055\n",
       "FirstPump_Division_staion                     0\n",
       "London_Zone                                   0\n",
       "Covid_Lockdown                                0\n",
       "FirstPump_Delayed                             0\n",
       "Week_Weekend                                  0\n",
       "Geodesic_Distance                          7171\n",
       "dtype: int64"
      ]
     },
     "execution_count": 5,
     "metadata": {},
     "output_type": "execute_result"
    }
   ],
   "source": [
    "#check si il y a des NA pour les coordonnées\n",
    "df.isna().sum()"
   ]
  },
  {
   "cell_type": "code",
   "execution_count": 7,
   "id": "4b4f03cd",
   "metadata": {},
   "outputs": [],
   "source": [
    "# reset de l'index\n",
    "df = df.reset_index(drop = True)\n"
   ]
  },
  {
   "cell_type": "code",
   "execution_count": null,
   "id": "8c8738ec",
   "metadata": {},
   "outputs": [],
   "source": [
    "## environ 100 heures pour traiter la totalité des données donc 100 -- 761941 : découpage en plusieurs pour éviter de faire tourner longtemps\n",
    "# objectif pour 5 heures de process donc 20 dataframe de 38098 lignes\n",
    "# objectif pour 3 heures de process donc 33,3 dataframe de 22411 lignes"
   ]
  },
  {
   "cell_type": "code",
   "execution_count": 81,
   "id": "7bd1499a",
   "metadata": {},
   "outputs": [],
   "source": [
    "# sous groupe de taille égale contenant les coordonnées\n",
    "# conserver les numéro d'inccident\n",
    "ss_groupe = np.array_split(df[[\"IncidentNumber\",\"Latitude\",\"Longitude\",\"Latitude_Station\",\"Longitude_Station\"]],20)"
   ]
  },
  {
   "cell_type": "code",
   "execution_count": 82,
   "id": "7d754d5e",
   "metadata": {},
   "outputs": [
    {
     "data": {
      "text/html": [
       "<div>\n",
       "<style scoped>\n",
       "    .dataframe tbody tr th:only-of-type {\n",
       "        vertical-align: middle;\n",
       "    }\n",
       "\n",
       "    .dataframe tbody tr th {\n",
       "        vertical-align: top;\n",
       "    }\n",
       "\n",
       "    .dataframe thead th {\n",
       "        text-align: right;\n",
       "    }\n",
       "</style>\n",
       "<table border=\"1\" class=\"dataframe\">\n",
       "  <thead>\n",
       "    <tr style=\"text-align: right;\">\n",
       "      <th></th>\n",
       "      <th>IncidentNumber</th>\n",
       "      <th>Latitude</th>\n",
       "      <th>Longitude</th>\n",
       "      <th>Latitude_Station</th>\n",
       "      <th>Longitude_Station</th>\n",
       "    </tr>\n",
       "  </thead>\n",
       "  <tbody>\n",
       "    <tr>\n",
       "      <th>0</th>\n",
       "      <td>235138081</td>\n",
       "      <td>51.475812</td>\n",
       "      <td>-0.148894</td>\n",
       "      <td>51.467137</td>\n",
       "      <td>-0.169264</td>\n",
       "    </tr>\n",
       "    <tr>\n",
       "      <th>1</th>\n",
       "      <td>2091</td>\n",
       "      <td>51.633342</td>\n",
       "      <td>-0.068488</td>\n",
       "      <td>51.627218</td>\n",
       "      <td>-0.069090</td>\n",
       "    </tr>\n",
       "    <tr>\n",
       "      <th>2</th>\n",
       "      <td>3091</td>\n",
       "      <td>51.533882</td>\n",
       "      <td>-0.448089</td>\n",
       "      <td>51.531532</td>\n",
       "      <td>-0.451352</td>\n",
       "    </tr>\n",
       "    <tr>\n",
       "      <th>3</th>\n",
       "      <td>5091</td>\n",
       "      <td>51.551441</td>\n",
       "      <td>-0.111120</td>\n",
       "      <td>51.561769</td>\n",
       "      <td>-0.116434</td>\n",
       "    </tr>\n",
       "    <tr>\n",
       "      <th>4</th>\n",
       "      <td>8091</td>\n",
       "      <td>51.462211</td>\n",
       "      <td>0.029557</td>\n",
       "      <td>51.487034</td>\n",
       "      <td>0.022075</td>\n",
       "    </tr>\n",
       "    <tr>\n",
       "      <th>...</th>\n",
       "      <td>...</td>\n",
       "      <td>...</td>\n",
       "      <td>...</td>\n",
       "      <td>...</td>\n",
       "      <td>...</td>\n",
       "    </tr>\n",
       "    <tr>\n",
       "      <th>38093</th>\n",
       "      <td>139047091</td>\n",
       "      <td>51.562286</td>\n",
       "      <td>-0.083475</td>\n",
       "      <td>51.562023</td>\n",
       "      <td>-0.076535</td>\n",
       "    </tr>\n",
       "    <tr>\n",
       "      <th>38094</th>\n",
       "      <td>139050091</td>\n",
       "      <td>51.448246</td>\n",
       "      <td>-0.113742</td>\n",
       "      <td>51.425984</td>\n",
       "      <td>-0.105596</td>\n",
       "    </tr>\n",
       "    <tr>\n",
       "      <th>38095</th>\n",
       "      <td>139051091</td>\n",
       "      <td>51.489762</td>\n",
       "      <td>0.089122</td>\n",
       "      <td>51.470699</td>\n",
       "      <td>0.045140</td>\n",
       "    </tr>\n",
       "    <tr>\n",
       "      <th>38096</th>\n",
       "      <td>139055091</td>\n",
       "      <td>51.562049</td>\n",
       "      <td>0.067617</td>\n",
       "      <td>51.562121</td>\n",
       "      <td>0.089984</td>\n",
       "    </tr>\n",
       "    <tr>\n",
       "      <th>38097</th>\n",
       "      <td>139058091</td>\n",
       "      <td>51.389227</td>\n",
       "      <td>-0.304443</td>\n",
       "      <td>51.392058</td>\n",
       "      <td>-0.298276</td>\n",
       "    </tr>\n",
       "  </tbody>\n",
       "</table>\n",
       "<p>38098 rows × 5 columns</p>\n",
       "</div>"
      ],
      "text/plain": [
       "      IncidentNumber   Latitude  Longitude  Latitude_Station  \\\n",
       "0          235138081  51.475812  -0.148894         51.467137   \n",
       "1               2091  51.633342  -0.068488         51.627218   \n",
       "2               3091  51.533882  -0.448089         51.531532   \n",
       "3               5091  51.551441  -0.111120         51.561769   \n",
       "4               8091  51.462211   0.029557         51.487034   \n",
       "...              ...        ...        ...               ...   \n",
       "38093      139047091  51.562286  -0.083475         51.562023   \n",
       "38094      139050091  51.448246  -0.113742         51.425984   \n",
       "38095      139051091  51.489762   0.089122         51.470699   \n",
       "38096      139055091  51.562049   0.067617         51.562121   \n",
       "38097      139058091  51.389227  -0.304443         51.392058   \n",
       "\n",
       "       Longitude_Station  \n",
       "0              -0.169264  \n",
       "1              -0.069090  \n",
       "2              -0.451352  \n",
       "3              -0.116434  \n",
       "4               0.022075  \n",
       "...                  ...  \n",
       "38093          -0.076535  \n",
       "38094          -0.105596  \n",
       "38095           0.045140  \n",
       "38096           0.089984  \n",
       "38097          -0.298276  \n",
       "\n",
       "[38098 rows x 5 columns]"
      ]
     },
     "execution_count": 82,
     "metadata": {},
     "output_type": "execute_result"
    }
   ],
   "source": [
    "ss_groupe[0]"
   ]
  },
  {
   "cell_type": "code",
   "execution_count": 83,
   "id": "25df0503",
   "metadata": {},
   "outputs": [],
   "source": [
    "# convertie la liste en dataframe\n",
    "list_df = []\n",
    "\n",
    "for i in range(len(ss_groupe)) : \n",
    "    ss_groupe[i] = pd.DataFrame(ss_groupe[i], index = ss_groupe[i].index)\n",
    "    list_df.append(ss_groupe[i])"
   ]
  },
  {
   "cell_type": "code",
   "execution_count": 38,
   "id": "fca0508b",
   "metadata": {},
   "outputs": [
    {
     "name": "stdout",
     "output_type": "stream",
     "text": [
      "<class 'list'>\n",
      "<class 'pandas.core.frame.DataFrame'>\n"
     ]
    }
   ],
   "source": [
    "print(type(ss_groupe))\n",
    "print(type(ss_groupe[0]))"
   ]
  },
  {
   "cell_type": "code",
   "execution_count": 39,
   "id": "c5cee06a",
   "metadata": {},
   "outputs": [
    {
     "data": {
      "text/plain": [
       "20"
      ]
     },
     "execution_count": 39,
     "metadata": {},
     "output_type": "execute_result"
    }
   ],
   "source": [
    "len(ss_groupe)"
   ]
  },
  {
   "cell_type": "code",
   "execution_count": 21,
   "id": "b4fcf1c5",
   "metadata": {},
   "outputs": [
    {
     "data": {
      "text/plain": [
       "range(0, 20)"
      ]
     },
     "execution_count": 21,
     "metadata": {},
     "output_type": "execute_result"
    }
   ],
   "source": [
    "range(len(ss_groupe))"
   ]
  },
  {
   "cell_type": "code",
   "execution_count": 84,
   "id": "50f916cd",
   "metadata": {},
   "outputs": [],
   "source": [
    "# save de la liste de df\n",
    "import pickle\n",
    "\n",
    "with open(\"Data/df_dist/liste_df_API\", \"wb\") as fp:\n",
    "    pickle.dump(list_df,fp)"
   ]
  },
  {
   "cell_type": "code",
   "execution_count": 181,
   "id": "ee65a19c",
   "metadata": {},
   "outputs": [],
   "source": [
    "# Charger les données\n",
    "import pickle\n",
    "list_df = pickle.load(open(\"Data/df_dist/liste_df_API\", 'rb'))\n",
    "\n",
    "# OU\n",
    "#with open(\"liste_df_API\",\"rb\") as fp :\n",
    "#    list_df = pickle.load(fp)"
   ]
  },
  {
   "cell_type": "code",
   "execution_count": 85,
   "id": "d38f40c9",
   "metadata": {
    "scrolled": true
   },
   "outputs": [
    {
     "data": {
      "text/plain": [
       "[      IncidentNumber   Latitude  Longitude  Latitude_Station  \\\n",
       " 0          235138081  51.475812  -0.148894         51.467137   \n",
       " 1               2091  51.633342  -0.068488         51.627218   \n",
       " 2               3091  51.533882  -0.448089         51.531532   \n",
       " 3               5091  51.551441  -0.111120         51.561769   \n",
       " 4               8091  51.462211   0.029557         51.487034   \n",
       " ...              ...        ...        ...               ...   \n",
       " 38093      139047091  51.562286  -0.083475         51.562023   \n",
       " 38094      139050091  51.448246  -0.113742         51.425984   \n",
       " 38095      139051091  51.489762   0.089122         51.470699   \n",
       " 38096      139055091  51.562049   0.067617         51.562121   \n",
       " 38097      139058091  51.389227  -0.304443         51.392058   \n",
       " \n",
       "        Longitude_Station  \n",
       " 0              -0.169264  \n",
       " 1              -0.069090  \n",
       " 2              -0.451352  \n",
       " 3              -0.116434  \n",
       " 4               0.022075  \n",
       " ...                  ...  \n",
       " 38093          -0.076535  \n",
       " 38094          -0.105596  \n",
       " 38095           0.045140  \n",
       " 38096           0.089984  \n",
       " 38097          -0.298276  \n",
       " \n",
       " [38098 rows x 5 columns],\n",
       "       IncidentNumber   Latitude  Longitude  Latitude_Station  \\\n",
       " 38098      139059091  51.520994  -0.133743         51.512491   \n",
       " 38099      139064091  51.492816  -0.142573         51.493095   \n",
       " 38100      139068091  51.631135  -0.298270         51.615246   \n",
       " 38101      139074091  51.399747  -0.146402         51.406902   \n",
       " 38102      139077091  51.663214  -0.103699         51.660218   \n",
       " ...              ...        ...        ...               ...   \n",
       " 76190       47424101  51.484948  -0.083378         51.486931   \n",
       " 76191       47430101  51.488732  -0.076104         51.486931   \n",
       " 76192       47435101  51.435332  -0.045127         51.442525   \n",
       " 76193       47437101  51.514159  -0.134311         51.512491   \n",
       " 76194       47440101  51.373215  -0.100664         51.369071   \n",
       " \n",
       "        Longitude_Station  \n",
       " 38098          -0.130055  \n",
       " 38099          -0.122249  \n",
       " 38100          -0.243469  \n",
       " 38101          -0.121108  \n",
       " 38102          -0.051989  \n",
       " ...                  ...  \n",
       " 76190          -0.073523  \n",
       " 76191          -0.073523  \n",
       " 76192          -0.045050  \n",
       " 76193          -0.130055  \n",
       " 76194          -0.105174  \n",
       " \n",
       " [38097 rows x 5 columns],\n",
       "        IncidentNumber   Latitude  Longitude  Latitude_Station  \\\n",
       " 76195        47442101  51.372881  -0.100591         51.369071   \n",
       " 76196        47444101  51.453112  -0.429829         51.536129   \n",
       " 76197        47445101  51.511175  -0.135543         51.512491   \n",
       " 76198        47449101  51.421931  -0.200004         51.415558   \n",
       " 76199        47454101  51.453028  -0.429645         51.536129   \n",
       " ...               ...        ...        ...               ...   \n",
       " 114287      186928101  51.411698  -0.191864         51.397121   \n",
       " 114288      186934101  51.583513  -0.093625         51.592478   \n",
       " 114289      186938101  51.539959   0.161637         51.559509   \n",
       " 114290      186939101  51.675570  -0.043969         51.660218   \n",
       " 114291      186946101  51.523634  -0.181625         51.502216   \n",
       " \n",
       "         Longitude_Station  \n",
       " 76195           -0.105174  \n",
       " 76196           -0.135446  \n",
       " 76197           -0.130055  \n",
       " 76198           -0.197346  \n",
       " 76199           -0.135446  \n",
       " ...                   ...  \n",
       " 114287          -0.172802  \n",
       " 114288          -0.071637  \n",
       " 114289           0.156807  \n",
       " 114290          -0.051989  \n",
       " 114291          -0.189648  \n",
       " \n",
       " [38097 rows x 5 columns],\n",
       "        IncidentNumber   Latitude  Longitude  Latitude_Station  \\\n",
       " 114292      186947101  51.411698  -0.191864         51.415558   \n",
       " 114293      186951101  51.518933  -0.196298         51.520220   \n",
       " 114294      186950101  51.459008   0.079871         51.450649   \n",
       " 114295      186954101  51.568965   0.143790         51.559509   \n",
       " 114296      186956101  51.397942  -0.289027         51.429444   \n",
       " ...               ...        ...        ...               ...   \n",
       " 152384      112680111  51.373118  -0.120840         51.369071   \n",
       " 152385      112682111  51.561298   0.147008         51.559509   \n",
       " 152386      112683111  51.379930   0.102769         51.371933   \n",
       " 152387      112686111  51.375166  -0.095080         51.385860   \n",
       " 152388      112688111  51.462247  -0.188989         51.456522   \n",
       " \n",
       "         Longitude_Station  \n",
       " 114292          -0.197346  \n",
       " 114293          -0.183015  \n",
       " 114294           0.059202  \n",
       " 114295           0.156807  \n",
       " 114296          -0.306595  \n",
       " ...                   ...  \n",
       " 152384          -0.105174  \n",
       " 152385           0.156807  \n",
       " 152386           0.110864  \n",
       " 152387          -0.062312  \n",
       " 152388          -0.201437  \n",
       " \n",
       " [38097 rows x 5 columns],\n",
       "        IncidentNumber   Latitude  Longitude  Latitude_Station  \\\n",
       " 152389      112692111  51.565183  -0.216976         51.551785   \n",
       " 152390      112694111  51.475145  -0.384247         51.474977   \n",
       " 152391      112695111  51.523060  -0.125745         51.527725   \n",
       " 152392      112698111  51.482643  -0.451413         51.480152   \n",
       " 152393      112703111  51.541562   0.082480         51.529808   \n",
       " ...               ...        ...        ...               ...   \n",
       " 190481       46511121  51.412692  -0.145548         51.406902   \n",
       " 190482       46512121  51.520245  -0.170113         51.520220   \n",
       " 190483       46515121  51.543096  -0.260643         51.535322   \n",
       " 190484       46521121  51.513992  -0.159597         51.512491   \n",
       " 190485       46526121  51.592623  -0.039175         51.589723   \n",
       " \n",
       "         Longitude_Station  \n",
       " 152389          -0.192907  \n",
       " 152390          -0.343271  \n",
       " 152391          -0.130642  \n",
       " 152392          -0.458775  \n",
       " 152393           0.088927  \n",
       " ...                   ...  \n",
       " 190481          -0.121108  \n",
       " 190482          -0.183015  \n",
       " 190483          -0.262073  \n",
       " 190484          -0.130055  \n",
       " 190485          -0.028703  \n",
       " \n",
       " [38097 rows x 5 columns],\n",
       "        IncidentNumber   Latitude  Longitude  Latitude_Station  \\\n",
       " 190486       46527121  51.470353  -0.458452         51.480152   \n",
       " 190487       46531121  51.478636  -0.051269         51.473603   \n",
       " 190488       46538121  51.502486  -0.110653         51.493095   \n",
       " 190489       46539121  51.452239  -0.213666         51.456522   \n",
       " 190490       46546121  51.583621  -0.020335         51.589723   \n",
       " ...               ...        ...        ...               ...   \n",
       " 228578        6774131  51.616771  -0.242516         51.588906   \n",
       " 228579        6781131  51.560332   0.071709         51.562121   \n",
       " 228580        6786131  51.452239  -0.213666         51.456522   \n",
       " 228581        6788131  51.542246  -0.057507         51.548578   \n",
       " 228582        6798131  51.478577   0.048718         51.487034   \n",
       " \n",
       "         Longitude_Station  \n",
       " 190486          -0.458775  \n",
       " 190487          -0.049266  \n",
       " 190488          -0.122249  \n",
       " 190489          -0.201437  \n",
       " 190490          -0.028703  \n",
       " ...                   ...  \n",
       " 228578          -0.228753  \n",
       " 228579           0.089984  \n",
       " 228580          -0.201437  \n",
       " 228581          -0.043865  \n",
       " 228582           0.022075  \n",
       " \n",
       " [38097 rows x 5 columns],\n",
       "        IncidentNumber   Latitude  Longitude  Latitude_Station  \\\n",
       " 228583        6797131  51.490269  -0.173936         51.487231   \n",
       " 228584        6800131  51.551036   0.161772         51.559509   \n",
       " 228585        6801131  51.538261  -0.077029         51.562023   \n",
       " 228586        6803131  51.589714  -0.146144         51.586510   \n",
       " 228587        6806131  51.520088  -0.164656         51.520220   \n",
       " ...               ...        ...        ...               ...   \n",
       " 266675      150588131  51.610706  -0.078751         51.627218   \n",
       " 266676      150600131  51.603922  -0.173104         51.598092   \n",
       " 266677      150609131  51.526958  -0.094690         51.526472   \n",
       " 266678      150610131  51.526135  -0.131861         51.527725   \n",
       " 266679      150615131  51.520975  -0.191691         51.520220   \n",
       " \n",
       "         Longitude_Station  \n",
       " 228583          -0.170159  \n",
       " 228584           0.156807  \n",
       " 228585          -0.076535  \n",
       " 228586          -0.127263  \n",
       " 228587          -0.183015  \n",
       " ...                   ...  \n",
       " 266675          -0.069090  \n",
       " 266676          -0.179071  \n",
       " 266677          -0.085432  \n",
       " 266678          -0.130642  \n",
       " 266679          -0.183015  \n",
       " \n",
       " [38097 rows x 5 columns],\n",
       "        IncidentNumber   Latitude  Longitude  Latitude_Station  \\\n",
       " 266680      150621131  51.512900  -0.039458         51.510833   \n",
       " 266681      150623131  51.534171  -0.345563         51.511247   \n",
       " 266682      150629131  51.534171  -0.345563         51.511247   \n",
       " 266683      150630131  51.560591   0.078920         51.562121   \n",
       " 266684      150632131  51.511547  -0.234565         51.496332   \n",
       " ...               ...        ...        ...               ...   \n",
       " 304772      111580141  51.398747  -0.178962         51.397121   \n",
       " 304773      111581141  51.507804  -0.137294         51.512491   \n",
       " 304774      111587141  51.426444  -0.140532         51.406902   \n",
       " 304775      111591141  51.412863  -0.051334         51.408005   \n",
       " 304776      111594141  51.530060  -0.141792         51.512491   \n",
       " \n",
       "         Longitude_Station  \n",
       " 266680          -0.015791  \n",
       " 266681          -0.374388  \n",
       " 266682          -0.374388  \n",
       " 266683           0.089984  \n",
       " 266684          -0.223872  \n",
       " ...                   ...  \n",
       " 304772          -0.172802  \n",
       " 304773          -0.130055  \n",
       " 304774          -0.121108  \n",
       " 304775          -0.033984  \n",
       " 304776          -0.130055  \n",
       " \n",
       " [38097 rows x 5 columns],\n",
       "        IncidentNumber   Latitude  Longitude  Latitude_Station  \\\n",
       " 304777      111597141  51.474369  -0.022550         51.474079   \n",
       " 304778      111602141  51.564469  -0.069085         51.562023   \n",
       " 304779      111608141  51.478777  -0.138521         51.464994   \n",
       " 304780      111617141  51.519102  -0.047912         51.510870   \n",
       " 304781      111618141  51.516375  -0.069505         51.515230   \n",
       " ...               ...        ...        ...               ...   \n",
       " 342869       73345151  51.625348  -0.061431         51.627218   \n",
       " 342870       73348151  51.502690  -0.231607         51.496332   \n",
       " 342871       73349151  51.485833  -0.113027         51.463652   \n",
       " 342872       73350151  51.534147  -0.250877         51.535322   \n",
       " 342873       73353151  51.424842  -0.047027         51.442525   \n",
       " \n",
       "         Longitude_Station  \n",
       " 304777          -0.013630  \n",
       " 304778          -0.076535  \n",
       " 304779          -0.140953  \n",
       " 304780          -0.055801  \n",
       " 304781          -0.069366  \n",
       " ...                   ...  \n",
       " 342869          -0.069090  \n",
       " 342870          -0.223872  \n",
       " 342871          -0.109363  \n",
       " 342872          -0.262073  \n",
       " 342873          -0.045050  \n",
       " \n",
       " [38097 rows x 5 columns],\n",
       "          IncidentNumber   Latitude  Longitude  Latitude_Station  \\\n",
       " 342874         73358151  51.504185  -0.103407         51.510415   \n",
       " 342875         73359151  51.461442  -0.196867         51.456522   \n",
       " 342876         73364151  51.630862  -0.309276         51.615246   \n",
       " 342877         73367151  51.514400   0.029831         51.520203   \n",
       " 342878         73372151  51.518907  -0.146210         51.527725   \n",
       " ...                 ...        ...        ...               ...   \n",
       " 380966  030576-15032016  51.592945  -0.035812         51.589723   \n",
       " 380967  030580-15032016  51.451491   0.050225         51.456546   \n",
       " 380968  030583-15032016  51.345664  -0.071704         51.351839   \n",
       " 380969  030585-15032016  51.522543  -0.135006         51.527725   \n",
       " 380970  030586-15032016  51.511644  -0.135639         51.512491   \n",
       " \n",
       "         Longitude_Station  \n",
       " 342874          -0.089807  \n",
       " 342875          -0.201437  \n",
       " 342876          -0.243469  \n",
       " 342877           0.031673  \n",
       " 342878          -0.130642  \n",
       " ...                   ...  \n",
       " 380966          -0.028703  \n",
       " 380967           0.012620  \n",
       " 380968          -0.023980  \n",
       " 380969          -0.130642  \n",
       " 380970          -0.130055  \n",
       " \n",
       " [38097 rows x 5 columns],\n",
       "          IncidentNumber   Latitude  Longitude  Latitude_Station  \\\n",
       " 380971  030587-15032016  51.509365  -0.233568         51.507042   \n",
       " 380972  030592-15032016  51.516798  -0.127242         51.512491   \n",
       " 380973  030593-15032016  51.586041   0.081915         51.562121   \n",
       " 380974  030595-15032016  51.522397  -0.110723         51.527725   \n",
       " 380975  030597-15032016  51.626278   0.012064         51.629560   \n",
       " ...                 ...        ...        ...               ...   \n",
       " 419063  157762-20112016  51.461668  -0.116269         51.463652   \n",
       " 419064  157774-20112016  51.427092  -0.029943         51.442525   \n",
       " 419065  157779-20112016  51.470274  -0.128615         51.463652   \n",
       " 419066  157781-20112016  51.501721   0.102739         51.470699   \n",
       " 419067  157783-20112016  51.513459  -0.133807         51.512491   \n",
       " \n",
       "         Longitude_Station  \n",
       " 380971          -0.276903  \n",
       " 380972          -0.130055  \n",
       " 380973           0.089984  \n",
       " 380974          -0.130642  \n",
       " 380975          -0.004797  \n",
       " ...                   ...  \n",
       " 419063          -0.109363  \n",
       " 419064          -0.045050  \n",
       " 419065          -0.109363  \n",
       " 419066           0.045140  \n",
       " 419067          -0.130055  \n",
       " \n",
       " [38097 rows x 5 columns],\n",
       "          IncidentNumber   Latitude  Longitude  Latitude_Station  \\\n",
       " 419068  157787-20112016  51.529186  -0.015949         51.527881   \n",
       " 419069  157795-20112016  51.521231  -0.151579         51.527725   \n",
       " 419070  157796-20112016  51.461634  -0.116371         51.464994   \n",
       " 419071  157798-20112016  51.571029  -0.339074         51.554663   \n",
       " 419072  157799-20112016  51.572045  -0.197616         51.551785   \n",
       " ...                 ...        ...        ...               ...   \n",
       " 457160  111147-17082017  51.512249  -0.136926         51.512491   \n",
       " 457161  111150-17082017  51.504476  -0.474706         51.480152   \n",
       " 457162  111155-17082017  51.354891  -0.125450         51.362348   \n",
       " 457163  111159-17082017  51.479697   0.103799         51.470699   \n",
       " 457164  111163-17082017  51.501130  -0.162277         51.487231   \n",
       " \n",
       "         Longitude_Station  \n",
       " 419068          -0.053345  \n",
       " 419069          -0.130642  \n",
       " 419070          -0.140953  \n",
       " 419071          -0.359548  \n",
       " 419072          -0.192907  \n",
       " ...                   ...  \n",
       " 457160          -0.130055  \n",
       " 457161          -0.458775  \n",
       " 457162          -0.148206  \n",
       " 457163           0.045140  \n",
       " 457164          -0.170159  \n",
       " \n",
       " [38097 rows x 5 columns],\n",
       "          IncidentNumber   Latitude  Longitude  Latitude_Station  \\\n",
       " 457165  111167-17082017  51.608296  -0.002827         51.629560   \n",
       " 457166  111168-17082017  51.460947  -0.304119         51.467464   \n",
       " 457167  111173-17082017  51.517515  -0.065046         51.515230   \n",
       " 457168  111176-17082017  51.494254  -0.013592         51.500806   \n",
       " 457169  111183-17082017  51.470281  -0.458469         51.480152   \n",
       " ...                 ...        ...        ...               ...   \n",
       " 495257  067719-29052018  51.510358  -0.121314         51.493095   \n",
       " 495258  067721-29052018  51.400581  -0.264712         51.399072   \n",
       " 495259  067722-29052018  51.454724  -0.007954         51.457119   \n",
       " 495260  067723-29052018  51.565644   0.218388         51.598368   \n",
       " 495261  067727-29052018  51.520840  -0.151321         51.512491   \n",
       " \n",
       "         Longitude_Station  \n",
       " 457165          -0.004797  \n",
       " 457166          -0.284855  \n",
       " 457167          -0.069366  \n",
       " 457168          -0.025702  \n",
       " 457169          -0.458775  \n",
       " ...                   ...  \n",
       " 495257          -0.122249  \n",
       " 495258          -0.245344  \n",
       " 495259          -0.013364  \n",
       " 495260           0.223557  \n",
       " 495261          -0.130055  \n",
       " \n",
       " [38097 rows x 5 columns],\n",
       "          IncidentNumber   Latitude  Longitude  Latitude_Station  \\\n",
       " 495262  067730-29052018  51.610700  -0.109919         51.630511   \n",
       " 495263  067736-29052018  51.436562   0.007015         51.457119   \n",
       " 495264  067740-29052018  51.513324  -0.298183         51.511679   \n",
       " 495265  067743-29052018  51.652371  -0.080941         51.660218   \n",
       " 495266  067748-29052018  51.591896  -0.070522         51.589723   \n",
       " ...                 ...        ...        ...               ...   \n",
       " 533354  019116-15022019  51.344851  -0.009970         51.351839   \n",
       " 533355  019121-15022019  51.557835  -0.074773         51.562023   \n",
       " 533356  019128-15022019  51.508387  -0.277566         51.507042   \n",
       " 533357  019134-15022019  51.501696  -0.285407         51.490467   \n",
       " 533358  019136-15022019  51.594915  -0.108974         51.586510   \n",
       " \n",
       "         Longitude_Station  \n",
       " 495262          -0.127387  \n",
       " 495263          -0.013364  \n",
       " 495264          -0.314720  \n",
       " 495265          -0.051989  \n",
       " 495266          -0.028703  \n",
       " ...                   ...  \n",
       " 533354          -0.023980  \n",
       " 533355          -0.076535  \n",
       " 533356          -0.276903  \n",
       " 533357          -0.268940  \n",
       " 533358          -0.127263  \n",
       " \n",
       " [38097 rows x 5 columns],\n",
       "          IncidentNumber   Latitude  Longitude  Latitude_Station  \\\n",
       " 533359  019137-15022019  51.561853  -0.256345         51.544289   \n",
       " 533360  019138-15022019  51.506236  -0.102928         51.493095   \n",
       " 533361  019148-15022019  51.498166  -0.061414         51.486931   \n",
       " 533362  019152-15022019  51.617545  -0.063888         51.627218   \n",
       " 533363  019154-15022019  51.521229  -0.011317         51.510833   \n",
       " ...                 ...        ...        ...               ...   \n",
       " 571451  151062-06112019  51.387720   0.042057         51.407021   \n",
       " 571452  151067-06112019  51.552829  -0.241562         51.544289   \n",
       " 571453  151071-06112019  51.473213  -0.192188         51.477907   \n",
       " 571454  151072-06112019  51.527932  -0.019442         51.543719   \n",
       " 571455  151075-06112019  51.502010  -0.104882         51.510415   \n",
       " \n",
       "         Longitude_Station  \n",
       " 533359          -0.236311  \n",
       " 533360          -0.122249  \n",
       " 533361          -0.073523  \n",
       " 533362          -0.069090  \n",
       " 533363          -0.015791  \n",
       " ...                   ...  \n",
       " 571451           0.017033  \n",
       " 571452          -0.236311  \n",
       " 571453          -0.200913  \n",
       " 571454           0.011435  \n",
       " 571455          -0.089807  \n",
       " \n",
       " [38097 rows x 5 columns],\n",
       "          IncidentNumber   Latitude  Longitude  Latitude_Station  \\\n",
       " 571456  151077-06112019  51.457400  -0.454684         51.536129   \n",
       " 571457  151082-06112019  51.514045  -0.157232         51.512491   \n",
       " 571458  151085-06112019  51.598167  -0.119785         51.586510   \n",
       " 571459  151092-06112019  51.538128  -0.078822         51.526472   \n",
       " 571460  151094-06112019  51.498954  -0.015974         51.500806   \n",
       " ...                 ...        ...        ...               ...   \n",
       " 609548  116722-10092020  51.514698  -0.129368         51.512491   \n",
       " 609549  116723-10092020  51.681354  -0.052130         51.660218   \n",
       " 609550  116725-10092020  51.453401   0.075799         51.450649   \n",
       " 609551  116726-10092020  51.530088  -0.199001         51.551785   \n",
       " 609552  116735-10092020  51.643827  -0.108962         51.630511   \n",
       " \n",
       "         Longitude_Station  \n",
       " 571456          -0.135446  \n",
       " 571457          -0.130055  \n",
       " 571458          -0.127263  \n",
       " 571459          -0.085432  \n",
       " 571460          -0.025702  \n",
       " ...                   ...  \n",
       " 609548          -0.130055  \n",
       " 609549          -0.051989  \n",
       " 609550           0.059202  \n",
       " 609551          -0.192907  \n",
       " 609552          -0.127387  \n",
       " \n",
       " [38097 rows x 5 columns],\n",
       "          IncidentNumber   Latitude  Longitude  Latitude_Station  \\\n",
       " 609553  116737-10092020  51.453945  -0.249281         51.456522   \n",
       " 609554  116742-10092020  51.459876  -0.024113         51.457119   \n",
       " 609555  116743-10092020  51.516068  -0.123427         51.512491   \n",
       " 609556  116746-10092020  51.545991   0.053635         51.523553   \n",
       " 609557  116747-10092020  51.502952  -0.190089         51.502216   \n",
       " ...                 ...        ...        ...               ...   \n",
       " 647645  106853-12082021  51.478172  -0.038691         51.484856   \n",
       " 647646  106859-12082021  51.512981  -0.127970         51.527725   \n",
       " 647647  106864-12082021  51.508488   0.035216         51.520203   \n",
       " 647648  106867-12082021  51.510384  -0.123236         51.527725   \n",
       " 647649  106883-12082021  51.582694  -0.200001         51.588906   \n",
       " \n",
       "         Longitude_Station  \n",
       " 609553          -0.201437  \n",
       " 609554          -0.013364  \n",
       " 609555          -0.130055  \n",
       " 609556           0.057009  \n",
       " 609557          -0.189648  \n",
       " ...                   ...  \n",
       " 647645          -0.033834  \n",
       " 647646          -0.130642  \n",
       " 647647           0.031673  \n",
       " 647648          -0.130642  \n",
       " 647649          -0.228753  \n",
       " \n",
       " [38097 rows x 5 columns],\n",
       "          IncidentNumber   Latitude  Longitude  Latitude_Station  \\\n",
       " 647650  106884-12082021  51.526640  -0.067371         51.527881   \n",
       " 647651  106886-12082021  51.462574  -0.068030         51.474156   \n",
       " 647652  106895-12082021  51.537551  -0.451216         51.511247   \n",
       " 647653  106903-12082021  51.547218  -0.111739         51.540230   \n",
       " 647654  106907-12082021  51.407857  -0.287016         51.399072   \n",
       " ...                 ...        ...        ...               ...   \n",
       " 685742  077278-29052022  51.465524   0.030190         51.456546   \n",
       " 685743  077282-29052022  51.441864   0.117742         51.427120   \n",
       " 685744  077292-29052022  51.512036  -0.076800         51.515230   \n",
       " 685745  077298-29052022  51.524762  -0.207574         51.520220   \n",
       " 685746  077300-29052022  51.406130  -0.166361         51.415558   \n",
       " \n",
       "         Longitude_Station  \n",
       " 647650          -0.053345  \n",
       " 647651          -0.077889  \n",
       " 647652          -0.374388  \n",
       " 647653          -0.102384  \n",
       " 647654          -0.245344  \n",
       " ...                   ...  \n",
       " 685742           0.012620  \n",
       " 685743           0.094638  \n",
       " 685744          -0.069366  \n",
       " 685745          -0.183015  \n",
       " 685746          -0.197346  \n",
       " \n",
       " [38097 rows x 5 columns],\n",
       "          IncidentNumber   Latitude  Longitude  Latitude_Station  \\\n",
       " 685747  077312-29052022  51.488940  -0.169598         51.487231   \n",
       " 685748  077321-29052022  51.508935   0.025005         51.510833   \n",
       " 685749  077325-29052022  51.538321   0.155444         51.559509   \n",
       " 685750  077327-29052022  51.524509  -0.458278         51.531532   \n",
       " 685751  077328-29052022  51.490359   0.068583         51.470699   \n",
       " ...                 ...        ...        ...               ...   \n",
       " 723839  017946-05022023  51.552942  -0.025515         51.563036   \n",
       " 723840  017947-05022023  51.477327  -0.169870         51.487231   \n",
       " 723841  017948-05022023  51.607440  -0.154040         51.598092   \n",
       " 723842  017952-05022023  51.495514  -0.145563         51.493095   \n",
       " 723843  017953-05022023  51.606809  -0.124634         51.586510   \n",
       " \n",
       "         Longitude_Station  \n",
       " 685747          -0.170159  \n",
       " 685748          -0.015791  \n",
       " 685749           0.156807  \n",
       " 685750          -0.451352  \n",
       " 685751           0.045140  \n",
       " ...                   ...  \n",
       " 723839          -0.016020  \n",
       " 723840          -0.170159  \n",
       " 723841          -0.179071  \n",
       " 723842          -0.122249  \n",
       " 723843          -0.127263  \n",
       " \n",
       " [38097 rows x 5 columns],\n",
       "          IncidentNumber   Latitude  Longitude  Latitude_Station  \\\n",
       " 723844  017954-05022023  51.465463  -0.346999         51.474977   \n",
       " 723845  017960-05022023  51.522788  -0.086904         51.515230   \n",
       " 723846  017966-05022023  51.316377  -0.097773         51.331781   \n",
       " 723847  017967-05022023  51.598389  -0.023636         51.629560   \n",
       " 723848  017971-05022023  51.474388  -0.014663         51.474079   \n",
       " ...                 ...        ...        ...               ...   \n",
       " 761936  170366-31102023  51.344312  -0.189242         51.369017   \n",
       " 761937  170378-31102023  51.436663  -0.379106         51.435202   \n",
       " 761938  170381-31102023  51.510553  -0.084164         51.515230   \n",
       " 761939  170386-31102023  51.516491  -0.177415         51.520220   \n",
       " 761940  170393-31102023  51.532685  -0.125583         51.540230   \n",
       " \n",
       "         Longitude_Station  \n",
       " 723844          -0.343271  \n",
       " 723845          -0.069366  \n",
       " 723846          -0.124999  \n",
       " 723847          -0.004797  \n",
       " 723848          -0.013630  \n",
       " ...                   ...  \n",
       " 761936          -0.211087  \n",
       " 761937          -0.347573  \n",
       " 761938          -0.069366  \n",
       " 761939          -0.183015  \n",
       " 761940          -0.102384  \n",
       " \n",
       " [38097 rows x 5 columns]]"
      ]
     },
     "execution_count": 85,
     "metadata": {},
     "output_type": "execute_result"
    }
   ],
   "source": [
    "list_df"
   ]
  },
  {
   "cell_type": "code",
   "execution_count": 80,
   "id": "47495e97",
   "metadata": {},
   "outputs": [
    {
     "data": {
      "text/html": [
       "<div>\n",
       "<style scoped>\n",
       "    .dataframe tbody tr th:only-of-type {\n",
       "        vertical-align: middle;\n",
       "    }\n",
       "\n",
       "    .dataframe tbody tr th {\n",
       "        vertical-align: top;\n",
       "    }\n",
       "\n",
       "    .dataframe thead th {\n",
       "        text-align: right;\n",
       "    }\n",
       "</style>\n",
       "<table border=\"1\" class=\"dataframe\">\n",
       "  <thead>\n",
       "    <tr style=\"text-align: right;\">\n",
       "      <th></th>\n",
       "      <th>IncidentNumber</th>\n",
       "      <th>Latitude</th>\n",
       "      <th>Longitude</th>\n",
       "      <th>Latitude_Station</th>\n",
       "      <th>Longitude_Station</th>\n",
       "    </tr>\n",
       "  </thead>\n",
       "  <tbody>\n",
       "    <tr>\n",
       "      <th>0</th>\n",
       "      <td>235138081</td>\n",
       "      <td>51.475812</td>\n",
       "      <td>-0.148894</td>\n",
       "      <td>51.467137</td>\n",
       "      <td>-0.169264</td>\n",
       "    </tr>\n",
       "    <tr>\n",
       "      <th>1</th>\n",
       "      <td>2091</td>\n",
       "      <td>51.633342</td>\n",
       "      <td>-0.068488</td>\n",
       "      <td>51.627218</td>\n",
       "      <td>-0.069090</td>\n",
       "    </tr>\n",
       "    <tr>\n",
       "      <th>2</th>\n",
       "      <td>3091</td>\n",
       "      <td>51.533882</td>\n",
       "      <td>-0.448089</td>\n",
       "      <td>51.531532</td>\n",
       "      <td>-0.451352</td>\n",
       "    </tr>\n",
       "    <tr>\n",
       "      <th>3</th>\n",
       "      <td>5091</td>\n",
       "      <td>51.551441</td>\n",
       "      <td>-0.111120</td>\n",
       "      <td>51.561769</td>\n",
       "      <td>-0.116434</td>\n",
       "    </tr>\n",
       "    <tr>\n",
       "      <th>4</th>\n",
       "      <td>8091</td>\n",
       "      <td>51.462211</td>\n",
       "      <td>0.029557</td>\n",
       "      <td>51.487034</td>\n",
       "      <td>0.022075</td>\n",
       "    </tr>\n",
       "    <tr>\n",
       "      <th>...</th>\n",
       "      <td>...</td>\n",
       "      <td>...</td>\n",
       "      <td>...</td>\n",
       "      <td>...</td>\n",
       "      <td>...</td>\n",
       "    </tr>\n",
       "    <tr>\n",
       "      <th>38093</th>\n",
       "      <td>139047091</td>\n",
       "      <td>51.562286</td>\n",
       "      <td>-0.083475</td>\n",
       "      <td>51.562023</td>\n",
       "      <td>-0.076535</td>\n",
       "    </tr>\n",
       "    <tr>\n",
       "      <th>38094</th>\n",
       "      <td>139050091</td>\n",
       "      <td>51.448246</td>\n",
       "      <td>-0.113742</td>\n",
       "      <td>51.425984</td>\n",
       "      <td>-0.105596</td>\n",
       "    </tr>\n",
       "    <tr>\n",
       "      <th>38095</th>\n",
       "      <td>139051091</td>\n",
       "      <td>51.489762</td>\n",
       "      <td>0.089122</td>\n",
       "      <td>51.470699</td>\n",
       "      <td>0.045140</td>\n",
       "    </tr>\n",
       "    <tr>\n",
       "      <th>38096</th>\n",
       "      <td>139055091</td>\n",
       "      <td>51.562049</td>\n",
       "      <td>0.067617</td>\n",
       "      <td>51.562121</td>\n",
       "      <td>0.089984</td>\n",
       "    </tr>\n",
       "    <tr>\n",
       "      <th>38097</th>\n",
       "      <td>139058091</td>\n",
       "      <td>51.389227</td>\n",
       "      <td>-0.304443</td>\n",
       "      <td>51.392058</td>\n",
       "      <td>-0.298276</td>\n",
       "    </tr>\n",
       "  </tbody>\n",
       "</table>\n",
       "<p>38098 rows × 5 columns</p>\n",
       "</div>"
      ],
      "text/plain": [
       "      IncidentNumber   Latitude  Longitude  Latitude_Station  \\\n",
       "0          235138081  51.475812  -0.148894         51.467137   \n",
       "1               2091  51.633342  -0.068488         51.627218   \n",
       "2               3091  51.533882  -0.448089         51.531532   \n",
       "3               5091  51.551441  -0.111120         51.561769   \n",
       "4               8091  51.462211   0.029557         51.487034   \n",
       "...              ...        ...        ...               ...   \n",
       "38093      139047091  51.562286  -0.083475         51.562023   \n",
       "38094      139050091  51.448246  -0.113742         51.425984   \n",
       "38095      139051091  51.489762   0.089122         51.470699   \n",
       "38096      139055091  51.562049   0.067617         51.562121   \n",
       "38097      139058091  51.389227  -0.304443         51.392058   \n",
       "\n",
       "       Longitude_Station  \n",
       "0              -0.169264  \n",
       "1              -0.069090  \n",
       "2              -0.451352  \n",
       "3              -0.116434  \n",
       "4               0.022075  \n",
       "...                  ...  \n",
       "38093          -0.076535  \n",
       "38094          -0.105596  \n",
       "38095           0.045140  \n",
       "38096           0.089984  \n",
       "38097          -0.298276  \n",
       "\n",
       "[38098 rows x 5 columns]"
      ]
     },
     "execution_count": 80,
     "metadata": {},
     "output_type": "execute_result"
    }
   ],
   "source": [
    "list_df[0]"
   ]
  },
  {
   "cell_type": "code",
   "execution_count": 58,
   "id": "b510c757",
   "metadata": {},
   "outputs": [
    {
     "data": {
      "text/plain": [
       "20"
      ]
     },
     "execution_count": 58,
     "metadata": {},
     "output_type": "execute_result"
    }
   ],
   "source": [
    "len(list_df)"
   ]
  },
  {
   "cell_type": "markdown",
   "id": "763d74c4",
   "metadata": {},
   "source": [
    "## OSMR"
   ]
  },
  {
   "cell_type": "code",
   "execution_count": 86,
   "id": "e0d7cd24",
   "metadata": {},
   "outputs": [],
   "source": [
    "import requests\n",
    "\n",
    "# format de la requte https\n",
    " # {lien}/{service}/{version}/{profile}/{coordinates}[.{format}]?option=value&option=value\n",
    "# service :  route , nearest , table , match , trip ou tile\n",
    "#    route : renvoie la route la plutot rapide en deux places\n",
    "#        alternative : true, false(defaut), nb : cherche des routes alternatives\n",
    "#        steps : nb d'étapes, défault(false)\n",
    "#        overview : display la route : false\n",
    "# version : version du protocol\n",
    "# profile : moyen de transport\n",
    "# coordinates : {longitude},{latitude};{longitude},{latitude}\n",
    "# format : json ou flatbuffer (json par defaut)\n",
    "\n",
    "#Réponse\n",
    "# retourne un array de routes ordonnée par ordre décroissant de rang de recommandation\n",
    "# distance en metres\n",
    "# durée en secondes\n",
    "\n",
    "url = f\"http://router.project-osrm.org/route/v1/driving/{list_df[0].Longitude[2879]},{list_df[0].Latitude[2879]};{list_df[0].Longitude_Station[2879]},{list_df[0].Latitude_Station[2879]}?alternatives=3&overview=false&skip_waypoints=true\"\n",
    "\n",
    "reponse = requests.get(url)\n",
    "data = reponse.json()\n"
   ]
  },
  {
   "cell_type": "markdown",
   "id": "4e25b5e2",
   "metadata": {},
   "source": [
    "#### calcul de la distance en metres entre la station intervenant et le lieu de l'incident\n",
    "#### Distance de la route la plus rapide qui est donnée\n"
   ]
  },
  {
   "cell_type": "code",
   "execution_count": 87,
   "id": "dab43546",
   "metadata": {},
   "outputs": [
    {
     "data": {
      "text/plain": [
       "{'code': 'Ok',\n",
       " 'routes': [{'legs': [{'steps': [],\n",
       "     'summary': '',\n",
       "     'weight': 393,\n",
       "     'duration': 393,\n",
       "     'distance': 2817.8}],\n",
       "   'weight_name': 'routability',\n",
       "   'weight': 393,\n",
       "   'duration': 393,\n",
       "   'distance': 2817.8},\n",
       "  {'legs': [{'steps': [],\n",
       "     'summary': '',\n",
       "     'weight': 431.1,\n",
       "     'duration': 431.1,\n",
       "     'distance': 3938.1}],\n",
       "   'weight_name': 'routability',\n",
       "   'weight': 431.1,\n",
       "   'duration': 431.1,\n",
       "   'distance': 3938.1}]}"
      ]
     },
     "execution_count": 87,
     "metadata": {},
     "output_type": "execute_result"
    }
   ],
   "source": [
    "data"
   ]
  },
  {
   "cell_type": "code",
   "execution_count": 74,
   "id": "fc9707d0",
   "metadata": {},
   "outputs": [
    {
     "data": {
      "text/plain": [
       "{'steps': [],\n",
       " 'summary': '',\n",
       " 'weight': 393,\n",
       " 'duration': 393,\n",
       " 'distance': 2817.8}"
      ]
     },
     "execution_count": 74,
     "metadata": {},
     "output_type": "execute_result"
    }
   ],
   "source": [
    "data['routes'][0]['legs'][0]"
   ]
  },
  {
   "cell_type": "markdown",
   "id": "9be52fc1",
   "metadata": {},
   "source": [
    "## 1 dataframe"
   ]
  },
  {
   "cell_type": "code",
   "execution_count": 15,
   "id": "2b8eea13",
   "metadata": {},
   "outputs": [
    {
     "data": {
      "text/plain": [
       "RangeIndex(start=0, stop=761941, step=1)"
      ]
     },
     "execution_count": 15,
     "metadata": {},
     "output_type": "execute_result"
    }
   ],
   "source": [
    "df.index"
   ]
  },
  {
   "cell_type": "code",
   "execution_count": 88,
   "id": "6521582d",
   "metadata": {
    "scrolled": true
   },
   "outputs": [
    {
     "name": "stderr",
     "output_type": "stream",
     "text": [
      "  8%|▊         | 2880/38098 [23:59<4:53:44,  2.00it/s]"
     ]
    },
    {
     "name": "stdout",
     "output_type": "stream",
     "text": [
      "bad request index 2879\n"
     ]
    },
    {
     "name": "stderr",
     "output_type": "stream",
     "text": [
      " 24%|██▍       | 9320/38098 [1:17:39<3:59:35,  2.00it/s]"
     ]
    },
    {
     "name": "stdout",
     "output_type": "stream",
     "text": [
      "bad request index 9319\n"
     ]
    },
    {
     "name": "stderr",
     "output_type": "stream",
     "text": [
      " 25%|██▍       | 9487/38098 [1:19:03<3:57:43,  2.01it/s]"
     ]
    },
    {
     "name": "stdout",
     "output_type": "stream",
     "text": [
      "bad request index 9486\n"
     ]
    },
    {
     "name": "stderr",
     "output_type": "stream",
     "text": [
      " 41%|████▏     | 15771/38098 [2:11:34<3:05:43,  2.00it/s] "
     ]
    },
    {
     "name": "stdout",
     "output_type": "stream",
     "text": [
      "bad request index 15770\n"
     ]
    },
    {
     "name": "stderr",
     "output_type": "stream",
     "text": [
      " 59%|█████▊    | 22352/38098 [3:06:26<2:11:06,  2.00it/s]"
     ]
    },
    {
     "name": "stdout",
     "output_type": "stream",
     "text": [
      "bad request index 22351\n"
     ]
    },
    {
     "name": "stderr",
     "output_type": "stream",
     "text": [
      " 96%|█████████▋| 36680/38098 [5:06:05<11:51,  1.99it/s]  "
     ]
    },
    {
     "name": "stdout",
     "output_type": "stream",
     "text": [
      "bad request index 36679\n"
     ]
    },
    {
     "name": "stderr",
     "output_type": "stream",
     "text": [
      "100%|██████████| 38098/38098 [5:17:54<00:00,  2.00it/s]\n"
     ]
    }
   ],
   "source": [
    "# calcul de la distance en metres entre la station intervenant et le lieu de l'incident\n",
    "# Distance de la route la plus rapide qui est donnée\n",
    "#\n",
    "\n",
    "import requests\n",
    "from tqdm import tqdm\n",
    "\n",
    "distance_df1 = []\n",
    "temps_api_df1 = []\n",
    "\n",
    "for i in tqdm(list_df[0].index.values) :\n",
    "    \n",
    "    url = f\"http://router.project-osrm.org/route/v1/driving/{list_df[0].Longitude_Station[i]},{list_df[0].Latitude_Station[i]};{list_df[0].Longitude[i]},{list_df[0].Latitude[i]}?alternatives=false&overview=false&skip_waypoints=true\"\n",
    "    reponse = requests.get(url)\n",
    "    data = reponse.json()\n",
    "   \n",
    "    # si la requete n'a pas aboutie on met des NA\n",
    "    if reponse.status_code != 200:\n",
    "        print(\"bad request index\",i)\n",
    "        distance_df1.append(np.nan)\n",
    "        temps_api_df1.append(np.nan)\n",
    "\n",
    "\n",
    "    else :\n",
    "    # select le dico avec distance\n",
    "        dst = data['routes'][0]['distance']\n",
    "        temps = data['routes'][0]['duration']\n",
    "        distance_df1.append(dst)\n",
    "        temps_api_df1.append(temps)\n",
    "\n",
    "# mise en un dataframe des distances     \n",
    "dst_1 = pd.DataFrame(index = list_df[0].index, data = {'dst_StationIncident': distance_df1, \"tempsAPI\" : temps_api_df1})    \n",
    "dst_1.to_csv(\"Data/df_dist/Distance1.csv\",index=True)\n",
    "\n",
    "# ajout de la distance station-incident au dataframe ssgroupe\n",
    "list_df[0] = pd.concat([list_df[0], dst_1], axis = 1)\n",
    "\n",
    "\n",
    "list_df[0].to_csv(\"Data/df_dist/Distance1_df_tot.csv\",index=True)\n",
    "\n",
    "# save de la liste de df\n",
    "import pickle\n",
    "\n",
    "with open(\"Data/df_dist/liste_df_API\", \"wb\") as fp:\n",
    "    pickle.dump(list_df,fp)\n",
    "\n"
   ]
  },
  {
   "cell_type": "code",
   "execution_count": 89,
   "id": "d4bc3048",
   "metadata": {},
   "outputs": [
    {
     "data": {
      "text/html": [
       "<div>\n",
       "<style scoped>\n",
       "    .dataframe tbody tr th:only-of-type {\n",
       "        vertical-align: middle;\n",
       "    }\n",
       "\n",
       "    .dataframe tbody tr th {\n",
       "        vertical-align: top;\n",
       "    }\n",
       "\n",
       "    .dataframe thead th {\n",
       "        text-align: right;\n",
       "    }\n",
       "</style>\n",
       "<table border=\"1\" class=\"dataframe\">\n",
       "  <thead>\n",
       "    <tr style=\"text-align: right;\">\n",
       "      <th></th>\n",
       "      <th>IncidentNumber</th>\n",
       "      <th>Latitude</th>\n",
       "      <th>Longitude</th>\n",
       "      <th>Latitude_Station</th>\n",
       "      <th>Longitude_Station</th>\n",
       "      <th>dst_StationIncident</th>\n",
       "      <th>tempsAPI</th>\n",
       "    </tr>\n",
       "  </thead>\n",
       "  <tbody>\n",
       "    <tr>\n",
       "      <th>0</th>\n",
       "      <td>235138081</td>\n",
       "      <td>51.475812</td>\n",
       "      <td>-0.148894</td>\n",
       "      <td>51.467137</td>\n",
       "      <td>-0.169264</td>\n",
       "      <td>2250.5</td>\n",
       "      <td>280.8</td>\n",
       "    </tr>\n",
       "    <tr>\n",
       "      <th>1</th>\n",
       "      <td>2091</td>\n",
       "      <td>51.633342</td>\n",
       "      <td>-0.068488</td>\n",
       "      <td>51.627218</td>\n",
       "      <td>-0.069090</td>\n",
       "      <td>1071.1</td>\n",
       "      <td>179.3</td>\n",
       "    </tr>\n",
       "    <tr>\n",
       "      <th>2</th>\n",
       "      <td>3091</td>\n",
       "      <td>51.533882</td>\n",
       "      <td>-0.448089</td>\n",
       "      <td>51.531532</td>\n",
       "      <td>-0.451352</td>\n",
       "      <td>917.9</td>\n",
       "      <td>121.6</td>\n",
       "    </tr>\n",
       "    <tr>\n",
       "      <th>3</th>\n",
       "      <td>5091</td>\n",
       "      <td>51.551441</td>\n",
       "      <td>-0.111120</td>\n",
       "      <td>51.561769</td>\n",
       "      <td>-0.116434</td>\n",
       "      <td>1362.0</td>\n",
       "      <td>229.6</td>\n",
       "    </tr>\n",
       "    <tr>\n",
       "      <th>4</th>\n",
       "      <td>8091</td>\n",
       "      <td>51.462211</td>\n",
       "      <td>0.029557</td>\n",
       "      <td>51.487034</td>\n",
       "      <td>0.022075</td>\n",
       "      <td>5361.4</td>\n",
       "      <td>341.8</td>\n",
       "    </tr>\n",
       "    <tr>\n",
       "      <th>...</th>\n",
       "      <td>...</td>\n",
       "      <td>...</td>\n",
       "      <td>...</td>\n",
       "      <td>...</td>\n",
       "      <td>...</td>\n",
       "      <td>...</td>\n",
       "      <td>...</td>\n",
       "    </tr>\n",
       "    <tr>\n",
       "      <th>38093</th>\n",
       "      <td>139047091</td>\n",
       "      <td>51.562286</td>\n",
       "      <td>-0.083475</td>\n",
       "      <td>51.562023</td>\n",
       "      <td>-0.076535</td>\n",
       "      <td>3905.5</td>\n",
       "      <td>603.8</td>\n",
       "    </tr>\n",
       "    <tr>\n",
       "      <th>38094</th>\n",
       "      <td>139050091</td>\n",
       "      <td>51.448246</td>\n",
       "      <td>-0.113742</td>\n",
       "      <td>51.425984</td>\n",
       "      <td>-0.105596</td>\n",
       "      <td>2861.0</td>\n",
       "      <td>466.1</td>\n",
       "    </tr>\n",
       "    <tr>\n",
       "      <th>38095</th>\n",
       "      <td>139051091</td>\n",
       "      <td>51.489762</td>\n",
       "      <td>0.089122</td>\n",
       "      <td>51.470699</td>\n",
       "      <td>0.045140</td>\n",
       "      <td>5537.9</td>\n",
       "      <td>591.7</td>\n",
       "    </tr>\n",
       "    <tr>\n",
       "      <th>38096</th>\n",
       "      <td>139055091</td>\n",
       "      <td>51.562049</td>\n",
       "      <td>0.067617</td>\n",
       "      <td>51.562121</td>\n",
       "      <td>0.089984</td>\n",
       "      <td>2545.0</td>\n",
       "      <td>264.9</td>\n",
       "    </tr>\n",
       "    <tr>\n",
       "      <th>38097</th>\n",
       "      <td>139058091</td>\n",
       "      <td>51.389227</td>\n",
       "      <td>-0.304443</td>\n",
       "      <td>51.392058</td>\n",
       "      <td>-0.298276</td>\n",
       "      <td>790.1</td>\n",
       "      <td>126.5</td>\n",
       "    </tr>\n",
       "  </tbody>\n",
       "</table>\n",
       "<p>38098 rows × 7 columns</p>\n",
       "</div>"
      ],
      "text/plain": [
       "      IncidentNumber   Latitude  Longitude  Latitude_Station  \\\n",
       "0          235138081  51.475812  -0.148894         51.467137   \n",
       "1               2091  51.633342  -0.068488         51.627218   \n",
       "2               3091  51.533882  -0.448089         51.531532   \n",
       "3               5091  51.551441  -0.111120         51.561769   \n",
       "4               8091  51.462211   0.029557         51.487034   \n",
       "...              ...        ...        ...               ...   \n",
       "38093      139047091  51.562286  -0.083475         51.562023   \n",
       "38094      139050091  51.448246  -0.113742         51.425984   \n",
       "38095      139051091  51.489762   0.089122         51.470699   \n",
       "38096      139055091  51.562049   0.067617         51.562121   \n",
       "38097      139058091  51.389227  -0.304443         51.392058   \n",
       "\n",
       "       Longitude_Station  dst_StationIncident  tempsAPI  \n",
       "0              -0.169264               2250.5     280.8  \n",
       "1              -0.069090               1071.1     179.3  \n",
       "2              -0.451352                917.9     121.6  \n",
       "3              -0.116434               1362.0     229.6  \n",
       "4               0.022075               5361.4     341.8  \n",
       "...                  ...                  ...       ...  \n",
       "38093          -0.076535               3905.5     603.8  \n",
       "38094          -0.105596               2861.0     466.1  \n",
       "38095           0.045140               5537.9     591.7  \n",
       "38096           0.089984               2545.0     264.9  \n",
       "38097          -0.298276                790.1     126.5  \n",
       "\n",
       "[38098 rows x 7 columns]"
      ]
     },
     "execution_count": 89,
     "metadata": {},
     "output_type": "execute_result"
    }
   ],
   "source": [
    "list_df[0]"
   ]
  },
  {
   "cell_type": "code",
   "execution_count": 90,
   "id": "0e736b58",
   "metadata": {
    "scrolled": true
   },
   "outputs": [
    {
     "data": {
      "text/plain": [
       "[      IncidentNumber   Latitude  Longitude  Latitude_Station  \\\n",
       " 0          235138081  51.475812  -0.148894         51.467137   \n",
       " 1               2091  51.633342  -0.068488         51.627218   \n",
       " 2               3091  51.533882  -0.448089         51.531532   \n",
       " 3               5091  51.551441  -0.111120         51.561769   \n",
       " 4               8091  51.462211   0.029557         51.487034   \n",
       " ...              ...        ...        ...               ...   \n",
       " 38093      139047091  51.562286  -0.083475         51.562023   \n",
       " 38094      139050091  51.448246  -0.113742         51.425984   \n",
       " 38095      139051091  51.489762   0.089122         51.470699   \n",
       " 38096      139055091  51.562049   0.067617         51.562121   \n",
       " 38097      139058091  51.389227  -0.304443         51.392058   \n",
       " \n",
       "        Longitude_Station  dst_StationIncident  tempsAPI  \n",
       " 0              -0.169264               2250.5     280.8  \n",
       " 1              -0.069090               1071.1     179.3  \n",
       " 2              -0.451352                917.9     121.6  \n",
       " 3              -0.116434               1362.0     229.6  \n",
       " 4               0.022075               5361.4     341.8  \n",
       " ...                  ...                  ...       ...  \n",
       " 38093          -0.076535               3905.5     603.8  \n",
       " 38094          -0.105596               2861.0     466.1  \n",
       " 38095           0.045140               5537.9     591.7  \n",
       " 38096           0.089984               2545.0     264.9  \n",
       " 38097          -0.298276                790.1     126.5  \n",
       " \n",
       " [38098 rows x 7 columns],\n",
       "       IncidentNumber   Latitude  Longitude  Latitude_Station  \\\n",
       " 38098      139059091  51.520994  -0.133743         51.512491   \n",
       " 38099      139064091  51.492816  -0.142573         51.493095   \n",
       " 38100      139068091  51.631135  -0.298270         51.615246   \n",
       " 38101      139074091  51.399747  -0.146402         51.406902   \n",
       " 38102      139077091  51.663214  -0.103699         51.660218   \n",
       " ...              ...        ...        ...               ...   \n",
       " 76190       47424101  51.484948  -0.083378         51.486931   \n",
       " 76191       47430101  51.488732  -0.076104         51.486931   \n",
       " 76192       47435101  51.435332  -0.045127         51.442525   \n",
       " 76193       47437101  51.514159  -0.134311         51.512491   \n",
       " 76194       47440101  51.373215  -0.100664         51.369071   \n",
       " \n",
       "        Longitude_Station  \n",
       " 38098          -0.130055  \n",
       " 38099          -0.122249  \n",
       " 38100          -0.243469  \n",
       " 38101          -0.121108  \n",
       " 38102          -0.051989  \n",
       " ...                  ...  \n",
       " 76190          -0.073523  \n",
       " 76191          -0.073523  \n",
       " 76192          -0.045050  \n",
       " 76193          -0.130055  \n",
       " 76194          -0.105174  \n",
       " \n",
       " [38097 rows x 5 columns],\n",
       "        IncidentNumber   Latitude  Longitude  Latitude_Station  \\\n",
       " 76195        47442101  51.372881  -0.100591         51.369071   \n",
       " 76196        47444101  51.453112  -0.429829         51.536129   \n",
       " 76197        47445101  51.511175  -0.135543         51.512491   \n",
       " 76198        47449101  51.421931  -0.200004         51.415558   \n",
       " 76199        47454101  51.453028  -0.429645         51.536129   \n",
       " ...               ...        ...        ...               ...   \n",
       " 114287      186928101  51.411698  -0.191864         51.397121   \n",
       " 114288      186934101  51.583513  -0.093625         51.592478   \n",
       " 114289      186938101  51.539959   0.161637         51.559509   \n",
       " 114290      186939101  51.675570  -0.043969         51.660218   \n",
       " 114291      186946101  51.523634  -0.181625         51.502216   \n",
       " \n",
       "         Longitude_Station  \n",
       " 76195           -0.105174  \n",
       " 76196           -0.135446  \n",
       " 76197           -0.130055  \n",
       " 76198           -0.197346  \n",
       " 76199           -0.135446  \n",
       " ...                   ...  \n",
       " 114287          -0.172802  \n",
       " 114288          -0.071637  \n",
       " 114289           0.156807  \n",
       " 114290          -0.051989  \n",
       " 114291          -0.189648  \n",
       " \n",
       " [38097 rows x 5 columns],\n",
       "        IncidentNumber   Latitude  Longitude  Latitude_Station  \\\n",
       " 114292      186947101  51.411698  -0.191864         51.415558   \n",
       " 114293      186951101  51.518933  -0.196298         51.520220   \n",
       " 114294      186950101  51.459008   0.079871         51.450649   \n",
       " 114295      186954101  51.568965   0.143790         51.559509   \n",
       " 114296      186956101  51.397942  -0.289027         51.429444   \n",
       " ...               ...        ...        ...               ...   \n",
       " 152384      112680111  51.373118  -0.120840         51.369071   \n",
       " 152385      112682111  51.561298   0.147008         51.559509   \n",
       " 152386      112683111  51.379930   0.102769         51.371933   \n",
       " 152387      112686111  51.375166  -0.095080         51.385860   \n",
       " 152388      112688111  51.462247  -0.188989         51.456522   \n",
       " \n",
       "         Longitude_Station  \n",
       " 114292          -0.197346  \n",
       " 114293          -0.183015  \n",
       " 114294           0.059202  \n",
       " 114295           0.156807  \n",
       " 114296          -0.306595  \n",
       " ...                   ...  \n",
       " 152384          -0.105174  \n",
       " 152385           0.156807  \n",
       " 152386           0.110864  \n",
       " 152387          -0.062312  \n",
       " 152388          -0.201437  \n",
       " \n",
       " [38097 rows x 5 columns],\n",
       "        IncidentNumber   Latitude  Longitude  Latitude_Station  \\\n",
       " 152389      112692111  51.565183  -0.216976         51.551785   \n",
       " 152390      112694111  51.475145  -0.384247         51.474977   \n",
       " 152391      112695111  51.523060  -0.125745         51.527725   \n",
       " 152392      112698111  51.482643  -0.451413         51.480152   \n",
       " 152393      112703111  51.541562   0.082480         51.529808   \n",
       " ...               ...        ...        ...               ...   \n",
       " 190481       46511121  51.412692  -0.145548         51.406902   \n",
       " 190482       46512121  51.520245  -0.170113         51.520220   \n",
       " 190483       46515121  51.543096  -0.260643         51.535322   \n",
       " 190484       46521121  51.513992  -0.159597         51.512491   \n",
       " 190485       46526121  51.592623  -0.039175         51.589723   \n",
       " \n",
       "         Longitude_Station  \n",
       " 152389          -0.192907  \n",
       " 152390          -0.343271  \n",
       " 152391          -0.130642  \n",
       " 152392          -0.458775  \n",
       " 152393           0.088927  \n",
       " ...                   ...  \n",
       " 190481          -0.121108  \n",
       " 190482          -0.183015  \n",
       " 190483          -0.262073  \n",
       " 190484          -0.130055  \n",
       " 190485          -0.028703  \n",
       " \n",
       " [38097 rows x 5 columns],\n",
       "        IncidentNumber   Latitude  Longitude  Latitude_Station  \\\n",
       " 190486       46527121  51.470353  -0.458452         51.480152   \n",
       " 190487       46531121  51.478636  -0.051269         51.473603   \n",
       " 190488       46538121  51.502486  -0.110653         51.493095   \n",
       " 190489       46539121  51.452239  -0.213666         51.456522   \n",
       " 190490       46546121  51.583621  -0.020335         51.589723   \n",
       " ...               ...        ...        ...               ...   \n",
       " 228578        6774131  51.616771  -0.242516         51.588906   \n",
       " 228579        6781131  51.560332   0.071709         51.562121   \n",
       " 228580        6786131  51.452239  -0.213666         51.456522   \n",
       " 228581        6788131  51.542246  -0.057507         51.548578   \n",
       " 228582        6798131  51.478577   0.048718         51.487034   \n",
       " \n",
       "         Longitude_Station  \n",
       " 190486          -0.458775  \n",
       " 190487          -0.049266  \n",
       " 190488          -0.122249  \n",
       " 190489          -0.201437  \n",
       " 190490          -0.028703  \n",
       " ...                   ...  \n",
       " 228578          -0.228753  \n",
       " 228579           0.089984  \n",
       " 228580          -0.201437  \n",
       " 228581          -0.043865  \n",
       " 228582           0.022075  \n",
       " \n",
       " [38097 rows x 5 columns],\n",
       "        IncidentNumber   Latitude  Longitude  Latitude_Station  \\\n",
       " 228583        6797131  51.490269  -0.173936         51.487231   \n",
       " 228584        6800131  51.551036   0.161772         51.559509   \n",
       " 228585        6801131  51.538261  -0.077029         51.562023   \n",
       " 228586        6803131  51.589714  -0.146144         51.586510   \n",
       " 228587        6806131  51.520088  -0.164656         51.520220   \n",
       " ...               ...        ...        ...               ...   \n",
       " 266675      150588131  51.610706  -0.078751         51.627218   \n",
       " 266676      150600131  51.603922  -0.173104         51.598092   \n",
       " 266677      150609131  51.526958  -0.094690         51.526472   \n",
       " 266678      150610131  51.526135  -0.131861         51.527725   \n",
       " 266679      150615131  51.520975  -0.191691         51.520220   \n",
       " \n",
       "         Longitude_Station  \n",
       " 228583          -0.170159  \n",
       " 228584           0.156807  \n",
       " 228585          -0.076535  \n",
       " 228586          -0.127263  \n",
       " 228587          -0.183015  \n",
       " ...                   ...  \n",
       " 266675          -0.069090  \n",
       " 266676          -0.179071  \n",
       " 266677          -0.085432  \n",
       " 266678          -0.130642  \n",
       " 266679          -0.183015  \n",
       " \n",
       " [38097 rows x 5 columns],\n",
       "        IncidentNumber   Latitude  Longitude  Latitude_Station  \\\n",
       " 266680      150621131  51.512900  -0.039458         51.510833   \n",
       " 266681      150623131  51.534171  -0.345563         51.511247   \n",
       " 266682      150629131  51.534171  -0.345563         51.511247   \n",
       " 266683      150630131  51.560591   0.078920         51.562121   \n",
       " 266684      150632131  51.511547  -0.234565         51.496332   \n",
       " ...               ...        ...        ...               ...   \n",
       " 304772      111580141  51.398747  -0.178962         51.397121   \n",
       " 304773      111581141  51.507804  -0.137294         51.512491   \n",
       " 304774      111587141  51.426444  -0.140532         51.406902   \n",
       " 304775      111591141  51.412863  -0.051334         51.408005   \n",
       " 304776      111594141  51.530060  -0.141792         51.512491   \n",
       " \n",
       "         Longitude_Station  \n",
       " 266680          -0.015791  \n",
       " 266681          -0.374388  \n",
       " 266682          -0.374388  \n",
       " 266683           0.089984  \n",
       " 266684          -0.223872  \n",
       " ...                   ...  \n",
       " 304772          -0.172802  \n",
       " 304773          -0.130055  \n",
       " 304774          -0.121108  \n",
       " 304775          -0.033984  \n",
       " 304776          -0.130055  \n",
       " \n",
       " [38097 rows x 5 columns],\n",
       "        IncidentNumber   Latitude  Longitude  Latitude_Station  \\\n",
       " 304777      111597141  51.474369  -0.022550         51.474079   \n",
       " 304778      111602141  51.564469  -0.069085         51.562023   \n",
       " 304779      111608141  51.478777  -0.138521         51.464994   \n",
       " 304780      111617141  51.519102  -0.047912         51.510870   \n",
       " 304781      111618141  51.516375  -0.069505         51.515230   \n",
       " ...               ...        ...        ...               ...   \n",
       " 342869       73345151  51.625348  -0.061431         51.627218   \n",
       " 342870       73348151  51.502690  -0.231607         51.496332   \n",
       " 342871       73349151  51.485833  -0.113027         51.463652   \n",
       " 342872       73350151  51.534147  -0.250877         51.535322   \n",
       " 342873       73353151  51.424842  -0.047027         51.442525   \n",
       " \n",
       "         Longitude_Station  \n",
       " 304777          -0.013630  \n",
       " 304778          -0.076535  \n",
       " 304779          -0.140953  \n",
       " 304780          -0.055801  \n",
       " 304781          -0.069366  \n",
       " ...                   ...  \n",
       " 342869          -0.069090  \n",
       " 342870          -0.223872  \n",
       " 342871          -0.109363  \n",
       " 342872          -0.262073  \n",
       " 342873          -0.045050  \n",
       " \n",
       " [38097 rows x 5 columns],\n",
       "          IncidentNumber   Latitude  Longitude  Latitude_Station  \\\n",
       " 342874         73358151  51.504185  -0.103407         51.510415   \n",
       " 342875         73359151  51.461442  -0.196867         51.456522   \n",
       " 342876         73364151  51.630862  -0.309276         51.615246   \n",
       " 342877         73367151  51.514400   0.029831         51.520203   \n",
       " 342878         73372151  51.518907  -0.146210         51.527725   \n",
       " ...                 ...        ...        ...               ...   \n",
       " 380966  030576-15032016  51.592945  -0.035812         51.589723   \n",
       " 380967  030580-15032016  51.451491   0.050225         51.456546   \n",
       " 380968  030583-15032016  51.345664  -0.071704         51.351839   \n",
       " 380969  030585-15032016  51.522543  -0.135006         51.527725   \n",
       " 380970  030586-15032016  51.511644  -0.135639         51.512491   \n",
       " \n",
       "         Longitude_Station  \n",
       " 342874          -0.089807  \n",
       " 342875          -0.201437  \n",
       " 342876          -0.243469  \n",
       " 342877           0.031673  \n",
       " 342878          -0.130642  \n",
       " ...                   ...  \n",
       " 380966          -0.028703  \n",
       " 380967           0.012620  \n",
       " 380968          -0.023980  \n",
       " 380969          -0.130642  \n",
       " 380970          -0.130055  \n",
       " \n",
       " [38097 rows x 5 columns],\n",
       "          IncidentNumber   Latitude  Longitude  Latitude_Station  \\\n",
       " 380971  030587-15032016  51.509365  -0.233568         51.507042   \n",
       " 380972  030592-15032016  51.516798  -0.127242         51.512491   \n",
       " 380973  030593-15032016  51.586041   0.081915         51.562121   \n",
       " 380974  030595-15032016  51.522397  -0.110723         51.527725   \n",
       " 380975  030597-15032016  51.626278   0.012064         51.629560   \n",
       " ...                 ...        ...        ...               ...   \n",
       " 419063  157762-20112016  51.461668  -0.116269         51.463652   \n",
       " 419064  157774-20112016  51.427092  -0.029943         51.442525   \n",
       " 419065  157779-20112016  51.470274  -0.128615         51.463652   \n",
       " 419066  157781-20112016  51.501721   0.102739         51.470699   \n",
       " 419067  157783-20112016  51.513459  -0.133807         51.512491   \n",
       " \n",
       "         Longitude_Station  \n",
       " 380971          -0.276903  \n",
       " 380972          -0.130055  \n",
       " 380973           0.089984  \n",
       " 380974          -0.130642  \n",
       " 380975          -0.004797  \n",
       " ...                   ...  \n",
       " 419063          -0.109363  \n",
       " 419064          -0.045050  \n",
       " 419065          -0.109363  \n",
       " 419066           0.045140  \n",
       " 419067          -0.130055  \n",
       " \n",
       " [38097 rows x 5 columns],\n",
       "          IncidentNumber   Latitude  Longitude  Latitude_Station  \\\n",
       " 419068  157787-20112016  51.529186  -0.015949         51.527881   \n",
       " 419069  157795-20112016  51.521231  -0.151579         51.527725   \n",
       " 419070  157796-20112016  51.461634  -0.116371         51.464994   \n",
       " 419071  157798-20112016  51.571029  -0.339074         51.554663   \n",
       " 419072  157799-20112016  51.572045  -0.197616         51.551785   \n",
       " ...                 ...        ...        ...               ...   \n",
       " 457160  111147-17082017  51.512249  -0.136926         51.512491   \n",
       " 457161  111150-17082017  51.504476  -0.474706         51.480152   \n",
       " 457162  111155-17082017  51.354891  -0.125450         51.362348   \n",
       " 457163  111159-17082017  51.479697   0.103799         51.470699   \n",
       " 457164  111163-17082017  51.501130  -0.162277         51.487231   \n",
       " \n",
       "         Longitude_Station  \n",
       " 419068          -0.053345  \n",
       " 419069          -0.130642  \n",
       " 419070          -0.140953  \n",
       " 419071          -0.359548  \n",
       " 419072          -0.192907  \n",
       " ...                   ...  \n",
       " 457160          -0.130055  \n",
       " 457161          -0.458775  \n",
       " 457162          -0.148206  \n",
       " 457163           0.045140  \n",
       " 457164          -0.170159  \n",
       " \n",
       " [38097 rows x 5 columns],\n",
       "          IncidentNumber   Latitude  Longitude  Latitude_Station  \\\n",
       " 457165  111167-17082017  51.608296  -0.002827         51.629560   \n",
       " 457166  111168-17082017  51.460947  -0.304119         51.467464   \n",
       " 457167  111173-17082017  51.517515  -0.065046         51.515230   \n",
       " 457168  111176-17082017  51.494254  -0.013592         51.500806   \n",
       " 457169  111183-17082017  51.470281  -0.458469         51.480152   \n",
       " ...                 ...        ...        ...               ...   \n",
       " 495257  067719-29052018  51.510358  -0.121314         51.493095   \n",
       " 495258  067721-29052018  51.400581  -0.264712         51.399072   \n",
       " 495259  067722-29052018  51.454724  -0.007954         51.457119   \n",
       " 495260  067723-29052018  51.565644   0.218388         51.598368   \n",
       " 495261  067727-29052018  51.520840  -0.151321         51.512491   \n",
       " \n",
       "         Longitude_Station  \n",
       " 457165          -0.004797  \n",
       " 457166          -0.284855  \n",
       " 457167          -0.069366  \n",
       " 457168          -0.025702  \n",
       " 457169          -0.458775  \n",
       " ...                   ...  \n",
       " 495257          -0.122249  \n",
       " 495258          -0.245344  \n",
       " 495259          -0.013364  \n",
       " 495260           0.223557  \n",
       " 495261          -0.130055  \n",
       " \n",
       " [38097 rows x 5 columns],\n",
       "          IncidentNumber   Latitude  Longitude  Latitude_Station  \\\n",
       " 495262  067730-29052018  51.610700  -0.109919         51.630511   \n",
       " 495263  067736-29052018  51.436562   0.007015         51.457119   \n",
       " 495264  067740-29052018  51.513324  -0.298183         51.511679   \n",
       " 495265  067743-29052018  51.652371  -0.080941         51.660218   \n",
       " 495266  067748-29052018  51.591896  -0.070522         51.589723   \n",
       " ...                 ...        ...        ...               ...   \n",
       " 533354  019116-15022019  51.344851  -0.009970         51.351839   \n",
       " 533355  019121-15022019  51.557835  -0.074773         51.562023   \n",
       " 533356  019128-15022019  51.508387  -0.277566         51.507042   \n",
       " 533357  019134-15022019  51.501696  -0.285407         51.490467   \n",
       " 533358  019136-15022019  51.594915  -0.108974         51.586510   \n",
       " \n",
       "         Longitude_Station  \n",
       " 495262          -0.127387  \n",
       " 495263          -0.013364  \n",
       " 495264          -0.314720  \n",
       " 495265          -0.051989  \n",
       " 495266          -0.028703  \n",
       " ...                   ...  \n",
       " 533354          -0.023980  \n",
       " 533355          -0.076535  \n",
       " 533356          -0.276903  \n",
       " 533357          -0.268940  \n",
       " 533358          -0.127263  \n",
       " \n",
       " [38097 rows x 5 columns],\n",
       "          IncidentNumber   Latitude  Longitude  Latitude_Station  \\\n",
       " 533359  019137-15022019  51.561853  -0.256345         51.544289   \n",
       " 533360  019138-15022019  51.506236  -0.102928         51.493095   \n",
       " 533361  019148-15022019  51.498166  -0.061414         51.486931   \n",
       " 533362  019152-15022019  51.617545  -0.063888         51.627218   \n",
       " 533363  019154-15022019  51.521229  -0.011317         51.510833   \n",
       " ...                 ...        ...        ...               ...   \n",
       " 571451  151062-06112019  51.387720   0.042057         51.407021   \n",
       " 571452  151067-06112019  51.552829  -0.241562         51.544289   \n",
       " 571453  151071-06112019  51.473213  -0.192188         51.477907   \n",
       " 571454  151072-06112019  51.527932  -0.019442         51.543719   \n",
       " 571455  151075-06112019  51.502010  -0.104882         51.510415   \n",
       " \n",
       "         Longitude_Station  \n",
       " 533359          -0.236311  \n",
       " 533360          -0.122249  \n",
       " 533361          -0.073523  \n",
       " 533362          -0.069090  \n",
       " 533363          -0.015791  \n",
       " ...                   ...  \n",
       " 571451           0.017033  \n",
       " 571452          -0.236311  \n",
       " 571453          -0.200913  \n",
       " 571454           0.011435  \n",
       " 571455          -0.089807  \n",
       " \n",
       " [38097 rows x 5 columns],\n",
       "          IncidentNumber   Latitude  Longitude  Latitude_Station  \\\n",
       " 571456  151077-06112019  51.457400  -0.454684         51.536129   \n",
       " 571457  151082-06112019  51.514045  -0.157232         51.512491   \n",
       " 571458  151085-06112019  51.598167  -0.119785         51.586510   \n",
       " 571459  151092-06112019  51.538128  -0.078822         51.526472   \n",
       " 571460  151094-06112019  51.498954  -0.015974         51.500806   \n",
       " ...                 ...        ...        ...               ...   \n",
       " 609548  116722-10092020  51.514698  -0.129368         51.512491   \n",
       " 609549  116723-10092020  51.681354  -0.052130         51.660218   \n",
       " 609550  116725-10092020  51.453401   0.075799         51.450649   \n",
       " 609551  116726-10092020  51.530088  -0.199001         51.551785   \n",
       " 609552  116735-10092020  51.643827  -0.108962         51.630511   \n",
       " \n",
       "         Longitude_Station  \n",
       " 571456          -0.135446  \n",
       " 571457          -0.130055  \n",
       " 571458          -0.127263  \n",
       " 571459          -0.085432  \n",
       " 571460          -0.025702  \n",
       " ...                   ...  \n",
       " 609548          -0.130055  \n",
       " 609549          -0.051989  \n",
       " 609550           0.059202  \n",
       " 609551          -0.192907  \n",
       " 609552          -0.127387  \n",
       " \n",
       " [38097 rows x 5 columns],\n",
       "          IncidentNumber   Latitude  Longitude  Latitude_Station  \\\n",
       " 609553  116737-10092020  51.453945  -0.249281         51.456522   \n",
       " 609554  116742-10092020  51.459876  -0.024113         51.457119   \n",
       " 609555  116743-10092020  51.516068  -0.123427         51.512491   \n",
       " 609556  116746-10092020  51.545991   0.053635         51.523553   \n",
       " 609557  116747-10092020  51.502952  -0.190089         51.502216   \n",
       " ...                 ...        ...        ...               ...   \n",
       " 647645  106853-12082021  51.478172  -0.038691         51.484856   \n",
       " 647646  106859-12082021  51.512981  -0.127970         51.527725   \n",
       " 647647  106864-12082021  51.508488   0.035216         51.520203   \n",
       " 647648  106867-12082021  51.510384  -0.123236         51.527725   \n",
       " 647649  106883-12082021  51.582694  -0.200001         51.588906   \n",
       " \n",
       "         Longitude_Station  \n",
       " 609553          -0.201437  \n",
       " 609554          -0.013364  \n",
       " 609555          -0.130055  \n",
       " 609556           0.057009  \n",
       " 609557          -0.189648  \n",
       " ...                   ...  \n",
       " 647645          -0.033834  \n",
       " 647646          -0.130642  \n",
       " 647647           0.031673  \n",
       " 647648          -0.130642  \n",
       " 647649          -0.228753  \n",
       " \n",
       " [38097 rows x 5 columns],\n",
       "          IncidentNumber   Latitude  Longitude  Latitude_Station  \\\n",
       " 647650  106884-12082021  51.526640  -0.067371         51.527881   \n",
       " 647651  106886-12082021  51.462574  -0.068030         51.474156   \n",
       " 647652  106895-12082021  51.537551  -0.451216         51.511247   \n",
       " 647653  106903-12082021  51.547218  -0.111739         51.540230   \n",
       " 647654  106907-12082021  51.407857  -0.287016         51.399072   \n",
       " ...                 ...        ...        ...               ...   \n",
       " 685742  077278-29052022  51.465524   0.030190         51.456546   \n",
       " 685743  077282-29052022  51.441864   0.117742         51.427120   \n",
       " 685744  077292-29052022  51.512036  -0.076800         51.515230   \n",
       " 685745  077298-29052022  51.524762  -0.207574         51.520220   \n",
       " 685746  077300-29052022  51.406130  -0.166361         51.415558   \n",
       " \n",
       "         Longitude_Station  \n",
       " 647650          -0.053345  \n",
       " 647651          -0.077889  \n",
       " 647652          -0.374388  \n",
       " 647653          -0.102384  \n",
       " 647654          -0.245344  \n",
       " ...                   ...  \n",
       " 685742           0.012620  \n",
       " 685743           0.094638  \n",
       " 685744          -0.069366  \n",
       " 685745          -0.183015  \n",
       " 685746          -0.197346  \n",
       " \n",
       " [38097 rows x 5 columns],\n",
       "          IncidentNumber   Latitude  Longitude  Latitude_Station  \\\n",
       " 685747  077312-29052022  51.488940  -0.169598         51.487231   \n",
       " 685748  077321-29052022  51.508935   0.025005         51.510833   \n",
       " 685749  077325-29052022  51.538321   0.155444         51.559509   \n",
       " 685750  077327-29052022  51.524509  -0.458278         51.531532   \n",
       " 685751  077328-29052022  51.490359   0.068583         51.470699   \n",
       " ...                 ...        ...        ...               ...   \n",
       " 723839  017946-05022023  51.552942  -0.025515         51.563036   \n",
       " 723840  017947-05022023  51.477327  -0.169870         51.487231   \n",
       " 723841  017948-05022023  51.607440  -0.154040         51.598092   \n",
       " 723842  017952-05022023  51.495514  -0.145563         51.493095   \n",
       " 723843  017953-05022023  51.606809  -0.124634         51.586510   \n",
       " \n",
       "         Longitude_Station  \n",
       " 685747          -0.170159  \n",
       " 685748          -0.015791  \n",
       " 685749           0.156807  \n",
       " 685750          -0.451352  \n",
       " 685751           0.045140  \n",
       " ...                   ...  \n",
       " 723839          -0.016020  \n",
       " 723840          -0.170159  \n",
       " 723841          -0.179071  \n",
       " 723842          -0.122249  \n",
       " 723843          -0.127263  \n",
       " \n",
       " [38097 rows x 5 columns],\n",
       "          IncidentNumber   Latitude  Longitude  Latitude_Station  \\\n",
       " 723844  017954-05022023  51.465463  -0.346999         51.474977   \n",
       " 723845  017960-05022023  51.522788  -0.086904         51.515230   \n",
       " 723846  017966-05022023  51.316377  -0.097773         51.331781   \n",
       " 723847  017967-05022023  51.598389  -0.023636         51.629560   \n",
       " 723848  017971-05022023  51.474388  -0.014663         51.474079   \n",
       " ...                 ...        ...        ...               ...   \n",
       " 761936  170366-31102023  51.344312  -0.189242         51.369017   \n",
       " 761937  170378-31102023  51.436663  -0.379106         51.435202   \n",
       " 761938  170381-31102023  51.510553  -0.084164         51.515230   \n",
       " 761939  170386-31102023  51.516491  -0.177415         51.520220   \n",
       " 761940  170393-31102023  51.532685  -0.125583         51.540230   \n",
       " \n",
       "         Longitude_Station  \n",
       " 723844          -0.343271  \n",
       " 723845          -0.069366  \n",
       " 723846          -0.124999  \n",
       " 723847          -0.004797  \n",
       " 723848          -0.013630  \n",
       " ...                   ...  \n",
       " 761936          -0.211087  \n",
       " 761937          -0.347573  \n",
       " 761938          -0.069366  \n",
       " 761939          -0.183015  \n",
       " 761940          -0.102384  \n",
       " \n",
       " [38097 rows x 5 columns]]"
      ]
     },
     "execution_count": 90,
     "metadata": {},
     "output_type": "execute_result"
    }
   ],
   "source": [
    "list_df"
   ]
  },
  {
   "cell_type": "code",
   "execution_count": 88,
   "id": "c7ee7d25",
   "metadata": {},
   "outputs": [],
   "source": [
    "#list_df[0].to_csv(\"Data/df_dist/Distance1_df_tot.csv\",index=True)\n"
   ]
  },
  {
   "cell_type": "code",
   "execution_count": 86,
   "id": "04982d5c",
   "metadata": {},
   "outputs": [],
   "source": [
    "#dst_1.to_csv(\"Data/df_dist/Distance1.csv\",index=False)\n",
    "\n",
    "#list_df[0].to_csv(\"Data/Distance1_tot.csv\",index=False)"
   ]
  },
  {
   "cell_type": "code",
   "execution_count": 85,
   "id": "9be4ad69",
   "metadata": {},
   "outputs": [],
   "source": [
    "import pickle\n",
    "\n",
    "with open(\"Data/df_dist/liste_df_API\", \"wb\") as fp:\n",
    "    pickle.dump(list_df,fp)"
   ]
  },
  {
   "cell_type": "markdown",
   "id": "bdc2d24f",
   "metadata": {},
   "source": [
    "## 2 eme "
   ]
  },
  {
   "cell_type": "code",
   "execution_count": 91,
   "id": "7f01ae69",
   "metadata": {},
   "outputs": [
    {
     "name": "stderr",
     "output_type": "stream",
     "text": [
      " 16%|█▋        | 6207/38097 [51:44<4:27:03,  1.99it/s]"
     ]
    },
    {
     "name": "stdout",
     "output_type": "stream",
     "text": [
      "bad request index 44304\n"
     ]
    },
    {
     "name": "stderr",
     "output_type": "stream",
     "text": [
      " 62%|██████▏   | 23462/38097 [3:15:45<2:01:40,  2.00it/s]"
     ]
    },
    {
     "name": "stdout",
     "output_type": "stream",
     "text": [
      "bad request index 61559\n"
     ]
    },
    {
     "name": "stderr",
     "output_type": "stream",
     "text": [
      " 76%|███████▋  | 29131/38097 [4:03:00<1:14:35,  2.00it/s]"
     ]
    },
    {
     "name": "stdout",
     "output_type": "stream",
     "text": [
      "bad request index 67228\n"
     ]
    },
    {
     "name": "stderr",
     "output_type": "stream",
     "text": [
      "100%|██████████| 38097/38097 [5:17:45<00:00,  2.00it/s]  \n"
     ]
    }
   ],
   "source": [
    "# calcul de la distance en metres entre la station intervenant et le lieu de l'incident\n",
    "# Distance de la route la plus rapide qui est donnée\n",
    "#\n",
    "\n",
    "import requests\n",
    "from tqdm import tqdm\n",
    "\n",
    "distance_df2 = []\n",
    "temps_api_df2 = []\n",
    "\n",
    "for i in tqdm(list_df[1].index.values) :\n",
    "    \n",
    "    url = f\"http://router.project-osrm.org/route/v1/driving/{list_df[1].Longitude_Station[i]},{list_df[1].Latitude_Station[i]};{list_df[1].Longitude[i]},{list_df[1].Latitude[i]}?alternatives=false&overview=false&skip_waypoints=true\"\n",
    "    reponse = requests.get(url)\n",
    "    data = reponse.json()\n",
    "   \n",
    "    # si la requete n'a pas aboutie on met des NA\n",
    "    if reponse.status_code != 200:\n",
    "        print(\"bad request index\",i)\n",
    "        distance_df2.append(np.nan)\n",
    "        temps_api_df2.append(np.nan)\n",
    "\n",
    "\n",
    "    else :\n",
    "    # select le dico avec distance\n",
    "        dst = data['routes'][0]['distance']\n",
    "        temps = data['routes'][0]['duration']\n",
    "        distance_df2.append(dst)\n",
    "        temps_api_df2.append(temps)\n",
    "\n",
    "# mise en un dataframe des distance     \n",
    "dst_2 = pd.DataFrame(index = list_df[1].index, data = {'dst_StationIncident': distance_df2, 'tempsAPI' : temps_api_df2})    \n",
    "dst_2.to_csv(\"Data/df_dist/Distance2.csv\",index=True)\n",
    "\n",
    "# ajout de la distance station-incident au dataframe ssgroupe\n",
    "list_df[1] = pd.concat([list_df[1], dst_2], axis = 1)\n",
    "\n",
    "\n",
    "list_df[1].to_csv(\"Data/df_dist/Distance2_df_tot.csv\",index=True)\n",
    "\n",
    "# save de la liste de df\n",
    "\n",
    "with open(\"Data/df_dist/liste_df_API\", \"wb\") as fp:\n",
    "    pickle.dump(list_df,fp)\n",
    "\n"
   ]
  },
  {
   "cell_type": "markdown",
   "id": "e6ce001c",
   "metadata": {},
   "source": [
    "### 3 \n"
   ]
  },
  {
   "cell_type": "code",
   "execution_count": 45,
   "id": "55ea8f46",
   "metadata": {},
   "outputs": [
    {
     "data": {
      "text/html": [
       "<div>\n",
       "<style scoped>\n",
       "    .dataframe tbody tr th:only-of-type {\n",
       "        vertical-align: middle;\n",
       "    }\n",
       "\n",
       "    .dataframe tbody tr th {\n",
       "        vertical-align: top;\n",
       "    }\n",
       "\n",
       "    .dataframe thead th {\n",
       "        text-align: right;\n",
       "    }\n",
       "</style>\n",
       "<table border=\"1\" class=\"dataframe\">\n",
       "  <thead>\n",
       "    <tr style=\"text-align: right;\">\n",
       "      <th></th>\n",
       "      <th>Latitude</th>\n",
       "      <th>Longitude</th>\n",
       "      <th>Latitude_Station</th>\n",
       "      <th>Longitude_Station</th>\n",
       "      <th>dst_StationIncident</th>\n",
       "    </tr>\n",
       "  </thead>\n",
       "  <tbody>\n",
       "    <tr>\n",
       "      <th>246511</th>\n",
       "      <td>51.340718</td>\n",
       "      <td>-0.113622</td>\n",
       "      <td>41.907433</td>\n",
       "      <td>-87.637428</td>\n",
       "      <td>2147102.0</td>\n",
       "    </tr>\n",
       "    <tr>\n",
       "      <th>246512</th>\n",
       "      <td>51.409779</td>\n",
       "      <td>-0.056757</td>\n",
       "      <td>51.407963</td>\n",
       "      <td>-0.033726</td>\n",
       "      <td>2051.8</td>\n",
       "    </tr>\n",
       "    <tr>\n",
       "      <th>246513</th>\n",
       "      <td>51.505366</td>\n",
       "      <td>-0.127062</td>\n",
       "      <td>51.512018</td>\n",
       "      <td>-0.131931</td>\n",
       "      <td>1692.5</td>\n",
       "    </tr>\n",
       "    <tr>\n",
       "      <th>246514</th>\n",
       "      <td>51.424726</td>\n",
       "      <td>-0.171413</td>\n",
       "      <td>51.437952</td>\n",
       "      <td>-0.162757</td>\n",
       "      <td>1871.6</td>\n",
       "    </tr>\n",
       "    <tr>\n",
       "      <th>246515</th>\n",
       "      <td>51.492199</td>\n",
       "      <td>-0.200494</td>\n",
       "      <td>51.502216</td>\n",
       "      <td>-0.189648</td>\n",
       "      <td>2215.0</td>\n",
       "    </tr>\n",
       "    <tr>\n",
       "      <th>...</th>\n",
       "      <td>...</td>\n",
       "      <td>...</td>\n",
       "      <td>...</td>\n",
       "      <td>...</td>\n",
       "      <td>...</td>\n",
       "    </tr>\n",
       "    <tr>\n",
       "      <th>268916</th>\n",
       "      <td>51.435452</td>\n",
       "      <td>-0.182769</td>\n",
       "      <td>51.437952</td>\n",
       "      <td>-0.162757</td>\n",
       "      <td>2403.3</td>\n",
       "    </tr>\n",
       "    <tr>\n",
       "      <th>268917</th>\n",
       "      <td>51.575858</td>\n",
       "      <td>0.177281</td>\n",
       "      <td>51.593281</td>\n",
       "      <td>0.183319</td>\n",
       "      <td>2564.0</td>\n",
       "    </tr>\n",
       "    <tr>\n",
       "      <th>268918</th>\n",
       "      <td>51.573270</td>\n",
       "      <td>0.179596</td>\n",
       "      <td>51.559509</td>\n",
       "      <td>0.156807</td>\n",
       "      <td>3231.9</td>\n",
       "    </tr>\n",
       "    <tr>\n",
       "      <th>268919</th>\n",
       "      <td>51.428315</td>\n",
       "      <td>-0.072644</td>\n",
       "      <td>51.442525</td>\n",
       "      <td>-0.045050</td>\n",
       "      <td>3400.3</td>\n",
       "    </tr>\n",
       "    <tr>\n",
       "      <th>268920</th>\n",
       "      <td>51.589798</td>\n",
       "      <td>-0.018204</td>\n",
       "      <td>51.589723</td>\n",
       "      <td>-0.028703</td>\n",
       "      <td>884.8</td>\n",
       "    </tr>\n",
       "  </tbody>\n",
       "</table>\n",
       "<p>22410 rows × 5 columns</p>\n",
       "</div>"
      ],
      "text/plain": [
       "         Latitude  Longitude  Latitude_Station  Longitude_Station  \\\n",
       "246511  51.340718  -0.113622         41.907433         -87.637428   \n",
       "246512  51.409779  -0.056757         51.407963          -0.033726   \n",
       "246513  51.505366  -0.127062         51.512018          -0.131931   \n",
       "246514  51.424726  -0.171413         51.437952          -0.162757   \n",
       "246515  51.492199  -0.200494         51.502216          -0.189648   \n",
       "...           ...        ...               ...                ...   \n",
       "268916  51.435452  -0.182769         51.437952          -0.162757   \n",
       "268917  51.575858   0.177281         51.593281           0.183319   \n",
       "268918  51.573270   0.179596         51.559509           0.156807   \n",
       "268919  51.428315  -0.072644         51.442525          -0.045050   \n",
       "268920  51.589798  -0.018204         51.589723          -0.028703   \n",
       "\n",
       "        dst_StationIncident  \n",
       "246511            2147102.0  \n",
       "246512               2051.8  \n",
       "246513               1692.5  \n",
       "246514               1871.6  \n",
       "246515               2215.0  \n",
       "...                     ...  \n",
       "268916               2403.3  \n",
       "268917               2564.0  \n",
       "268918               3231.9  \n",
       "268919               3400.3  \n",
       "268920                884.8  \n",
       "\n",
       "[22410 rows x 5 columns]"
      ]
     },
     "execution_count": 45,
     "metadata": {},
     "output_type": "execute_result"
    }
   ],
   "source": [
    "list_df[1]"
   ]
  },
  {
   "cell_type": "code",
   "execution_count": 92,
   "id": "e793c9cc",
   "metadata": {},
   "outputs": [
    {
     "name": "stderr",
     "output_type": "stream",
     "text": [
      "  3%|▎         | 1078/38097 [08:58<5:08:16,  2.00it/s]"
     ]
    },
    {
     "name": "stdout",
     "output_type": "stream",
     "text": [
      "bad request index 77272\n"
     ]
    },
    {
     "name": "stderr",
     "output_type": "stream",
     "text": [
      "  9%|▉         | 3522/38097 [29:20<4:47:50,  2.00it/s]"
     ]
    },
    {
     "name": "stdout",
     "output_type": "stream",
     "text": [
      "bad request index 79716\n"
     ]
    },
    {
     "name": "stderr",
     "output_type": "stream",
     "text": [
      " 10%|▉         | 3656/38097 [30:27<4:47:01,  2.00it/s]"
     ]
    },
    {
     "name": "stdout",
     "output_type": "stream",
     "text": [
      "bad request index 79850\n"
     ]
    },
    {
     "name": "stderr",
     "output_type": "stream",
     "text": [
      " 21%|██        | 8064/38097 [1:07:26<4:12:35,  1.98it/s]"
     ]
    },
    {
     "name": "stdout",
     "output_type": "stream",
     "text": [
      "bad request index 84258\n"
     ]
    },
    {
     "name": "stderr",
     "output_type": "stream",
     "text": [
      " 52%|█████▏    | 19639/38097 [2:43:56<2:33:44,  2.00it/s]"
     ]
    },
    {
     "name": "stdout",
     "output_type": "stream",
     "text": [
      "bad request index 95833\n"
     ]
    },
    {
     "name": "stderr",
     "output_type": "stream",
     "text": [
      " 60%|█████▉    | 22815/38097 [3:10:26<2:07:11,  2.00it/s]"
     ]
    },
    {
     "name": "stdout",
     "output_type": "stream",
     "text": [
      "bad request index 99009\n"
     ]
    },
    {
     "name": "stderr",
     "output_type": "stream",
     "text": [
      " 60%|██████    | 23004/38097 [3:12:00<2:06:00,  2.00it/s]"
     ]
    },
    {
     "name": "stdout",
     "output_type": "stream",
     "text": [
      "bad request index 99198\n"
     ]
    },
    {
     "name": "stderr",
     "output_type": "stream",
     "text": [
      " 95%|█████████▍| 36013/38097 [5:00:25<17:21,  2.00it/s]  "
     ]
    },
    {
     "name": "stdout",
     "output_type": "stream",
     "text": [
      "bad request index 112207\n"
     ]
    },
    {
     "name": "stderr",
     "output_type": "stream",
     "text": [
      "100%|██████████| 38097/38097 [5:17:47<00:00,  2.00it/s]\n"
     ]
    }
   ],
   "source": [
    "# calcul de la distance en metres entre la station intervenant et le lieu de l'incident\n",
    "# Distance de la route la plus rapide qui est donnée\n",
    "#\n",
    "\n",
    "import requests\n",
    "from tqdm import tqdm\n",
    "\n",
    "distance_df3 = []\n",
    "temps_api_df3 = []\n",
    "\n",
    "for i in tqdm(list_df[2].index.values) :\n",
    "    \n",
    "    url = f\"http://router.project-osrm.org/route/v1/driving/{list_df[2].Longitude_Station[i]},{list_df[2].Latitude_Station[i]};{list_df[2].Longitude[i]},{list_df[2].Latitude[i]}?alternatives=false&overview=false&skip_waypoints=true\"\n",
    "    reponse = requests.get(url)\n",
    "    data = reponse.json()\n",
    "   \n",
    "    # si la requete n'a pas aboutie on met des NA\n",
    "    if reponse.status_code != 200:\n",
    "        print(\"bad request index\",i)\n",
    "        distance_df3.append(np.nan)\n",
    "        temps_api_df3.append(np.nan)\n",
    "\n",
    "\n",
    "    else :\n",
    "    # select le dico avec distance\n",
    "        dst = data['routes'][0]['distance']\n",
    "        temps = data['routes'][0]['duration']\n",
    "        distance_df3.append(dst)\n",
    "        temps_api_df3.append(temps)\n",
    "\n",
    "# mise en un dataframe des distance     \n",
    "dst_3 = pd.DataFrame(index = list_df[2].index, data = {'dst_StationIncident': distance_df3, 'tempsAPI' : temps_api_df3})    \n",
    "dst_3.to_csv(\"Data/df_dist/Distance3.csv\",index=True)\n",
    "\n",
    "# ajout de la distance station-incident au dataframe ssgroupe\n",
    "list_df[2] = pd.concat([list_df[2], dst_3], axis = 1)\n",
    "\n",
    "\n",
    "list_df[2].to_csv(\"Data/df_dist/Distance3_df_tot.csv\",index=True)\n",
    "\n",
    "# save de la liste de df\n",
    "\n",
    "with open(\"Data/df_dist/liste_df_API\", \"wb\") as fp:\n",
    "    pickle.dump(list_df,fp)\n",
    "\n"
   ]
  },
  {
   "cell_type": "markdown",
   "id": "377e477b",
   "metadata": {},
   "source": [
    "### 4 "
   ]
  },
  {
   "cell_type": "code",
   "execution_count": 93,
   "id": "2afec955",
   "metadata": {},
   "outputs": [
    {
     "name": "stderr",
     "output_type": "stream",
     "text": [
      "  6%|▋         | 2425/38097 [20:12<4:57:07,  2.00it/s]"
     ]
    },
    {
     "name": "stdout",
     "output_type": "stream",
     "text": [
      "bad request index 116716\n"
     ]
    },
    {
     "name": "stderr",
     "output_type": "stream",
     "text": [
      " 52%|█████▏    | 19747/38097 [2:44:51<2:29:59,  2.04it/s] "
     ]
    },
    {
     "name": "stdout",
     "output_type": "stream",
     "text": [
      "bad request index 134038\n"
     ]
    },
    {
     "name": "stderr",
     "output_type": "stream",
     "text": [
      " 78%|███████▊  | 29903/38097 [4:09:47<1:08:15,  2.00it/s]"
     ]
    },
    {
     "name": "stdout",
     "output_type": "stream",
     "text": [
      "bad request index 144194\n"
     ]
    },
    {
     "name": "stderr",
     "output_type": "stream",
     "text": [
      " 83%|████████▎ | 31467/38097 [4:22:49<55:07,  2.00it/s]  "
     ]
    },
    {
     "name": "stdout",
     "output_type": "stream",
     "text": [
      "bad request index 145758\n"
     ]
    },
    {
     "name": "stderr",
     "output_type": "stream",
     "text": [
      " 85%|████████▍ | 32210/38097 [4:29:00<48:48,  2.01it/s]"
     ]
    },
    {
     "name": "stdout",
     "output_type": "stream",
     "text": [
      "bad request index 146501\n"
     ]
    },
    {
     "name": "stderr",
     "output_type": "stream",
     "text": [
      "100%|██████████| 38097/38097 [5:18:04<00:00,  2.00it/s]\n"
     ]
    }
   ],
   "source": [
    "# calcul de la distance en metres entre la station intervenant et le lieu de l'incident\n",
    "# Distance de la route la plus rapide qui est donnée\n",
    "#\n",
    "\n",
    "import requests\n",
    "from tqdm import tqdm\n",
    "\n",
    "distance = []\n",
    "temps_api = []\n",
    "\n",
    "for i in tqdm(list_df[3].index.values) :\n",
    "    \n",
    "    url = f\"http://router.project-osrm.org/route/v1/driving/{list_df[3].Longitude_Station[i]},{list_df[3].Latitude_Station[i]};{list_df[3].Longitude[i]},{list_df[3].Latitude[i]}?alternatives=false&overview=false&skip_waypoints=true\"\n",
    "    reponse = requests.get(url)\n",
    "    data = reponse.json()\n",
    "   \n",
    "    # si la requete n'a pas aboutie on met des NA\n",
    "    if reponse.status_code != 200:\n",
    "        print(\"bad request index\",i)\n",
    "        distance.append(np.nan)\n",
    "        temps_api.append(np.nan)\n",
    "\n",
    "\n",
    "    else :\n",
    "    # select le dico avec distance\n",
    "        dst = data['routes'][0]['distance']\n",
    "        temps = data['routes'][0]['duration']\n",
    "        distance.append(dst)\n",
    "        temps_api.append(temps)\n",
    "\n",
    "# mise en un dataframe des distance     \n",
    "dst_4 = pd.DataFrame(index = list_df[3].index, data = {'dst_StationIncident': distance, 'tempsAPI' : temps_api})    \n",
    "dst_4.to_csv(\"Data/df_dist/Distance4.csv\",index=True)\n",
    "\n",
    "# ajout de la distance station-incident au dataframe ssgroupe\n",
    "list_df[3] = pd.concat([list_df[3], dst_4], axis = 1)\n",
    "\n",
    "\n",
    "list_df[3].to_csv(\"Data/df_dist/Distance4_df_tot.csv\",index=True)\n",
    "\n",
    "# save de la liste de df\n",
    "\n",
    "with open(\"Data/df_dist/liste_df_API\", \"wb\") as fp:\n",
    "    pickle.dump(list_df,fp)\n",
    "\n"
   ]
  },
  {
   "cell_type": "code",
   "execution_count": 97,
   "id": "04e43b87",
   "metadata": {},
   "outputs": [
    {
     "data": {
      "text/plain": [
       "[      IncidentNumber   Latitude  Longitude  Latitude_Station  \\\n",
       " 0          235138081  51.475812  -0.148894         51.467137   \n",
       " 1               2091  51.633342  -0.068488         51.627218   \n",
       " 2               3091  51.533882  -0.448089         51.531532   \n",
       " 3               5091  51.551441  -0.111120         51.561769   \n",
       " 4               8091  51.462211   0.029557         51.487034   \n",
       " ...              ...        ...        ...               ...   \n",
       " 38093      139047091  51.562286  -0.083475         51.562023   \n",
       " 38094      139050091  51.448246  -0.113742         51.425984   \n",
       " 38095      139051091  51.489762   0.089122         51.470699   \n",
       " 38096      139055091  51.562049   0.067617         51.562121   \n",
       " 38097      139058091  51.389227  -0.304443         51.392058   \n",
       " \n",
       "        Longitude_Station  dst_StationIncident  tempsAPI  \n",
       " 0              -0.169264               2250.5     280.8  \n",
       " 1              -0.069090               1071.1     179.3  \n",
       " 2              -0.451352                917.9     121.6  \n",
       " 3              -0.116434               1362.0     229.6  \n",
       " 4               0.022075               5361.4     341.8  \n",
       " ...                  ...                  ...       ...  \n",
       " 38093          -0.076535               3905.5     603.8  \n",
       " 38094          -0.105596               2861.0     466.1  \n",
       " 38095           0.045140               5537.9     591.7  \n",
       " 38096           0.089984               2545.0     264.9  \n",
       " 38097          -0.298276                790.1     126.5  \n",
       " \n",
       " [38098 rows x 7 columns],\n",
       "       IncidentNumber   Latitude  Longitude  Latitude_Station  \\\n",
       " 38098      139059091  51.520994  -0.133743         51.512491   \n",
       " 38099      139064091  51.492816  -0.142573         51.493095   \n",
       " 38100      139068091  51.631135  -0.298270         51.615246   \n",
       " 38101      139074091  51.399747  -0.146402         51.406902   \n",
       " 38102      139077091  51.663214  -0.103699         51.660218   \n",
       " ...              ...        ...        ...               ...   \n",
       " 76190       47424101  51.484948  -0.083378         51.486931   \n",
       " 76191       47430101  51.488732  -0.076104         51.486931   \n",
       " 76192       47435101  51.435332  -0.045127         51.442525   \n",
       " 76193       47437101  51.514159  -0.134311         51.512491   \n",
       " 76194       47440101  51.373215  -0.100664         51.369071   \n",
       " \n",
       "        Longitude_Station  dst_StationIncident  tempsAPI  \n",
       " 38098          -0.130055               1320.1     225.2  \n",
       " 38099          -0.122249               2053.5     309.8  \n",
       " 38100          -0.243469               6277.6     333.3  \n",
       " 38101          -0.121108               2056.7     293.8  \n",
       " 38102          -0.051989               4260.2     423.9  \n",
       " ...                  ...                  ...       ...  \n",
       " 76190          -0.073523               1243.3     187.6  \n",
       " 76191          -0.073523                688.6     177.2  \n",
       " 76192          -0.045050               1146.6     169.4  \n",
       " 76193          -0.130055                482.6      79.8  \n",
       " 76194          -0.105174               1257.5     172.7  \n",
       " \n",
       " [38097 rows x 7 columns],\n",
       "        IncidentNumber   Latitude  Longitude  Latitude_Station  \\\n",
       " 76195        47442101  51.372881  -0.100591         51.369071   \n",
       " 76196        47444101  51.453112  -0.429829         51.536129   \n",
       " 76197        47445101  51.511175  -0.135543         51.512491   \n",
       " 76198        47449101  51.421931  -0.200004         51.415558   \n",
       " 76199        47454101  51.453028  -0.429645         51.536129   \n",
       " ...               ...        ...        ...               ...   \n",
       " 114287      186928101  51.411698  -0.191864         51.397121   \n",
       " 114288      186934101  51.583513  -0.093625         51.592478   \n",
       " 114289      186938101  51.539959   0.161637         51.559509   \n",
       " 114290      186939101  51.675570  -0.043969         51.660218   \n",
       " 114291      186946101  51.523634  -0.181625         51.502216   \n",
       " \n",
       "         Longitude_Station  dst_StationIncident  tempsAPI  \n",
       " 76195           -0.105174               1864.6     225.9  \n",
       " 76196           -0.135446              29775.8    2675.4  \n",
       " 76197           -0.130055               1011.1     177.1  \n",
       " 76198           -0.197346               1002.7     163.4  \n",
       " 76199           -0.135446              29770.0    2674.0  \n",
       " ...                   ...                  ...       ...  \n",
       " 114287          -0.172802               3964.5     432.6  \n",
       " 114288          -0.071637               3079.7     479.5  \n",
       " 114289           0.156807               2597.0     212.1  \n",
       " 114290          -0.051989               2763.3     253.5  \n",
       " 114291          -0.189648               3865.5     604.5  \n",
       " \n",
       " [38097 rows x 7 columns],\n",
       "        IncidentNumber   Latitude  Longitude  Latitude_Station  \\\n",
       " 114292      186947101  51.411698  -0.191864         51.415558   \n",
       " 114293      186951101  51.518933  -0.196298         51.520220   \n",
       " 114294      186950101  51.459008   0.079871         51.450649   \n",
       " 114295      186954101  51.568965   0.143790         51.559509   \n",
       " 114296      186956101  51.397942  -0.289027         51.429444   \n",
       " ...               ...        ...        ...               ...   \n",
       " 152384      112680111  51.373118  -0.120840         51.369071   \n",
       " 152385      112682111  51.561298   0.147008         51.559509   \n",
       " 152386      112683111  51.379930   0.102769         51.371933   \n",
       " 152387      112686111  51.375166  -0.095080         51.385860   \n",
       " 152388      112688111  51.462247  -0.188989         51.456522   \n",
       " \n",
       "         Longitude_Station  dst_StationIncident  tempsAPI  \n",
       " 114292          -0.197346                817.2     139.2  \n",
       " 114293          -0.183015               1598.9     245.6  \n",
       " 114294           0.059202               2456.1     266.0  \n",
       " 114295           0.156807               1651.0     117.9  \n",
       " 114296          -0.306595               4999.9     633.4  \n",
       " ...                   ...                  ...       ...  \n",
       " 152384          -0.105174               1919.2     258.9  \n",
       " 152385           0.156807                917.1      94.3  \n",
       " 152386           0.110864               2051.9     203.8  \n",
       " 152387          -0.062312               3963.2     420.0  \n",
       " 152388          -0.201437               1493.9     181.6  \n",
       " \n",
       " [38097 rows x 7 columns],\n",
       "        IncidentNumber   Latitude  Longitude  Latitude_Station  \\\n",
       " 152389      112692111  51.565183  -0.216976         51.551785   \n",
       " 152390      112694111  51.475145  -0.384247         51.474977   \n",
       " 152391      112695111  51.523060  -0.125745         51.527725   \n",
       " 152392      112698111  51.482643  -0.451413         51.480152   \n",
       " 152393      112703111  51.541562   0.082480         51.529808   \n",
       " ...               ...        ...        ...               ...   \n",
       " 190481       46511121  51.412692  -0.145548         51.406902   \n",
       " 190482       46512121  51.520245  -0.170113         51.520220   \n",
       " 190483       46515121  51.543096  -0.260643         51.535322   \n",
       " 190484       46521121  51.513992  -0.159597         51.512491   \n",
       " 190485       46526121  51.592623  -0.039175         51.589723   \n",
       " \n",
       "         Longitude_Station  \n",
       " 152389          -0.192907  \n",
       " 152390          -0.343271  \n",
       " 152391          -0.130642  \n",
       " 152392          -0.458775  \n",
       " 152393           0.088927  \n",
       " ...                   ...  \n",
       " 190481          -0.121108  \n",
       " 190482          -0.183015  \n",
       " 190483          -0.262073  \n",
       " 190484          -0.130055  \n",
       " 190485          -0.028703  \n",
       " \n",
       " [38097 rows x 5 columns],\n",
       "        IncidentNumber   Latitude  Longitude  Latitude_Station  \\\n",
       " 190486       46527121  51.470353  -0.458452         51.480152   \n",
       " 190487       46531121  51.478636  -0.051269         51.473603   \n",
       " 190488       46538121  51.502486  -0.110653         51.493095   \n",
       " 190489       46539121  51.452239  -0.213666         51.456522   \n",
       " 190490       46546121  51.583621  -0.020335         51.589723   \n",
       " ...               ...        ...        ...               ...   \n",
       " 228578        6774131  51.616771  -0.242516         51.588906   \n",
       " 228579        6781131  51.560332   0.071709         51.562121   \n",
       " 228580        6786131  51.452239  -0.213666         51.456522   \n",
       " 228581        6788131  51.542246  -0.057507         51.548578   \n",
       " 228582        6798131  51.478577   0.048718         51.487034   \n",
       " \n",
       "         Longitude_Station  \n",
       " 190486          -0.458775  \n",
       " 190487          -0.049266  \n",
       " 190488          -0.122249  \n",
       " 190489          -0.201437  \n",
       " 190490          -0.028703  \n",
       " ...                   ...  \n",
       " 228578          -0.228753  \n",
       " 228579           0.089984  \n",
       " 228580          -0.201437  \n",
       " 228581          -0.043865  \n",
       " 228582           0.022075  \n",
       " \n",
       " [38097 rows x 5 columns],\n",
       "        IncidentNumber   Latitude  Longitude  Latitude_Station  \\\n",
       " 228583        6797131  51.490269  -0.173936         51.487231   \n",
       " 228584        6800131  51.551036   0.161772         51.559509   \n",
       " 228585        6801131  51.538261  -0.077029         51.562023   \n",
       " 228586        6803131  51.589714  -0.146144         51.586510   \n",
       " 228587        6806131  51.520088  -0.164656         51.520220   \n",
       " ...               ...        ...        ...               ...   \n",
       " 266675      150588131  51.610706  -0.078751         51.627218   \n",
       " 266676      150600131  51.603922  -0.173104         51.598092   \n",
       " 266677      150609131  51.526958  -0.094690         51.526472   \n",
       " 266678      150610131  51.526135  -0.131861         51.527725   \n",
       " 266679      150615131  51.520975  -0.191691         51.520220   \n",
       " \n",
       "         Longitude_Station  \n",
       " 228583          -0.170159  \n",
       " 228584           0.156807  \n",
       " 228585          -0.076535  \n",
       " 228586          -0.127263  \n",
       " 228587          -0.183015  \n",
       " ...                   ...  \n",
       " 266675          -0.069090  \n",
       " 266676          -0.179071  \n",
       " 266677          -0.085432  \n",
       " 266678          -0.130642  \n",
       " 266679          -0.183015  \n",
       " \n",
       " [38097 rows x 5 columns],\n",
       "        IncidentNumber   Latitude  Longitude  Latitude_Station  \\\n",
       " 266680      150621131  51.512900  -0.039458         51.510833   \n",
       " 266681      150623131  51.534171  -0.345563         51.511247   \n",
       " 266682      150629131  51.534171  -0.345563         51.511247   \n",
       " 266683      150630131  51.560591   0.078920         51.562121   \n",
       " 266684      150632131  51.511547  -0.234565         51.496332   \n",
       " ...               ...        ...        ...               ...   \n",
       " 304772      111580141  51.398747  -0.178962         51.397121   \n",
       " 304773      111581141  51.507804  -0.137294         51.512491   \n",
       " 304774      111587141  51.426444  -0.140532         51.406902   \n",
       " 304775      111591141  51.412863  -0.051334         51.408005   \n",
       " 304776      111594141  51.530060  -0.141792         51.512491   \n",
       " \n",
       "         Longitude_Station  \n",
       " 266680          -0.015791  \n",
       " 266681          -0.374388  \n",
       " 266682          -0.374388  \n",
       " 266683           0.089984  \n",
       " 266684          -0.223872  \n",
       " ...                   ...  \n",
       " 304772          -0.172802  \n",
       " 304773          -0.130055  \n",
       " 304774          -0.121108  \n",
       " 304775          -0.033984  \n",
       " 304776          -0.130055  \n",
       " \n",
       " [38097 rows x 5 columns],\n",
       "        IncidentNumber   Latitude  Longitude  Latitude_Station  \\\n",
       " 304777      111597141  51.474369  -0.022550         51.474079   \n",
       " 304778      111602141  51.564469  -0.069085         51.562023   \n",
       " 304779      111608141  51.478777  -0.138521         51.464994   \n",
       " 304780      111617141  51.519102  -0.047912         51.510870   \n",
       " 304781      111618141  51.516375  -0.069505         51.515230   \n",
       " ...               ...        ...        ...               ...   \n",
       " 342869       73345151  51.625348  -0.061431         51.627218   \n",
       " 342870       73348151  51.502690  -0.231607         51.496332   \n",
       " 342871       73349151  51.485833  -0.113027         51.463652   \n",
       " 342872       73350151  51.534147  -0.250877         51.535322   \n",
       " 342873       73353151  51.424842  -0.047027         51.442525   \n",
       " \n",
       "         Longitude_Station  \n",
       " 304777          -0.013630  \n",
       " 304778          -0.076535  \n",
       " 304779          -0.140953  \n",
       " 304780          -0.055801  \n",
       " 304781          -0.069366  \n",
       " ...                   ...  \n",
       " 342869          -0.069090  \n",
       " 342870          -0.223872  \n",
       " 342871          -0.109363  \n",
       " 342872          -0.262073  \n",
       " 342873          -0.045050  \n",
       " \n",
       " [38097 rows x 5 columns],\n",
       "          IncidentNumber   Latitude  Longitude  Latitude_Station  \\\n",
       " 342874         73358151  51.504185  -0.103407         51.510415   \n",
       " 342875         73359151  51.461442  -0.196867         51.456522   \n",
       " 342876         73364151  51.630862  -0.309276         51.615246   \n",
       " 342877         73367151  51.514400   0.029831         51.520203   \n",
       " 342878         73372151  51.518907  -0.146210         51.527725   \n",
       " ...                 ...        ...        ...               ...   \n",
       " 380966  030576-15032016  51.592945  -0.035812         51.589723   \n",
       " 380967  030580-15032016  51.451491   0.050225         51.456546   \n",
       " 380968  030583-15032016  51.345664  -0.071704         51.351839   \n",
       " 380969  030585-15032016  51.522543  -0.135006         51.527725   \n",
       " 380970  030586-15032016  51.511644  -0.135639         51.512491   \n",
       " \n",
       "         Longitude_Station  \n",
       " 342874          -0.089807  \n",
       " 342875          -0.201437  \n",
       " 342876          -0.243469  \n",
       " 342877           0.031673  \n",
       " 342878          -0.130642  \n",
       " ...                   ...  \n",
       " 380966          -0.028703  \n",
       " 380967           0.012620  \n",
       " 380968          -0.023980  \n",
       " 380969          -0.130642  \n",
       " 380970          -0.130055  \n",
       " \n",
       " [38097 rows x 5 columns],\n",
       "          IncidentNumber   Latitude  Longitude  Latitude_Station  \\\n",
       " 380971  030587-15032016  51.509365  -0.233568         51.507042   \n",
       " 380972  030592-15032016  51.516798  -0.127242         51.512491   \n",
       " 380973  030593-15032016  51.586041   0.081915         51.562121   \n",
       " 380974  030595-15032016  51.522397  -0.110723         51.527725   \n",
       " 380975  030597-15032016  51.626278   0.012064         51.629560   \n",
       " ...                 ...        ...        ...               ...   \n",
       " 419063  157762-20112016  51.461668  -0.116269         51.463652   \n",
       " 419064  157774-20112016  51.427092  -0.029943         51.442525   \n",
       " 419065  157779-20112016  51.470274  -0.128615         51.463652   \n",
       " 419066  157781-20112016  51.501721   0.102739         51.470699   \n",
       " 419067  157783-20112016  51.513459  -0.133807         51.512491   \n",
       " \n",
       "         Longitude_Station  \n",
       " 380971          -0.276903  \n",
       " 380972          -0.130055  \n",
       " 380973           0.089984  \n",
       " 380974          -0.130642  \n",
       " 380975          -0.004797  \n",
       " ...                   ...  \n",
       " 419063          -0.109363  \n",
       " 419064          -0.045050  \n",
       " 419065          -0.109363  \n",
       " 419066           0.045140  \n",
       " 419067          -0.130055  \n",
       " \n",
       " [38097 rows x 5 columns],\n",
       "          IncidentNumber   Latitude  Longitude  Latitude_Station  \\\n",
       " 419068  157787-20112016  51.529186  -0.015949         51.527881   \n",
       " 419069  157795-20112016  51.521231  -0.151579         51.527725   \n",
       " 419070  157796-20112016  51.461634  -0.116371         51.464994   \n",
       " 419071  157798-20112016  51.571029  -0.339074         51.554663   \n",
       " 419072  157799-20112016  51.572045  -0.197616         51.551785   \n",
       " ...                 ...        ...        ...               ...   \n",
       " 457160  111147-17082017  51.512249  -0.136926         51.512491   \n",
       " 457161  111150-17082017  51.504476  -0.474706         51.480152   \n",
       " 457162  111155-17082017  51.354891  -0.125450         51.362348   \n",
       " 457163  111159-17082017  51.479697   0.103799         51.470699   \n",
       " 457164  111163-17082017  51.501130  -0.162277         51.487231   \n",
       " \n",
       "         Longitude_Station  \n",
       " 419068          -0.053345  \n",
       " 419069          -0.130642  \n",
       " 419070          -0.140953  \n",
       " 419071          -0.359548  \n",
       " 419072          -0.192907  \n",
       " ...                   ...  \n",
       " 457160          -0.130055  \n",
       " 457161          -0.458775  \n",
       " 457162          -0.148206  \n",
       " 457163           0.045140  \n",
       " 457164          -0.170159  \n",
       " \n",
       " [38097 rows x 5 columns],\n",
       "          IncidentNumber   Latitude  Longitude  Latitude_Station  \\\n",
       " 457165  111167-17082017  51.608296  -0.002827         51.629560   \n",
       " 457166  111168-17082017  51.460947  -0.304119         51.467464   \n",
       " 457167  111173-17082017  51.517515  -0.065046         51.515230   \n",
       " 457168  111176-17082017  51.494254  -0.013592         51.500806   \n",
       " 457169  111183-17082017  51.470281  -0.458469         51.480152   \n",
       " ...                 ...        ...        ...               ...   \n",
       " 495257  067719-29052018  51.510358  -0.121314         51.493095   \n",
       " 495258  067721-29052018  51.400581  -0.264712         51.399072   \n",
       " 495259  067722-29052018  51.454724  -0.007954         51.457119   \n",
       " 495260  067723-29052018  51.565644   0.218388         51.598368   \n",
       " 495261  067727-29052018  51.520840  -0.151321         51.512491   \n",
       " \n",
       "         Longitude_Station  \n",
       " 457165          -0.004797  \n",
       " 457166          -0.284855  \n",
       " 457167          -0.069366  \n",
       " 457168          -0.025702  \n",
       " 457169          -0.458775  \n",
       " ...                   ...  \n",
       " 495257          -0.122249  \n",
       " 495258          -0.245344  \n",
       " 495259          -0.013364  \n",
       " 495260           0.223557  \n",
       " 495261          -0.130055  \n",
       " \n",
       " [38097 rows x 5 columns],\n",
       "          IncidentNumber   Latitude  Longitude  Latitude_Station  \\\n",
       " 495262  067730-29052018  51.610700  -0.109919         51.630511   \n",
       " 495263  067736-29052018  51.436562   0.007015         51.457119   \n",
       " 495264  067740-29052018  51.513324  -0.298183         51.511679   \n",
       " 495265  067743-29052018  51.652371  -0.080941         51.660218   \n",
       " 495266  067748-29052018  51.591896  -0.070522         51.589723   \n",
       " ...                 ...        ...        ...               ...   \n",
       " 533354  019116-15022019  51.344851  -0.009970         51.351839   \n",
       " 533355  019121-15022019  51.557835  -0.074773         51.562023   \n",
       " 533356  019128-15022019  51.508387  -0.277566         51.507042   \n",
       " 533357  019134-15022019  51.501696  -0.285407         51.490467   \n",
       " 533358  019136-15022019  51.594915  -0.108974         51.586510   \n",
       " \n",
       "         Longitude_Station  \n",
       " 495262          -0.127387  \n",
       " 495263          -0.013364  \n",
       " 495264          -0.314720  \n",
       " 495265          -0.051989  \n",
       " 495266          -0.028703  \n",
       " ...                   ...  \n",
       " 533354          -0.023980  \n",
       " 533355          -0.076535  \n",
       " 533356          -0.276903  \n",
       " 533357          -0.268940  \n",
       " 533358          -0.127263  \n",
       " \n",
       " [38097 rows x 5 columns],\n",
       "          IncidentNumber   Latitude  Longitude  Latitude_Station  \\\n",
       " 533359  019137-15022019  51.561853  -0.256345         51.544289   \n",
       " 533360  019138-15022019  51.506236  -0.102928         51.493095   \n",
       " 533361  019148-15022019  51.498166  -0.061414         51.486931   \n",
       " 533362  019152-15022019  51.617545  -0.063888         51.627218   \n",
       " 533363  019154-15022019  51.521229  -0.011317         51.510833   \n",
       " ...                 ...        ...        ...               ...   \n",
       " 571451  151062-06112019  51.387720   0.042057         51.407021   \n",
       " 571452  151067-06112019  51.552829  -0.241562         51.544289   \n",
       " 571453  151071-06112019  51.473213  -0.192188         51.477907   \n",
       " 571454  151072-06112019  51.527932  -0.019442         51.543719   \n",
       " 571455  151075-06112019  51.502010  -0.104882         51.510415   \n",
       " \n",
       "         Longitude_Station  \n",
       " 533359          -0.236311  \n",
       " 533360          -0.122249  \n",
       " 533361          -0.073523  \n",
       " 533362          -0.069090  \n",
       " 533363          -0.015791  \n",
       " ...                   ...  \n",
       " 571451           0.017033  \n",
       " 571452          -0.236311  \n",
       " 571453          -0.200913  \n",
       " 571454           0.011435  \n",
       " 571455          -0.089807  \n",
       " \n",
       " [38097 rows x 5 columns],\n",
       "          IncidentNumber   Latitude  Longitude  Latitude_Station  \\\n",
       " 571456  151077-06112019  51.457400  -0.454684         51.536129   \n",
       " 571457  151082-06112019  51.514045  -0.157232         51.512491   \n",
       " 571458  151085-06112019  51.598167  -0.119785         51.586510   \n",
       " 571459  151092-06112019  51.538128  -0.078822         51.526472   \n",
       " 571460  151094-06112019  51.498954  -0.015974         51.500806   \n",
       " ...                 ...        ...        ...               ...   \n",
       " 609548  116722-10092020  51.514698  -0.129368         51.512491   \n",
       " 609549  116723-10092020  51.681354  -0.052130         51.660218   \n",
       " 609550  116725-10092020  51.453401   0.075799         51.450649   \n",
       " 609551  116726-10092020  51.530088  -0.199001         51.551785   \n",
       " 609552  116735-10092020  51.643827  -0.108962         51.630511   \n",
       " \n",
       "         Longitude_Station  \n",
       " 571456          -0.135446  \n",
       " 571457          -0.130055  \n",
       " 571458          -0.127263  \n",
       " 571459          -0.085432  \n",
       " 571460          -0.025702  \n",
       " ...                   ...  \n",
       " 609548          -0.130055  \n",
       " 609549          -0.051989  \n",
       " 609550           0.059202  \n",
       " 609551          -0.192907  \n",
       " 609552          -0.127387  \n",
       " \n",
       " [38097 rows x 5 columns],\n",
       "          IncidentNumber   Latitude  Longitude  Latitude_Station  \\\n",
       " 609553  116737-10092020  51.453945  -0.249281         51.456522   \n",
       " 609554  116742-10092020  51.459876  -0.024113         51.457119   \n",
       " 609555  116743-10092020  51.516068  -0.123427         51.512491   \n",
       " 609556  116746-10092020  51.545991   0.053635         51.523553   \n",
       " 609557  116747-10092020  51.502952  -0.190089         51.502216   \n",
       " ...                 ...        ...        ...               ...   \n",
       " 647645  106853-12082021  51.478172  -0.038691         51.484856   \n",
       " 647646  106859-12082021  51.512981  -0.127970         51.527725   \n",
       " 647647  106864-12082021  51.508488   0.035216         51.520203   \n",
       " 647648  106867-12082021  51.510384  -0.123236         51.527725   \n",
       " 647649  106883-12082021  51.582694  -0.200001         51.588906   \n",
       " \n",
       "         Longitude_Station  \n",
       " 609553          -0.201437  \n",
       " 609554          -0.013364  \n",
       " 609555          -0.130055  \n",
       " 609556           0.057009  \n",
       " 609557          -0.189648  \n",
       " ...                   ...  \n",
       " 647645          -0.033834  \n",
       " 647646          -0.130642  \n",
       " 647647           0.031673  \n",
       " 647648          -0.130642  \n",
       " 647649          -0.228753  \n",
       " \n",
       " [38097 rows x 5 columns],\n",
       "          IncidentNumber   Latitude  Longitude  Latitude_Station  \\\n",
       " 647650  106884-12082021  51.526640  -0.067371         51.527881   \n",
       " 647651  106886-12082021  51.462574  -0.068030         51.474156   \n",
       " 647652  106895-12082021  51.537551  -0.451216         51.511247   \n",
       " 647653  106903-12082021  51.547218  -0.111739         51.540230   \n",
       " 647654  106907-12082021  51.407857  -0.287016         51.399072   \n",
       " ...                 ...        ...        ...               ...   \n",
       " 685742  077278-29052022  51.465524   0.030190         51.456546   \n",
       " 685743  077282-29052022  51.441864   0.117742         51.427120   \n",
       " 685744  077292-29052022  51.512036  -0.076800         51.515230   \n",
       " 685745  077298-29052022  51.524762  -0.207574         51.520220   \n",
       " 685746  077300-29052022  51.406130  -0.166361         51.415558   \n",
       " \n",
       "         Longitude_Station  \n",
       " 647650          -0.053345  \n",
       " 647651          -0.077889  \n",
       " 647652          -0.374388  \n",
       " 647653          -0.102384  \n",
       " 647654          -0.245344  \n",
       " ...                   ...  \n",
       " 685742           0.012620  \n",
       " 685743           0.094638  \n",
       " 685744          -0.069366  \n",
       " 685745          -0.183015  \n",
       " 685746          -0.197346  \n",
       " \n",
       " [38097 rows x 5 columns],\n",
       "          IncidentNumber   Latitude  Longitude  Latitude_Station  \\\n",
       " 685747  077312-29052022  51.488940  -0.169598         51.487231   \n",
       " 685748  077321-29052022  51.508935   0.025005         51.510833   \n",
       " 685749  077325-29052022  51.538321   0.155444         51.559509   \n",
       " 685750  077327-29052022  51.524509  -0.458278         51.531532   \n",
       " 685751  077328-29052022  51.490359   0.068583         51.470699   \n",
       " ...                 ...        ...        ...               ...   \n",
       " 723839  017946-05022023  51.552942  -0.025515         51.563036   \n",
       " 723840  017947-05022023  51.477327  -0.169870         51.487231   \n",
       " 723841  017948-05022023  51.607440  -0.154040         51.598092   \n",
       " 723842  017952-05022023  51.495514  -0.145563         51.493095   \n",
       " 723843  017953-05022023  51.606809  -0.124634         51.586510   \n",
       " \n",
       "         Longitude_Station  \n",
       " 685747          -0.170159  \n",
       " 685748          -0.015791  \n",
       " 685749           0.156807  \n",
       " 685750          -0.451352  \n",
       " 685751           0.045140  \n",
       " ...                   ...  \n",
       " 723839          -0.016020  \n",
       " 723840          -0.170159  \n",
       " 723841          -0.179071  \n",
       " 723842          -0.122249  \n",
       " 723843          -0.127263  \n",
       " \n",
       " [38097 rows x 5 columns],\n",
       "          IncidentNumber   Latitude  Longitude  Latitude_Station  \\\n",
       " 723844  017954-05022023  51.465463  -0.346999         51.474977   \n",
       " 723845  017960-05022023  51.522788  -0.086904         51.515230   \n",
       " 723846  017966-05022023  51.316377  -0.097773         51.331781   \n",
       " 723847  017967-05022023  51.598389  -0.023636         51.629560   \n",
       " 723848  017971-05022023  51.474388  -0.014663         51.474079   \n",
       " ...                 ...        ...        ...               ...   \n",
       " 761936  170366-31102023  51.344312  -0.189242         51.369017   \n",
       " 761937  170378-31102023  51.436663  -0.379106         51.435202   \n",
       " 761938  170381-31102023  51.510553  -0.084164         51.515230   \n",
       " 761939  170386-31102023  51.516491  -0.177415         51.520220   \n",
       " 761940  170393-31102023  51.532685  -0.125583         51.540230   \n",
       " \n",
       "         Longitude_Station  \n",
       " 723844          -0.343271  \n",
       " 723845          -0.069366  \n",
       " 723846          -0.124999  \n",
       " 723847          -0.004797  \n",
       " 723848          -0.013630  \n",
       " ...                   ...  \n",
       " 761936          -0.211087  \n",
       " 761937          -0.347573  \n",
       " 761938          -0.069366  \n",
       " 761939          -0.183015  \n",
       " 761940          -0.102384  \n",
       " \n",
       " [38097 rows x 5 columns]]"
      ]
     },
     "execution_count": 97,
     "metadata": {},
     "output_type": "execute_result"
    }
   ],
   "source": [
    "list_df"
   ]
  },
  {
   "cell_type": "code",
   "execution_count": null,
   "id": "7e372c3b",
   "metadata": {},
   "outputs": [],
   "source": []
  },
  {
   "cell_type": "markdown",
   "id": "34233e5c",
   "metadata": {},
   "source": [
    "### 5 EME "
   ]
  },
  {
   "cell_type": "code",
   "execution_count": 98,
   "id": "89d43bcc",
   "metadata": {},
   "outputs": [
    {
     "name": "stderr",
     "output_type": "stream",
     "text": [
      " 28%|██▊       | 10702/38097 [1:29:10<3:48:53,  1.99it/s]"
     ]
    },
    {
     "name": "stdout",
     "output_type": "stream",
     "text": [
      "bad request index 163090\n"
     ]
    },
    {
     "name": "stderr",
     "output_type": "stream",
     "text": [
      " 50%|█████     | 19081/38097 [2:39:01<2:38:18,  2.00it/s]"
     ]
    },
    {
     "name": "stdout",
     "output_type": "stream",
     "text": [
      "bad request index 171469\n"
     ]
    },
    {
     "name": "stderr",
     "output_type": "stream",
     "text": [
      " 51%|█████     | 19385/38097 [2:41:33<2:35:52,  2.00it/s]"
     ]
    },
    {
     "name": "stdout",
     "output_type": "stream",
     "text": [
      "bad request index 171773\n"
     ]
    },
    {
     "name": "stderr",
     "output_type": "stream",
     "text": [
      " 55%|█████▌    | 21116/38097 [2:55:58<2:21:52,  1.99it/s]"
     ]
    },
    {
     "name": "stdout",
     "output_type": "stream",
     "text": [
      "bad request index 173504\n"
     ]
    },
    {
     "name": "stderr",
     "output_type": "stream",
     "text": [
      " 65%|██████▌   | 24949/38097 [3:27:57<1:49:42,  2.00it/s]"
     ]
    },
    {
     "name": "stdout",
     "output_type": "stream",
     "text": [
      "bad request index 177337\n"
     ]
    },
    {
     "name": "stderr",
     "output_type": "stream",
     "text": [
      " 93%|█████████▎| 35333/38097 [4:54:30<23:02,  2.00it/s]  "
     ]
    },
    {
     "name": "stdout",
     "output_type": "stream",
     "text": [
      "bad request index 187721\n"
     ]
    },
    {
     "name": "stderr",
     "output_type": "stream",
     "text": [
      " 95%|█████████▍| 36079/38097 [5:00:43<16:47,  2.00it/s]"
     ]
    },
    {
     "name": "stdout",
     "output_type": "stream",
     "text": [
      "bad request index 188467\n"
     ]
    },
    {
     "name": "stderr",
     "output_type": "stream",
     "text": [
      "100%|██████████| 38097/38097 [5:17:32<00:00,  2.00it/s]\n"
     ]
    }
   ],
   "source": [
    "# calcul de la distance en metres entre la station intervenant et le lieu de l'incident\n",
    "# Distance de la route la plus rapide qui est donnée\n",
    "#\n",
    "\n",
    "import requests\n",
    "from tqdm import tqdm\n",
    "\n",
    "distance = []\n",
    "temps_api = []\n",
    "\n",
    "for i in tqdm(list_df[4].index.values) :\n",
    "    \n",
    "    url = f\"http://router.project-osrm.org/route/v1/driving/{list_df[4].Longitude_Station[i]},{list_df[4].Latitude_Station[i]};{list_df[4].Longitude[i]},{list_df[4].Latitude[i]}?alternatives=false&overview=false&skip_waypoints=true\"\n",
    "    reponse = requests.get(url)\n",
    "    data = reponse.json()\n",
    "   \n",
    "    # si la requete n'a pas aboutie on met des NA\n",
    "    if reponse.status_code != 200:\n",
    "        print(\"bad request index\",i)\n",
    "        distance.append(np.nan)\n",
    "        temps_api.append(np.nan)\n",
    "\n",
    "\n",
    "    else :\n",
    "    # select le dico avec distance\n",
    "        dst = data['routes'][0]['distance']\n",
    "        temps = data['routes'][0]['duration']\n",
    "        distance.append(dst)\n",
    "        temps_api.append(temps)\n",
    "\n",
    "# mise en un dataframe des distance     \n",
    "dst_5 = pd.DataFrame(index = list_df[4].index, data = {'dst_StationIncident': distance, 'tempsAPI' : temps_api})    \n",
    "dst_5.to_csv(\"Data/df_dist/Distance5.csv\",index=True)\n",
    "\n",
    "# ajout de la distance station-incident au dataframe ssgroupe\n",
    "list_df[4] = pd.concat([list_df[4], dst_5], axis = 1)\n",
    "\n",
    "\n",
    "list_df[4].to_csv(\"Data/df_dist/Distance5_df_tot.csv\",index=True)\n",
    "\n",
    "# save de la liste de df\n",
    "\n",
    "with open(\"Data/df_dist/liste_df_API\", \"wb\") as fp:\n",
    "    pickle.dump(list_df,fp)\n",
    "\n"
   ]
  },
  {
   "cell_type": "code",
   "execution_count": null,
   "id": "9ccad1ca",
   "metadata": {},
   "outputs": [],
   "source": []
  },
  {
   "cell_type": "markdown",
   "id": "30089c16",
   "metadata": {},
   "source": [
    "### 6 EME"
   ]
  },
  {
   "cell_type": "code",
   "execution_count": 99,
   "id": "7329ba04",
   "metadata": {},
   "outputs": [
    {
     "name": "stderr",
     "output_type": "stream",
     "text": [
      "  1%|▏         | 491/38097 [04:05<5:13:09,  2.00it/s]"
     ]
    },
    {
     "name": "stdout",
     "output_type": "stream",
     "text": [
      "bad request index 190976\n"
     ]
    },
    {
     "name": "stderr",
     "output_type": "stream",
     "text": [
      " 27%|██▋       | 10312/38097 [1:25:56<3:51:08,  2.00it/s]"
     ]
    },
    {
     "name": "stdout",
     "output_type": "stream",
     "text": [
      "bad request index 200797\n"
     ]
    },
    {
     "name": "stderr",
     "output_type": "stream",
     "text": [
      " 32%|███▏      | 12197/38097 [1:41:38<3:35:36,  2.00it/s]"
     ]
    },
    {
     "name": "stdout",
     "output_type": "stream",
     "text": [
      "bad request index 202682\n"
     ]
    },
    {
     "name": "stderr",
     "output_type": "stream",
     "text": [
      " 48%|████▊     | 18361/38097 [2:33:00<2:44:32,  2.00it/s]"
     ]
    },
    {
     "name": "stdout",
     "output_type": "stream",
     "text": [
      "bad request index 208846\n"
     ]
    },
    {
     "name": "stderr",
     "output_type": "stream",
     "text": [
      " 79%|███████▊  | 29978/38097 [4:09:49<1:07:37,  2.00it/s]"
     ]
    },
    {
     "name": "stdout",
     "output_type": "stream",
     "text": [
      "bad request index 220463\n"
     ]
    },
    {
     "name": "stderr",
     "output_type": "stream",
     "text": [
      " 87%|████████▋ | 33328/38097 [4:37:44<39:44,  2.00it/s]  "
     ]
    },
    {
     "name": "stdout",
     "output_type": "stream",
     "text": [
      "bad request index 223813\n"
     ]
    },
    {
     "name": "stderr",
     "output_type": "stream",
     "text": [
      " 95%|█████████▌| 36370/38097 [5:03:05<14:22,  2.00it/s]"
     ]
    },
    {
     "name": "stdout",
     "output_type": "stream",
     "text": [
      "bad request index 226855\n"
     ]
    },
    {
     "name": "stderr",
     "output_type": "stream",
     "text": [
      "100%|██████████| 38097/38097 [5:17:29<00:00,  2.00it/s]\n"
     ]
    }
   ],
   "source": [
    "import requests\n",
    "from tqdm import tqdm\n",
    "\n",
    "distance = []\n",
    "temps_api = []\n",
    "\n",
    "for i in tqdm(list_df[5].index.values) :\n",
    "    \n",
    "    url = f\"http://router.project-osrm.org/route/v1/driving/{list_df[5].Longitude_Station[i]},{list_df[5].Latitude_Station[i]};{list_df[5].Longitude[i]},{list_df[5].Latitude[i]}?alternatives=false&overview=false&skip_waypoints=true\"\n",
    "    reponse = requests.get(url)\n",
    "    data = reponse.json()\n",
    "   \n",
    "    # si la requete n'a pas aboutie on met des NA\n",
    "    if reponse.status_code != 200:\n",
    "        print(\"bad request index\",i)\n",
    "        distance.append(np.nan)\n",
    "        temps_api.append(np.nan)\n",
    "\n",
    "\n",
    "    else :\n",
    "    # select le dico avec distance\n",
    "        dst = data['routes'][0]['distance']\n",
    "        temps = data['routes'][0]['duration']\n",
    "        distance.append(dst)\n",
    "        temps_api.append(temps)\n",
    "\n",
    "# mise en un dataframe des distance     \n",
    "dst_6 = pd.DataFrame(index = list_df[5].index, data = {'dst_StationIncident': distance, 'tempsAPI' : temps_api})    \n",
    "dst_6.to_csv(\"Data/df_dist/Distance6.csv\",index=True)\n",
    "\n",
    "# ajout de la distance station-incident au dataframe ssgroupe\n",
    "list_df[5] = pd.concat([list_df[5], dst_6], axis = 1)\n",
    "\n",
    "\n",
    "list_df[5].to_csv(\"Data/df_dist/Distance6_df_tot.csv\",index=True)\n",
    "\n",
    "# save de la liste de df\n",
    "import pickle\n",
    "\n",
    "with open(\"Data/df_dist/liste_df_API\", \"wb\") as fp:\n",
    "    pickle.dump(list_df,fp)\n"
   ]
  },
  {
   "cell_type": "markdown",
   "id": "5c9e2295",
   "metadata": {},
   "source": [
    "CHECK TEMPS ITERATION POUR 1000"
   ]
  },
  {
   "cell_type": "markdown",
   "id": "b12f73d0",
   "metadata": {},
   "source": [
    "### 7EME"
   ]
  },
  {
   "cell_type": "code",
   "execution_count": 100,
   "id": "f82db598",
   "metadata": {},
   "outputs": [
    {
     "name": "stderr",
     "output_type": "stream",
     "text": [
      "  3%|▎         | 1005/38097 [08:22<5:08:46,  2.00it/s]"
     ]
    },
    {
     "name": "stdout",
     "output_type": "stream",
     "text": [
      "bad request index 229587\n"
     ]
    },
    {
     "name": "stderr",
     "output_type": "stream",
     "text": [
      " 27%|██▋       | 10118/38097 [1:24:18<3:53:32,  2.00it/s]"
     ]
    },
    {
     "name": "stdout",
     "output_type": "stream",
     "text": [
      "bad request index 238700\n"
     ]
    },
    {
     "name": "stderr",
     "output_type": "stream",
     "text": [
      " 58%|█████▊    | 22250/38097 [3:05:23<2:11:47,  2.00it/s]"
     ]
    },
    {
     "name": "stdout",
     "output_type": "stream",
     "text": [
      "bad request index 250832\n"
     ]
    },
    {
     "name": "stderr",
     "output_type": "stream",
     "text": [
      " 97%|█████████▋| 37026/38097 [5:08:33<08:55,  2.00it/s]  "
     ]
    },
    {
     "name": "stdout",
     "output_type": "stream",
     "text": [
      "bad request index 265608\n"
     ]
    },
    {
     "name": "stderr",
     "output_type": "stream",
     "text": [
      "100%|██████████| 38097/38097 [5:17:29<00:00,  2.00it/s]\n"
     ]
    }
   ],
   "source": [
    "import requests\n",
    "from tqdm import tqdm\n",
    "\n",
    "distance = []\n",
    "temps_api = []\n",
    "\n",
    "for i in tqdm(list_df[6].index.values) :\n",
    "    \n",
    "    url = f\"http://router.project-osrm.org/route/v1/driving/{list_df[6].Longitude_Station[i]},{list_df[6].Latitude_Station[i]};{list_df[6].Longitude[i]},{list_df[6].Latitude[i]}?alternatives=false&overview=false&skip_waypoints=true\"\n",
    "    reponse = requests.get(url)\n",
    "    data = reponse.json()\n",
    "   \n",
    "    # si la requete n'a pas aboutie on met des NA\n",
    "    if reponse.status_code != 200:\n",
    "        print(\"bad request index\",i)\n",
    "        distance.append(np.nan)\n",
    "        temps_api.append(np.nan)\n",
    "\n",
    "\n",
    "    else :\n",
    "    # select le dico avec distance\n",
    "        dst = data['routes'][0]['distance']\n",
    "        temps = data['routes'][0]['duration']\n",
    "        distance.append(dst)\n",
    "        temps_api.append(temps)\n",
    "\n",
    "# mise en un dataframe des distance     \n",
    "dst_7 = pd.DataFrame(index = list_df[6].index, data = {'dst_StationIncident': distance, 'tempsAPI' : temps_api})    \n",
    "dst_7.to_csv(\"Data/df_dist/Distance7.csv\",index=True)\n",
    "\n",
    "# ajout de la distance station-incident au dataframe ssgroupe\n",
    "list_df[6] = pd.concat([list_df[6], dst_7], axis = 1)\n",
    "\n",
    "\n",
    "list_df[6].to_csv(\"Data/df_dist/Distance7_df_tot.csv\",index=True)\n",
    "\n",
    "# save de la liste de df\n",
    "import pickle\n",
    "\n",
    "with open(\"Data/df_dist/liste_df_API\", \"wb\") as fp:\n",
    "    pickle.dump(list_df,fp)\n"
   ]
  },
  {
   "cell_type": "markdown",
   "id": "160a209c",
   "metadata": {},
   "source": [
    "### 8 "
   ]
  },
  {
   "cell_type": "code",
   "execution_count": 106,
   "id": "2d9e9ca1",
   "metadata": {},
   "outputs": [
    {
     "data": {
      "text/html": [
       "<div>\n",
       "<style scoped>\n",
       "    .dataframe tbody tr th:only-of-type {\n",
       "        vertical-align: middle;\n",
       "    }\n",
       "\n",
       "    .dataframe tbody tr th {\n",
       "        vertical-align: top;\n",
       "    }\n",
       "\n",
       "    .dataframe thead th {\n",
       "        text-align: right;\n",
       "    }\n",
       "</style>\n",
       "<table border=\"1\" class=\"dataframe\">\n",
       "  <thead>\n",
       "    <tr style=\"text-align: right;\">\n",
       "      <th></th>\n",
       "      <th>IncidentNumber</th>\n",
       "      <th>Latitude</th>\n",
       "      <th>Longitude</th>\n",
       "      <th>Latitude_Station</th>\n",
       "      <th>Longitude_Station</th>\n",
       "      <th>dst_StationIncident</th>\n",
       "      <th>tempsAPI</th>\n",
       "    </tr>\n",
       "  </thead>\n",
       "  <tbody>\n",
       "    <tr>\n",
       "      <th>228583</th>\n",
       "      <td>6797131</td>\n",
       "      <td>51.490269</td>\n",
       "      <td>-0.173936</td>\n",
       "      <td>51.487231</td>\n",
       "      <td>-0.170159</td>\n",
       "      <td>502.7</td>\n",
       "      <td>76.9</td>\n",
       "    </tr>\n",
       "    <tr>\n",
       "      <th>228584</th>\n",
       "      <td>6800131</td>\n",
       "      <td>51.551036</td>\n",
       "      <td>0.161772</td>\n",
       "      <td>51.559509</td>\n",
       "      <td>0.156807</td>\n",
       "      <td>1049.5</td>\n",
       "      <td>79.6</td>\n",
       "    </tr>\n",
       "    <tr>\n",
       "      <th>228585</th>\n",
       "      <td>6801131</td>\n",
       "      <td>51.538261</td>\n",
       "      <td>-0.077029</td>\n",
       "      <td>51.562023</td>\n",
       "      <td>-0.076535</td>\n",
       "      <td>3532.8</td>\n",
       "      <td>558.0</td>\n",
       "    </tr>\n",
       "    <tr>\n",
       "      <th>228586</th>\n",
       "      <td>6803131</td>\n",
       "      <td>51.589714</td>\n",
       "      <td>-0.146144</td>\n",
       "      <td>51.586510</td>\n",
       "      <td>-0.127263</td>\n",
       "      <td>1543.1</td>\n",
       "      <td>165.4</td>\n",
       "    </tr>\n",
       "    <tr>\n",
       "      <th>228587</th>\n",
       "      <td>6806131</td>\n",
       "      <td>51.520088</td>\n",
       "      <td>-0.164656</td>\n",
       "      <td>51.520220</td>\n",
       "      <td>-0.183015</td>\n",
       "      <td>1677.5</td>\n",
       "      <td>239.9</td>\n",
       "    </tr>\n",
       "    <tr>\n",
       "      <th>...</th>\n",
       "      <td>...</td>\n",
       "      <td>...</td>\n",
       "      <td>...</td>\n",
       "      <td>...</td>\n",
       "      <td>...</td>\n",
       "      <td>...</td>\n",
       "      <td>...</td>\n",
       "    </tr>\n",
       "    <tr>\n",
       "      <th>266675</th>\n",
       "      <td>150588131</td>\n",
       "      <td>51.610706</td>\n",
       "      <td>-0.078751</td>\n",
       "      <td>51.627218</td>\n",
       "      <td>-0.069090</td>\n",
       "      <td>3488.1</td>\n",
       "      <td>326.6</td>\n",
       "    </tr>\n",
       "    <tr>\n",
       "      <th>266676</th>\n",
       "      <td>150600131</td>\n",
       "      <td>51.603922</td>\n",
       "      <td>-0.173104</td>\n",
       "      <td>51.598092</td>\n",
       "      <td>-0.179071</td>\n",
       "      <td>1441.6</td>\n",
       "      <td>223.1</td>\n",
       "    </tr>\n",
       "    <tr>\n",
       "      <th>266677</th>\n",
       "      <td>150609131</td>\n",
       "      <td>51.526958</td>\n",
       "      <td>-0.094690</td>\n",
       "      <td>51.526472</td>\n",
       "      <td>-0.085432</td>\n",
       "      <td>1046.0</td>\n",
       "      <td>180.6</td>\n",
       "    </tr>\n",
       "    <tr>\n",
       "      <th>266678</th>\n",
       "      <td>150610131</td>\n",
       "      <td>51.526135</td>\n",
       "      <td>-0.131861</td>\n",
       "      <td>51.527725</td>\n",
       "      <td>-0.130642</td>\n",
       "      <td>206.8</td>\n",
       "      <td>61.1</td>\n",
       "    </tr>\n",
       "    <tr>\n",
       "      <th>266679</th>\n",
       "      <td>150615131</td>\n",
       "      <td>51.520975</td>\n",
       "      <td>-0.191691</td>\n",
       "      <td>51.520220</td>\n",
       "      <td>-0.183015</td>\n",
       "      <td>980.5</td>\n",
       "      <td>160.4</td>\n",
       "    </tr>\n",
       "  </tbody>\n",
       "</table>\n",
       "<p>38097 rows × 7 columns</p>\n",
       "</div>"
      ],
      "text/plain": [
       "       IncidentNumber   Latitude  Longitude  Latitude_Station  \\\n",
       "228583        6797131  51.490269  -0.173936         51.487231   \n",
       "228584        6800131  51.551036   0.161772         51.559509   \n",
       "228585        6801131  51.538261  -0.077029         51.562023   \n",
       "228586        6803131  51.589714  -0.146144         51.586510   \n",
       "228587        6806131  51.520088  -0.164656         51.520220   \n",
       "...               ...        ...        ...               ...   \n",
       "266675      150588131  51.610706  -0.078751         51.627218   \n",
       "266676      150600131  51.603922  -0.173104         51.598092   \n",
       "266677      150609131  51.526958  -0.094690         51.526472   \n",
       "266678      150610131  51.526135  -0.131861         51.527725   \n",
       "266679      150615131  51.520975  -0.191691         51.520220   \n",
       "\n",
       "        Longitude_Station  dst_StationIncident  tempsAPI  \n",
       "228583          -0.170159                502.7      76.9  \n",
       "228584           0.156807               1049.5      79.6  \n",
       "228585          -0.076535               3532.8     558.0  \n",
       "228586          -0.127263               1543.1     165.4  \n",
       "228587          -0.183015               1677.5     239.9  \n",
       "...                   ...                  ...       ...  \n",
       "266675          -0.069090               3488.1     326.6  \n",
       "266676          -0.179071               1441.6     223.1  \n",
       "266677          -0.085432               1046.0     180.6  \n",
       "266678          -0.130642                206.8      61.1  \n",
       "266679          -0.183015                980.5     160.4  \n",
       "\n",
       "[38097 rows x 7 columns]"
      ]
     },
     "execution_count": 106,
     "metadata": {},
     "output_type": "execute_result"
    }
   ],
   "source": [
    "list_df[6]\n",
    "# check ligne 156868"
   ]
  },
  {
   "cell_type": "code",
   "execution_count": 134,
   "id": "a19cf528",
   "metadata": {
    "scrolled": true,
    "tags": [
     "raises-exception"
    ]
   },
   "outputs": [
    {
     "name": "stderr",
     "output_type": "stream",
     "text": [
      " 20%|██        | 7728/38097 [1:04:27<4:12:24,  2.01it/s]"
     ]
    },
    {
     "name": "stdout",
     "output_type": "stream",
     "text": [
      "bad request index 274407\n"
     ]
    },
    {
     "name": "stderr",
     "output_type": "stream",
     "text": [
      " 24%|██▎       | 8984/38097 [1:14:55<4:02:30,  2.00it/s]"
     ]
    },
    {
     "name": "stdout",
     "output_type": "stream",
     "text": [
      "bad request index 275663\n"
     ]
    },
    {
     "name": "stderr",
     "output_type": "stream",
     "text": [
      " 36%|███▌      | 13679/38097 [1:54:02<3:23:11,  2.00it/s]"
     ]
    },
    {
     "name": "stdout",
     "output_type": "stream",
     "text": [
      "bad request index 280358\n"
     ]
    },
    {
     "name": "stderr",
     "output_type": "stream",
     "text": [
      " 37%|███▋      | 13912/38097 [1:55:59<3:21:25,  2.00it/s]"
     ]
    },
    {
     "name": "stdout",
     "output_type": "stream",
     "text": [
      "bad request index 280591\n"
     ]
    },
    {
     "name": "stderr",
     "output_type": "stream",
     "text": [
      " 37%|███▋      | 14238/38097 [1:58:42<3:19:29,  1.99it/s]"
     ]
    },
    {
     "name": "stdout",
     "output_type": "stream",
     "text": [
      "bad request index 280917\n"
     ]
    },
    {
     "name": "stderr",
     "output_type": "stream",
     "text": [
      " 40%|████      | 15255/38097 [2:07:12<3:10:17,  2.00it/s]"
     ]
    },
    {
     "name": "stdout",
     "output_type": "stream",
     "text": [
      "bad request index 281934\n"
     ]
    },
    {
     "name": "stderr",
     "output_type": "stream",
     "text": [
      " 55%|█████▌    | 21050/38097 [2:55:29<2:22:01,  2.00it/s]"
     ]
    },
    {
     "name": "stdout",
     "output_type": "stream",
     "text": [
      "bad request index 287729\n"
     ]
    },
    {
     "name": "stderr",
     "output_type": "stream",
     "text": [
      " 63%|██████▎   | 24086/38097 [3:20:47<1:56:37,  2.00it/s]"
     ]
    },
    {
     "name": "stdout",
     "output_type": "stream",
     "text": [
      "bad request index 290765\n"
     ]
    },
    {
     "name": "stderr",
     "output_type": "stream",
     "text": [
      " 66%|██████▌   | 25083/38097 [3:29:06<1:48:18,  2.00it/s]"
     ]
    },
    {
     "name": "stdout",
     "output_type": "stream",
     "text": [
      "bad request index 291762\n"
     ]
    },
    {
     "name": "stderr",
     "output_type": "stream",
     "text": [
      " 67%|██████▋   | 25512/38097 [3:32:40<1:44:24,  2.01it/s]"
     ]
    },
    {
     "name": "stdout",
     "output_type": "stream",
     "text": [
      "bad request index 292191\n"
     ]
    },
    {
     "name": "stderr",
     "output_type": "stream",
     "text": [
      " 87%|████████▋ | 33291/38097 [4:37:32<40:07,  2.00it/s]  "
     ]
    },
    {
     "name": "stdout",
     "output_type": "stream",
     "text": [
      "bad request index 299970\n"
     ]
    },
    {
     "name": "stderr",
     "output_type": "stream",
     "text": [
      " 87%|████████▋ | 33306/38097 [4:37:40<39:50,  2.00it/s]"
     ]
    },
    {
     "name": "stdout",
     "output_type": "stream",
     "text": [
      "bad request index 299985\n"
     ]
    },
    {
     "name": "stderr",
     "output_type": "stream",
     "text": [
      " 92%|█████████▏| 35033/38097 [4:52:03<25:31,  2.00it/s]"
     ]
    },
    {
     "name": "stdout",
     "output_type": "stream",
     "text": [
      "bad request index 301712\n"
     ]
    },
    {
     "name": "stderr",
     "output_type": "stream",
     "text": [
      "100%|██████████| 38097/38097 [5:17:36<00:00,  2.00it/s]\n"
     ]
    }
   ],
   "source": [
    "import requests\n",
    "from tqdm import tqdm\n",
    "\n",
    "distance = []\n",
    "temps_api = []\n",
    "\n",
    "for i in tqdm(list_df[7].index.values) :\n",
    "    \n",
    "    url = f\"http://router.project-osrm.org/route/v1/driving/{list_df[7].Longitude_Station[i]},{list_df[7].Latitude_Station[i]};{list_df[7].Longitude[i]},{list_df[7].Latitude[i]}?alternatives=false&overview=false&skip_waypoints=true\"\n",
    "    reponse = requests.get(url)\n",
    "    data = reponse.json()\n",
    "   \n",
    "    # si la requete n'a pas aboutie on met des NA\n",
    "    if reponse.status_code != 200:\n",
    "        print(\"bad request index\",i)\n",
    "        distance.append(np.nan)\n",
    "        temps_api.append(np.nan)\n",
    "\n",
    "\n",
    "    else :\n",
    "    # select le dico avec distance\n",
    "        dst = data['routes'][0]['distance']\n",
    "        temps = data['routes'][0]['duration']\n",
    "        distance.append(dst)\n",
    "        temps_api.append(temps)\n",
    "\n",
    "# mise en un dataframe des distance     \n",
    "dst_8 = pd.DataFrame(index = list_df[7].index, data = {'dst_StationIncident': distance, 'tempsAPI' : temps_api})    \n",
    "dst_8.to_csv(\"Data/df_dist/Distance8.csv\",index=True)\n",
    "\n",
    "# ajout de la distance station-incident au dataframe ssgroupe\n",
    "list_df[7] = pd.concat([list_df[7], dst_8], axis = 1)\n",
    "\n",
    "\n",
    "list_df[7].to_csv(\"Data/df_dist/Distance8_df_tot.csv\",index=True)\n",
    "\n",
    "# save de la liste de df\n",
    "import pickle\n",
    "\n",
    "with open(\"Data/df_dist/liste_df_API\", \"wb\") as fp:\n",
    "    pickle.dump(list_df,fp)\n"
   ]
  },
  {
   "cell_type": "markdown",
   "id": "75f66029",
   "metadata": {},
   "source": [
    "### 9 EME "
   ]
  },
  {
   "cell_type": "code",
   "execution_count": 135,
   "id": "18b76a89",
   "metadata": {},
   "outputs": [
    {
     "name": "stderr",
     "output_type": "stream",
     "text": [
      "  5%|▌         | 2056/38097 [17:09<4:59:39,  2.00it/s]"
     ]
    },
    {
     "name": "stdout",
     "output_type": "stream",
     "text": [
      "bad request index 306832\n"
     ]
    },
    {
     "name": "stderr",
     "output_type": "stream",
     "text": [
      " 35%|███▍      | 13330/38097 [1:52:22<3:26:11,  2.00it/s]"
     ]
    },
    {
     "name": "stdout",
     "output_type": "stream",
     "text": [
      "bad request index 318106\n"
     ]
    },
    {
     "name": "stderr",
     "output_type": "stream",
     "text": [
      " 46%|████▌     | 17436/38097 [2:26:36<2:54:37,  1.97it/s]"
     ]
    },
    {
     "name": "stdout",
     "output_type": "stream",
     "text": [
      "bad request index 322212\n"
     ]
    },
    {
     "name": "stderr",
     "output_type": "stream",
     "text": [
      " 56%|█████▌    | 21307/38097 [2:59:02<2:19:46,  2.00it/s]"
     ]
    },
    {
     "name": "stdout",
     "output_type": "stream",
     "text": [
      "bad request index 326083\n"
     ]
    },
    {
     "name": "stderr",
     "output_type": "stream",
     "text": [
      " 79%|███████▉  | 30233/38097 [4:13:30<1:09:07,  1.90it/s]"
     ]
    },
    {
     "name": "stdout",
     "output_type": "stream",
     "text": [
      "bad request index 335009\n"
     ]
    },
    {
     "name": "stderr",
     "output_type": "stream",
     "text": [
      " 92%|█████████▏| 35120/38097 [4:54:15<24:43,  2.01it/s]  "
     ]
    },
    {
     "name": "stdout",
     "output_type": "stream",
     "text": [
      "bad request index 339896\n"
     ]
    },
    {
     "name": "stderr",
     "output_type": "stream",
     "text": [
      "100%|█████████▉| 37942/38097 [5:17:46<01:17,  2.00it/s]"
     ]
    },
    {
     "name": "stdout",
     "output_type": "stream",
     "text": [
      "bad request index 342718\n"
     ]
    },
    {
     "name": "stderr",
     "output_type": "stream",
     "text": [
      "100%|██████████| 38097/38097 [5:19:03<00:00,  1.99it/s]\n"
     ]
    }
   ],
   "source": [
    "\n",
    "\n",
    "distance = []\n",
    "temps_api = []\n",
    "\n",
    "for i in tqdm(list_df[8].index.values) :\n",
    "    \n",
    "    url = f\"http://router.project-osrm.org/route/v1/driving/{list_df[8].Longitude_Station[i]},{list_df[8].Latitude_Station[i]};{list_df[8].Longitude[i]},{list_df[8].Latitude[i]}?alternatives=false&overview=false&skip_waypoints=true\"\n",
    "    reponse = requests.get(url)\n",
    "    data = reponse.json()\n",
    "   \n",
    "    # si la requete n'a pas aboutie on met des NA\n",
    "    if reponse.status_code != 200:\n",
    "        print(\"bad request index\",i)\n",
    "        distance.append(np.nan)\n",
    "        temps_api.append(np.nan)\n",
    "\n",
    "\n",
    "    else :\n",
    "    # select le dico avec distance\n",
    "        dst = data['routes'][0]['distance']\n",
    "        temps = data['routes'][0]['duration']\n",
    "        distance.append(dst)\n",
    "        temps_api.append(temps)\n",
    "\n",
    "# mise en un dataframe des distance     \n",
    "dst_9 = pd.DataFrame(index = list_df[8].index, data = {'dst_StationIncident': distance, 'tempsAPI' : temps_api})    \n",
    "dst_9.to_csv(\"Data/df_dist/Distance9.csv\",index=True)\n",
    "\n",
    "# ajout de la distance station-incident au dataframe ssgroupe\n",
    "list_df[8] = pd.concat([list_df[8], dst_9], axis = 1)\n",
    "\n",
    "\n",
    "list_df[8].to_csv(\"Data/df_dist/Distance9_df_tot.csv\",index=True)\n",
    "\n",
    "# save de la liste de df\n",
    "import pickle\n",
    "\n",
    "with open(\"Data/df_dist/liste_df_API\", \"wb\") as fp:\n",
    "    pickle.dump(list_df,fp)\n"
   ]
  },
  {
   "cell_type": "markdown",
   "id": "435913cc",
   "metadata": {},
   "source": [
    "### 10 EME "
   ]
  },
  {
   "cell_type": "code",
   "execution_count": 147,
   "id": "f5d21ecc",
   "metadata": {},
   "outputs": [
    {
     "data": {
      "text/plain": [
       "IncidentNumber         0\n",
       "Latitude               0\n",
       "Longitude              0\n",
       "Latitude_Station       0\n",
       "Longitude_Station      0\n",
       "dst_StationIncident    7\n",
       "tempsAPI               7\n",
       "dtype: int64"
      ]
     },
     "execution_count": 147,
     "metadata": {},
     "output_type": "execute_result"
    }
   ],
   "source": [
    "list_df[8].isna().sum()\n"
   ]
  },
  {
   "cell_type": "code",
   "execution_count": 148,
   "id": "f6fece11",
   "metadata": {
    "tags": [
     "raises-exception"
    ]
   },
   "outputs": [
    {
     "name": "stderr",
     "output_type": "stream",
     "text": [
      " 14%|█▍        | 5264/38097 [43:51<4:33:06,  2.00it/s]"
     ]
    },
    {
     "name": "stdout",
     "output_type": "stream",
     "text": [
      "bad request index 348137\n"
     ]
    },
    {
     "name": "stderr",
     "output_type": "stream",
     "text": [
      " 25%|██▍       | 9389/38097 [1:18:14<3:59:36,  2.00it/s]"
     ]
    },
    {
     "name": "stdout",
     "output_type": "stream",
     "text": [
      "bad request index 352262\n"
     ]
    },
    {
     "name": "stderr",
     "output_type": "stream",
     "text": [
      " 32%|███▏      | 12320/38097 [1:42:39<3:34:44,  2.00it/s]"
     ]
    },
    {
     "name": "stdout",
     "output_type": "stream",
     "text": [
      "bad request index 355193\n"
     ]
    },
    {
     "name": "stderr",
     "output_type": "stream",
     "text": [
      " 67%|██████▋   | 25453/38097 [3:32:11<1:45:21,  2.00it/s]"
     ]
    },
    {
     "name": "stdout",
     "output_type": "stream",
     "text": [
      "bad request index 368326\n"
     ]
    },
    {
     "name": "stderr",
     "output_type": "stream",
     "text": [
      " 80%|███████▉  | 30327/38097 [4:12:48<1:04:46,  2.00it/s]"
     ]
    },
    {
     "name": "stdout",
     "output_type": "stream",
     "text": [
      "bad request index 373200\n"
     ]
    },
    {
     "name": "stderr",
     "output_type": "stream",
     "text": [
      " 80%|████████  | 30519/38097 [4:14:24<1:03:03,  2.00it/s]"
     ]
    },
    {
     "name": "stdout",
     "output_type": "stream",
     "text": [
      "bad request index 373392\n"
     ]
    },
    {
     "name": "stderr",
     "output_type": "stream",
     "text": [
      " 85%|████████▍ | 32233/38097 [4:28:41<48:52,  2.00it/s]  "
     ]
    },
    {
     "name": "stdout",
     "output_type": "stream",
     "text": [
      "bad request index 375106\n"
     ]
    },
    {
     "name": "stderr",
     "output_type": "stream",
     "text": [
      " 87%|████████▋ | 33089/38097 [4:35:49<41:42,  2.00it/s]"
     ]
    },
    {
     "name": "stdout",
     "output_type": "stream",
     "text": [
      "bad request index 375962\n"
     ]
    },
    {
     "name": "stderr",
     "output_type": "stream",
     "text": [
      " 87%|████████▋ | 33235/38097 [4:37:02<40:29,  2.00it/s]"
     ]
    },
    {
     "name": "stdout",
     "output_type": "stream",
     "text": [
      "bad request index 376108\n"
     ]
    },
    {
     "name": "stderr",
     "output_type": "stream",
     "text": [
      " 87%|████████▋ | 33308/38097 [4:37:38<39:51,  2.00it/s]"
     ]
    },
    {
     "name": "stdout",
     "output_type": "stream",
     "text": [
      "bad request index 376181\n"
     ]
    },
    {
     "name": "stderr",
     "output_type": "stream",
     "text": [
      " 87%|████████▋ | 33313/38097 [4:37:41<39:54,  2.00it/s]"
     ]
    },
    {
     "name": "stdout",
     "output_type": "stream",
     "text": [
      "bad request index 376186\n"
     ]
    },
    {
     "name": "stderr",
     "output_type": "stream",
     "text": [
      " 91%|█████████ | 34593/38097 [4:48:21<29:08,  2.00it/s]"
     ]
    },
    {
     "name": "stdout",
     "output_type": "stream",
     "text": [
      "bad request index 377466\n"
     ]
    },
    {
     "name": "stderr",
     "output_type": "stream",
     "text": [
      "100%|██████████| 38097/38097 [5:17:33<00:00,  2.00it/s]\n"
     ]
    }
   ],
   "source": [
    "\n",
    "distance = []\n",
    "temps_api = []\n",
    "\n",
    "for i in tqdm(list_df[9].index.values) :\n",
    "    \n",
    "    url = f\"http://router.project-osrm.org/route/v1/driving/{list_df[9].Longitude_Station[i]},{list_df[9].Latitude_Station[i]};{list_df[9].Longitude[i]},{list_df[9].Latitude[i]}?alternatives=false&overview=false&skip_waypoints=true\"\n",
    "    reponse = requests.get(url)\n",
    "    data = reponse.json()\n",
    "   \n",
    "    # si la requete n'a pas aboutie on met des NA\n",
    "    if reponse.status_code != 200:\n",
    "        print(\"bad request index\",i)\n",
    "        distance.append(np.nan)\n",
    "        temps_api.append(np.nan)\n",
    "\n",
    "\n",
    "    else :\n",
    "    # select le dico avec distance\n",
    "        dst = data['routes'][0]['distance']\n",
    "        temps = data['routes'][0]['duration']\n",
    "        distance.append(dst)\n",
    "        temps_api.append(temps)\n",
    "\n",
    "# mise en un dataframe des distance     \n",
    "dst_10 = pd.DataFrame(index = list_df[9].index, data = {'dst_StationIncident': distance, 'tempsAPI' : temps_api})    \n",
    "dst_10.to_csv(\"Data/df_dist/Distance10.csv\",index=True)\n",
    "\n",
    "# ajout de la distance station-incident au dataframe ssgroupe\n",
    "list_df[9] = pd.concat([list_df[9], dst_10], axis = 1)\n",
    "\n",
    "\n",
    "list_df[9].to_csv(\"Data/df_dist/Distance10_df_tot.csv\",index=True)\n",
    "\n",
    "# save de la liste de df\n",
    "import pickle\n",
    "\n",
    "with open(\"Data/df_dist/liste_df_API\", \"wb\") as fp:\n",
    "    pickle.dump(list_df,fp)\n"
   ]
  },
  {
   "cell_type": "markdown",
   "id": "09825591",
   "metadata": {},
   "source": [
    "### 11eme "
   ]
  },
  {
   "cell_type": "code",
   "execution_count": 149,
   "id": "27dee584",
   "metadata": {},
   "outputs": [
    {
     "name": "stderr",
     "output_type": "stream",
     "text": [
      "  1%|          | 409/38097 [03:24<5:13:42,  2.00it/s]"
     ]
    },
    {
     "name": "stdout",
     "output_type": "stream",
     "text": [
      "bad request index 381379\n"
     ]
    },
    {
     "name": "stderr",
     "output_type": "stream",
     "text": [
      " 11%|█         | 4055/38097 [33:47<4:43:39,  2.00it/s]"
     ]
    },
    {
     "name": "stdout",
     "output_type": "stream",
     "text": [
      "bad request index 385025\n"
     ]
    },
    {
     "name": "stderr",
     "output_type": "stream",
     "text": [
      " 12%|█▏        | 4478/38097 [37:19<4:40:19,  2.00it/s]"
     ]
    },
    {
     "name": "stdout",
     "output_type": "stream",
     "text": [
      "bad request index 385448\n"
     ]
    },
    {
     "name": "stderr",
     "output_type": "stream",
     "text": [
      " 28%|██▊       | 10561/38097 [1:28:02<3:49:18,  2.00it/s]"
     ]
    },
    {
     "name": "stdout",
     "output_type": "stream",
     "text": [
      "bad request index 391531\n"
     ]
    },
    {
     "name": "stderr",
     "output_type": "stream",
     "text": [
      " 30%|███       | 11602/38097 [1:36:43<3:40:59,  2.00it/s]"
     ]
    },
    {
     "name": "stdout",
     "output_type": "stream",
     "text": [
      "bad request index 392572\n"
     ]
    },
    {
     "name": "stderr",
     "output_type": "stream",
     "text": [
      " 31%|███       | 11682/38097 [1:37:23<3:39:55,  2.00it/s]"
     ]
    },
    {
     "name": "stdout",
     "output_type": "stream",
     "text": [
      "bad request index 392652\n"
     ]
    },
    {
     "name": "stderr",
     "output_type": "stream",
     "text": [
      " 44%|████▎     | 16614/38097 [2:18:29<2:59:02,  2.00it/s]"
     ]
    },
    {
     "name": "stdout",
     "output_type": "stream",
     "text": [
      "bad request index 397584\n"
     ]
    },
    {
     "name": "stderr",
     "output_type": "stream",
     "text": [
      " 55%|█████▍    | 20923/38097 [2:54:23<2:23:07,  2.00it/s]"
     ]
    },
    {
     "name": "stdout",
     "output_type": "stream",
     "text": [
      "bad request index 401893\n"
     ]
    },
    {
     "name": "stderr",
     "output_type": "stream",
     "text": [
      " 58%|█████▊    | 22031/38097 [3:03:37<2:13:48,  2.00it/s]"
     ]
    },
    {
     "name": "stdout",
     "output_type": "stream",
     "text": [
      "bad request index 403001\n"
     ]
    },
    {
     "name": "stderr",
     "output_type": "stream",
     "text": [
      " 73%|███████▎  | 27654/38097 [3:50:29<1:26:52,  2.00it/s]"
     ]
    },
    {
     "name": "stdout",
     "output_type": "stream",
     "text": [
      "bad request index 408624\n"
     ]
    },
    {
     "name": "stderr",
     "output_type": "stream",
     "text": [
      " 85%|████████▍ | 32353/38097 [4:29:39<47:46,  2.00it/s]  "
     ]
    },
    {
     "name": "stdout",
     "output_type": "stream",
     "text": [
      "bad request index 413323\n"
     ]
    },
    {
     "name": "stderr",
     "output_type": "stream",
     "text": [
      " 87%|████████▋ | 33015/38097 [4:35:10<42:20,  2.00it/s]"
     ]
    },
    {
     "name": "stdout",
     "output_type": "stream",
     "text": [
      "bad request index 413985\n"
     ]
    },
    {
     "name": "stderr",
     "output_type": "stream",
     "text": [
      " 98%|█████████▊| 37320/38097 [5:11:02<06:27,  2.00it/s]"
     ]
    },
    {
     "name": "stdout",
     "output_type": "stream",
     "text": [
      "bad request index 418290\n"
     ]
    },
    {
     "name": "stderr",
     "output_type": "stream",
     "text": [
      "100%|█████████▉| 38067/38097 [5:17:16<00:15,  2.00it/s]"
     ]
    },
    {
     "name": "stdout",
     "output_type": "stream",
     "text": [
      "bad request index 419037\n"
     ]
    },
    {
     "name": "stderr",
     "output_type": "stream",
     "text": [
      "100%|██████████| 38097/38097 [5:17:31<00:00,  2.00it/s]\n"
     ]
    }
   ],
   "source": [
    "\n",
    "distance = []\n",
    "temps_api = []\n",
    "\n",
    "for i in tqdm(list_df[10].index.values) :\n",
    "    \n",
    "    url = f\"http://router.project-osrm.org/route/v1/driving/{list_df[10].Longitude_Station[i]},{list_df[10].Latitude_Station[i]};{list_df[10].Longitude[i]},{list_df[10].Latitude[i]}?alternatives=false&overview=false&skip_waypoints=true\"\n",
    "    reponse = requests.get(url)\n",
    "    data = reponse.json()\n",
    "   \n",
    "    # si la requete n'a pas aboutie on met des NA\n",
    "    if reponse.status_code != 200:\n",
    "        print(\"bad request index\",i)\n",
    "        distance.append(np.nan)\n",
    "        temps_api.append(np.nan)\n",
    "\n",
    "\n",
    "    else :\n",
    "    # select le dico avec distance\n",
    "        dst = data['routes'][0]['distance']\n",
    "        temps = data['routes'][0]['duration']\n",
    "        distance.append(dst)\n",
    "        temps_api.append(temps)\n",
    "\n",
    "# mise en un dataframe des distance     \n",
    "dst_11 = pd.DataFrame(index = list_df[10].index, data = {'dst_StationIncident': distance, 'tempsAPI' : temps_api})    \n",
    "dst_11.to_csv(\"Data/df_dist/Distance11.csv\",index=True)\n",
    "\n",
    "# ajout de la distance station-incident au dataframe ssgroupe\n",
    "list_df[10] = pd.concat([list_df[10], dst_11], axis = 1)\n",
    "\n",
    "\n",
    "list_df[10].to_csv(\"Data/df_dist/Distance11_df_tot.csv\",index=True)\n",
    "\n",
    "# save de la liste de df\n",
    "import pickle\n",
    "\n",
    "with open(\"Data/df_dist/liste_df_API\", \"wb\") as fp:\n",
    "    pickle.dump(list_df,fp)\n"
   ]
  },
  {
   "cell_type": "markdown",
   "id": "9aac46d3",
   "metadata": {},
   "source": [
    "### 12 eme "
   ]
  },
  {
   "cell_type": "code",
   "execution_count": 156,
   "id": "1e86eb12",
   "metadata": {
    "tags": [
     "raises-exception"
    ]
   },
   "outputs": [
    {
     "name": "stderr",
     "output_type": "stream",
     "text": [
      " 16%|█▋        | 6208/38097 [51:52<4:31:20,  1.96it/s] "
     ]
    },
    {
     "name": "stdout",
     "output_type": "stream",
     "text": [
      "bad request index 425275\n"
     ]
    },
    {
     "name": "stderr",
     "output_type": "stream",
     "text": [
      " 21%|██        | 8071/38097 [1:07:24<4:09:49,  2.00it/s]"
     ]
    },
    {
     "name": "stdout",
     "output_type": "stream",
     "text": [
      "bad request index 427138\n"
     ]
    },
    {
     "name": "stderr",
     "output_type": "stream",
     "text": [
      " 35%|███▍      | 13229/38097 [1:50:24<3:27:19,  2.00it/s]"
     ]
    },
    {
     "name": "stdout",
     "output_type": "stream",
     "text": [
      "bad request index 432296\n"
     ]
    },
    {
     "name": "stderr",
     "output_type": "stream",
     "text": [
      " 37%|███▋      | 14175/38097 [1:58:17<3:19:14,  2.00it/s]"
     ]
    },
    {
     "name": "stdout",
     "output_type": "stream",
     "text": [
      "bad request index 433242\n"
     ]
    },
    {
     "name": "stderr",
     "output_type": "stream",
     "text": [
      " 43%|████▎     | 16524/38097 [2:17:52<2:59:42,  2.00it/s]"
     ]
    },
    {
     "name": "stdout",
     "output_type": "stream",
     "text": [
      "bad request index 435591\n"
     ]
    },
    {
     "name": "stderr",
     "output_type": "stream",
     "text": [
      " 51%|█████     | 19349/38097 [2:41:24<2:36:15,  2.00it/s]"
     ]
    },
    {
     "name": "stdout",
     "output_type": "stream",
     "text": [
      "bad request index 438416\n"
     ]
    },
    {
     "name": "stderr",
     "output_type": "stream",
     "text": [
      " 58%|█████▊    | 22135/38097 [3:04:37<2:13:01,  2.00it/s]"
     ]
    },
    {
     "name": "stdout",
     "output_type": "stream",
     "text": [
      "bad request index 441202\n"
     ]
    },
    {
     "name": "stderr",
     "output_type": "stream",
     "text": [
      " 63%|██████▎   | 23878/38097 [3:19:09<1:58:10,  2.01it/s]"
     ]
    },
    {
     "name": "stdout",
     "output_type": "stream",
     "text": [
      "bad request index 442945\n"
     ]
    },
    {
     "name": "stderr",
     "output_type": "stream",
     "text": [
      " 64%|██████▍   | 24494/38097 [3:24:17<1:53:14,  2.00it/s]"
     ]
    },
    {
     "name": "stdout",
     "output_type": "stream",
     "text": [
      "bad request index 443561\n"
     ]
    },
    {
     "name": "stderr",
     "output_type": "stream",
     "text": [
      " 92%|█████████▏| 35094/38097 [4:52:43<24:59,  2.00it/s]  "
     ]
    },
    {
     "name": "stdout",
     "output_type": "stream",
     "text": [
      "bad request index 454161\n"
     ]
    },
    {
     "name": "stderr",
     "output_type": "stream",
     "text": [
      " 96%|█████████▌| 36391/38097 [5:03:32<14:14,  2.00it/s]"
     ]
    },
    {
     "name": "stdout",
     "output_type": "stream",
     "text": [
      "bad request index 455458\n"
     ]
    },
    {
     "name": "stderr",
     "output_type": "stream",
     "text": [
      " 97%|█████████▋| 36961/38097 [5:08:17<09:27,  2.00it/s]"
     ]
    },
    {
     "name": "stdout",
     "output_type": "stream",
     "text": [
      "bad request index 456028\n"
     ]
    },
    {
     "name": "stderr",
     "output_type": "stream",
     "text": [
      " 99%|█████████▊| 37540/38097 [5:13:06<04:39,  1.99it/s]"
     ]
    },
    {
     "name": "stdout",
     "output_type": "stream",
     "text": [
      "bad request index 456607\n"
     ]
    },
    {
     "name": "stderr",
     "output_type": "stream",
     "text": [
      " 99%|█████████▊| 37543/38097 [5:13:08<04:36,  2.00it/s]"
     ]
    },
    {
     "name": "stdout",
     "output_type": "stream",
     "text": [
      "bad request index 456610\n"
     ]
    },
    {
     "name": "stderr",
     "output_type": "stream",
     "text": [
      "100%|██████████| 38097/38097 [5:17:45<00:00,  2.00it/s]\n"
     ]
    }
   ],
   "source": [
    "\n",
    "distance = []\n",
    "temps_api = []\n",
    "\n",
    "for i in tqdm(list_df[11].index.values) :\n",
    "    \n",
    "    url = f\"http://router.project-osrm.org/route/v1/driving/{list_df[11].Longitude_Station[i]},{list_df[11].Latitude_Station[i]};{list_df[11].Longitude[i]},{list_df[11].Latitude[i]}?alternatives=false&overview=false&skip_waypoints=true\"\n",
    "    reponse = requests.get(url)\n",
    "    data = reponse.json()\n",
    "   \n",
    "    # si la requete n'a pas aboutie on met des NA\n",
    "    if reponse.status_code != 200:\n",
    "        print(\"bad request index\",i)\n",
    "        distance.append(np.nan)\n",
    "        temps_api.append(np.nan)\n",
    "\n",
    "\n",
    "    else :\n",
    "    # select le dico avec distance\n",
    "        dst = data['routes'][0]['distance']\n",
    "        temps = data['routes'][0]['duration']\n",
    "        distance.append(dst)\n",
    "        temps_api.append(temps)\n",
    "\n",
    "# mise en un dataframe des distance     \n",
    "dst_12 = pd.DataFrame(index = list_df[11].index, data = {'dst_StationIncident': distance, 'tempsAPI' : temps_api})    \n",
    "dst_12.to_csv(\"Data/df_dist/Distance12.csv\",index=True)\n",
    "\n",
    "# ajout de la distance station-incident au dataframe ssgroupe\n",
    "list_df[11] = pd.concat([list_df[11], dst_12], axis = 1)\n",
    "\n",
    "\n",
    "list_df[11].to_csv(\"Data/df_dist/Distance12_df_tot.csv\",index=True)\n",
    "\n",
    "# save de la liste de df\n",
    "import pickle\n",
    "\n",
    "with open(\"Data/df_dist/liste_df_API\", \"wb\") as fp:\n",
    "    pickle.dump(list_df,fp)\n"
   ]
  },
  {
   "cell_type": "markdown",
   "id": "e4d6f6a3",
   "metadata": {},
   "source": [
    "### 13 EME"
   ]
  },
  {
   "cell_type": "code",
   "execution_count": 160,
   "id": "e2e5561e",
   "metadata": {
    "tags": [
     "raises-exception"
    ]
   },
   "outputs": [
    {
     "name": "stderr",
     "output_type": "stream",
     "text": [
      "  4%|▎         | 1404/38097 [11:53<5:05:29,  2.00it/s] "
     ]
    },
    {
     "name": "stdout",
     "output_type": "stream",
     "text": [
      "bad request index 458568\n"
     ]
    },
    {
     "name": "stderr",
     "output_type": "stream",
     "text": [
      "  9%|▉         | 3549/38097 [30:00<4:47:23,  2.00it/s] "
     ]
    },
    {
     "name": "stdout",
     "output_type": "stream",
     "text": [
      "bad request index 460713\n"
     ]
    },
    {
     "name": "stderr",
     "output_type": "stream",
     "text": [
      " 10%|█         | 3993/38097 [33:42<4:44:19,  2.00it/s]"
     ]
    },
    {
     "name": "stdout",
     "output_type": "stream",
     "text": [
      "bad request index 461157\n"
     ]
    },
    {
     "name": "stderr",
     "output_type": "stream",
     "text": [
      " 27%|██▋       | 10443/38097 [1:27:41<3:49:45,  2.01it/s]"
     ]
    },
    {
     "name": "stdout",
     "output_type": "stream",
     "text": [
      "bad request index 467607\n"
     ]
    },
    {
     "name": "stderr",
     "output_type": "stream",
     "text": [
      " 32%|███▏      | 12338/38097 [1:43:27<3:34:37,  2.00it/s]"
     ]
    },
    {
     "name": "stdout",
     "output_type": "stream",
     "text": [
      "bad request index 469502\n"
     ]
    },
    {
     "name": "stderr",
     "output_type": "stream",
     "text": [
      " 40%|███▉      | 15193/38097 [2:07:14<3:10:39,  2.00it/s]"
     ]
    },
    {
     "name": "stdout",
     "output_type": "stream",
     "text": [
      "bad request index 472357\n"
     ]
    },
    {
     "name": "stderr",
     "output_type": "stream",
     "text": [
      " 45%|████▌     | 17178/38097 [2:23:47<2:54:30,  2.00it/s]"
     ]
    },
    {
     "name": "stdout",
     "output_type": "stream",
     "text": [
      "bad request index 474342\n"
     ]
    },
    {
     "name": "stderr",
     "output_type": "stream",
     "text": [
      " 57%|█████▋    | 21743/38097 [3:01:50<2:16:08,  2.00it/s]"
     ]
    },
    {
     "name": "stdout",
     "output_type": "stream",
     "text": [
      "bad request index 478907\n"
     ]
    },
    {
     "name": "stderr",
     "output_type": "stream",
     "text": [
      " 61%|██████    | 23187/38097 [3:13:52<2:04:54,  1.99it/s]"
     ]
    },
    {
     "name": "stdout",
     "output_type": "stream",
     "text": [
      "bad request index 480351\n"
     ]
    },
    {
     "name": "stderr",
     "output_type": "stream",
     "text": [
      " 70%|███████   | 26671/38097 [3:42:55<1:35:07,  2.00it/s]"
     ]
    },
    {
     "name": "stdout",
     "output_type": "stream",
     "text": [
      "bad request index 483835\n"
     ]
    },
    {
     "name": "stderr",
     "output_type": "stream",
     "text": [
      " 75%|███████▌  | 28749/38097 [4:00:14<1:17:55,  2.00it/s]"
     ]
    },
    {
     "name": "stdout",
     "output_type": "stream",
     "text": [
      "bad request index 485913\n"
     ]
    },
    {
     "name": "stderr",
     "output_type": "stream",
     "text": [
      " 79%|███████▉  | 30250/38097 [4:12:44<1:05:17,  2.00it/s]"
     ]
    },
    {
     "name": "stdout",
     "output_type": "stream",
     "text": [
      "bad request index 487414\n"
     ]
    },
    {
     "name": "stderr",
     "output_type": "stream",
     "text": [
      " 80%|███████▉  | 30339/38097 [4:13:29<1:04:38,  2.00it/s]"
     ]
    },
    {
     "name": "stdout",
     "output_type": "stream",
     "text": [
      "bad request index 487503\n"
     ]
    },
    {
     "name": "stderr",
     "output_type": "stream",
     "text": [
      " 80%|███████▉  | 30445/38097 [4:14:22<1:03:48,  2.00it/s]"
     ]
    },
    {
     "name": "stdout",
     "output_type": "stream",
     "text": [
      "bad request index 487609\n"
     ]
    },
    {
     "name": "stderr",
     "output_type": "stream",
     "text": [
      " 80%|███████▉  | 30455/38097 [4:14:27<1:04:48,  1.97it/s]"
     ]
    },
    {
     "name": "stdout",
     "output_type": "stream",
     "text": [
      "bad request index 487619\n"
     ]
    },
    {
     "name": "stderr",
     "output_type": "stream",
     "text": [
      " 80%|███████▉  | 30459/38097 [4:14:29<1:03:29,  2.00it/s]"
     ]
    },
    {
     "name": "stdout",
     "output_type": "stream",
     "text": [
      "bad request index 487623\n"
     ]
    },
    {
     "name": "stderr",
     "output_type": "stream",
     "text": [
      " 80%|███████▉  | 30462/38097 [4:14:30<1:03:30,  2.00it/s]"
     ]
    },
    {
     "name": "stdout",
     "output_type": "stream",
     "text": [
      "bad request index 487626\n"
     ]
    },
    {
     "name": "stderr",
     "output_type": "stream",
     "text": [
      " 90%|█████████ | 34459/38097 [4:47:49<30:15,  2.00it/s]  "
     ]
    },
    {
     "name": "stdout",
     "output_type": "stream",
     "text": [
      "bad request index 491623\n"
     ]
    },
    {
     "name": "stderr",
     "output_type": "stream",
     "text": [
      " 91%|█████████ | 34744/38097 [4:50:11<27:45,  2.01it/s]"
     ]
    },
    {
     "name": "stdout",
     "output_type": "stream",
     "text": [
      "bad request index 491908\n"
     ]
    },
    {
     "name": "stderr",
     "output_type": "stream",
     "text": [
      " 95%|█████████▌| 36194/38097 [5:02:18<15:51,  2.00it/s]"
     ]
    },
    {
     "name": "stdout",
     "output_type": "stream",
     "text": [
      "bad request index 493358\n"
     ]
    },
    {
     "name": "stderr",
     "output_type": "stream",
     "text": [
      "100%|██████████| 38097/38097 [5:18:09<00:00,  2.00it/s]\n"
     ]
    }
   ],
   "source": [
    "\n",
    "distance = []\n",
    "temps_api = []\n",
    "\n",
    "for i in tqdm(list_df[12].index.values) :\n",
    "    \n",
    "    url = f\"http://router.project-osrm.org/route/v1/driving/{list_df[12].Longitude_Station[i]},{list_df[12].Latitude_Station[i]};{list_df[12].Longitude[i]},{list_df[12].Latitude[i]}?alternatives=false&overview=false&skip_waypoints=true\"\n",
    "    reponse = requests.get(url)\n",
    "    data = reponse.json()\n",
    "   \n",
    "    # si la requete n'a pas aboutie on met des NA\n",
    "    if reponse.status_code != 200:\n",
    "        print(\"bad request index\",i)\n",
    "        distance.append(np.nan)\n",
    "        temps_api.append(np.nan)\n",
    "\n",
    "\n",
    "    else :\n",
    "    # select le dico avec distance\n",
    "        dst = data['routes'][0]['distance']\n",
    "        temps = data['routes'][0]['duration']\n",
    "        distance.append(dst)\n",
    "        temps_api.append(temps)\n",
    "\n",
    "# mise en un dataframe des distance     \n",
    "dst_13 = pd.DataFrame(index = list_df[12].index, data = {'dst_StationIncident': distance, 'tempsAPI' : temps_api})    \n",
    "dst_13.to_csv(\"Data/df_dist/Distance13.csv\",index=True)\n",
    "\n",
    "# ajout de la distance station-incident au dataframe ssgroupe\n",
    "list_df[12] = pd.concat([list_df[12], dst_13], axis = 1)\n",
    "\n",
    "\n",
    "list_df[12].to_csv(\"Data/df_dist/Distance13_df_tot.csv\",index=True)\n",
    "\n",
    "# save de la liste de df\n",
    "import pickle\n",
    "\n",
    "with open(\"Data/df_dist/liste_df_API\", \"wb\") as fp:\n",
    "    pickle.dump(list_df,fp)\n"
   ]
  },
  {
   "cell_type": "markdown",
   "id": "62f6ef12",
   "metadata": {},
   "source": [
    "### 14"
   ]
  },
  {
   "cell_type": "code",
   "execution_count": 161,
   "id": "de09f650",
   "metadata": {},
   "outputs": [
    {
     "name": "stderr",
     "output_type": "stream",
     "text": [
      "  3%|▎         | 1242/38097 [10:20<5:08:57,  1.99it/s]"
     ]
    },
    {
     "name": "stdout",
     "output_type": "stream",
     "text": [
      "bad request index 496503\n"
     ]
    },
    {
     "name": "stderr",
     "output_type": "stream",
     "text": [
      "  9%|▊         | 3307/38097 [27:33<4:49:12,  2.00it/s]"
     ]
    },
    {
     "name": "stdout",
     "output_type": "stream",
     "text": [
      "bad request index 498568\n"
     ]
    },
    {
     "name": "stderr",
     "output_type": "stream",
     "text": [
      " 13%|█▎        | 4965/38097 [41:22<4:36:42,  2.00it/s]"
     ]
    },
    {
     "name": "stdout",
     "output_type": "stream",
     "text": [
      "bad request index 500226\n"
     ]
    },
    {
     "name": "stderr",
     "output_type": "stream",
     "text": [
      " 27%|██▋       | 10447/38097 [1:27:04<3:49:55,  2.00it/s]"
     ]
    },
    {
     "name": "stdout",
     "output_type": "stream",
     "text": [
      "bad request index 505708\n"
     ]
    },
    {
     "name": "stderr",
     "output_type": "stream",
     "text": [
      " 29%|██▉       | 10981/38097 [1:31:31<3:46:25,  2.00it/s]"
     ]
    },
    {
     "name": "stdout",
     "output_type": "stream",
     "text": [
      "bad request index 506242\n"
     ]
    },
    {
     "name": "stderr",
     "output_type": "stream",
     "text": [
      " 29%|██▉       | 10983/38097 [1:31:32<3:45:46,  2.00it/s]"
     ]
    },
    {
     "name": "stdout",
     "output_type": "stream",
     "text": [
      "bad request index 506244\n"
     ]
    },
    {
     "name": "stderr",
     "output_type": "stream",
     "text": [
      " 30%|███       | 11459/38097 [1:35:30<3:41:55,  2.00it/s]"
     ]
    },
    {
     "name": "stdout",
     "output_type": "stream",
     "text": [
      "bad request index 506720\n"
     ]
    },
    {
     "name": "stderr",
     "output_type": "stream",
     "text": [
      " 32%|███▏      | 12026/38097 [1:40:13<3:35:33,  2.02it/s]"
     ]
    },
    {
     "name": "stdout",
     "output_type": "stream",
     "text": [
      "bad request index 507287\n"
     ]
    },
    {
     "name": "stderr",
     "output_type": "stream",
     "text": [
      " 47%|████▋     | 17748/38097 [2:27:55<2:49:03,  2.01it/s]"
     ]
    },
    {
     "name": "stdout",
     "output_type": "stream",
     "text": [
      "bad request index 513009\n"
     ]
    },
    {
     "name": "stderr",
     "output_type": "stream",
     "text": [
      " 47%|████▋     | 17913/38097 [2:29:17<2:47:39,  2.01it/s]"
     ]
    },
    {
     "name": "stdout",
     "output_type": "stream",
     "text": [
      "bad request index 513174\n"
     ]
    },
    {
     "name": "stderr",
     "output_type": "stream",
     "text": [
      " 50%|█████     | 19131/38097 [2:39:27<2:37:51,  2.00it/s]"
     ]
    },
    {
     "name": "stdout",
     "output_type": "stream",
     "text": [
      "bad request index 514392\n"
     ]
    },
    {
     "name": "stderr",
     "output_type": "stream",
     "text": [
      " 65%|██████▌   | 24850/38097 [3:27:07<1:50:15,  2.00it/s]"
     ]
    },
    {
     "name": "stdout",
     "output_type": "stream",
     "text": [
      "bad request index 520111\n"
     ]
    },
    {
     "name": "stderr",
     "output_type": "stream",
     "text": [
      " 82%|████████▏ | 31240/38097 [4:20:22<57:04,  2.00it/s]  "
     ]
    },
    {
     "name": "stdout",
     "output_type": "stream",
     "text": [
      "bad request index 526501\n"
     ]
    },
    {
     "name": "stderr",
     "output_type": "stream",
     "text": [
      " 85%|████████▌ | 32412/38097 [4:30:08<47:18,  2.00it/s]"
     ]
    },
    {
     "name": "stdout",
     "output_type": "stream",
     "text": [
      "bad request index 527673\n"
     ]
    },
    {
     "name": "stderr",
     "output_type": "stream",
     "text": [
      " 90%|████████▉ | 34165/38097 [4:44:45<32:54,  1.99it/s]"
     ]
    },
    {
     "name": "stdout",
     "output_type": "stream",
     "text": [
      "bad request index 529426\n"
     ]
    },
    {
     "name": "stderr",
     "output_type": "stream",
     "text": [
      " 90%|████████▉ | 34170/38097 [4:44:47<32:40,  2.00it/s]"
     ]
    },
    {
     "name": "stdout",
     "output_type": "stream",
     "text": [
      "bad request index 529431\n"
     ]
    },
    {
     "name": "stderr",
     "output_type": "stream",
     "text": [
      " 90%|████████▉ | 34172/38097 [4:44:48<32:44,  2.00it/s]"
     ]
    },
    {
     "name": "stdout",
     "output_type": "stream",
     "text": [
      "bad request index 529433\n"
     ]
    },
    {
     "name": "stderr",
     "output_type": "stream",
     "text": [
      " 98%|█████████▊| 37235/38097 [5:10:20<07:10,  2.00it/s]"
     ]
    },
    {
     "name": "stdout",
     "output_type": "stream",
     "text": [
      "bad request index 532496\n"
     ]
    },
    {
     "name": "stderr",
     "output_type": "stream",
     "text": [
      "100%|██████████| 38097/38097 [5:17:31<00:00,  2.00it/s]\n"
     ]
    }
   ],
   "source": [
    "\n",
    "distance = []\n",
    "temps_api = []\n",
    "\n",
    "for i in tqdm(list_df[13].index.values) :\n",
    "    \n",
    "    url = f\"http://router.project-osrm.org/route/v1/driving/{list_df[13].Longitude_Station[i]},{list_df[13].Latitude_Station[i]};{list_df[13].Longitude[i]},{list_df[13].Latitude[i]}?alternatives=false&overview=false&skip_waypoints=true\"\n",
    "    reponse = requests.get(url)\n",
    "    data = reponse.json()\n",
    "   \n",
    "    # si la requete n'a pas aboutie on met des NA\n",
    "    if reponse.status_code != 200:\n",
    "        print(\"bad request index\",i)\n",
    "        distance.append(np.nan)\n",
    "        temps_api.append(np.nan)\n",
    "\n",
    "\n",
    "    else :\n",
    "    # select le dico avec distance\n",
    "        dst = data['routes'][0]['distance']\n",
    "        temps = data['routes'][0]['duration']\n",
    "        distance.append(dst)\n",
    "        temps_api.append(temps)\n",
    "\n",
    "# mise en un dataframe des distance     \n",
    "dst_14 = pd.DataFrame(index = list_df[13].index, data = {'dst_StationIncident': distance, 'tempsAPI' : temps_api})    \n",
    "dst_14.to_csv(\"Data/df_dist/Distance14.csv\",index=True)\n",
    "\n",
    "# ajout de la distance station-incident au dataframe ssgroupe\n",
    "list_df[13] = pd.concat([list_df[13], dst_14], axis = 1)\n",
    "\n",
    "\n",
    "list_df[13].to_csv(\"Data/df_dist/Distance14_df_tot.csv\",index=True)\n",
    "\n",
    "# save de la liste de df\n",
    "import pickle\n",
    "\n",
    "with open(\"Data/df_dist/liste_df_API\", \"wb\") as fp:\n",
    "    pickle.dump(list_df,fp)\n"
   ]
  },
  {
   "cell_type": "markdown",
   "id": "b327a375",
   "metadata": {},
   "source": [
    "### 15"
   ]
  },
  {
   "cell_type": "code",
   "execution_count": 167,
   "id": "396cda6e",
   "metadata": {
    "tags": [
     "raises-exception"
    ]
   },
   "outputs": [
    {
     "name": "stderr",
     "output_type": "stream",
     "text": [
      " 25%|██▌       | 9560/38097 [1:19:40<3:57:45,  2.00it/s]"
     ]
    },
    {
     "name": "stdout",
     "output_type": "stream",
     "text": [
      "bad request index 542918\n"
     ]
    },
    {
     "name": "stderr",
     "output_type": "stream",
     "text": [
      " 41%|████      | 15632/38097 [2:10:16<3:05:54,  2.01it/s]"
     ]
    },
    {
     "name": "stdout",
     "output_type": "stream",
     "text": [
      "bad request index 548990\n"
     ]
    },
    {
     "name": "stderr",
     "output_type": "stream",
     "text": [
      " 44%|████▍     | 16927/38097 [2:21:03<2:56:29,  2.00it/s]"
     ]
    },
    {
     "name": "stdout",
     "output_type": "stream",
     "text": [
      "bad request index 550285\n"
     ]
    },
    {
     "name": "stderr",
     "output_type": "stream",
     "text": [
      " 57%|█████▋    | 21555/38097 [2:59:37<2:17:55,  2.00it/s]"
     ]
    },
    {
     "name": "stdout",
     "output_type": "stream",
     "text": [
      "bad request index 554913\n"
     ]
    },
    {
     "name": "stderr",
     "output_type": "stream",
     "text": [
      " 61%|██████    | 23053/38097 [3:12:06<2:05:12,  2.00it/s]"
     ]
    },
    {
     "name": "stdout",
     "output_type": "stream",
     "text": [
      "bad request index 556411\n"
     ]
    },
    {
     "name": "stderr",
     "output_type": "stream",
     "text": [
      " 75%|███████▌  | 28734/38097 [3:59:27<1:18:00,  2.00it/s]"
     ]
    },
    {
     "name": "stdout",
     "output_type": "stream",
     "text": [
      "bad request index 562092\n"
     ]
    },
    {
     "name": "stderr",
     "output_type": "stream",
     "text": [
      " 82%|████████▏ | 31113/38097 [4:19:17<57:57,  2.01it/s]  "
     ]
    },
    {
     "name": "stdout",
     "output_type": "stream",
     "text": [
      "bad request index 564471\n"
     ]
    },
    {
     "name": "stderr",
     "output_type": "stream",
     "text": [
      " 82%|████████▏ | 31277/38097 [4:20:39<56:58,  1.99it/s]"
     ]
    },
    {
     "name": "stdout",
     "output_type": "stream",
     "text": [
      "bad request index 564635\n"
     ]
    },
    {
     "name": "stderr",
     "output_type": "stream",
     "text": [
      " 86%|████████▌ | 32755/38097 [4:32:58<44:28,  2.00it/s]"
     ]
    },
    {
     "name": "stdout",
     "output_type": "stream",
     "text": [
      "bad request index 566113\n"
     ]
    },
    {
     "name": "stderr",
     "output_type": "stream",
     "text": [
      " 91%|█████████▏| 34806/38097 [4:50:03<27:23,  2.00it/s]"
     ]
    },
    {
     "name": "stdout",
     "output_type": "stream",
     "text": [
      "bad request index 568164\n"
     ]
    },
    {
     "name": "stderr",
     "output_type": "stream",
     "text": [
      " 95%|█████████▍| 36038/38097 [5:00:19<17:13,  1.99it/s]"
     ]
    },
    {
     "name": "stdout",
     "output_type": "stream",
     "text": [
      "bad request index 569396\n"
     ]
    },
    {
     "name": "stderr",
     "output_type": "stream",
     "text": [
      " 96%|█████████▌| 36415/38097 [5:03:28<13:59,  2.00it/s]"
     ]
    },
    {
     "name": "stdout",
     "output_type": "stream",
     "text": [
      "bad request index 569773\n"
     ]
    },
    {
     "name": "stderr",
     "output_type": "stream",
     "text": [
      "100%|██████████| 38097/38097 [5:17:29<00:00,  2.00it/s]\n"
     ]
    }
   ],
   "source": [
    "\n",
    "distance = []\n",
    "temps_api = []\n",
    "\n",
    "for i in tqdm(list_df[14].index.values) :\n",
    "    \n",
    "    url = f\"http://router.project-osrm.org/route/v1/driving/{list_df[14].Longitude_Station[i]},{list_df[14].Latitude_Station[i]};{list_df[14].Longitude[i]},{list_df[14].Latitude[i]}?alternatives=false&overview=false&skip_waypoints=true\"\n",
    "    reponse = requests.get(url)\n",
    "    data = reponse.json()\n",
    "   \n",
    "    # si la requete n'a pas aboutie on met des NA\n",
    "    if reponse.status_code != 200:\n",
    "        print(\"bad request index\",i)\n",
    "        distance.append(np.nan)\n",
    "        temps_api.append(np.nan)\n",
    "\n",
    "\n",
    "    else :\n",
    "    # select le dico avec distance\n",
    "        dst = data['routes'][0]['distance']\n",
    "        temps = data['routes'][0]['duration']\n",
    "        distance.append(dst)\n",
    "        temps_api.append(temps)\n",
    "\n",
    "# mise en un dataframe des distance     \n",
    "dst_15 = pd.DataFrame(index = list_df[14].index, data = {'dst_StationIncident': distance, 'tempsAPI' : temps_api})    \n",
    "dst_15.to_csv(\"Data/df_dist/Distance15.csv\",index=True)\n",
    "\n",
    "# ajout de la distance station-incident au dataframe ssgroupe\n",
    "list_df[14] = pd.concat([list_df[14], dst_15], axis = 1)\n",
    "\n",
    "\n",
    "list_df[14].to_csv(\"Data/df_dist/Distance15_df_tot.csv\",index=True)\n",
    "\n",
    "# save de la liste de df\n",
    "import pickle\n",
    "\n",
    "with open(\"Data/df_dist/liste_df_API\", \"wb\") as fp:\n",
    "    pickle.dump(list_df,fp)\n"
   ]
  },
  {
   "cell_type": "markdown",
   "id": "1f20c8a6",
   "metadata": {},
   "source": [
    "## 16 en cours"
   ]
  },
  {
   "cell_type": "code",
   "execution_count": 168,
   "id": "7cd5ae74",
   "metadata": {
    "tags": [
     "raises-exception"
    ]
   },
   "outputs": [
    {
     "name": "stderr",
     "output_type": "stream",
     "text": [
      " 35%|███▍      | 13242/38097 [1:50:22<3:27:09,  2.00it/s]"
     ]
    },
    {
     "name": "stdout",
     "output_type": "stream",
     "text": [
      "bad request index 584697\n"
     ]
    },
    {
     "name": "stderr",
     "output_type": "stream",
     "text": [
      " 42%|████▏     | 15839/38097 [2:12:01<3:05:06,  2.00it/s]"
     ]
    },
    {
     "name": "stdout",
     "output_type": "stream",
     "text": [
      "bad request index 587294\n"
     ]
    },
    {
     "name": "stderr",
     "output_type": "stream",
     "text": [
      " 42%|████▏     | 15852/38097 [2:12:07<3:04:41,  2.01it/s]"
     ]
    },
    {
     "name": "stdout",
     "output_type": "stream",
     "text": [
      "bad request index 587307\n"
     ]
    },
    {
     "name": "stderr",
     "output_type": "stream",
     "text": [
      " 60%|██████    | 23012/38097 [3:11:49<2:05:43,  2.00it/s]"
     ]
    },
    {
     "name": "stdout",
     "output_type": "stream",
     "text": [
      "bad request index 594467\n"
     ]
    },
    {
     "name": "stderr",
     "output_type": "stream",
     "text": [
      " 63%|██████▎   | 23946/38097 [3:19:36<1:58:07,  2.00it/s]"
     ]
    },
    {
     "name": "stdout",
     "output_type": "stream",
     "text": [
      "bad request index 595401\n"
     ]
    },
    {
     "name": "stderr",
     "output_type": "stream",
     "text": [
      " 66%|██████▌   | 25033/38097 [3:28:39<1:48:49,  2.00it/s]"
     ]
    },
    {
     "name": "stdout",
     "output_type": "stream",
     "text": [
      "bad request index 596488\n"
     ]
    },
    {
     "name": "stderr",
     "output_type": "stream",
     "text": [
      " 67%|██████▋   | 25694/38097 [3:34:10<1:43:23,  2.00it/s]"
     ]
    },
    {
     "name": "stdout",
     "output_type": "stream",
     "text": [
      "bad request index 597149\n"
     ]
    },
    {
     "name": "stderr",
     "output_type": "stream",
     "text": [
      "100%|█████████▉| 37985/38097 [5:16:37<00:55,  2.00it/s]  "
     ]
    },
    {
     "name": "stdout",
     "output_type": "stream",
     "text": [
      "bad request index 609440\n"
     ]
    },
    {
     "name": "stderr",
     "output_type": "stream",
     "text": [
      "100%|██████████| 38097/38097 [5:17:33<00:00,  2.00it/s]\n"
     ]
    }
   ],
   "source": [
    "\n",
    "distance = []\n",
    "temps_api = []\n",
    "\n",
    "for i in tqdm(list_df[15].index.values) :\n",
    "    \n",
    "    url = f\"http://router.project-osrm.org/route/v1/driving/{list_df[15].Longitude_Station[i]},{list_df[15].Latitude_Station[i]};{list_df[15].Longitude[i]},{list_df[15].Latitude[i]}?alternatives=false&overview=false&skip_waypoints=true\"\n",
    "    reponse = requests.get(url)\n",
    "    data = reponse.json()\n",
    "   \n",
    "    # si la requete n'a pas aboutie on met des NA\n",
    "    if reponse.status_code != 200:\n",
    "        print(\"bad request index\",i)\n",
    "        distance.append(np.nan)\n",
    "        temps_api.append(np.nan)\n",
    "\n",
    "\n",
    "    else :\n",
    "    # select le dico avec distance\n",
    "        dst = data['routes'][0]['distance']\n",
    "        temps = data['routes'][0]['duration']\n",
    "        distance.append(dst)\n",
    "        temps_api.append(temps)\n",
    "\n",
    "# mise en un dataframe des distance     \n",
    "dst_16 = pd.DataFrame(index = list_df[15].index, data = {'dst_StationIncident': distance, 'tempsAPI' : temps_api})    \n",
    "dst_16.to_csv(\"Data/df_dist/Distance16.csv\",index=True)\n",
    "\n",
    "# ajout de la distance station-incident au dataframe ssgroupe\n",
    "list_df[15] = pd.concat([list_df[15], dst_16], axis = 1)\n",
    "\n",
    "\n",
    "list_df[15].to_csv(\"Data/df_dist/Distance16_df_tot.csv\",index=True)\n",
    "\n",
    "# save de la liste de df\n",
    "import pickle\n",
    "\n",
    "with open(\"Data/df_dist/liste_df_API\", \"wb\") as fp:\n",
    "    pickle.dump(list_df,fp)\n"
   ]
  },
  {
   "cell_type": "markdown",
   "id": "7418b8b6",
   "metadata": {},
   "source": [
    "### 17 en cours"
   ]
  },
  {
   "cell_type": "code",
   "execution_count": 173,
   "id": "a2619b6a",
   "metadata": {
    "tags": [
     "raises-exception"
    ]
   },
   "outputs": [
    {
     "name": "stderr",
     "output_type": "stream",
     "text": [
      "  3%|▎         | 1265/38097 [10:32<5:05:55,  2.01it/s]"
     ]
    },
    {
     "name": "stdout",
     "output_type": "stream",
     "text": [
      "bad request index 610817\n"
     ]
    },
    {
     "name": "stderr",
     "output_type": "stream",
     "text": [
      "  9%|▊         | 3302/38097 [27:45<4:49:49,  2.00it/s] "
     ]
    },
    {
     "name": "stdout",
     "output_type": "stream",
     "text": [
      "bad request index 612854\n"
     ]
    },
    {
     "name": "stderr",
     "output_type": "stream",
     "text": [
      " 33%|███▎      | 12462/38097 [1:44:25<3:33:13,  2.00it/s]"
     ]
    },
    {
     "name": "stdout",
     "output_type": "stream",
     "text": [
      "bad request index 622014\n"
     ]
    },
    {
     "name": "stderr",
     "output_type": "stream",
     "text": [
      " 49%|████▉     | 18593/38097 [2:35:39<2:42:10,  2.00it/s] "
     ]
    },
    {
     "name": "stdout",
     "output_type": "stream",
     "text": [
      "bad request index 628145\n"
     ]
    },
    {
     "name": "stderr",
     "output_type": "stream",
     "text": [
      " 53%|█████▎    | 20095/38097 [2:48:10<2:29:54,  2.00it/s]"
     ]
    },
    {
     "name": "stdout",
     "output_type": "stream",
     "text": [
      "bad request index 629647\n"
     ]
    },
    {
     "name": "stderr",
     "output_type": "stream",
     "text": [
      " 63%|██████▎   | 23816/38097 [3:19:11<1:58:57,  2.00it/s]"
     ]
    },
    {
     "name": "stdout",
     "output_type": "stream",
     "text": [
      "bad request index 633368\n"
     ]
    },
    {
     "name": "stderr",
     "output_type": "stream",
     "text": [
      " 64%|██████▍   | 24338/38097 [3:23:32<1:54:42,  2.00it/s]"
     ]
    },
    {
     "name": "stdout",
     "output_type": "stream",
     "text": [
      "bad request index 633890\n"
     ]
    },
    {
     "name": "stderr",
     "output_type": "stream",
     "text": [
      "100%|██████████| 38097/38097 [5:18:14<00:00,  2.00it/s]  \n"
     ]
    }
   ],
   "source": [
    "\n",
    "distance = []\n",
    "temps_api = []\n",
    "\n",
    "for i in tqdm(list_df[16].index.values) :\n",
    "    \n",
    "    url = f\"http://router.project-osrm.org/route/v1/driving/{list_df[16].Longitude_Station[i]},{list_df[16].Latitude_Station[i]};{list_df[16].Longitude[i]},{list_df[16].Latitude[i]}?alternatives=false&overview=false&skip_waypoints=true\"\n",
    "    reponse = requests.get(url)\n",
    "    data = reponse.json()\n",
    "   \n",
    "    # si la requete n'a pas aboutie on met des NA\n",
    "    if reponse.status_code != 200:\n",
    "        print(\"bad request index\",i)\n",
    "        distance.append(np.nan)\n",
    "        temps_api.append(np.nan)\n",
    "\n",
    "\n",
    "    else :\n",
    "    # select le dico avec distance\n",
    "        dst = data['routes'][0]['distance']\n",
    "        temps = data['routes'][0]['duration']\n",
    "        distance.append(dst)\n",
    "        temps_api.append(temps)\n",
    "\n",
    "# mise en un dataframe des distance     \n",
    "dst_17 = pd.DataFrame(index = list_df[16].index, data = {'dst_StationIncident': distance, 'tempsAPI' : temps_api})    \n",
    "dst_17.to_csv(\"Data/df_dist/Distance17.csv\",index=True)\n",
    "\n",
    "# ajout de la distance station-incident au dataframe ssgroupe\n",
    "list_df[16] = pd.concat([list_df[16], dst_17], axis = 1)\n",
    "\n",
    "\n",
    "list_df[16].to_csv(\"Data/df_dist/Distance17_df_tot.csv\",index=True)\n",
    "\n",
    "# save de la liste de df\n",
    "import pickle\n",
    "\n",
    "with open(\"Data/df_dist/liste_df_API\", \"wb\") as fp:\n",
    "    pickle.dump(list_df,fp)\n"
   ]
  },
  {
   "cell_type": "markdown",
   "id": "366249a5",
   "metadata": {},
   "source": [
    "### 18"
   ]
  },
  {
   "cell_type": "code",
   "execution_count": 174,
   "id": "0617698c",
   "metadata": {
    "tags": [
     "raises-exception"
    ]
   },
   "outputs": [
    {
     "name": "stderr",
     "output_type": "stream",
     "text": [
      "  3%|▎         | 1199/38097 [09:59<5:07:33,  2.00it/s]"
     ]
    },
    {
     "name": "stdout",
     "output_type": "stream",
     "text": [
      "bad request index 648848\n"
     ]
    },
    {
     "name": "stderr",
     "output_type": "stream",
     "text": [
      " 14%|█▎        | 5145/38097 [42:52<4:34:26,  2.00it/s]"
     ]
    },
    {
     "name": "stdout",
     "output_type": "stream",
     "text": [
      "bad request index 652794\n"
     ]
    },
    {
     "name": "stderr",
     "output_type": "stream",
     "text": [
      " 24%|██▍       | 9140/38097 [1:16:09<4:00:47,  2.00it/s]"
     ]
    },
    {
     "name": "stdout",
     "output_type": "stream",
     "text": [
      "bad request index 656789\n"
     ]
    },
    {
     "name": "stderr",
     "output_type": "stream",
     "text": [
      " 37%|███▋      | 13992/38097 [1:56:35<3:23:29,  1.97it/s]"
     ]
    },
    {
     "name": "stdout",
     "output_type": "stream",
     "text": [
      "bad request index 661641\n"
     ]
    },
    {
     "name": "stderr",
     "output_type": "stream",
     "text": [
      " 49%|████▉     | 18748/38097 [2:36:13<2:40:57,  2.00it/s]"
     ]
    },
    {
     "name": "stdout",
     "output_type": "stream",
     "text": [
      "bad request index 666397\n"
     ]
    },
    {
     "name": "stderr",
     "output_type": "stream",
     "text": [
      " 51%|█████     | 19381/38097 [2:41:30<2:35:47,  2.00it/s]"
     ]
    },
    {
     "name": "stdout",
     "output_type": "stream",
     "text": [
      "bad request index 667030\n"
     ]
    },
    {
     "name": "stderr",
     "output_type": "stream",
     "text": [
      " 55%|█████▌    | 21081/38097 [2:55:41<2:21:30,  2.00it/s]"
     ]
    },
    {
     "name": "stdout",
     "output_type": "stream",
     "text": [
      "bad request index 668730\n"
     ]
    },
    {
     "name": "stderr",
     "output_type": "stream",
     "text": [
      " 56%|█████▌    | 21272/38097 [2:57:17<2:20:16,  2.00it/s]"
     ]
    },
    {
     "name": "stdout",
     "output_type": "stream",
     "text": [
      "bad request index 668921\n"
     ]
    },
    {
     "name": "stderr",
     "output_type": "stream",
     "text": [
      " 58%|█████▊    | 21928/38097 [3:02:45<2:14:54,  2.00it/s]"
     ]
    },
    {
     "name": "stdout",
     "output_type": "stream",
     "text": [
      "bad request index 669577\n"
     ]
    },
    {
     "name": "stderr",
     "output_type": "stream",
     "text": [
      " 65%|██████▌   | 24848/38097 [3:27:05<1:50:20,  2.00it/s]"
     ]
    },
    {
     "name": "stdout",
     "output_type": "stream",
     "text": [
      "bad request index 672497\n"
     ]
    },
    {
     "name": "stderr",
     "output_type": "stream",
     "text": [
      " 70%|███████   | 26733/38097 [3:42:51<1:34:51,  2.00it/s]"
     ]
    },
    {
     "name": "stdout",
     "output_type": "stream",
     "text": [
      "bad request index 674382\n"
     ]
    },
    {
     "name": "stderr",
     "output_type": "stream",
     "text": [
      " 79%|███████▉  | 30107/38097 [4:11:09<1:06:25,  2.00it/s]"
     ]
    },
    {
     "name": "stdout",
     "output_type": "stream",
     "text": [
      "bad request index 677756\n"
     ]
    },
    {
     "name": "stderr",
     "output_type": "stream",
     "text": [
      " 89%|████████▉ | 34064/38097 [4:44:09<33:32,  2.00it/s]  "
     ]
    },
    {
     "name": "stdout",
     "output_type": "stream",
     "text": [
      "bad request index 681713\n"
     ]
    },
    {
     "name": "stderr",
     "output_type": "stream",
     "text": [
      "100%|██████████| 38097/38097 [5:18:00<00:00,  2.00it/s]  \n"
     ]
    }
   ],
   "source": [
    "\n",
    "distance = []\n",
    "temps_api = []\n",
    "\n",
    "for i in tqdm(list_df[17].index.values) :\n",
    "    \n",
    "    url = f\"http://router.project-osrm.org/route/v1/driving/{list_df[17].Longitude_Station[i]},{list_df[17].Latitude_Station[i]};{list_df[17].Longitude[i]},{list_df[17].Latitude[i]}?alternatives=false&overview=false&skip_waypoints=true\"\n",
    "    reponse = requests.get(url)\n",
    "    data = reponse.json()\n",
    "   \n",
    "    # si la requete n'a pas aboutie on met des NA\n",
    "    if reponse.status_code != 200:\n",
    "        print(\"bad request index\",i)\n",
    "        distance.append(np.nan)\n",
    "        temps_api.append(np.nan)\n",
    "\n",
    "\n",
    "    else :\n",
    "    # select le dico avec distance\n",
    "        dst = data['routes'][0]['distance']\n",
    "        temps = data['routes'][0]['duration']\n",
    "        distance.append(dst)\n",
    "        temps_api.append(temps)\n",
    "\n",
    "# mise en un dataframe des distance     \n",
    "dst_18 = pd.DataFrame(index = list_df[17].index, data = {'dst_StationIncident': distance, 'tempsAPI' : temps_api})    \n",
    "dst_18.to_csv(\"Data/df_dist/Distance18.csv\",index=True)\n",
    "\n",
    "# ajout de la distance station-incident au dataframe ssgroupe\n",
    "list_df[17] = pd.concat([list_df[17], dst_18], axis = 1)\n",
    "\n",
    "\n",
    "list_df[17].to_csv(\"Data/df_dist/Distance18_df_tot.csv\",index=True)\n",
    "\n",
    "# save de la liste de df\n",
    "import pickle\n",
    "\n",
    "with open(\"Data/df_dist/liste_df_API\", \"wb\") as fp:\n",
    "    pickle.dump(list_df,fp)\n"
   ]
  },
  {
   "cell_type": "markdown",
   "id": "ee4c4589",
   "metadata": {},
   "source": [
    "### 19 "
   ]
  },
  {
   "cell_type": "code",
   "execution_count": 178,
   "id": "72bb6b19",
   "metadata": {
    "tags": [
     "raises-exception"
    ]
   },
   "outputs": [
    {
     "name": "stderr",
     "output_type": "stream",
     "text": [
      "  1%|          | 262/38097 [02:10<5:15:28,  2.00it/s]"
     ]
    },
    {
     "name": "stdout",
     "output_type": "stream",
     "text": [
      "bad request index 686008\n"
     ]
    },
    {
     "name": "stderr",
     "output_type": "stream",
     "text": [
      " 30%|██▉       | 11385/38097 [1:34:55<3:42:03,  2.00it/s]"
     ]
    },
    {
     "name": "stdout",
     "output_type": "stream",
     "text": [
      "bad request index 697131\n"
     ]
    },
    {
     "name": "stderr",
     "output_type": "stream",
     "text": [
      " 32%|███▏      | 12104/38097 [1:40:56<3:30:34,  2.06it/s]"
     ]
    },
    {
     "name": "stdout",
     "output_type": "stream",
     "text": [
      "bad request index 697850\n"
     ]
    },
    {
     "name": "stderr",
     "output_type": "stream",
     "text": [
      " 58%|█████▊    | 22205/38097 [3:05:13<2:12:20,  2.00it/s]"
     ]
    },
    {
     "name": "stdout",
     "output_type": "stream",
     "text": [
      "bad request index 707951\n"
     ]
    },
    {
     "name": "stderr",
     "output_type": "stream",
     "text": [
      " 68%|██████▊   | 25965/38097 [3:36:33<1:41:01,  2.00it/s]"
     ]
    },
    {
     "name": "stdout",
     "output_type": "stream",
     "text": [
      "bad request index 711711\n"
     ]
    },
    {
     "name": "stderr",
     "output_type": "stream",
     "text": [
      " 74%|███████▍  | 28381/38097 [3:56:41<1:20:56,  2.00it/s]"
     ]
    },
    {
     "name": "stdout",
     "output_type": "stream",
     "text": [
      "bad request index 714127\n"
     ]
    },
    {
     "name": "stderr",
     "output_type": "stream",
     "text": [
      "100%|██████████| 38097/38097 [5:17:50<00:00,  2.00it/s]  \n"
     ]
    }
   ],
   "source": [
    "\n",
    "distance = []\n",
    "temps_api = []\n",
    "\n",
    "for i in tqdm(list_df[18].index.values) :\n",
    "    \n",
    "    url = f\"http://router.project-osrm.org/route/v1/driving/{list_df[18].Longitude_Station[i]},{list_df[18].Latitude_Station[i]};{list_df[18].Longitude[i]},{list_df[18].Latitude[i]}?alternatives=false&overview=false&skip_waypoints=true\"\n",
    "    reponse = requests.get(url)\n",
    "    data = reponse.json()\n",
    "   \n",
    "    # si la requete n'a pas aboutie on met des NA\n",
    "    if reponse.status_code != 200:\n",
    "        print(\"bad request index\",i)\n",
    "        distance.append(np.nan)\n",
    "        temps_api.append(np.nan)\n",
    "\n",
    "\n",
    "    else :\n",
    "    # select le dico avec distance\n",
    "        dst = data['routes'][0]['distance']\n",
    "        temps = data['routes'][0]['duration']\n",
    "        distance.append(dst)\n",
    "        temps_api.append(temps)\n",
    "\n",
    "# mise en un dataframe des distance     \n",
    "dst_19 = pd.DataFrame(index = list_df[18].index, data = {'dst_StationIncident': distance, 'tempsAPI' : temps_api})    \n",
    "dst_19.to_csv(\"Data/df_dist/Distance19.csv\",index=True)\n",
    "\n",
    "# ajout de la distance station-incident au dataframe ssgroupe\n",
    "list_df[18] = pd.concat([list_df[18], dst_19], axis = 1)\n",
    "\n",
    "\n",
    "list_df[18].to_csv(\"Data/df_dist/Distance19_df_tot.csv\",index=True)\n",
    "\n",
    "# save de la liste de df\n",
    "import pickle\n",
    "\n",
    "with open(\"Data/df_dist/liste_df_API\", \"wb\") as fp:\n",
    "    pickle.dump(list_df,fp)\n"
   ]
  },
  {
   "cell_type": "markdown",
   "id": "06b06b4d",
   "metadata": {},
   "source": [
    "### 20"
   ]
  },
  {
   "cell_type": "code",
   "execution_count": 179,
   "id": "124e7426",
   "metadata": {},
   "outputs": [
    {
     "name": "stderr",
     "output_type": "stream",
     "text": [
      "  5%|▌         | 2084/38097 [17:21<5:00:02,  2.00it/s]"
     ]
    },
    {
     "name": "stdout",
     "output_type": "stream",
     "text": [
      "bad request index 725927\n"
     ]
    },
    {
     "name": "stderr",
     "output_type": "stream",
     "text": [
      "  6%|▌         | 2199/38097 [18:19<4:59:04,  2.00it/s]"
     ]
    },
    {
     "name": "stdout",
     "output_type": "stream",
     "text": [
      "bad request index 726042\n"
     ]
    },
    {
     "name": "stderr",
     "output_type": "stream",
     "text": [
      " 23%|██▎       | 8791/38097 [1:13:15<4:04:18,  2.00it/s]"
     ]
    },
    {
     "name": "stdout",
     "output_type": "stream",
     "text": [
      "bad request index 732634\n"
     ]
    },
    {
     "name": "stderr",
     "output_type": "stream",
     "text": [
      " 39%|███▊      | 14734/38097 [2:02:47<3:14:37,  2.00it/s]"
     ]
    },
    {
     "name": "stdout",
     "output_type": "stream",
     "text": [
      "bad request index 738577\n"
     ]
    },
    {
     "name": "stderr",
     "output_type": "stream",
     "text": [
      " 53%|█████▎    | 20219/38097 [2:48:29<2:28:48,  2.00it/s]"
     ]
    },
    {
     "name": "stdout",
     "output_type": "stream",
     "text": [
      "bad request index 744062\n"
     ]
    },
    {
     "name": "stderr",
     "output_type": "stream",
     "text": [
      " 54%|█████▍    | 20562/38097 [2:51:21<2:26:03,  2.00it/s]"
     ]
    },
    {
     "name": "stdout",
     "output_type": "stream",
     "text": [
      "bad request index 744405\n"
     ]
    },
    {
     "name": "stderr",
     "output_type": "stream",
     "text": [
      " 80%|███████▉  | 30384/38097 [4:13:12<1:04:14,  2.00it/s]"
     ]
    },
    {
     "name": "stdout",
     "output_type": "stream",
     "text": [
      "bad request index 754227\n"
     ]
    },
    {
     "name": "stderr",
     "output_type": "stream",
     "text": [
      "100%|██████████| 38097/38097 [5:17:28<00:00,  2.00it/s]  \n"
     ]
    }
   ],
   "source": [
    "\n",
    "distance = []\n",
    "temps_api = []\n",
    "\n",
    "for i in tqdm(list_df[19].index.values) :\n",
    "    \n",
    "    url = f\"http://router.project-osrm.org/route/v1/driving/{list_df[19].Longitude_Station[i]},{list_df[19].Latitude_Station[i]};{list_df[19].Longitude[i]},{list_df[19].Latitude[i]}?alternatives=false&overview=false&skip_waypoints=true\"\n",
    "    reponse = requests.get(url)\n",
    "    data = reponse.json()\n",
    "   \n",
    "    # si la requete n'a pas aboutie on met des NA\n",
    "    if reponse.status_code != 200:\n",
    "        print(\"bad request index\",i)\n",
    "        distance.append(np.nan)\n",
    "        temps_api.append(np.nan)\n",
    "\n",
    "\n",
    "    else :\n",
    "    # select le dico avec distance\n",
    "        dst = data['routes'][0]['distance']\n",
    "        temps = data['routes'][0]['duration']\n",
    "        distance.append(dst)\n",
    "        temps_api.append(temps)\n",
    "\n",
    "# mise en un dataframe des distance     \n",
    "dst_20 = pd.DataFrame(index = list_df[19].index, data = {'dst_StationIncident': distance, 'tempsAPI' : temps_api})    \n",
    "dst_20.to_csv(\"Data/df_dist/Distance20.csv\",index=True)\n",
    "\n",
    "# ajout de la distance station-incident au dataframe ssgroupe\n",
    "list_df[19] = pd.concat([list_df[19], dst_20], axis = 1)\n",
    "\n",
    "\n",
    "list_df[19].to_csv(\"Data/df_dist/Distance20_df_tot.csv\",index=True)\n",
    "\n",
    "# save de la liste de df\n",
    "import pickle\n",
    "\n",
    "with open(\"Data/df_dist/liste_df_API\", \"wb\") as fp:\n",
    "    pickle.dump(list_df,fp)\n"
   ]
  },
  {
   "cell_type": "code",
   "execution_count": 180,
   "id": "32065ad9",
   "metadata": {},
   "outputs": [
    {
     "data": {
      "text/plain": [
       "[      IncidentNumber   Latitude  Longitude  Latitude_Station  \\\n",
       " 0          235138081  51.475812  -0.148894         51.467137   \n",
       " 1               2091  51.633342  -0.068488         51.627218   \n",
       " 2               3091  51.533882  -0.448089         51.531532   \n",
       " 3               5091  51.551441  -0.111120         51.561769   \n",
       " 4               8091  51.462211   0.029557         51.487034   \n",
       " ...              ...        ...        ...               ...   \n",
       " 38093      139047091  51.562286  -0.083475         51.562023   \n",
       " 38094      139050091  51.448246  -0.113742         51.425984   \n",
       " 38095      139051091  51.489762   0.089122         51.470699   \n",
       " 38096      139055091  51.562049   0.067617         51.562121   \n",
       " 38097      139058091  51.389227  -0.304443         51.392058   \n",
       " \n",
       "        Longitude_Station  dst_StationIncident  tempsAPI  \n",
       " 0              -0.169264               2250.5     280.8  \n",
       " 1              -0.069090               1071.1     179.3  \n",
       " 2              -0.451352                917.9     121.6  \n",
       " 3              -0.116434               1362.0     229.6  \n",
       " 4               0.022075               5361.4     341.8  \n",
       " ...                  ...                  ...       ...  \n",
       " 38093          -0.076535               3905.5     603.8  \n",
       " 38094          -0.105596               2861.0     466.1  \n",
       " 38095           0.045140               5537.9     591.7  \n",
       " 38096           0.089984               2545.0     264.9  \n",
       " 38097          -0.298276                790.1     126.5  \n",
       " \n",
       " [38098 rows x 7 columns],\n",
       "       IncidentNumber   Latitude  Longitude  Latitude_Station  \\\n",
       " 38098      139059091  51.520994  -0.133743         51.512491   \n",
       " 38099      139064091  51.492816  -0.142573         51.493095   \n",
       " 38100      139068091  51.631135  -0.298270         51.615246   \n",
       " 38101      139074091  51.399747  -0.146402         51.406902   \n",
       " 38102      139077091  51.663214  -0.103699         51.660218   \n",
       " ...              ...        ...        ...               ...   \n",
       " 76190       47424101  51.484948  -0.083378         51.486931   \n",
       " 76191       47430101  51.488732  -0.076104         51.486931   \n",
       " 76192       47435101  51.435332  -0.045127         51.442525   \n",
       " 76193       47437101  51.514159  -0.134311         51.512491   \n",
       " 76194       47440101  51.373215  -0.100664         51.369071   \n",
       " \n",
       "        Longitude_Station  dst_StationIncident  tempsAPI  \n",
       " 38098          -0.130055               1320.1     225.2  \n",
       " 38099          -0.122249               2053.5     309.8  \n",
       " 38100          -0.243469               6277.6     333.3  \n",
       " 38101          -0.121108               2056.7     293.8  \n",
       " 38102          -0.051989               4260.2     423.9  \n",
       " ...                  ...                  ...       ...  \n",
       " 76190          -0.073523               1243.3     187.6  \n",
       " 76191          -0.073523                688.6     177.2  \n",
       " 76192          -0.045050               1146.6     169.4  \n",
       " 76193          -0.130055                482.6      79.8  \n",
       " 76194          -0.105174               1257.5     172.7  \n",
       " \n",
       " [38097 rows x 7 columns],\n",
       "        IncidentNumber   Latitude  Longitude  Latitude_Station  \\\n",
       " 76195        47442101  51.372881  -0.100591         51.369071   \n",
       " 76196        47444101  51.453112  -0.429829         51.536129   \n",
       " 76197        47445101  51.511175  -0.135543         51.512491   \n",
       " 76198        47449101  51.421931  -0.200004         51.415558   \n",
       " 76199        47454101  51.453028  -0.429645         51.536129   \n",
       " ...               ...        ...        ...               ...   \n",
       " 114287      186928101  51.411698  -0.191864         51.397121   \n",
       " 114288      186934101  51.583513  -0.093625         51.592478   \n",
       " 114289      186938101  51.539959   0.161637         51.559509   \n",
       " 114290      186939101  51.675570  -0.043969         51.660218   \n",
       " 114291      186946101  51.523634  -0.181625         51.502216   \n",
       " \n",
       "         Longitude_Station  dst_StationIncident  tempsAPI  \n",
       " 76195           -0.105174               1864.6     225.9  \n",
       " 76196           -0.135446              29775.8    2675.4  \n",
       " 76197           -0.130055               1011.1     177.1  \n",
       " 76198           -0.197346               1002.7     163.4  \n",
       " 76199           -0.135446              29770.0    2674.0  \n",
       " ...                   ...                  ...       ...  \n",
       " 114287          -0.172802               3964.5     432.6  \n",
       " 114288          -0.071637               3079.7     479.5  \n",
       " 114289           0.156807               2597.0     212.1  \n",
       " 114290          -0.051989               2763.3     253.5  \n",
       " 114291          -0.189648               3865.5     604.5  \n",
       " \n",
       " [38097 rows x 7 columns],\n",
       "        IncidentNumber   Latitude  Longitude  Latitude_Station  \\\n",
       " 114292      186947101  51.411698  -0.191864         51.415558   \n",
       " 114293      186951101  51.518933  -0.196298         51.520220   \n",
       " 114294      186950101  51.459008   0.079871         51.450649   \n",
       " 114295      186954101  51.568965   0.143790         51.559509   \n",
       " 114296      186956101  51.397942  -0.289027         51.429444   \n",
       " ...               ...        ...        ...               ...   \n",
       " 152384      112680111  51.373118  -0.120840         51.369071   \n",
       " 152385      112682111  51.561298   0.147008         51.559509   \n",
       " 152386      112683111  51.379930   0.102769         51.371933   \n",
       " 152387      112686111  51.375166  -0.095080         51.385860   \n",
       " 152388      112688111  51.462247  -0.188989         51.456522   \n",
       " \n",
       "         Longitude_Station  dst_StationIncident  tempsAPI  \n",
       " 114292          -0.197346                817.2     139.2  \n",
       " 114293          -0.183015               1598.9     245.6  \n",
       " 114294           0.059202               2456.1     266.0  \n",
       " 114295           0.156807               1651.0     117.9  \n",
       " 114296          -0.306595               4999.9     633.4  \n",
       " ...                   ...                  ...       ...  \n",
       " 152384          -0.105174               1919.2     258.9  \n",
       " 152385           0.156807                917.1      94.3  \n",
       " 152386           0.110864               2051.9     203.8  \n",
       " 152387          -0.062312               3963.2     420.0  \n",
       " 152388          -0.201437               1493.9     181.6  \n",
       " \n",
       " [38097 rows x 7 columns],\n",
       "        IncidentNumber   Latitude  Longitude  Latitude_Station  \\\n",
       " 152389      112692111  51.565183  -0.216976         51.551785   \n",
       " 152390      112694111  51.475145  -0.384247         51.474977   \n",
       " 152391      112695111  51.523060  -0.125745         51.527725   \n",
       " 152392      112698111  51.482643  -0.451413         51.480152   \n",
       " 152393      112703111  51.541562   0.082480         51.529808   \n",
       " ...               ...        ...        ...               ...   \n",
       " 190481       46511121  51.412692  -0.145548         51.406902   \n",
       " 190482       46512121  51.520245  -0.170113         51.520220   \n",
       " 190483       46515121  51.543096  -0.260643         51.535322   \n",
       " 190484       46521121  51.513992  -0.159597         51.512491   \n",
       " 190485       46526121  51.592623  -0.039175         51.589723   \n",
       " \n",
       "         Longitude_Station  dst_StationIncident  tempsAPI  \n",
       " 152389          -0.192907               2607.2     342.4  \n",
       " 152390          -0.343271               3367.2     358.0  \n",
       " 152391          -0.130642                696.0     141.5  \n",
       " 152392          -0.458775                951.4     112.7  \n",
       " 152393           0.088927               3079.6     348.7  \n",
       " ...                   ...                  ...       ...  \n",
       " 190481          -0.121108               2498.8     306.8  \n",
       " 190482          -0.183015               1238.3     192.7  \n",
       " 190483          -0.262073               1675.0     215.4  \n",
       " 190484          -0.130055               2625.6     427.5  \n",
       " 190485          -0.028703               1099.4     172.8  \n",
       " \n",
       " [38097 rows x 7 columns],\n",
       "        IncidentNumber   Latitude  Longitude  Latitude_Station  \\\n",
       " 190486       46527121  51.470353  -0.458452         51.480152   \n",
       " 190487       46531121  51.478636  -0.051269         51.473603   \n",
       " 190488       46538121  51.502486  -0.110653         51.493095   \n",
       " 190489       46539121  51.452239  -0.213666         51.456522   \n",
       " 190490       46546121  51.583621  -0.020335         51.589723   \n",
       " ...               ...        ...        ...               ...   \n",
       " 228578        6774131  51.616771  -0.242516         51.588906   \n",
       " 228579        6781131  51.560332   0.071709         51.562121   \n",
       " 228580        6786131  51.452239  -0.213666         51.456522   \n",
       " 228581        6788131  51.542246  -0.057507         51.548578   \n",
       " 228582        6798131  51.478577   0.048718         51.487034   \n",
       " \n",
       "         Longitude_Station  dst_StationIncident  tempsAPI  \n",
       " 190486          -0.458775               2341.7     273.4  \n",
       " 190487          -0.049266                883.4     161.3  \n",
       " 190488          -0.122249               1634.7     265.4  \n",
       " 190489          -0.201437               1377.9     178.2  \n",
       " 190490          -0.028703               1684.2     266.5  \n",
       " ...                   ...                  ...       ...  \n",
       " 228578          -0.228753               4045.9     292.1  \n",
       " 228579           0.089984               1752.1     198.0  \n",
       " 228580          -0.201437               1377.9     178.2  \n",
       " 228581          -0.043865               1569.0     257.2  \n",
       " 228582           0.022075               3578.7     490.3  \n",
       " \n",
       " [38097 rows x 7 columns],\n",
       "        IncidentNumber   Latitude  Longitude  Latitude_Station  \\\n",
       " 228583        6797131  51.490269  -0.173936         51.487231   \n",
       " 228584        6800131  51.551036   0.161772         51.559509   \n",
       " 228585        6801131  51.538261  -0.077029         51.562023   \n",
       " 228586        6803131  51.589714  -0.146144         51.586510   \n",
       " 228587        6806131  51.520088  -0.164656         51.520220   \n",
       " ...               ...        ...        ...               ...   \n",
       " 266675      150588131  51.610706  -0.078751         51.627218   \n",
       " 266676      150600131  51.603922  -0.173104         51.598092   \n",
       " 266677      150609131  51.526958  -0.094690         51.526472   \n",
       " 266678      150610131  51.526135  -0.131861         51.527725   \n",
       " 266679      150615131  51.520975  -0.191691         51.520220   \n",
       " \n",
       "         Longitude_Station  dst_StationIncident  tempsAPI  \n",
       " 228583          -0.170159                502.7      76.9  \n",
       " 228584           0.156807               1049.5      79.6  \n",
       " 228585          -0.076535               3532.8     558.0  \n",
       " 228586          -0.127263               1543.1     165.4  \n",
       " 228587          -0.183015               1677.5     239.9  \n",
       " ...                   ...                  ...       ...  \n",
       " 266675          -0.069090               3488.1     326.6  \n",
       " 266676          -0.179071               1441.6     223.1  \n",
       " 266677          -0.085432               1046.0     180.6  \n",
       " 266678          -0.130642                206.8      61.1  \n",
       " 266679          -0.183015                980.5     160.4  \n",
       " \n",
       " [38097 rows x 7 columns],\n",
       "        IncidentNumber   Latitude  Longitude  Latitude_Station  \\\n",
       " 266680      150621131  51.512900  -0.039458         51.510833   \n",
       " 266681      150623131  51.534171  -0.345563         51.511247   \n",
       " 266682      150629131  51.534171  -0.345563         51.511247   \n",
       " 266683      150630131  51.560591   0.078920         51.562121   \n",
       " 266684      150632131  51.511547  -0.234565         51.496332   \n",
       " ...               ...        ...        ...               ...   \n",
       " 304772      111580141  51.398747  -0.178962         51.397121   \n",
       " 304773      111581141  51.507804  -0.137294         51.512491   \n",
       " 304774      111587141  51.426444  -0.140532         51.406902   \n",
       " 304775      111591141  51.412863  -0.051334         51.408005   \n",
       " 304776      111594141  51.530060  -0.141792         51.512491   \n",
       " \n",
       "         Longitude_Station  dst_StationIncident  tempsAPI  \n",
       " 266680          -0.015791               2431.3     295.0  \n",
       " 266681          -0.374388               5595.4     557.8  \n",
       " 266682          -0.374388               5595.4     557.8  \n",
       " 266683           0.089984               1021.6     141.7  \n",
       " 266684          -0.223872               2395.1     392.7  \n",
       " ...                   ...                  ...       ...  \n",
       " 304772          -0.172802                549.4      95.8  \n",
       " 304773          -0.130055               1382.7     250.9  \n",
       " 304774          -0.121108               3757.3     425.5  \n",
       " 304775          -0.033984               1351.8     133.8  \n",
       " 304776          -0.130055               2558.7     432.0  \n",
       " \n",
       " [38097 rows x 7 columns],\n",
       "        IncidentNumber   Latitude  Longitude  Latitude_Station  \\\n",
       " 304777      111597141  51.474369  -0.022550         51.474079   \n",
       " 304778      111602141  51.564469  -0.069085         51.562023   \n",
       " 304779      111608141  51.478777  -0.138521         51.464994   \n",
       " 304780      111617141  51.519102  -0.047912         51.510870   \n",
       " 304781      111618141  51.516375  -0.069505         51.515230   \n",
       " ...               ...        ...        ...               ...   \n",
       " 342869       73345151  51.625348  -0.061431         51.627218   \n",
       " 342870       73348151  51.502690  -0.231607         51.496332   \n",
       " 342871       73349151  51.485833  -0.113027         51.463652   \n",
       " 342872       73350151  51.534147  -0.250877         51.535322   \n",
       " 342873       73353151  51.424842  -0.047027         51.442525   \n",
       " \n",
       "         Longitude_Station  dst_StationIncident  tempsAPI  \n",
       " 304777          -0.013630                725.8      81.9  \n",
       " 304778          -0.076535                779.6     128.0  \n",
       " 304779          -0.140953               2389.4     385.6  \n",
       " 304780          -0.055801               1827.1     286.5  \n",
       " 304781          -0.069366                177.7      40.1  \n",
       " ...                   ...                  ...       ...  \n",
       " 342869          -0.069090                573.9      62.8  \n",
       " 342870          -0.223872               1494.0     252.2  \n",
       " 342871          -0.109363               3392.9     434.1  \n",
       " 342872          -0.262073               1211.3     178.4  \n",
       " 342873          -0.045050               2358.4     348.7  \n",
       " \n",
       " [38097 rows x 7 columns],\n",
       "          IncidentNumber   Latitude  Longitude  Latitude_Station  \\\n",
       " 342874         73358151  51.504185  -0.103407         51.510415   \n",
       " 342875         73359151  51.461442  -0.196867         51.456522   \n",
       " 342876         73364151  51.630862  -0.309276         51.615246   \n",
       " 342877         73367151  51.514400   0.029831         51.520203   \n",
       " 342878         73372151  51.518907  -0.146210         51.527725   \n",
       " ...                 ...        ...        ...               ...   \n",
       " 380966  030576-15032016  51.592945  -0.035812         51.589723   \n",
       " 380967  030580-15032016  51.451491   0.050225         51.456546   \n",
       " 380968  030583-15032016  51.345664  -0.071704         51.351839   \n",
       " 380969  030585-15032016  51.522543  -0.135006         51.527725   \n",
       " 380970  030586-15032016  51.511644  -0.135639         51.512491   \n",
       " \n",
       "         Longitude_Station  dst_StationIncident  tempsAPI  \n",
       " 342874          -0.089807               2127.9     358.6  \n",
       " 342875          -0.201437                942.1     135.6  \n",
       " 342876          -0.243469               6405.9     388.7  \n",
       " 342877           0.031673                814.9      94.5  \n",
       " 342878          -0.130642               1884.3     333.2  \n",
       " ...                   ...                  ...       ...  \n",
       " 380966          -0.028703                944.0     154.2  \n",
       " 380967           0.012620               3294.8     369.6  \n",
       " 380968          -0.023980               4522.8     449.5  \n",
       " 380969          -0.130642                846.1     168.9  \n",
       " 380970          -0.130055                877.0     151.8  \n",
       " \n",
       " [38097 rows x 7 columns],\n",
       "          IncidentNumber   Latitude  Longitude  Latitude_Station  \\\n",
       " 380971  030587-15032016  51.509365  -0.233568         51.507042   \n",
       " 380972  030592-15032016  51.516798  -0.127242         51.512491   \n",
       " 380973  030593-15032016  51.586041   0.081915         51.562121   \n",
       " 380974  030595-15032016  51.522397  -0.110723         51.527725   \n",
       " 380975  030597-15032016  51.626278   0.012064         51.629560   \n",
       " ...                 ...        ...        ...               ...   \n",
       " 419063  157762-20112016  51.461668  -0.116269         51.463652   \n",
       " 419064  157774-20112016  51.427092  -0.029943         51.442525   \n",
       " 419065  157779-20112016  51.470274  -0.128615         51.463652   \n",
       " 419066  157781-20112016  51.501721   0.102739         51.470699   \n",
       " 419067  157783-20112016  51.513459  -0.133807         51.512491   \n",
       " \n",
       "         Longitude_Station  dst_StationIncident  tempsAPI  \n",
       " 380971          -0.276903               3558.1     549.7  \n",
       " 380972          -0.130055                907.7     157.3  \n",
       " 380973           0.089984               4007.9     441.3  \n",
       " 380974          -0.130642               2014.9     356.3  \n",
       " 380975          -0.004797               1574.3     224.7  \n",
       " ...                   ...                  ...       ...  \n",
       " 419063          -0.109363               1563.3     245.6  \n",
       " 419064          -0.045050               2437.6     392.3  \n",
       " 419065          -0.109363               2260.0     300.8  \n",
       " 419066           0.045140               6896.9     694.1  \n",
       " 419067          -0.130055                397.9      68.0  \n",
       " \n",
       " [38097 rows x 7 columns],\n",
       "          IncidentNumber   Latitude  Longitude  Latitude_Station  \\\n",
       " 419068  157787-20112016  51.529186  -0.015949         51.527881   \n",
       " 419069  157795-20112016  51.521231  -0.151579         51.527725   \n",
       " 419070  157796-20112016  51.461634  -0.116371         51.464994   \n",
       " 419071  157798-20112016  51.571029  -0.339074         51.554663   \n",
       " 419072  157799-20112016  51.572045  -0.197616         51.551785   \n",
       " ...                 ...        ...        ...               ...   \n",
       " 457160  111147-17082017  51.512249  -0.136926         51.512491   \n",
       " 457161  111150-17082017  51.504476  -0.474706         51.480152   \n",
       " 457162  111155-17082017  51.354891  -0.125450         51.362348   \n",
       " 457163  111159-17082017  51.479697   0.103799         51.470699   \n",
       " 457164  111163-17082017  51.501130  -0.162277         51.487231   \n",
       " \n",
       "         Longitude_Station  dst_StationIncident  tempsAPI  \n",
       " 419068          -0.053345               3328.0     468.0  \n",
       " 419069          -0.130642               1820.7     317.4  \n",
       " 419070          -0.140953               2389.0     388.0  \n",
       " 419071          -0.359548               2779.2     309.6  \n",
       " 419072          -0.192907               2619.3     329.5  \n",
       " ...                   ...                  ...       ...  \n",
       " 457160          -0.130055               1138.0     199.7  \n",
       " 457161          -0.458775               4341.2     376.5  \n",
       " 457162          -0.148206               3043.5     378.0  \n",
       " 457163           0.045140               5531.4     563.4  \n",
       " 457164          -0.170159               1951.4     303.6  \n",
       " \n",
       " [38097 rows x 7 columns],\n",
       "          IncidentNumber   Latitude  Longitude  Latitude_Station  \\\n",
       " 457165  111167-17082017  51.608296  -0.002827         51.629560   \n",
       " 457166  111168-17082017  51.460947  -0.304119         51.467464   \n",
       " 457167  111173-17082017  51.517515  -0.065046         51.515230   \n",
       " 457168  111176-17082017  51.494254  -0.013592         51.500806   \n",
       " 457169  111183-17082017  51.470281  -0.458469         51.480152   \n",
       " ...                 ...        ...        ...               ...   \n",
       " 495257  067719-29052018  51.510358  -0.121314         51.493095   \n",
       " 495258  067721-29052018  51.400581  -0.264712         51.399072   \n",
       " 495259  067722-29052018  51.454724  -0.007954         51.457119   \n",
       " 495260  067723-29052018  51.565644   0.218388         51.598368   \n",
       " 495261  067727-29052018  51.520840  -0.151321         51.512491   \n",
       " \n",
       "         Longitude_Station  dst_StationIncident  tempsAPI  \n",
       " 457165          -0.004797               2888.9     433.5  \n",
       " 457166          -0.284855               2336.1     301.9  \n",
       " 457167          -0.069366                491.6      93.7  \n",
       " 457168          -0.025702               1575.2     240.7  \n",
       " 457169          -0.458775               2335.6     272.6  \n",
       " ...                   ...                  ...       ...  \n",
       " 495257          -0.122249               2545.2     391.2  \n",
       " 495258          -0.245344               1418.6     129.1  \n",
       " 495259          -0.013364                783.9     121.0  \n",
       " 495260           0.223557               4557.3     447.3  \n",
       " 495261          -0.130055               2422.2     402.0  \n",
       " \n",
       " [38097 rows x 7 columns],\n",
       "          IncidentNumber   Latitude  Longitude  Latitude_Station  \\\n",
       " 495262  067730-29052018  51.610700  -0.109919         51.630511   \n",
       " 495263  067736-29052018  51.436562   0.007015         51.457119   \n",
       " 495264  067740-29052018  51.513324  -0.298183         51.511679   \n",
       " 495265  067743-29052018  51.652371  -0.080941         51.660218   \n",
       " 495266  067748-29052018  51.591896  -0.070522         51.589723   \n",
       " ...                 ...        ...        ...               ...   \n",
       " 533354  019116-15022019  51.344851  -0.009970         51.351839   \n",
       " 533355  019121-15022019  51.557835  -0.074773         51.562023   \n",
       " 533356  019128-15022019  51.508387  -0.277566         51.507042   \n",
       " 533357  019134-15022019  51.501696  -0.285407         51.490467   \n",
       " 533358  019136-15022019  51.594915  -0.108974         51.586510   \n",
       " \n",
       "         Longitude_Station  dst_StationIncident  tempsAPI  \n",
       " 495262          -0.127387               2993.9     326.0  \n",
       " 495263          -0.013364               3040.0     435.0  \n",
       " 495264          -0.314720               1217.5     182.1  \n",
       " 495265          -0.051989               4311.9     409.2  \n",
       " 495266          -0.028703               3483.5     491.8  \n",
       " ...                   ...                  ...       ...  \n",
       " 533354          -0.023980               2029.6     223.5  \n",
       " 533355          -0.076535               1512.4     258.2  \n",
       " 533356          -0.276903                273.8      79.0  \n",
       " 533357          -0.268940               3064.9     313.1  \n",
       " 533358          -0.127263               2368.7     323.7  \n",
       " \n",
       " [38097 rows x 7 columns],\n",
       "          IncidentNumber   Latitude  Longitude  Latitude_Station  \\\n",
       " 533359  019137-15022019  51.561853  -0.256345         51.544289   \n",
       " 533360  019138-15022019  51.506236  -0.102928         51.493095   \n",
       " 533361  019148-15022019  51.498166  -0.061414         51.486931   \n",
       " 533362  019152-15022019  51.617545  -0.063888         51.627218   \n",
       " 533363  019154-15022019  51.521229  -0.011317         51.510833   \n",
       " ...                 ...        ...        ...               ...   \n",
       " 571451  151062-06112019  51.387720   0.042057         51.407021   \n",
       " 571452  151067-06112019  51.552829  -0.241562         51.544289   \n",
       " 571453  151071-06112019  51.473213  -0.192188         51.477907   \n",
       " 571454  151072-06112019  51.527932  -0.019442         51.543719   \n",
       " 571455  151075-06112019  51.502010  -0.104882         51.510415   \n",
       " \n",
       "         Longitude_Station  dst_StationIncident  tempsAPI  \n",
       " 533359          -0.236311               3012.6     294.9  \n",
       " 533360          -0.122249               2571.2     395.5  \n",
       " 533361          -0.073523               2280.9     350.7  \n",
       " 533362          -0.069090               1636.9     186.7  \n",
       " 533363          -0.015791               2626.0     328.3  \n",
       " ...                   ...                  ...       ...  \n",
       " 571451           0.017033               3946.1     412.3  \n",
       " 571452          -0.236311               1408.9     170.1  \n",
       " 571453          -0.200913               1320.6     209.6  \n",
       " 571454           0.011435               2854.2     393.8  \n",
       " 571455          -0.089807               2416.4     378.4  \n",
       " \n",
       " [38097 rows x 7 columns],\n",
       "          IncidentNumber   Latitude  Longitude  Latitude_Station  \\\n",
       " 571456  151077-06112019  51.457400  -0.454684         51.536129   \n",
       " 571457  151082-06112019  51.514045  -0.157232         51.512491   \n",
       " 571458  151085-06112019  51.598167  -0.119785         51.586510   \n",
       " 571459  151092-06112019  51.538128  -0.078822         51.526472   \n",
       " 571460  151094-06112019  51.498954  -0.015974         51.500806   \n",
       " ...                 ...        ...        ...               ...   \n",
       " 609548  116722-10092020  51.514698  -0.129368         51.512491   \n",
       " 609549  116723-10092020  51.681354  -0.052130         51.660218   \n",
       " 609550  116725-10092020  51.453401   0.075799         51.450649   \n",
       " 609551  116726-10092020  51.530088  -0.199001         51.551785   \n",
       " 609552  116735-10092020  51.643827  -0.108962         51.630511   \n",
       " \n",
       "         Longitude_Station  dst_StationIncident  tempsAPI  \n",
       " 571456          -0.135446              37565.5    3290.4  \n",
       " 571457          -0.130055               2486.1     419.7  \n",
       " 571458          -0.127263               2625.2     361.7  \n",
       " 571459          -0.085432               2121.6     355.7  \n",
       " 571460          -0.025702                813.9     139.8  \n",
       " ...                   ...                  ...       ...  \n",
       " 609548          -0.130055                483.3      79.6  \n",
       " 609549          -0.051989               3411.2     302.4  \n",
       " 609550           0.059202               1429.7     195.4  \n",
       " 609551          -0.192907               3358.7     511.5  \n",
       " 609552          -0.127387               2337.0     220.8  \n",
       " \n",
       " [38097 rows x 7 columns],\n",
       "          IncidentNumber   Latitude  Longitude  Latitude_Station  \\\n",
       " 609553  116737-10092020  51.453945  -0.249281         51.456522   \n",
       " 609554  116742-10092020  51.459876  -0.024113         51.457119   \n",
       " 609555  116743-10092020  51.516068  -0.123427         51.512491   \n",
       " 609556  116746-10092020  51.545991   0.053635         51.523553   \n",
       " 609557  116747-10092020  51.502952  -0.190089         51.502216   \n",
       " ...                 ...        ...        ...               ...   \n",
       " 647645  106853-12082021  51.478172  -0.038691         51.484856   \n",
       " 647646  106859-12082021  51.512981  -0.127970         51.527725   \n",
       " 647647  106864-12082021  51.508488   0.035216         51.520203   \n",
       " 647648  106867-12082021  51.510384  -0.123236         51.527725   \n",
       " 647649  106883-12082021  51.582694  -0.200001         51.588906   \n",
       " \n",
       "         Longitude_Station  dst_StationIncident  tempsAPI  \n",
       " 609553          -0.201437               4416.4     446.7  \n",
       " 609554          -0.013364               1166.0     180.5  \n",
       " 609555          -0.130055               1397.7     253.3  \n",
       " 609556           0.057009               3418.8     424.1  \n",
       " 609557          -0.189648                 65.5      15.6  \n",
       " ...                   ...                  ...       ...  \n",
       " 647645          -0.033834               1210.6     185.9  \n",
       " 647646          -0.130642               2110.7     372.8  \n",
       " 647647           0.031673               2477.7     320.6  \n",
       " 647648          -0.130642               2592.9     449.4  \n",
       " 647649          -0.228753               2945.7     293.2  \n",
       " \n",
       " [38097 rows x 7 columns],\n",
       "          IncidentNumber   Latitude  Longitude  Latitude_Station  \\\n",
       " 647650  106884-12082021  51.526640  -0.067371         51.527881   \n",
       " 647651  106886-12082021  51.462574  -0.068030         51.474156   \n",
       " 647652  106895-12082021  51.537551  -0.451216         51.511247   \n",
       " 647653  106903-12082021  51.547218  -0.111739         51.540230   \n",
       " 647654  106907-12082021  51.407857  -0.287016         51.399072   \n",
       " ...                 ...        ...        ...               ...   \n",
       " 685742  077278-29052022  51.465524   0.030190         51.456546   \n",
       " 685743  077282-29052022  51.441864   0.117742         51.427120   \n",
       " 685744  077292-29052022  51.512036  -0.076800         51.515230   \n",
       " 685745  077298-29052022  51.524762  -0.207574         51.520220   \n",
       " 685746  077300-29052022  51.406130  -0.166361         51.415558   \n",
       " \n",
       "         Longitude_Station  dst_StationIncident  tempsAPI  \n",
       " 647650          -0.053345               1549.3     278.0  \n",
       " 647651          -0.077889               1883.0     280.4  \n",
       " 647652          -0.374388               6884.4     647.2  \n",
       " 647653          -0.102384               1333.9     206.1  \n",
       " 647654          -0.245344               4469.6     430.9  \n",
       " ...                   ...                  ...       ...  \n",
       " 685742           0.012620               5438.7     468.9  \n",
       " 685743           0.094638               3128.4     282.9  \n",
       " 685744          -0.069366                966.8     178.0  \n",
       " 685745          -0.183015               2641.7     415.0  \n",
       " 685746          -0.197346               3041.4     367.6  \n",
       " \n",
       " [38097 rows x 7 columns],\n",
       "          IncidentNumber   Latitude  Longitude  Latitude_Station  \\\n",
       " 685747  077312-29052022  51.488940  -0.169598         51.487231   \n",
       " 685748  077321-29052022  51.508935   0.025005         51.510833   \n",
       " 685749  077325-29052022  51.538321   0.155444         51.559509   \n",
       " 685750  077327-29052022  51.524509  -0.458278         51.531532   \n",
       " 685751  077328-29052022  51.490359   0.068583         51.470699   \n",
       " ...                 ...        ...        ...               ...   \n",
       " 723839  017946-05022023  51.552942  -0.025515         51.563036   \n",
       " 723840  017947-05022023  51.477327  -0.169870         51.487231   \n",
       " 723841  017948-05022023  51.607440  -0.154040         51.598092   \n",
       " 723842  017952-05022023  51.495514  -0.145563         51.493095   \n",
       " 723843  017953-05022023  51.606809  -0.124634         51.586510   \n",
       " \n",
       "         Longitude_Station  dst_StationIncident  tempsAPI  \n",
       " 685747          -0.170159                237.8      33.5  \n",
       " 685748          -0.015791               3565.1     459.3  \n",
       " 685749           0.156807               3582.7     266.2  \n",
       " 685750          -0.451352               1925.5     191.6  \n",
       " 685751           0.045140               4329.8     552.4  \n",
       " ...                   ...                  ...       ...  \n",
       " 723839          -0.016020               2221.5     303.6  \n",
       " 723840          -0.170159               1621.6     275.2  \n",
       " 723841          -0.179071               3092.0     339.2  \n",
       " 723842          -0.122249               2169.0     352.7  \n",
       " 723843          -0.127263               3626.2     461.9  \n",
       " \n",
       " [38097 rows x 7 columns],\n",
       "          IncidentNumber   Latitude  Longitude  Latitude_Station  \\\n",
       " 723844  017954-05022023  51.465463  -0.346999         51.474977   \n",
       " 723845  017960-05022023  51.522788  -0.086904         51.515230   \n",
       " 723846  017966-05022023  51.316377  -0.097773         51.331781   \n",
       " 723847  017967-05022023  51.598389  -0.023636         51.629560   \n",
       " 723848  017971-05022023  51.474388  -0.014663         51.474079   \n",
       " ...                 ...        ...        ...               ...   \n",
       " 761936  170366-31102023  51.344312  -0.189242         51.369017   \n",
       " 761937  170378-31102023  51.436663  -0.379106         51.435202   \n",
       " 761938  170381-31102023  51.510553  -0.084164         51.515230   \n",
       " 761939  170386-31102023  51.516491  -0.177415         51.520220   \n",
       " 761940  170393-31102023  51.532685  -0.125583         51.540230   \n",
       " \n",
       "         Longitude_Station  dst_StationIncident  tempsAPI  \n",
       " 723844          -0.343271               1409.4     193.6  \n",
       " 723845          -0.069366               2096.5     344.2  \n",
       " 723846          -0.124999               4046.6     470.8  \n",
       " 723847          -0.004797               5946.2     499.5  \n",
       " 723848          -0.013630                 80.0      13.2  \n",
       " ...                   ...                  ...       ...  \n",
       " 761936          -0.211087               4333.5     432.9  \n",
       " 761937          -0.347573               2426.7     286.4  \n",
       " 761938          -0.069366               1290.1     222.3  \n",
       " 761939          -0.183015               1035.5     171.4  \n",
       " 761940          -0.102384               2853.0     445.9  \n",
       " \n",
       " [38097 rows x 7 columns]]"
      ]
     },
     "execution_count": 180,
     "metadata": {},
     "output_type": "execute_result"
    }
   ],
   "source": [
    "list_df"
   ]
  },
  {
   "cell_type": "code",
   "execution_count": null,
   "id": "0000e75e",
   "metadata": {},
   "outputs": [],
   "source": []
  }
 ],
 "metadata": {
  "kernelspec": {
   "display_name": "Python 3 (ipykernel)",
   "language": "python",
   "name": "python3"
  },
  "language_info": {
   "codemirror_mode": {
    "name": "ipython",
    "version": 3
   },
   "file_extension": ".py",
   "mimetype": "text/x-python",
   "name": "python",
   "nbconvert_exporter": "python",
   "pygments_lexer": "ipython3",
   "version": "3.12.4"
  }
 },
 "nbformat": 4,
 "nbformat_minor": 5
}
